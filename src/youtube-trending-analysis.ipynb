{
 "cells": [
  {
   "cell_type": "markdown",
   "metadata": {},
   "source": [
    "## YouTube Trending Video Analysis & Prediction\n",
    "\n",
    "### Joel Day, Caleb McCurdy, & Lane Whitmore\n",
    "\n",
    "### The University of San Diego\n",
    "\n",
    "#### ADS 508 - Data Science Cloud Computing"
   ]
  },
  {
   "cell_type": "code",
   "execution_count": 2,
   "metadata": {
    "tags": []
   },
   "outputs": [
    {
     "name": "stdout",
     "output_type": "stream",
     "text": [
      "You may see error or warning messages, but that is okay. Proceed to the next cell.\n",
      "\u001b[33mWARNING: The directory '/root/.cache/pip' or its parent directory is not owned or is not writable by the current user. The cache has been disabled. Check the permissions and owner of that directory. If executing pip with sudo, you should use sudo's -H flag.\u001b[0m\u001b[33m\n",
      "\u001b[0m\u001b[31mERROR: pip's dependency resolver does not currently take into account all the packages that are installed. This behaviour is the source of the following dependency conflicts.\n",
      "pytest-astropy 0.8.0 requires pytest-cov>=2.0, which is not installed.\n",
      "pytest-astropy 0.8.0 requires pytest-filter-subpackage>=0.1, which is not installed.\n",
      "sagemaker 2.143.0 requires importlib-metadata<5.0,>=1.4.0, but you have importlib-metadata 6.1.0 which is incompatible.\n",
      "sagemaker 2.143.0 requires PyYAML==5.4.1, but you have pyyaml 6.0 which is incompatible.\n",
      "docker-compose 1.29.2 requires PyYAML<6,>=3.10, but you have pyyaml 6.0 which is incompatible.\u001b[0m\u001b[31m\n",
      "\u001b[0m\u001b[33mWARNING: Running pip as the 'root' user can result in broken permissions and conflicting behaviour with the system package manager. It is recommended to use a virtual environment instead: https://pip.pypa.io/warnings/venv\u001b[0m\u001b[33m\n",
      "\u001b[0m\u001b[33mWARNING: The directory '/root/.cache/pip' or its parent directory is not owned or is not writable by the current user. The cache has been disabled. Check the permissions and owner of that directory. If executing pip with sudo, you should use sudo's -H flag.\u001b[0m\u001b[33m\n",
      "\u001b[0m\u001b[33mWARNING: Running pip as the 'root' user can result in broken permissions and conflicting behaviour with the system package manager. It is recommended to use a virtual environment instead: https://pip.pypa.io/warnings/venv\u001b[0m\u001b[33m\n",
      "\u001b[0m\u001b[33mWARNING: The directory '/root/.cache/pip' or its parent directory is not owned or is not writable by the current user. The cache has been disabled. Check the permissions and owner of that directory. If executing pip with sudo, you should use sudo's -H flag.\u001b[0m\u001b[33m\n",
      "\u001b[0m\u001b[33mWARNING: Running pip as the 'root' user can result in broken permissions and conflicting behaviour with the system package manager. It is recommended to use a virtual environment instead: https://pip.pypa.io/warnings/venv\u001b[0m\u001b[33m\n",
      "\u001b[0m"
     ]
    }
   ],
   "source": [
    "print(\"You may see error or warning messages, but that is okay. Proceed to the next cell.\")\n",
    "\n",
    "!pip --disable-pip-version-check -q  install transformers\n",
    "!pip --disable-pip-version-check -q install pyathena\n",
    "#!pip --disable-pip-version-check -q install torch==1.5.0\n",
    "!pip --disable-pip-version-check -q install sagemaker-experiments==0.1.26"
   ]
  },
  {
   "cell_type": "code",
   "execution_count": 3,
   "metadata": {
    "tags": []
   },
   "outputs": [
    {
     "name": "stderr",
     "output_type": "stream",
     "text": [
      "None of PyTorch, TensorFlow >= 2.0, or Flax have been found. Models won't be available and only tokenizers, configuration and file/data utilities can be used.\n"
     ]
    }
   ],
   "source": [
    "# General imports\n",
    "import pandas as pd\n",
    "import numpy as np\n",
    "import collections\n",
    "import io\n",
    "import time\n",
    "from smexperiments.trial import Trial\n",
    "from smexperiments.experiment import Experiment\n",
    "import uuid\n",
    "\n",
    "# nlp processing imports\n",
    "import string\n",
    "import re\n",
    "import nltk\n",
    "from transformers import DistilBertTokenizer\n",
    "from transformers import DistilBertModel\n",
    "\n",
    "\n",
    "# sklearn packages\n",
    "from sklearn.model_selection import train_test_split\n",
    "from sklearn.feature_extraction.text import CountVectorizer\n",
    "\n",
    "# Visualization imports\n",
    "import matplotlib.pyplot as plt\n",
    "import seaborn as sns\n",
    "\n",
    "# Sagemaker imports\n",
    "import sagemaker\n",
    "from sagemaker import get_execution_role\n",
    "from sagemaker.processing import ProcessingInput, ProcessingOutput\n",
    "from sagemaker.sklearn.processing import SKLearnProcessor\n",
    "from sagemaker.feature_store.feature_group import FeatureGroup\n",
    "from sagemaker.feature_store.feature_definition import FeatureDefinition, FeatureTypeEnum\n",
    "from sagemaker.inputs import TrainingInput\n",
    "from sagemaker.debugger import Rule\n",
    "from sagemaker.debugger import rule_configs\n",
    "from sagemaker.debugger import ProfilerRule\n",
    "from sagemaker.debugger import CollectionConfig\n",
    "from sagemaker.debugger import DebuggerHookConfig\n",
    "from sagemaker.debugger import ProfilerConfig, FrameworkProfile\n",
    "from sagemaker.tensorflow import TensorFlow\n",
    "\n",
    "\n",
    "# athena connection imports\n",
    "from pyathena import connect\n",
    "import boto3\n",
    "\n",
    "#import torch\n",
    "from sagemaker.pytorch import PyTorch\n",
    "#import torch.nn as nn\n",
    "#from torch.utils.data import TensorDataset, DataLoader"
   ]
  },
  {
   "cell_type": "markdown",
   "metadata": {},
   "source": [
    "## Establishing Athena for SQL Queries"
   ]
  },
  {
   "cell_type": "code",
   "execution_count": 4,
   "metadata": {
    "tags": []
   },
   "outputs": [],
   "source": [
    "region = boto3.Session().region_name\n",
    "role = get_execution_role()\n",
    "sm = boto3.Session(region_name=region).client(service_name=\"sagemaker\", region_name=region)"
   ]
  },
  {
   "cell_type": "code",
   "execution_count": 5,
   "metadata": {
    "tags": []
   },
   "outputs": [
    {
     "name": "stdout",
     "output_type": "stream",
     "text": [
      "sagemaker-us-west-2-692349450615\n"
     ]
    }
   ],
   "source": [
    "# Set Athena for data wrangling // exploration\n",
    "session = sagemaker.Session()\n",
    "\n",
    "# this sets the bucket to the default sagemaker bucket\n",
    "bucket = session.default_bucket()\n",
    "print(bucket)"
   ]
  },
  {
   "cell_type": "markdown",
   "metadata": {},
   "source": [
    "Create folder within s3 bucket named youtubeStatistics"
   ]
  },
  {
   "cell_type": "code",
   "execution_count": 6,
   "metadata": {
    "tags": []
   },
   "outputs": [],
   "source": [
    "ingest_create_athena_db_passed = False\n",
    "\n",
    "db_name = \"youtubedb\""
   ]
  },
  {
   "cell_type": "code",
   "execution_count": 7,
   "metadata": {
    "tags": []
   },
   "outputs": [],
   "source": [
    "# temp query storage\n",
    "s3_athena = \"s3://{}/athena/tmp/\".format(bucket)\n",
    "\n",
    "# file storage\n",
    "youtube_dir = \"s3://{}/athena/files/\".format(bucket)\n",
    "\n",
    "# creating connection to database\n",
    "conn = connect(region_name=region, s3_staging_dir=s3_athena)"
   ]
  },
  {
   "cell_type": "markdown",
   "metadata": {},
   "source": [
    "### Creating Database"
   ]
  },
  {
   "cell_type": "code",
   "execution_count": 8,
   "metadata": {
    "tags": []
   },
   "outputs": [
    {
     "data": {
      "text/html": [
       "<div>\n",
       "<style scoped>\n",
       "    .dataframe tbody tr th:only-of-type {\n",
       "        vertical-align: middle;\n",
       "    }\n",
       "\n",
       "    .dataframe tbody tr th {\n",
       "        vertical-align: top;\n",
       "    }\n",
       "\n",
       "    .dataframe thead th {\n",
       "        text-align: right;\n",
       "    }\n",
       "</style>\n",
       "<table border=\"1\" class=\"dataframe\">\n",
       "  <thead>\n",
       "    <tr style=\"text-align: right;\">\n",
       "      <th></th>\n",
       "    </tr>\n",
       "  </thead>\n",
       "  <tbody>\n",
       "  </tbody>\n",
       "</table>\n",
       "</div>"
      ],
      "text/plain": [
       "Empty DataFrame\n",
       "Columns: []\n",
       "Index: []"
      ]
     },
     "execution_count": 8,
     "metadata": {},
     "output_type": "execute_result"
    }
   ],
   "source": [
    "# Creating DATABASE with db_name above\n",
    "create_db = \"CREATE DATABASE IF NOT EXISTS {}\".format(db_name)\n",
    "\n",
    "pd.read_sql(create_db, conn)"
   ]
  },
  {
   "cell_type": "markdown",
   "metadata": {},
   "source": [
    "### Creating Tables"
   ]
  },
  {
   "cell_type": "markdown",
   "metadata": {},
   "source": [
    "#### CSV Tables"
   ]
  },
  {
   "cell_type": "markdown",
   "metadata": {},
   "source": [
    "Currently, the tables below are still struggling to appropriately populate the tables. If the data type is anything but strings, the column becomes null for all values and the comma seperation is not consistent."
   ]
  },
  {
   "cell_type": "code",
   "execution_count": 9,
   "metadata": {
    "tags": []
   },
   "outputs": [],
   "source": [
    "# set the names of folders holding different datasets\n",
    "csv_folder = \"csv\"\n",
    "json_folder = \"json\""
   ]
  },
  {
   "cell_type": "code",
   "execution_count": 10,
   "metadata": {
    "tags": []
   },
   "outputs": [
    {
     "data": {
      "text/html": [
       "<div>\n",
       "<style scoped>\n",
       "    .dataframe tbody tr th:only-of-type {\n",
       "        vertical-align: middle;\n",
       "    }\n",
       "\n",
       "    .dataframe tbody tr th {\n",
       "        vertical-align: top;\n",
       "    }\n",
       "\n",
       "    .dataframe thead th {\n",
       "        text-align: right;\n",
       "    }\n",
       "</style>\n",
       "<table border=\"1\" class=\"dataframe\">\n",
       "  <thead>\n",
       "    <tr style=\"text-align: right;\">\n",
       "      <th></th>\n",
       "    </tr>\n",
       "  </thead>\n",
       "  <tbody>\n",
       "  </tbody>\n",
       "</table>\n",
       "</div>"
      ],
      "text/plain": [
       "Empty DataFrame\n",
       "Columns: []\n",
       "Index: []"
      ]
     },
     "execution_count": 10,
     "metadata": {},
     "output_type": "execute_result"
    }
   ],
   "source": [
    "pd.read_sql(f\"DROP TABLE IF EXISTS {db_name}.ca_csv\", conn)\n",
    "\n",
    "\n",
    "ca_csv_create = f\"\"\"\n",
    "CREATE EXTERNAL TABLE IF NOT EXISTS {db_name}.ca_csv(\n",
    "                video_id string,\n",
    "                title string,\n",
    "                publishedAt string,\n",
    "                channelId string,\n",
    "                channelTitle string,\n",
    "                categoryId string,\n",
    "                trending string,\n",
    "                tags string,\n",
    "                view_count string,\n",
    "                likes string,\n",
    "                dislikes string,\n",
    "                comment_count string,\n",
    "                thumbnail_link string,\n",
    "                comments_disabled string,\n",
    "                ratings_disabled string,\n",
    "                description string)\n",
    "            \n",
    "                \n",
    "                ROW FORMAT SERDE 'org.apache.hadoop.hive.serde2.OpenCSVSerde' \n",
    "                WITH SERDEPROPERTIES (\n",
    "                \"separatorChar\" = \",\", \n",
    "                \"quoteChar\" = '\\\"',\n",
    "                \"escapeChar\" = '\\\"'\n",
    "                ) \n",
    "                LOCATION 's3://{bucket}/youtubeStatistics/{csv_folder}/can/'\n",
    "                TBLPROPERTIES (\"skip.header.line.count\"=\"1\");\n",
    "\"\"\"\n",
    "\n",
    "pd.read_sql(ca_csv_create, conn)"
   ]
  },
  {
   "cell_type": "code",
   "execution_count": 11,
   "metadata": {
    "tags": []
   },
   "outputs": [
    {
     "data": {
      "text/html": [
       "<div>\n",
       "<style scoped>\n",
       "    .dataframe tbody tr th:only-of-type {\n",
       "        vertical-align: middle;\n",
       "    }\n",
       "\n",
       "    .dataframe tbody tr th {\n",
       "        vertical-align: top;\n",
       "    }\n",
       "\n",
       "    .dataframe thead th {\n",
       "        text-align: right;\n",
       "    }\n",
       "</style>\n",
       "<table border=\"1\" class=\"dataframe\">\n",
       "  <thead>\n",
       "    <tr style=\"text-align: right;\">\n",
       "      <th></th>\n",
       "      <th>video_id</th>\n",
       "      <th>title</th>\n",
       "      <th>publishedat</th>\n",
       "      <th>channelid</th>\n",
       "      <th>channeltitle</th>\n",
       "      <th>categoryid</th>\n",
       "      <th>trending</th>\n",
       "      <th>tags</th>\n",
       "      <th>view_count</th>\n",
       "      <th>likes</th>\n",
       "      <th>dislikes</th>\n",
       "      <th>comment_count</th>\n",
       "      <th>thumbnail_link</th>\n",
       "      <th>comments_disabled</th>\n",
       "      <th>ratings_disabled</th>\n",
       "      <th>description</th>\n",
       "    </tr>\n",
       "  </thead>\n",
       "  <tbody>\n",
       "    <tr>\n",
       "      <th>0</th>\n",
       "      <td>E-oA1BWRL2U</td>\n",
       "      <td>Minecraft but there's Only One Modded Block</td>\n",
       "      <td>2023-01-02T18:05:07Z</td>\n",
       "      <td>UC_cvTMeip9po2hZdF3aBXrA</td>\n",
       "      <td>BeckBroJack</td>\n",
       "      <td>20</td>\n",
       "      <td>2023-01-05T00:00:00Z</td>\n",
       "      <td>minecraft|minecraft but theres only one block|...</td>\n",
       "      <td>294697</td>\n",
       "      <td>22001</td>\n",
       "      <td>0</td>\n",
       "      <td>1228</td>\n",
       "      <td>https://i.ytimg.com/vi/E-oA1BWRL2U/default.jpg</td>\n",
       "      <td>False</td>\n",
       "      <td>False</td>\n",
       "      <td>Today I survived on one Modded Block in Minecr...</td>\n",
       "    </tr>\n",
       "    <tr>\n",
       "      <th>1</th>\n",
       "      <td>PpznJj8ZXMY</td>\n",
       "      <td>Rangers 2-2 Celtic | Late Furuhashi Goal Denie...</td>\n",
       "      <td>2023-01-02T22:00:06Z</td>\n",
       "      <td>UCakRszbIjjGYtFrDPeg5Ieg</td>\n",
       "      <td>SPFL</td>\n",
       "      <td>17</td>\n",
       "      <td>2023-01-05T00:00:00Z</td>\n",
       "      <td>SPFL|SPFL Highlights|Scottish football highlig...</td>\n",
       "      <td>596283</td>\n",
       "      <td>3049</td>\n",
       "      <td>0</td>\n",
       "      <td>1003</td>\n",
       "      <td>https://i.ytimg.com/vi/PpznJj8ZXMY/default.jpg</td>\n",
       "      <td>False</td>\n",
       "      <td>False</td>\n",
       "      <td>Celtic kept their 9 point lead at the top of t...</td>\n",
       "    </tr>\n",
       "    <tr>\n",
       "      <th>2</th>\n",
       "      <td>8DNLvMTxhb8</td>\n",
       "      <td>I Cut My Long Hair SHORT *and surprised my fam...</td>\n",
       "      <td>2023-01-01T18:00:02Z</td>\n",
       "      <td>UCzzOKT1SkE7qdycJvPCR3Gg</td>\n",
       "      <td>Mia Maples</td>\n",
       "      <td>26</td>\n",
       "      <td>2023-01-05T00:00:00Z</td>\n",
       "      <td>mia maples|cutting bangs|giving myself bangs|c...</td>\n",
       "      <td>1001653</td>\n",
       "      <td>92538</td>\n",
       "      <td>0</td>\n",
       "      <td>17372</td>\n",
       "      <td>https://i.ytimg.com/vi/8DNLvMTxhb8/default.jpg</td>\n",
       "      <td>False</td>\n",
       "      <td>False</td>\n",
       "      <td>HAPPY NEW YEAR.. Today I CHOPPED MY HAIR OFF l...</td>\n",
       "    </tr>\n",
       "    <tr>\n",
       "      <th>3</th>\n",
       "      <td>IHATf7e53hU</td>\n",
       "      <td>Former FBI agent sheds light on Poconos arrest...</td>\n",
       "      <td>2023-01-02T13:08:14Z</td>\n",
       "      <td>UCqdOvfSmM2NKRNE0FSbATuw</td>\n",
       "      <td>FOX 29 Philadelphia</td>\n",
       "      <td>25</td>\n",
       "      <td>2023-01-05T00:00:00Z</td>\n",
       "      <td>Good Day|video|wtxf|third party|Idaho|Idaho Mu...</td>\n",
       "      <td>309838</td>\n",
       "      <td>2328</td>\n",
       "      <td>0</td>\n",
       "      <td>963</td>\n",
       "      <td>https://i.ytimg.com/vi/IHATf7e53hU/default.jpg</td>\n",
       "      <td>False</td>\n",
       "      <td>False</td>\n",
       "      <td>Retired Supervisory Special Agent of the FBI S...</td>\n",
       "    </tr>\n",
       "    <tr>\n",
       "      <th>4</th>\n",
       "      <td>n_DtpY9wbGg</td>\n",
       "      <td>Dude Perfect vs. Luka Doncic (1-on-1)</td>\n",
       "      <td>2022-12-31T14:59:56Z</td>\n",
       "      <td>UCRijo3ddMTht_IHyNSNXpNQ</td>\n",
       "      <td>Dude Perfect</td>\n",
       "      <td>17</td>\n",
       "      <td>2023-01-05T00:00:00Z</td>\n",
       "      <td>dude perfect|dude perfect stereotypes|dude per...</td>\n",
       "      <td>8626982</td>\n",
       "      <td>330563</td>\n",
       "      <td>0</td>\n",
       "      <td>7482</td>\n",
       "      <td>https://i.ytimg.com/vi/n_DtpY9wbGg/default.jpg</td>\n",
       "      <td>False</td>\n",
       "      <td>False</td>\n",
       "      <td>Cody vs Luka in 1-on-1, Trick Shots with Luka,...</td>\n",
       "    </tr>\n",
       "    <tr>\n",
       "      <th>5</th>\n",
       "      <td>naQ0RuXB3fI</td>\n",
       "      <td>Uncle Roger Learn To Make Lobster Roll (ft. NI...</td>\n",
       "      <td>2023-01-01T14:00:17Z</td>\n",
       "      <td>UCVjlpEjEY9GpksqbEesJnNA</td>\n",
       "      <td>mrnigelng</td>\n",
       "      <td>23</td>\n",
       "      <td>2023-01-05T00:00:00Z</td>\n",
       "      <td>nigel ng|uncle roger|nigel ng comedy</td>\n",
       "      <td>1480796</td>\n",
       "      <td>86621</td>\n",
       "      <td>0</td>\n",
       "      <td>3349</td>\n",
       "      <td>https://i.ytimg.com/vi/naQ0RuXB3fI/default.jpg</td>\n",
       "      <td>False</td>\n",
       "      <td>False</td>\n",
       "      <td>Uncle Nick (@NickDiGiovanni) teach Uncle Roger...</td>\n",
       "    </tr>\n",
       "    <tr>\n",
       "      <th>6</th>\n",
       "      <td>SEdAFDl_2g4</td>\n",
       "      <td>Miley Cyrus &amp; Dolly Parton Sing Wrecking Ball ...</td>\n",
       "      <td>2023-01-01T05:58:45Z</td>\n",
       "      <td>UCccjdJEay2hpb5scz61zY6Q</td>\n",
       "      <td>NBC</td>\n",
       "      <td>24</td>\n",
       "      <td>2023-01-05T00:00:00Z</td>\n",
       "      <td>new years eve|nbc|mileys new years eve party|m...</td>\n",
       "      <td>3218572</td>\n",
       "      <td>82629</td>\n",
       "      <td>0</td>\n",
       "      <td>4188</td>\n",
       "      <td>https://i.ytimg.com/vi/SEdAFDl_2g4/default.jpg</td>\n",
       "      <td>False</td>\n",
       "      <td>False</td>\n",
       "      <td>Miley Cyrus and Dolly Parton perform a medley ...</td>\n",
       "    </tr>\n",
       "    <tr>\n",
       "      <th>7</th>\n",
       "      <td>G8w42dfxNg8</td>\n",
       "      <td>Future - BACK TO THE BASICS (Official Music Vi...</td>\n",
       "      <td>2023-01-02T20:00:02Z</td>\n",
       "      <td>UCSDvKdIQOwTfcyOimSi9oYA</td>\n",
       "      <td>Future</td>\n",
       "      <td>10</td>\n",
       "      <td>2023-01-05T00:00:00Z</td>\n",
       "      <td>future|future hndrxx|pluto|wizrd|wizard|i neve...</td>\n",
       "      <td>528459</td>\n",
       "      <td>35441</td>\n",
       "      <td>0</td>\n",
       "      <td>1636</td>\n",
       "      <td>https://i.ytimg.com/vi/G8w42dfxNg8/default.jpg</td>\n",
       "      <td>False</td>\n",
       "      <td>False</td>\n",
       "      <td>Future - BACK TO THE BASICS (Official Music Vi...</td>\n",
       "    </tr>\n",
       "    <tr>\n",
       "      <th>8</th>\n",
       "      <td>97ICETWIrW8</td>\n",
       "      <td>I Collected EVERY Block in Minecraft Hardcore</td>\n",
       "      <td>2023-01-01T14:00:52Z</td>\n",
       "      <td>UCJLklPT2rmAF33gVyHYH-QQ</td>\n",
       "      <td>ezY</td>\n",
       "      <td>20</td>\n",
       "      <td>2023-01-05T00:00:00Z</td>\n",
       "      <td>ezyyhd|ezy|ezyy|ezzy|ezy minecraft|I Collected...</td>\n",
       "      <td>959016</td>\n",
       "      <td>33553</td>\n",
       "      <td>0</td>\n",
       "      <td>3416</td>\n",
       "      <td>https://i.ytimg.com/vi/97ICETWIrW8/default.jpg</td>\n",
       "      <td>False</td>\n",
       "      <td>False</td>\n",
       "      <td>Today I Collected EVERY Block in Hardcore Mine...</td>\n",
       "    </tr>\n",
       "    <tr>\n",
       "      <th>9</th>\n",
       "      <td>2FcDNi1HkfI</td>\n",
       "      <td>Happy New Year Live! 🎆 London Fireworks 2023 🔴...</td>\n",
       "      <td>2023-01-01T00:15:15Z</td>\n",
       "      <td>UCCj956IF62FbT7Gouszaj9w</td>\n",
       "      <td>BBC</td>\n",
       "      <td>24</td>\n",
       "      <td>2023-01-05T00:00:00Z</td>\n",
       "      <td>fireworks|NYE|new year countdown 2023|firework...</td>\n",
       "      <td>4181839</td>\n",
       "      <td>43283</td>\n",
       "      <td>0</td>\n",
       "      <td>4795</td>\n",
       "      <td>https://i.ytimg.com/vi/2FcDNi1HkfI/default.jpg</td>\n",
       "      <td>False</td>\n",
       "      <td>False</td>\n",
       "      <td>Subscribe and 🔔 to the BBC 👉 https://bit.ly/BB...</td>\n",
       "    </tr>\n",
       "  </tbody>\n",
       "</table>\n",
       "</div>"
      ],
      "text/plain": [
       "      video_id                                              title  \\\n",
       "0  E-oA1BWRL2U        Minecraft but there's Only One Modded Block   \n",
       "1  PpznJj8ZXMY  Rangers 2-2 Celtic | Late Furuhashi Goal Denie...   \n",
       "2  8DNLvMTxhb8  I Cut My Long Hair SHORT *and surprised my fam...   \n",
       "3  IHATf7e53hU  Former FBI agent sheds light on Poconos arrest...   \n",
       "4  n_DtpY9wbGg              Dude Perfect vs. Luka Doncic (1-on-1)   \n",
       "5  naQ0RuXB3fI  Uncle Roger Learn To Make Lobster Roll (ft. NI...   \n",
       "6  SEdAFDl_2g4  Miley Cyrus & Dolly Parton Sing Wrecking Ball ...   \n",
       "7  G8w42dfxNg8  Future - BACK TO THE BASICS (Official Music Vi...   \n",
       "8  97ICETWIrW8      I Collected EVERY Block in Minecraft Hardcore   \n",
       "9  2FcDNi1HkfI  Happy New Year Live! 🎆 London Fireworks 2023 🔴...   \n",
       "\n",
       "            publishedat                 channelid         channeltitle  \\\n",
       "0  2023-01-02T18:05:07Z  UC_cvTMeip9po2hZdF3aBXrA          BeckBroJack   \n",
       "1  2023-01-02T22:00:06Z  UCakRszbIjjGYtFrDPeg5Ieg                 SPFL   \n",
       "2  2023-01-01T18:00:02Z  UCzzOKT1SkE7qdycJvPCR3Gg           Mia Maples   \n",
       "3  2023-01-02T13:08:14Z  UCqdOvfSmM2NKRNE0FSbATuw  FOX 29 Philadelphia   \n",
       "4  2022-12-31T14:59:56Z  UCRijo3ddMTht_IHyNSNXpNQ         Dude Perfect   \n",
       "5  2023-01-01T14:00:17Z  UCVjlpEjEY9GpksqbEesJnNA            mrnigelng   \n",
       "6  2023-01-01T05:58:45Z  UCccjdJEay2hpb5scz61zY6Q                  NBC   \n",
       "7  2023-01-02T20:00:02Z  UCSDvKdIQOwTfcyOimSi9oYA               Future   \n",
       "8  2023-01-01T14:00:52Z  UCJLklPT2rmAF33gVyHYH-QQ                  ezY   \n",
       "9  2023-01-01T00:15:15Z  UCCj956IF62FbT7Gouszaj9w                  BBC   \n",
       "\n",
       "  categoryid              trending  \\\n",
       "0         20  2023-01-05T00:00:00Z   \n",
       "1         17  2023-01-05T00:00:00Z   \n",
       "2         26  2023-01-05T00:00:00Z   \n",
       "3         25  2023-01-05T00:00:00Z   \n",
       "4         17  2023-01-05T00:00:00Z   \n",
       "5         23  2023-01-05T00:00:00Z   \n",
       "6         24  2023-01-05T00:00:00Z   \n",
       "7         10  2023-01-05T00:00:00Z   \n",
       "8         20  2023-01-05T00:00:00Z   \n",
       "9         24  2023-01-05T00:00:00Z   \n",
       "\n",
       "                                                tags view_count   likes  \\\n",
       "0  minecraft|minecraft but theres only one block|...     294697   22001   \n",
       "1  SPFL|SPFL Highlights|Scottish football highlig...     596283    3049   \n",
       "2  mia maples|cutting bangs|giving myself bangs|c...    1001653   92538   \n",
       "3  Good Day|video|wtxf|third party|Idaho|Idaho Mu...     309838    2328   \n",
       "4  dude perfect|dude perfect stereotypes|dude per...    8626982  330563   \n",
       "5               nigel ng|uncle roger|nigel ng comedy    1480796   86621   \n",
       "6  new years eve|nbc|mileys new years eve party|m...    3218572   82629   \n",
       "7  future|future hndrxx|pluto|wizrd|wizard|i neve...     528459   35441   \n",
       "8  ezyyhd|ezy|ezyy|ezzy|ezy minecraft|I Collected...     959016   33553   \n",
       "9  fireworks|NYE|new year countdown 2023|firework...    4181839   43283   \n",
       "\n",
       "  dislikes comment_count                                  thumbnail_link  \\\n",
       "0        0          1228  https://i.ytimg.com/vi/E-oA1BWRL2U/default.jpg   \n",
       "1        0          1003  https://i.ytimg.com/vi/PpznJj8ZXMY/default.jpg   \n",
       "2        0         17372  https://i.ytimg.com/vi/8DNLvMTxhb8/default.jpg   \n",
       "3        0           963  https://i.ytimg.com/vi/IHATf7e53hU/default.jpg   \n",
       "4        0          7482  https://i.ytimg.com/vi/n_DtpY9wbGg/default.jpg   \n",
       "5        0          3349  https://i.ytimg.com/vi/naQ0RuXB3fI/default.jpg   \n",
       "6        0          4188  https://i.ytimg.com/vi/SEdAFDl_2g4/default.jpg   \n",
       "7        0          1636  https://i.ytimg.com/vi/G8w42dfxNg8/default.jpg   \n",
       "8        0          3416  https://i.ytimg.com/vi/97ICETWIrW8/default.jpg   \n",
       "9        0          4795  https://i.ytimg.com/vi/2FcDNi1HkfI/default.jpg   \n",
       "\n",
       "  comments_disabled ratings_disabled  \\\n",
       "0             False            False   \n",
       "1             False            False   \n",
       "2             False            False   \n",
       "3             False            False   \n",
       "4             False            False   \n",
       "5             False            False   \n",
       "6             False            False   \n",
       "7             False            False   \n",
       "8             False            False   \n",
       "9             False            False   \n",
       "\n",
       "                                         description  \n",
       "0  Today I survived on one Modded Block in Minecr...  \n",
       "1  Celtic kept their 9 point lead at the top of t...  \n",
       "2  HAPPY NEW YEAR.. Today I CHOPPED MY HAIR OFF l...  \n",
       "3  Retired Supervisory Special Agent of the FBI S...  \n",
       "4  Cody vs Luka in 1-on-1, Trick Shots with Luka,...  \n",
       "5  Uncle Nick (@NickDiGiovanni) teach Uncle Roger...  \n",
       "6  Miley Cyrus and Dolly Parton perform a medley ...  \n",
       "7  Future - BACK TO THE BASICS (Official Music Vi...  \n",
       "8  Today I Collected EVERY Block in Hardcore Mine...  \n",
       "9  Subscribe and 🔔 to the BBC 👉 https://bit.ly/BB...  "
      ]
     },
     "execution_count": 11,
     "metadata": {},
     "output_type": "execute_result"
    }
   ],
   "source": [
    "pd.read_sql(f\"SELECT * FROM {db_name}.ca_csv LIMIT 10\", conn)"
   ]
  },
  {
   "cell_type": "code",
   "execution_count": 12,
   "metadata": {
    "tags": []
   },
   "outputs": [
    {
     "data": {
      "text/html": [
       "<div>\n",
       "<style scoped>\n",
       "    .dataframe tbody tr th:only-of-type {\n",
       "        vertical-align: middle;\n",
       "    }\n",
       "\n",
       "    .dataframe tbody tr th {\n",
       "        vertical-align: top;\n",
       "    }\n",
       "\n",
       "    .dataframe thead th {\n",
       "        text-align: right;\n",
       "    }\n",
       "</style>\n",
       "<table border=\"1\" class=\"dataframe\">\n",
       "  <thead>\n",
       "    <tr style=\"text-align: right;\">\n",
       "      <th></th>\n",
       "    </tr>\n",
       "  </thead>\n",
       "  <tbody>\n",
       "  </tbody>\n",
       "</table>\n",
       "</div>"
      ],
      "text/plain": [
       "Empty DataFrame\n",
       "Columns: []\n",
       "Index: []"
      ]
     },
     "execution_count": 12,
     "metadata": {},
     "output_type": "execute_result"
    }
   ],
   "source": [
    "pd.read_sql(f\"DROP TABLE IF EXISTS {db_name}.us_csv\", conn)\n",
    "\n",
    "\n",
    "us_csv_create = f\"\"\"\n",
    "CREATE EXTERNAL TABLE IF NOT EXISTS {db_name}.us_csv(\n",
    "                video_id string,\n",
    "                title string,\n",
    "                publishedAt string,\n",
    "                channelId string,\n",
    "                channelTitle string,\n",
    "                categoryId string,\n",
    "                trending string,\n",
    "                tags string,\n",
    "                view_count string,\n",
    "                likes string,\n",
    "                dislikes string,\n",
    "                comment_count string,\n",
    "                thumbnail_link string,\n",
    "                comments_disabled string,\n",
    "                ratings_disabled string,\n",
    "                description string)\n",
    "            \n",
    "                \n",
    "                ROW FORMAT SERDE 'org.apache.hadoop.hive.serde2.OpenCSVSerde' \n",
    "                WITH SERDEPROPERTIES (\n",
    "                \"separatorChar\" = ',', \n",
    "                \"quoteChar\" = '\\\"',\n",
    "                \"escapeChar\" = '\\\"'\n",
    "                ) \n",
    "                LOCATION 's3://{bucket}/youtubeStatistics/{csv_folder}/usa/'\n",
    "                TBLPROPERTIES (\"skip.header.line.count\"=\"1\");\n",
    "\"\"\"\n",
    "\n",
    "pd.read_sql(us_csv_create, conn)"
   ]
  },
  {
   "cell_type": "code",
   "execution_count": 13,
   "metadata": {
    "tags": []
   },
   "outputs": [
    {
     "data": {
      "text/html": [
       "<div>\n",
       "<style scoped>\n",
       "    .dataframe tbody tr th:only-of-type {\n",
       "        vertical-align: middle;\n",
       "    }\n",
       "\n",
       "    .dataframe tbody tr th {\n",
       "        vertical-align: top;\n",
       "    }\n",
       "\n",
       "    .dataframe thead th {\n",
       "        text-align: right;\n",
       "    }\n",
       "</style>\n",
       "<table border=\"1\" class=\"dataframe\">\n",
       "  <thead>\n",
       "    <tr style=\"text-align: right;\">\n",
       "      <th></th>\n",
       "      <th>video_id</th>\n",
       "      <th>title</th>\n",
       "      <th>publishedat</th>\n",
       "      <th>channelid</th>\n",
       "      <th>channeltitle</th>\n",
       "      <th>categoryid</th>\n",
       "      <th>trending</th>\n",
       "      <th>tags</th>\n",
       "      <th>view_count</th>\n",
       "      <th>likes</th>\n",
       "      <th>dislikes</th>\n",
       "      <th>comment_count</th>\n",
       "      <th>thumbnail_link</th>\n",
       "      <th>comments_disabled</th>\n",
       "      <th>ratings_disabled</th>\n",
       "      <th>description</th>\n",
       "    </tr>\n",
       "  </thead>\n",
       "  <tbody>\n",
       "    <tr>\n",
       "      <th>0</th>\n",
       "      <td>P1Ohc8GDFPI</td>\n",
       "      <td>Deion Sanders receives his flowers from Shanno...</td>\n",
       "      <td>2022-12-20T17:30:08Z</td>\n",
       "      <td>UCQoxJOkwaCgyzQtiuAIDcuw</td>\n",
       "      <td>Club Shay Shay</td>\n",
       "      <td>22</td>\n",
       "      <td>2023-01-03T00:00:00Z</td>\n",
       "      <td>Club Shay Shay|fs1|fox sports|fs1 Club Shay Sh...</td>\n",
       "      <td>2958648</td>\n",
       "      <td>75990</td>\n",
       "      <td>0</td>\n",
       "      <td>6832</td>\n",
       "      <td>https://i.ytimg.com/vi/P1Ohc8GDFPI/default.jpg</td>\n",
       "      <td>False</td>\n",
       "      <td>False</td>\n",
       "      <td>Club Shay Shay heads to Boulder, Colorado this...</td>\n",
       "    </tr>\n",
       "    <tr>\n",
       "      <th>1</th>\n",
       "      <td>QQOplWjM910</td>\n",
       "      <td>World's Largest Axe Vs. GIANT Rubber Band Ball</td>\n",
       "      <td>2022-12-22T22:00:19Z</td>\n",
       "      <td>UC5f5IV0Bf79YLp_p9nfInRA</td>\n",
       "      <td>How Ridiculous</td>\n",
       "      <td>17</td>\n",
       "      <td>2023-01-03T00:00:00Z</td>\n",
       "      <td>how ridiculous|rexy|44club</td>\n",
       "      <td>1523580</td>\n",
       "      <td>52641</td>\n",
       "      <td>0</td>\n",
       "      <td>2217</td>\n",
       "      <td>https://i.ytimg.com/vi/QQOplWjM910/default.jpg</td>\n",
       "      <td>False</td>\n",
       "      <td>False</td>\n",
       "      <td>Thanks to Epic Games for sponsoring - Fortnite...</td>\n",
       "    </tr>\n",
       "    <tr>\n",
       "      <th>2</th>\n",
       "      <td>ZK3x16AUUKI</td>\n",
       "      <td>Catch The Right Size Pokemon To Win</td>\n",
       "      <td>2022-12-21T19:23:18Z</td>\n",
       "      <td>UCLc_ZQgQ8h2XKUAQpqcvIdw</td>\n",
       "      <td>PM7</td>\n",
       "      <td>20</td>\n",
       "      <td>2023-01-03T00:00:00Z</td>\n",
       "      <td>pokemon|new pokemon|pokemon challenge|pm7 scar...</td>\n",
       "      <td>973478</td>\n",
       "      <td>29189</td>\n",
       "      <td>0</td>\n",
       "      <td>3170</td>\n",
       "      <td>https://i.ytimg.com/vi/ZK3x16AUUKI/default.jpg</td>\n",
       "      <td>False</td>\n",
       "      <td>False</td>\n",
       "      <td>Whoever catches the Pokemon closest to the ran...</td>\n",
       "    </tr>\n",
       "    <tr>\n",
       "      <th>3</th>\n",
       "      <td>QNuu8KTUEwU</td>\n",
       "      <td>Using a robot to cheat in a boxing match!</td>\n",
       "      <td>2022-12-21T15:00:13Z</td>\n",
       "      <td>UCJLZe_NoiG0hT7QCX_9vmqw</td>\n",
       "      <td>I did a thing</td>\n",
       "      <td>24</td>\n",
       "      <td>2023-01-03T00:00:00Z</td>\n",
       "      <td>[None]</td>\n",
       "      <td>2697095</td>\n",
       "      <td>174638</td>\n",
       "      <td>0</td>\n",
       "      <td>4984</td>\n",
       "      <td>https://i.ytimg.com/vi/QNuu8KTUEwU/default.jpg</td>\n",
       "      <td>False</td>\n",
       "      <td>False</td>\n",
       "      <td>Get PayPal Honey for FREE today ▸ https://join...</td>\n",
       "    </tr>\n",
       "    <tr>\n",
       "      <th>4</th>\n",
       "      <td>IltuQkeU7zU</td>\n",
       "      <td>BADGER'S BEST OF 2022</td>\n",
       "      <td>2022-12-20T20:37:43Z</td>\n",
       "      <td>UCWzLmNWhgeh3h1j-M-Isy0g</td>\n",
       "      <td>TheRussianBadger</td>\n",
       "      <td>20</td>\n",
       "      <td>2023-01-03T00:00:00Z</td>\n",
       "      <td>[None]</td>\n",
       "      <td>2501910</td>\n",
       "      <td>162376</td>\n",
       "      <td>0</td>\n",
       "      <td>11807</td>\n",
       "      <td>https://i.ytimg.com/vi/IltuQkeU7zU/default.jpg</td>\n",
       "      <td>False</td>\n",
       "      <td>False</td>\n",
       "      <td>BUY MY SHAKER CUP (use code BADGER for 10% off...</td>\n",
       "    </tr>\n",
       "    <tr>\n",
       "      <th>5</th>\n",
       "      <td>PR715VHT8LE</td>\n",
       "      <td>Bills safety Damar Hamlin taken to hospital af...</td>\n",
       "      <td>2023-01-03T04:10:31Z</td>\n",
       "      <td>UC9ha3sh4YTCSK83dH6OlWTw</td>\n",
       "      <td>WTVR CBS 6</td>\n",
       "      <td>25</td>\n",
       "      <td>2023-01-04T00:00:00Z</td>\n",
       "      <td>Richmond|Virginia</td>\n",
       "      <td>1015760</td>\n",
       "      <td>4426</td>\n",
       "      <td>0</td>\n",
       "      <td>1389</td>\n",
       "      <td>https://i.ytimg.com/vi/PR715VHT8LE/default.jpg</td>\n",
       "      <td>False</td>\n",
       "      <td>False</td>\n",
       "      <td>A Bills player was taken off the field in an a...</td>\n",
       "    </tr>\n",
       "    <tr>\n",
       "      <th>6</th>\n",
       "      <td>nCBVWlNLZ_I</td>\n",
       "      <td>Cotton Bowl: Tulane Green Wave vs. USC Trojans...</td>\n",
       "      <td>2023-01-02T22:05:59Z</td>\n",
       "      <td>UCzRWWsFjqHk1an4OnVPsl9g</td>\n",
       "      <td>ESPN College Football</td>\n",
       "      <td>17</td>\n",
       "      <td>2023-01-04T00:00:00Z</td>\n",
       "      <td>Cotton Bowl: Tulane Green Wave vs. USC Trojans...</td>\n",
       "      <td>913997</td>\n",
       "      <td>8113</td>\n",
       "      <td>0</td>\n",
       "      <td>2506</td>\n",
       "      <td>https://i.ytimg.com/vi/nCBVWlNLZ_I/default.jpg</td>\n",
       "      <td>False</td>\n",
       "      <td>False</td>\n",
       "      <td>Watch these highlights from the Tulane Green W...</td>\n",
       "    </tr>\n",
       "    <tr>\n",
       "      <th>7</th>\n",
       "      <td>4weFxATBEiY</td>\n",
       "      <td>Evil Dead Rise – Teaser</td>\n",
       "      <td>2023-01-03T17:00:26Z</td>\n",
       "      <td>UCjmJDM5pRKbUlVIzDYYWb6g</td>\n",
       "      <td>Warner Bros. Pictures</td>\n",
       "      <td>1</td>\n",
       "      <td>2023-01-04T00:00:00Z</td>\n",
       "      <td>Alyssa Sutherland|Bruce Campbell|Evil Dead|Evi...</td>\n",
       "      <td>348962</td>\n",
       "      <td>12956</td>\n",
       "      <td>0</td>\n",
       "      <td>1150</td>\n",
       "      <td>https://i.ytimg.com/vi/4weFxATBEiY/default.jpg</td>\n",
       "      <td>False</td>\n",
       "      <td>False</td>\n",
       "      <td>A little peek at what’s to come. New trailer f...</td>\n",
       "    </tr>\n",
       "    <tr>\n",
       "      <th>8</th>\n",
       "      <td>XHegE9h0ZvA</td>\n",
       "      <td>Center - Day 2 - Listen</td>\n",
       "      <td>2023-01-03T06:00:08Z</td>\n",
       "      <td>UCFKE7WVJfvaHW5q283SxchA</td>\n",
       "      <td>Yoga With Adriene</td>\n",
       "      <td>26</td>\n",
       "      <td>2023-01-04T00:00:00Z</td>\n",
       "      <td>home yoga|home yoga practice|yoga at home|at h...</td>\n",
       "      <td>604097</td>\n",
       "      <td>17963</td>\n",
       "      <td>0</td>\n",
       "      <td>1810</td>\n",
       "      <td>https://i.ytimg.com/vi/XHegE9h0ZvA/default.jpg</td>\n",
       "      <td>False</td>\n",
       "      <td>False</td>\n",
       "      <td>In this practice we embrace a key element to t...</td>\n",
       "    </tr>\n",
       "    <tr>\n",
       "      <th>9</th>\n",
       "      <td>R8L0szRdcVc</td>\n",
       "      <td>Ken Block: a look back at the career of the ra...</td>\n",
       "      <td>2023-01-03T15:59:58Z</td>\n",
       "      <td>UCwD9E_QNwFwrQC7OnPnrg2Q</td>\n",
       "      <td>Guardian Sport</td>\n",
       "      <td>17</td>\n",
       "      <td>2023-01-04T00:00:00Z</td>\n",
       "      <td>ken block|ken block best clips|ken block best ...</td>\n",
       "      <td>259170</td>\n",
       "      <td>3684</td>\n",
       "      <td>0</td>\n",
       "      <td>271</td>\n",
       "      <td>https://i.ytimg.com/vi/R8L0szRdcVc/default.jpg</td>\n",
       "      <td>False</td>\n",
       "      <td>False</td>\n",
       "      <td>Professional rally driver Ken Block, who later...</td>\n",
       "    </tr>\n",
       "  </tbody>\n",
       "</table>\n",
       "</div>"
      ],
      "text/plain": [
       "      video_id                                              title  \\\n",
       "0  P1Ohc8GDFPI  Deion Sanders receives his flowers from Shanno...   \n",
       "1  QQOplWjM910     World's Largest Axe Vs. GIANT Rubber Band Ball   \n",
       "2  ZK3x16AUUKI                Catch The Right Size Pokemon To Win   \n",
       "3  QNuu8KTUEwU          Using a robot to cheat in a boxing match!   \n",
       "4  IltuQkeU7zU                              BADGER'S BEST OF 2022   \n",
       "5  PR715VHT8LE  Bills safety Damar Hamlin taken to hospital af...   \n",
       "6  nCBVWlNLZ_I  Cotton Bowl: Tulane Green Wave vs. USC Trojans...   \n",
       "7  4weFxATBEiY                            Evil Dead Rise – Teaser   \n",
       "8  XHegE9h0ZvA                            Center - Day 2 - Listen   \n",
       "9  R8L0szRdcVc  Ken Block: a look back at the career of the ra...   \n",
       "\n",
       "            publishedat                 channelid           channeltitle  \\\n",
       "0  2022-12-20T17:30:08Z  UCQoxJOkwaCgyzQtiuAIDcuw         Club Shay Shay   \n",
       "1  2022-12-22T22:00:19Z  UC5f5IV0Bf79YLp_p9nfInRA         How Ridiculous   \n",
       "2  2022-12-21T19:23:18Z  UCLc_ZQgQ8h2XKUAQpqcvIdw                    PM7   \n",
       "3  2022-12-21T15:00:13Z  UCJLZe_NoiG0hT7QCX_9vmqw          I did a thing   \n",
       "4  2022-12-20T20:37:43Z  UCWzLmNWhgeh3h1j-M-Isy0g       TheRussianBadger   \n",
       "5  2023-01-03T04:10:31Z  UC9ha3sh4YTCSK83dH6OlWTw             WTVR CBS 6   \n",
       "6  2023-01-02T22:05:59Z  UCzRWWsFjqHk1an4OnVPsl9g  ESPN College Football   \n",
       "7  2023-01-03T17:00:26Z  UCjmJDM5pRKbUlVIzDYYWb6g  Warner Bros. Pictures   \n",
       "8  2023-01-03T06:00:08Z  UCFKE7WVJfvaHW5q283SxchA      Yoga With Adriene   \n",
       "9  2023-01-03T15:59:58Z  UCwD9E_QNwFwrQC7OnPnrg2Q         Guardian Sport   \n",
       "\n",
       "  categoryid              trending  \\\n",
       "0         22  2023-01-03T00:00:00Z   \n",
       "1         17  2023-01-03T00:00:00Z   \n",
       "2         20  2023-01-03T00:00:00Z   \n",
       "3         24  2023-01-03T00:00:00Z   \n",
       "4         20  2023-01-03T00:00:00Z   \n",
       "5         25  2023-01-04T00:00:00Z   \n",
       "6         17  2023-01-04T00:00:00Z   \n",
       "7          1  2023-01-04T00:00:00Z   \n",
       "8         26  2023-01-04T00:00:00Z   \n",
       "9         17  2023-01-04T00:00:00Z   \n",
       "\n",
       "                                                tags view_count   likes  \\\n",
       "0  Club Shay Shay|fs1|fox sports|fs1 Club Shay Sh...    2958648   75990   \n",
       "1                         how ridiculous|rexy|44club    1523580   52641   \n",
       "2  pokemon|new pokemon|pokemon challenge|pm7 scar...     973478   29189   \n",
       "3                                             [None]    2697095  174638   \n",
       "4                                             [None]    2501910  162376   \n",
       "5                                  Richmond|Virginia    1015760    4426   \n",
       "6  Cotton Bowl: Tulane Green Wave vs. USC Trojans...     913997    8113   \n",
       "7  Alyssa Sutherland|Bruce Campbell|Evil Dead|Evi...     348962   12956   \n",
       "8  home yoga|home yoga practice|yoga at home|at h...     604097   17963   \n",
       "9  ken block|ken block best clips|ken block best ...     259170    3684   \n",
       "\n",
       "  dislikes comment_count                                  thumbnail_link  \\\n",
       "0        0          6832  https://i.ytimg.com/vi/P1Ohc8GDFPI/default.jpg   \n",
       "1        0          2217  https://i.ytimg.com/vi/QQOplWjM910/default.jpg   \n",
       "2        0          3170  https://i.ytimg.com/vi/ZK3x16AUUKI/default.jpg   \n",
       "3        0          4984  https://i.ytimg.com/vi/QNuu8KTUEwU/default.jpg   \n",
       "4        0         11807  https://i.ytimg.com/vi/IltuQkeU7zU/default.jpg   \n",
       "5        0          1389  https://i.ytimg.com/vi/PR715VHT8LE/default.jpg   \n",
       "6        0          2506  https://i.ytimg.com/vi/nCBVWlNLZ_I/default.jpg   \n",
       "7        0          1150  https://i.ytimg.com/vi/4weFxATBEiY/default.jpg   \n",
       "8        0          1810  https://i.ytimg.com/vi/XHegE9h0ZvA/default.jpg   \n",
       "9        0           271  https://i.ytimg.com/vi/R8L0szRdcVc/default.jpg   \n",
       "\n",
       "  comments_disabled ratings_disabled  \\\n",
       "0             False            False   \n",
       "1             False            False   \n",
       "2             False            False   \n",
       "3             False            False   \n",
       "4             False            False   \n",
       "5             False            False   \n",
       "6             False            False   \n",
       "7             False            False   \n",
       "8             False            False   \n",
       "9             False            False   \n",
       "\n",
       "                                         description  \n",
       "0  Club Shay Shay heads to Boulder, Colorado this...  \n",
       "1  Thanks to Epic Games for sponsoring - Fortnite...  \n",
       "2  Whoever catches the Pokemon closest to the ran...  \n",
       "3  Get PayPal Honey for FREE today ▸ https://join...  \n",
       "4  BUY MY SHAKER CUP (use code BADGER for 10% off...  \n",
       "5  A Bills player was taken off the field in an a...  \n",
       "6  Watch these highlights from the Tulane Green W...  \n",
       "7  A little peek at what’s to come. New trailer f...  \n",
       "8  In this practice we embrace a key element to t...  \n",
       "9  Professional rally driver Ken Block, who later...  "
      ]
     },
     "execution_count": 13,
     "metadata": {},
     "output_type": "execute_result"
    }
   ],
   "source": [
    "pd.read_sql(f\"SELECT * FROM {db_name}.us_csv LIMIT 10\", conn)"
   ]
  },
  {
   "cell_type": "code",
   "execution_count": 14,
   "metadata": {
    "tags": []
   },
   "outputs": [
    {
     "data": {
      "text/html": [
       "<div>\n",
       "<style scoped>\n",
       "    .dataframe tbody tr th:only-of-type {\n",
       "        vertical-align: middle;\n",
       "    }\n",
       "\n",
       "    .dataframe tbody tr th {\n",
       "        vertical-align: top;\n",
       "    }\n",
       "\n",
       "    .dataframe thead th {\n",
       "        text-align: right;\n",
       "    }\n",
       "</style>\n",
       "<table border=\"1\" class=\"dataframe\">\n",
       "  <thead>\n",
       "    <tr style=\"text-align: right;\">\n",
       "      <th></th>\n",
       "    </tr>\n",
       "  </thead>\n",
       "  <tbody>\n",
       "  </tbody>\n",
       "</table>\n",
       "</div>"
      ],
      "text/plain": [
       "Empty DataFrame\n",
       "Columns: []\n",
       "Index: []"
      ]
     },
     "execution_count": 14,
     "metadata": {},
     "output_type": "execute_result"
    }
   ],
   "source": [
    "pd.read_sql(f\"DROP TABLE IF EXISTS {db_name}.gb_csv\", conn)\n",
    "\n",
    "\n",
    "gb_csv_create = f\"\"\"\n",
    "CREATE EXTERNAL TABLE IF NOT EXISTS {db_name}.gb_csv(\n",
    "                video_id string,\n",
    "                title string,\n",
    "                publishedAt string,\n",
    "                channelId string,\n",
    "                channelTitle string,\n",
    "                categoryId string,\n",
    "                trending string,\n",
    "                tags string,\n",
    "                view_count string,\n",
    "                likes string,\n",
    "                dislikes string,\n",
    "                comment_count string,\n",
    "                thumbnail_link string,\n",
    "                comments_disabled string,\n",
    "                ratings_disabled string,\n",
    "                description string\n",
    "                )\n",
    "            \n",
    "                ROW FORMAT SERDE 'org.apache.hadoop.hive.serde2.OpenCSVSerde' \n",
    "                WITH SERDEPROPERTIES (\n",
    "                \"separatorChar\" = \",\", \n",
    "                \"quoteChar\" = '\\\"',\n",
    "                \"escapeChar\" = '\\\"'\n",
    "                ) \n",
    "                LOCATION 's3://{bucket}/youtubeStatistics/{csv_folder}/gb/'\n",
    "                TBLPROPERTIES (\"skip.header.line.count\"=\"1\");\n",
    "\"\"\"\n",
    "\n",
    "pd.read_sql(gb_csv_create, conn)"
   ]
  },
  {
   "cell_type": "code",
   "execution_count": 15,
   "metadata": {
    "tags": []
   },
   "outputs": [
    {
     "data": {
      "text/html": [
       "<div>\n",
       "<style scoped>\n",
       "    .dataframe tbody tr th:only-of-type {\n",
       "        vertical-align: middle;\n",
       "    }\n",
       "\n",
       "    .dataframe tbody tr th {\n",
       "        vertical-align: top;\n",
       "    }\n",
       "\n",
       "    .dataframe thead th {\n",
       "        text-align: right;\n",
       "    }\n",
       "</style>\n",
       "<table border=\"1\" class=\"dataframe\">\n",
       "  <thead>\n",
       "    <tr style=\"text-align: right;\">\n",
       "      <th></th>\n",
       "      <th>video_id</th>\n",
       "      <th>title</th>\n",
       "      <th>publishedat</th>\n",
       "      <th>channelid</th>\n",
       "      <th>channeltitle</th>\n",
       "      <th>categoryid</th>\n",
       "      <th>trending</th>\n",
       "      <th>tags</th>\n",
       "      <th>view_count</th>\n",
       "      <th>likes</th>\n",
       "      <th>dislikes</th>\n",
       "      <th>comment_count</th>\n",
       "      <th>thumbnail_link</th>\n",
       "      <th>comments_disabled</th>\n",
       "      <th>ratings_disabled</th>\n",
       "      <th>description</th>\n",
       "    </tr>\n",
       "  </thead>\n",
       "  <tbody>\n",
       "    <tr>\n",
       "      <th>0</th>\n",
       "      <td>CG3XDu8aAf8</td>\n",
       "      <td>dodie: Tiny Desk Concert</td>\n",
       "      <td>2023-01-10T10:00:06Z</td>\n",
       "      <td>UC4eYXhJI4-7wSWc8UNRwD4A</td>\n",
       "      <td>NPR Music</td>\n",
       "      <td>10</td>\n",
       "      <td>2023-01-14T00:00:00Z</td>\n",
       "      <td>NPR|NPR Music|National Public Radio|Live|Perfo...</td>\n",
       "      <td>261463</td>\n",
       "      <td>21794</td>\n",
       "      <td>0</td>\n",
       "      <td>1218</td>\n",
       "      <td>https://i.ytimg.com/vi/CG3XDu8aAf8/default.jpg</td>\n",
       "      <td>False</td>\n",
       "      <td>False</td>\n",
       "      <td>Robin Hilton | January 10, 2023On many levels,...</td>\n",
       "    </tr>\n",
       "    <tr>\n",
       "      <th>1</th>\n",
       "      <td>6RjJEAX-z8Y</td>\n",
       "      <td>When an Anime only focuses on Boxing</td>\n",
       "      <td>2023-01-10T22:52:21Z</td>\n",
       "      <td>UC4G10tk3AHFuyMIuD3rHOBA</td>\n",
       "      <td>RDCworld1</td>\n",
       "      <td>23</td>\n",
       "      <td>2023-01-14T00:00:00Z</td>\n",
       "      <td>[None]</td>\n",
       "      <td>866993</td>\n",
       "      <td>101590</td>\n",
       "      <td>0</td>\n",
       "      <td>5037</td>\n",
       "      <td>https://i.ytimg.com/vi/6RjJEAX-z8Y/default.jpg</td>\n",
       "      <td>False</td>\n",
       "      <td>False</td>\n",
       "      <td>FOLLOW @SUPREMEDREAMS_1 AND @RDCWORLD1 FOR MOR...</td>\n",
       "    </tr>\n",
       "    <tr>\n",
       "      <th>2</th>\n",
       "      <td>oecXah38C3c</td>\n",
       "      <td>I Got EVERY SHINY Pokémon From Scarlet and Vio...</td>\n",
       "      <td>2023-01-10T17:04:36Z</td>\n",
       "      <td>UCJoimug4KfsLcY6t_EoRaaA</td>\n",
       "      <td>Jayden Wilson</td>\n",
       "      <td>20</td>\n",
       "      <td>2023-01-14T00:00:00Z</td>\n",
       "      <td>pokemon scarlet and violet|shiny pokemon|pokem...</td>\n",
       "      <td>164458</td>\n",
       "      <td>3867</td>\n",
       "      <td>0</td>\n",
       "      <td>292</td>\n",
       "      <td>https://i.ytimg.com/vi/oecXah38C3c/default.jpg</td>\n",
       "      <td>False</td>\n",
       "      <td>False</td>\n",
       "      <td>I'm gonna be attempting to complete the ENTIRE...</td>\n",
       "    </tr>\n",
       "    <tr>\n",
       "      <th>3</th>\n",
       "      <td>3COY_HrMngc</td>\n",
       "      <td>YOU: Season 4 Part 1 | Official Trailer | Netflix</td>\n",
       "      <td>2023-01-09T15:00:03Z</td>\n",
       "      <td>UCWOA1ZGywLbqmigxE4Qlvuw</td>\n",
       "      <td>Netflix</td>\n",
       "      <td>24</td>\n",
       "      <td>2023-01-14T00:00:00Z</td>\n",
       "      <td>Amy-Leigh Hickman|Charlotte Ritchie|Ed Speleer...</td>\n",
       "      <td>3380351</td>\n",
       "      <td>93670</td>\n",
       "      <td>0</td>\n",
       "      <td>4108</td>\n",
       "      <td>https://i.ytimg.com/vi/3COY_HrMngc/default.jpg</td>\n",
       "      <td>False</td>\n",
       "      <td>False</td>\n",
       "      <td>None</td>\n",
       "    </tr>\n",
       "    <tr>\n",
       "      <th>4</th>\n",
       "      <td>None</td>\n",
       "      <td>None</td>\n",
       "      <td>None</td>\n",
       "      <td>None</td>\n",
       "      <td>None</td>\n",
       "      <td>None</td>\n",
       "      <td>None</td>\n",
       "      <td>None</td>\n",
       "      <td>None</td>\n",
       "      <td>None</td>\n",
       "      <td>None</td>\n",
       "      <td>None</td>\n",
       "      <td>None</td>\n",
       "      <td>None</td>\n",
       "      <td>None</td>\n",
       "      <td>None</td>\n",
       "    </tr>\n",
       "    <tr>\n",
       "      <th>5</th>\n",
       "      <td>Watch YOU</td>\n",
       "      <td>only on Netflix: https://www.netflix.com/titl...</td>\n",
       "      <td>None</td>\n",
       "      <td>None</td>\n",
       "      <td>None</td>\n",
       "      <td>None</td>\n",
       "      <td>None</td>\n",
       "      <td>None</td>\n",
       "      <td>None</td>\n",
       "      <td>None</td>\n",
       "      <td>None</td>\n",
       "      <td>None</td>\n",
       "      <td>None</td>\n",
       "      <td>None</td>\n",
       "      <td>None</td>\n",
       "      <td>None</td>\n",
       "    </tr>\n",
       "    <tr>\n",
       "      <th>6</th>\n",
       "      <td>None</td>\n",
       "      <td>None</td>\n",
       "      <td>None</td>\n",
       "      <td>None</td>\n",
       "      <td>None</td>\n",
       "      <td>None</td>\n",
       "      <td>None</td>\n",
       "      <td>None</td>\n",
       "      <td>None</td>\n",
       "      <td>None</td>\n",
       "      <td>None</td>\n",
       "      <td>None</td>\n",
       "      <td>None</td>\n",
       "      <td>None</td>\n",
       "      <td>None</td>\n",
       "      <td>None</td>\n",
       "    </tr>\n",
       "    <tr>\n",
       "      <th>7</th>\n",
       "      <td>SUBSCRIBE: http://bit.ly/29qBUt7</td>\n",
       "      <td>None</td>\n",
       "      <td>None</td>\n",
       "      <td>None</td>\n",
       "      <td>None</td>\n",
       "      <td>None</td>\n",
       "      <td>None</td>\n",
       "      <td>None</td>\n",
       "      <td>None</td>\n",
       "      <td>None</td>\n",
       "      <td>None</td>\n",
       "      <td>None</td>\n",
       "      <td>None</td>\n",
       "      <td>None</td>\n",
       "      <td>None</td>\n",
       "      <td>None</td>\n",
       "    </tr>\n",
       "    <tr>\n",
       "      <th>8</th>\n",
       "      <td>None</td>\n",
       "      <td>None</td>\n",
       "      <td>None</td>\n",
       "      <td>None</td>\n",
       "      <td>None</td>\n",
       "      <td>None</td>\n",
       "      <td>None</td>\n",
       "      <td>None</td>\n",
       "      <td>None</td>\n",
       "      <td>None</td>\n",
       "      <td>None</td>\n",
       "      <td>None</td>\n",
       "      <td>None</td>\n",
       "      <td>None</td>\n",
       "      <td>None</td>\n",
       "      <td>None</td>\n",
       "    </tr>\n",
       "    <tr>\n",
       "      <th>9</th>\n",
       "      <td>About Netflix:</td>\n",
       "      <td>None</td>\n",
       "      <td>None</td>\n",
       "      <td>None</td>\n",
       "      <td>None</td>\n",
       "      <td>None</td>\n",
       "      <td>None</td>\n",
       "      <td>None</td>\n",
       "      <td>None</td>\n",
       "      <td>None</td>\n",
       "      <td>None</td>\n",
       "      <td>None</td>\n",
       "      <td>None</td>\n",
       "      <td>None</td>\n",
       "      <td>None</td>\n",
       "      <td>None</td>\n",
       "    </tr>\n",
       "  </tbody>\n",
       "</table>\n",
       "</div>"
      ],
      "text/plain": [
       "                           video_id  \\\n",
       "0                       CG3XDu8aAf8   \n",
       "1                       6RjJEAX-z8Y   \n",
       "2                       oecXah38C3c   \n",
       "3                       3COY_HrMngc   \n",
       "4                              None   \n",
       "5                         Watch YOU   \n",
       "6                              None   \n",
       "7  SUBSCRIBE: http://bit.ly/29qBUt7   \n",
       "8                              None   \n",
       "9                    About Netflix:   \n",
       "\n",
       "                                               title           publishedat  \\\n",
       "0                           dodie: Tiny Desk Concert  2023-01-10T10:00:06Z   \n",
       "1               When an Anime only focuses on Boxing  2023-01-10T22:52:21Z   \n",
       "2  I Got EVERY SHINY Pokémon From Scarlet and Vio...  2023-01-10T17:04:36Z   \n",
       "3  YOU: Season 4 Part 1 | Official Trailer | Netflix  2023-01-09T15:00:03Z   \n",
       "4                                               None                  None   \n",
       "5   only on Netflix: https://www.netflix.com/titl...                  None   \n",
       "6                                               None                  None   \n",
       "7                                               None                  None   \n",
       "8                                               None                  None   \n",
       "9                                               None                  None   \n",
       "\n",
       "                  channelid    channeltitle categoryid              trending  \\\n",
       "0  UC4eYXhJI4-7wSWc8UNRwD4A       NPR Music         10  2023-01-14T00:00:00Z   \n",
       "1  UC4G10tk3AHFuyMIuD3rHOBA       RDCworld1         23  2023-01-14T00:00:00Z   \n",
       "2  UCJoimug4KfsLcY6t_EoRaaA  Jayden Wilson          20  2023-01-14T00:00:00Z   \n",
       "3  UCWOA1ZGywLbqmigxE4Qlvuw         Netflix         24  2023-01-14T00:00:00Z   \n",
       "4                      None            None       None                  None   \n",
       "5                      None            None       None                  None   \n",
       "6                      None            None       None                  None   \n",
       "7                      None            None       None                  None   \n",
       "8                      None            None       None                  None   \n",
       "9                      None            None       None                  None   \n",
       "\n",
       "                                                tags view_count   likes  \\\n",
       "0  NPR|NPR Music|National Public Radio|Live|Perfo...     261463   21794   \n",
       "1                                             [None]     866993  101590   \n",
       "2  pokemon scarlet and violet|shiny pokemon|pokem...     164458    3867   \n",
       "3  Amy-Leigh Hickman|Charlotte Ritchie|Ed Speleer...    3380351   93670   \n",
       "4                                               None       None    None   \n",
       "5                                               None       None    None   \n",
       "6                                               None       None    None   \n",
       "7                                               None       None    None   \n",
       "8                                               None       None    None   \n",
       "9                                               None       None    None   \n",
       "\n",
       "  dislikes comment_count                                  thumbnail_link  \\\n",
       "0        0          1218  https://i.ytimg.com/vi/CG3XDu8aAf8/default.jpg   \n",
       "1        0          5037  https://i.ytimg.com/vi/6RjJEAX-z8Y/default.jpg   \n",
       "2        0           292  https://i.ytimg.com/vi/oecXah38C3c/default.jpg   \n",
       "3        0          4108  https://i.ytimg.com/vi/3COY_HrMngc/default.jpg   \n",
       "4     None          None                                            None   \n",
       "5     None          None                                            None   \n",
       "6     None          None                                            None   \n",
       "7     None          None                                            None   \n",
       "8     None          None                                            None   \n",
       "9     None          None                                            None   \n",
       "\n",
       "  comments_disabled ratings_disabled  \\\n",
       "0             False            False   \n",
       "1             False            False   \n",
       "2             False            False   \n",
       "3             False            False   \n",
       "4              None             None   \n",
       "5              None             None   \n",
       "6              None             None   \n",
       "7              None             None   \n",
       "8              None             None   \n",
       "9              None             None   \n",
       "\n",
       "                                         description  \n",
       "0  Robin Hilton | January 10, 2023On many levels,...  \n",
       "1  FOLLOW @SUPREMEDREAMS_1 AND @RDCWORLD1 FOR MOR...  \n",
       "2  I'm gonna be attempting to complete the ENTIRE...  \n",
       "3                                               None  \n",
       "4                                               None  \n",
       "5                                               None  \n",
       "6                                               None  \n",
       "7                                               None  \n",
       "8                                               None  \n",
       "9                                               None  "
      ]
     },
     "execution_count": 15,
     "metadata": {},
     "output_type": "execute_result"
    }
   ],
   "source": [
    "pd.read_sql(f\"SELECT * FROM {db_name}.gb_csv LIMIT 10\", conn)"
   ]
  },
  {
   "cell_type": "markdown",
   "metadata": {},
   "source": [
    "#### JSON Tables"
   ]
  },
  {
   "cell_type": "code",
   "execution_count": 16,
   "metadata": {
    "tags": []
   },
   "outputs": [
    {
     "data": {
      "text/html": [
       "<div>\n",
       "<style scoped>\n",
       "    .dataframe tbody tr th:only-of-type {\n",
       "        vertical-align: middle;\n",
       "    }\n",
       "\n",
       "    .dataframe tbody tr th {\n",
       "        vertical-align: top;\n",
       "    }\n",
       "\n",
       "    .dataframe thead th {\n",
       "        text-align: right;\n",
       "    }\n",
       "</style>\n",
       "<table border=\"1\" class=\"dataframe\">\n",
       "  <thead>\n",
       "    <tr style=\"text-align: right;\">\n",
       "      <th></th>\n",
       "    </tr>\n",
       "  </thead>\n",
       "  <tbody>\n",
       "  </tbody>\n",
       "</table>\n",
       "</div>"
      ],
      "text/plain": [
       "Empty DataFrame\n",
       "Columns: []\n",
       "Index: []"
      ]
     },
     "execution_count": 16,
     "metadata": {},
     "output_type": "execute_result"
    }
   ],
   "source": [
    "pd.read_sql(f\"DROP TABLE IF EXISTS {db_name}.us_json\", conn)\n",
    "\n",
    "us_json_create = f\"\"\"\n",
    "CREATE EXTERNAL TABLE IF NOT EXISTS {db_name}.us_json (\n",
    "                        kind string, \n",
    "                        etag string, \n",
    "                        items ARRAY< struct< kind: string, \n",
    "                                             etag: string,\n",
    "                                             id: string,\n",
    "                                             snippet: ARRAY< struct<\n",
    "                                                            title: string,\n",
    "                                                            assignable: string,\n",
    "                                                            channelId: string\n",
    "                                                    >>\n",
    "                                        >>\n",
    "                        )\n",
    "                        ROW FORMAT SERDE 'org.openx.data.jsonserde.JsonSerDe'\n",
    "                        WITH SERDEPROPERTIES ( \n",
    "                                                \"ignore.malformed.json\"=\"true\"\n",
    "                                             )\n",
    "                        LOCATION 's3://{bucket}/youtubeStatistics/{json_folder}/usa/US_category_id_test.json';\n",
    "\"\"\"\n",
    "\n",
    "pd.read_sql(us_json_create, conn)"
   ]
  },
  {
   "cell_type": "code",
   "execution_count": 17,
   "metadata": {
    "tags": []
   },
   "outputs": [
    {
     "data": {
      "text/html": [
       "<div>\n",
       "<style scoped>\n",
       "    .dataframe tbody tr th:only-of-type {\n",
       "        vertical-align: middle;\n",
       "    }\n",
       "\n",
       "    .dataframe tbody tr th {\n",
       "        vertical-align: top;\n",
       "    }\n",
       "\n",
       "    .dataframe thead th {\n",
       "        text-align: right;\n",
       "    }\n",
       "</style>\n",
       "<table border=\"1\" class=\"dataframe\">\n",
       "  <thead>\n",
       "    <tr style=\"text-align: right;\">\n",
       "      <th></th>\n",
       "      <th>kind</th>\n",
       "      <th>etag</th>\n",
       "      <th>id</th>\n",
       "      <th>title</th>\n",
       "      <th>assignable</th>\n",
       "      <th>channelId</th>\n",
       "    </tr>\n",
       "  </thead>\n",
       "  <tbody>\n",
       "  </tbody>\n",
       "</table>\n",
       "</div>"
      ],
      "text/plain": [
       "Empty DataFrame\n",
       "Columns: [kind, etag, id, title, assignable, channelId]\n",
       "Index: []"
      ]
     },
     "execution_count": 17,
     "metadata": {},
     "output_type": "execute_result"
    }
   ],
   "source": [
    "query_json_us = f\"\"\"SELECT \n",
    "                    its.kind, \n",
    "                    its.etag, \n",
    "                    its.id, \n",
    "                    snt.title, \n",
    "                    snt.assignable, \n",
    "                    snt.channelId \n",
    "                    FROM {db_name}.us_json, \n",
    "                    UNNEST({db_name}.us_json.items) AS t(its),\n",
    "                    UNNEST(its.snippet) AS t(snt)\n",
    "                    WHERE snt.title = 'gaming';\n",
    "\"\"\"\n",
    "\n",
    "pd.read_sql(query_json_us, conn)"
   ]
  },
  {
   "cell_type": "code",
   "execution_count": 18,
   "metadata": {
    "tags": []
   },
   "outputs": [
    {
     "data": {
      "text/html": [
       "<div>\n",
       "<style scoped>\n",
       "    .dataframe tbody tr th:only-of-type {\n",
       "        vertical-align: middle;\n",
       "    }\n",
       "\n",
       "    .dataframe tbody tr th {\n",
       "        vertical-align: top;\n",
       "    }\n",
       "\n",
       "    .dataframe thead th {\n",
       "        text-align: right;\n",
       "    }\n",
       "</style>\n",
       "<table border=\"1\" class=\"dataframe\">\n",
       "  <thead>\n",
       "    <tr style=\"text-align: right;\">\n",
       "      <th></th>\n",
       "      <th>database_name</th>\n",
       "    </tr>\n",
       "  </thead>\n",
       "  <tbody>\n",
       "    <tr>\n",
       "      <th>0</th>\n",
       "      <td>default</td>\n",
       "    </tr>\n",
       "    <tr>\n",
       "      <th>1</th>\n",
       "      <td>dsoaws</td>\n",
       "    </tr>\n",
       "    <tr>\n",
       "      <th>2</th>\n",
       "      <td>sagemaker_featurestore</td>\n",
       "    </tr>\n",
       "    <tr>\n",
       "      <th>3</th>\n",
       "      <td>youtubedb</td>\n",
       "    </tr>\n",
       "  </tbody>\n",
       "</table>\n",
       "</div>"
      ],
      "text/plain": [
       "            database_name\n",
       "0                 default\n",
       "1                  dsoaws\n",
       "2  sagemaker_featurestore\n",
       "3               youtubedb"
      ]
     },
     "execution_count": 18,
     "metadata": {},
     "output_type": "execute_result"
    }
   ],
   "source": [
    "statement = \"SHOW DATABASES\"\n",
    "db_show = pd.read_sql(statement, conn)\n",
    "db_show.head(5)"
   ]
  },
  {
   "cell_type": "code",
   "execution_count": 19,
   "metadata": {
    "tags": []
   },
   "outputs": [],
   "source": [
    "if db_name in db_show.values:\n",
    "    ingest_create_athena_db_passed = True"
   ]
  },
  {
   "cell_type": "code",
   "execution_count": 20,
   "metadata": {
    "tags": []
   },
   "outputs": [
    {
     "name": "stdout",
     "output_type": "stream",
     "text": [
      "Stored 'ingest_create_athena_db_passed' (bool)\n"
     ]
    }
   ],
   "source": [
    "%store ingest_create_athena_db_passed"
   ]
  },
  {
   "cell_type": "markdown",
   "metadata": {},
   "source": [
    "## Exploratory Data Analysis"
   ]
  },
  {
   "cell_type": "markdown",
   "metadata": {},
   "source": [
    "#### US American Gaming Exploration"
   ]
  },
  {
   "cell_type": "markdown",
   "metadata": {
    "tags": []
   },
   "source": [
    "Preparing the data for exploration by adjusting the necessary column types."
   ]
  },
  {
   "cell_type": "markdown",
   "metadata": {},
   "source": [
    "### Initial Preprocesssing and transformations to visualize the data properly"
   ]
  },
  {
   "cell_type": "markdown",
   "metadata": {},
   "source": [
    "#### Data Import \n",
    "\n",
    "The data set below is created from the United States area where categoryid = 20 or 'Gaming' category on Youtube. As many of the creators under our companies umbrella do create 'Gaming' content, it is a key area for ViewBoost to focus in on. It also provides an opportunity to refine a robust deep learning neural network as there is still 37,000 records within the US Gaming segment. "
   ]
  },
  {
   "cell_type": "code",
   "execution_count": 21,
   "metadata": {
    "tags": []
   },
   "outputs": [
    {
     "data": {
      "text/html": [
       "<div>\n",
       "<style scoped>\n",
       "    .dataframe tbody tr th:only-of-type {\n",
       "        vertical-align: middle;\n",
       "    }\n",
       "\n",
       "    .dataframe tbody tr th {\n",
       "        vertical-align: top;\n",
       "    }\n",
       "\n",
       "    .dataframe thead th {\n",
       "        text-align: right;\n",
       "    }\n",
       "</style>\n",
       "<table border=\"1\" class=\"dataframe\">\n",
       "  <thead>\n",
       "    <tr style=\"text-align: right;\">\n",
       "      <th></th>\n",
       "      <th>video_id</th>\n",
       "      <th>title</th>\n",
       "      <th>publishedat</th>\n",
       "      <th>channelid</th>\n",
       "      <th>channeltitle</th>\n",
       "      <th>categoryid</th>\n",
       "      <th>trending</th>\n",
       "      <th>tags</th>\n",
       "      <th>view_count</th>\n",
       "      <th>likes</th>\n",
       "      <th>dislikes</th>\n",
       "      <th>comment_count</th>\n",
       "      <th>thumbnail_link</th>\n",
       "      <th>comments_disabled</th>\n",
       "      <th>ratings_disabled</th>\n",
       "      <th>description</th>\n",
       "    </tr>\n",
       "  </thead>\n",
       "  <tbody>\n",
       "    <tr>\n",
       "      <th>0</th>\n",
       "      <td>gO0bJlXEG5w</td>\n",
       "      <td>The Story of Herobrine..</td>\n",
       "      <td>2021-10-17T20:00:48Z</td>\n",
       "      <td>UCSpfz1IyUA1NBH-cgj8ygUw</td>\n",
       "      <td>SeaWattgaming</td>\n",
       "      <td>20</td>\n",
       "      <td>2021-10-20T00:00:00Z</td>\n",
       "      <td>Seawattgaming|Seawatt|Seawatt gaming|The story...</td>\n",
       "      <td>1512593</td>\n",
       "      <td>48482</td>\n",
       "      <td>977</td>\n",
       "      <td>1923</td>\n",
       "      <td>https://i.ytimg.com/vi/gO0bJlXEG5w/default.jpg</td>\n",
       "      <td>False</td>\n",
       "      <td>False</td>\n",
       "      <td>This is basically The story of Minecraft's fir...</td>\n",
       "    </tr>\n",
       "    <tr>\n",
       "      <th>1</th>\n",
       "      <td>Vaz_Ex5nSDw</td>\n",
       "      <td>Where's 3000 Days?</td>\n",
       "      <td>2021-10-17T17:00:12Z</td>\n",
       "      <td>UC9FkeEFIGd9FXRfxpTltXYA</td>\n",
       "      <td>Luke TheNotable</td>\n",
       "      <td>20</td>\n",
       "      <td>2021-10-20T00:00:00Z</td>\n",
       "      <td>luke thenotable|luke|the|notable|minecraft|300...</td>\n",
       "      <td>1361815</td>\n",
       "      <td>108144</td>\n",
       "      <td>1425</td>\n",
       "      <td>6631</td>\n",
       "      <td>https://i.ytimg.com/vi/Vaz_Ex5nSDw/default.jpg</td>\n",
       "      <td>False</td>\n",
       "      <td>False</td>\n",
       "      <td>In this video I answer the questions, Where's ...</td>\n",
       "    </tr>\n",
       "    <tr>\n",
       "      <th>2</th>\n",
       "      <td>fq5o8R9Qa6A</td>\n",
       "      <td>We're Going to Worlds Finals for FREE! | Cloud...</td>\n",
       "      <td>2021-10-18T22:29:09Z</td>\n",
       "      <td>UCpGqU5C1gsrCNdYJ_Z0Qlug</td>\n",
       "      <td>Cloud9 League of Legends</td>\n",
       "      <td>20</td>\n",
       "      <td>2021-10-20T00:00:00Z</td>\n",
       "      <td>Cloud9|Cloud 9|C9|League of Legends|LCS|League...</td>\n",
       "      <td>243573</td>\n",
       "      <td>4762</td>\n",
       "      <td>132</td>\n",
       "      <td>691</td>\n",
       "      <td>https://i.ytimg.com/vi/fq5o8R9Qa6A/default.jpg</td>\n",
       "      <td>False</td>\n",
       "      <td>False</td>\n",
       "      <td>Well, the Worlds 2021 Playoffs Bracket has bee...</td>\n",
       "    </tr>\n",
       "    <tr>\n",
       "      <th>3</th>\n",
       "      <td>1QsMVcqgp0U</td>\n",
       "      <td>remember my name #shorts</td>\n",
       "      <td>2021-10-18T16:00:01Z</td>\n",
       "      <td>UCgB0bPjrj8YeUSC0v0vBuwA</td>\n",
       "      <td>MarkClarkk</td>\n",
       "      <td>20</td>\n",
       "      <td>2021-10-20T00:00:00Z</td>\n",
       "      <td>call of duty|MarkClarkk|jordy2d|call of duty w...</td>\n",
       "      <td>144304</td>\n",
       "      <td>5055</td>\n",
       "      <td>221</td>\n",
       "      <td>42</td>\n",
       "      <td>https://i.ytimg.com/vi/1QsMVcqgp0U/default.jpg</td>\n",
       "      <td>False</td>\n",
       "      <td>False</td>\n",
       "      <td>Like the video if you enjoyed 👍SUBSCRIBE to Ma...</td>\n",
       "    </tr>\n",
       "    <tr>\n",
       "      <th>4</th>\n",
       "      <td>2ImV4-58Ezg</td>\n",
       "      <td>All Of Ash's Abilities Leaked For Season 11 Ap...</td>\n",
       "      <td>2021-10-18T13:34:53Z</td>\n",
       "      <td>UCpO6Jl1JPo1Mhqgv3z3NMuQ</td>\n",
       "      <td>Thordan Smash</td>\n",
       "      <td>20</td>\n",
       "      <td>2021-10-20T00:00:00Z</td>\n",
       "      <td>apex legends ash abilities|apex legends ash pa...</td>\n",
       "      <td>188268</td>\n",
       "      <td>6908</td>\n",
       "      <td>203</td>\n",
       "      <td>3283</td>\n",
       "      <td>https://i.ytimg.com/vi/2ImV4-58Ezg/default.jpg</td>\n",
       "      <td>False</td>\n",
       "      <td>False</td>\n",
       "      <td>All Of Ash's Abilities Leaked For Season 11 Ap...</td>\n",
       "    </tr>\n",
       "  </tbody>\n",
       "</table>\n",
       "</div>"
      ],
      "text/plain": [
       "      video_id                                              title  \\\n",
       "0  gO0bJlXEG5w                           The Story of Herobrine..   \n",
       "1  Vaz_Ex5nSDw                                 Where's 3000 Days?   \n",
       "2  fq5o8R9Qa6A  We're Going to Worlds Finals for FREE! | Cloud...   \n",
       "3  1QsMVcqgp0U                           remember my name #shorts   \n",
       "4  2ImV4-58Ezg  All Of Ash's Abilities Leaked For Season 11 Ap...   \n",
       "\n",
       "            publishedat                 channelid              channeltitle  \\\n",
       "0  2021-10-17T20:00:48Z  UCSpfz1IyUA1NBH-cgj8ygUw             SeaWattgaming   \n",
       "1  2021-10-17T17:00:12Z  UC9FkeEFIGd9FXRfxpTltXYA           Luke TheNotable   \n",
       "2  2021-10-18T22:29:09Z  UCpGqU5C1gsrCNdYJ_Z0Qlug  Cloud9 League of Legends   \n",
       "3  2021-10-18T16:00:01Z  UCgB0bPjrj8YeUSC0v0vBuwA                MarkClarkk   \n",
       "4  2021-10-18T13:34:53Z  UCpO6Jl1JPo1Mhqgv3z3NMuQ             Thordan Smash   \n",
       "\n",
       "  categoryid              trending  \\\n",
       "0         20  2021-10-20T00:00:00Z   \n",
       "1         20  2021-10-20T00:00:00Z   \n",
       "2         20  2021-10-20T00:00:00Z   \n",
       "3         20  2021-10-20T00:00:00Z   \n",
       "4         20  2021-10-20T00:00:00Z   \n",
       "\n",
       "                                                tags view_count   likes  \\\n",
       "0  Seawattgaming|Seawatt|Seawatt gaming|The story...    1512593   48482   \n",
       "1  luke thenotable|luke|the|notable|minecraft|300...    1361815  108144   \n",
       "2  Cloud9|Cloud 9|C9|League of Legends|LCS|League...     243573    4762   \n",
       "3  call of duty|MarkClarkk|jordy2d|call of duty w...     144304    5055   \n",
       "4  apex legends ash abilities|apex legends ash pa...     188268    6908   \n",
       "\n",
       "  dislikes comment_count                                  thumbnail_link  \\\n",
       "0      977          1923  https://i.ytimg.com/vi/gO0bJlXEG5w/default.jpg   \n",
       "1     1425          6631  https://i.ytimg.com/vi/Vaz_Ex5nSDw/default.jpg   \n",
       "2      132           691  https://i.ytimg.com/vi/fq5o8R9Qa6A/default.jpg   \n",
       "3      221            42  https://i.ytimg.com/vi/1QsMVcqgp0U/default.jpg   \n",
       "4      203          3283  https://i.ytimg.com/vi/2ImV4-58Ezg/default.jpg   \n",
       "\n",
       "  comments_disabled ratings_disabled  \\\n",
       "0             False            False   \n",
       "1             False            False   \n",
       "2             False            False   \n",
       "3             False            False   \n",
       "4             False            False   \n",
       "\n",
       "                                         description  \n",
       "0  This is basically The story of Minecraft's fir...  \n",
       "1  In this video I answer the questions, Where's ...  \n",
       "2  Well, the Worlds 2021 Playoffs Bracket has bee...  \n",
       "3  Like the video if you enjoyed 👍SUBSCRIBE to Ma...  \n",
       "4  All Of Ash's Abilities Leaked For Season 11 Ap...  "
      ]
     },
     "execution_count": 21,
     "metadata": {},
     "output_type": "execute_result"
    }
   ],
   "source": [
    "# 20 is the category id for gaming in each country\n",
    "us_gaming = pd.read_sql(f\"SELECT * FROM {db_name}.us_csv WHERE us_csv.categoryid LIKE '20';\", conn)\n",
    "us_gaming.head()"
   ]
  },
  {
   "cell_type": "markdown",
   "metadata": {},
   "source": [
    "##### Data type transformations"
   ]
  },
  {
   "cell_type": "code",
   "execution_count": 22,
   "metadata": {
    "tags": []
   },
   "outputs": [
    {
     "name": "stdout",
     "output_type": "stream",
     "text": [
      "Length of data frame: 38046\n",
      "Width of data frame: 16\n",
      "Initial data types: video_id             object\n",
      "title                object\n",
      "publishedat          object\n",
      "channelid            object\n",
      "channeltitle         object\n",
      "categoryid           object\n",
      "trending             object\n",
      "tags                 object\n",
      "view_count           object\n",
      "likes                object\n",
      "dislikes             object\n",
      "comment_count        object\n",
      "thumbnail_link       object\n",
      "comments_disabled    object\n",
      "ratings_disabled     object\n",
      "description          object\n",
      "dtype: object\n",
      "video_id                0\n",
      "title                   0\n",
      "publishedat             0\n",
      "channelid               0\n",
      "channeltitle            0\n",
      "categoryid              0\n",
      "trending                0\n",
      "tags                    0\n",
      "view_count              0\n",
      "likes                   0\n",
      "dislikes                0\n",
      "comment_count           0\n",
      "thumbnail_link          0\n",
      "comments_disabled       0\n",
      "ratings_disabled        0\n",
      "description          1305\n",
      "dtype: int64\n",
      "New data types: video_id                     object\n",
      "title                        object\n",
      "publishedat          datetime64[ns]\n",
      "channelid                    object\n",
      "channeltitle                 object\n",
      "categoryid                    int64\n",
      "trending             datetime64[ns]\n",
      "tags                         object\n",
      "view_count                    int64\n",
      "likes                         int64\n",
      "dislikes                      int64\n",
      "comment_count                 int64\n",
      "thumbnail_link               object\n",
      "comments_disabled             int64\n",
      "ratings_disabled              int64\n",
      "description                  object\n",
      "dtype: object\n"
     ]
    },
    {
     "data": {
      "text/html": [
       "<div>\n",
       "<style scoped>\n",
       "    .dataframe tbody tr th:only-of-type {\n",
       "        vertical-align: middle;\n",
       "    }\n",
       "\n",
       "    .dataframe tbody tr th {\n",
       "        vertical-align: top;\n",
       "    }\n",
       "\n",
       "    .dataframe thead th {\n",
       "        text-align: right;\n",
       "    }\n",
       "</style>\n",
       "<table border=\"1\" class=\"dataframe\">\n",
       "  <thead>\n",
       "    <tr style=\"text-align: right;\">\n",
       "      <th></th>\n",
       "      <th>video_id</th>\n",
       "      <th>title</th>\n",
       "      <th>publishedat</th>\n",
       "      <th>channelid</th>\n",
       "      <th>channeltitle</th>\n",
       "      <th>categoryid</th>\n",
       "      <th>trending</th>\n",
       "      <th>tags</th>\n",
       "      <th>view_count</th>\n",
       "      <th>likes</th>\n",
       "      <th>dislikes</th>\n",
       "      <th>comment_count</th>\n",
       "      <th>thumbnail_link</th>\n",
       "      <th>comments_disabled</th>\n",
       "      <th>ratings_disabled</th>\n",
       "      <th>description</th>\n",
       "    </tr>\n",
       "  </thead>\n",
       "  <tbody>\n",
       "    <tr>\n",
       "      <th>0</th>\n",
       "      <td>gO0bJlXEG5w</td>\n",
       "      <td>The Story of Herobrine..</td>\n",
       "      <td>2021-10-17 20:00:48</td>\n",
       "      <td>UCSpfz1IyUA1NBH-cgj8ygUw</td>\n",
       "      <td>SeaWattgaming</td>\n",
       "      <td>20</td>\n",
       "      <td>2021-10-20</td>\n",
       "      <td>Seawattgaming|Seawatt|Seawatt gaming|The story...</td>\n",
       "      <td>1512593</td>\n",
       "      <td>48482</td>\n",
       "      <td>977</td>\n",
       "      <td>1923</td>\n",
       "      <td>https://i.ytimg.com/vi/gO0bJlXEG5w/default.jpg</td>\n",
       "      <td>1</td>\n",
       "      <td>1</td>\n",
       "      <td>This is basically The story of Minecraft's fir...</td>\n",
       "    </tr>\n",
       "    <tr>\n",
       "      <th>1</th>\n",
       "      <td>Vaz_Ex5nSDw</td>\n",
       "      <td>Where's 3000 Days?</td>\n",
       "      <td>2021-10-17 17:00:12</td>\n",
       "      <td>UC9FkeEFIGd9FXRfxpTltXYA</td>\n",
       "      <td>Luke TheNotable</td>\n",
       "      <td>20</td>\n",
       "      <td>2021-10-20</td>\n",
       "      <td>luke thenotable|luke|the|notable|minecraft|300...</td>\n",
       "      <td>1361815</td>\n",
       "      <td>108144</td>\n",
       "      <td>1425</td>\n",
       "      <td>6631</td>\n",
       "      <td>https://i.ytimg.com/vi/Vaz_Ex5nSDw/default.jpg</td>\n",
       "      <td>1</td>\n",
       "      <td>1</td>\n",
       "      <td>In this video I answer the questions, Where's ...</td>\n",
       "    </tr>\n",
       "    <tr>\n",
       "      <th>2</th>\n",
       "      <td>fq5o8R9Qa6A</td>\n",
       "      <td>We're Going to Worlds Finals for FREE! | Cloud...</td>\n",
       "      <td>2021-10-18 22:29:09</td>\n",
       "      <td>UCpGqU5C1gsrCNdYJ_Z0Qlug</td>\n",
       "      <td>Cloud9 League of Legends</td>\n",
       "      <td>20</td>\n",
       "      <td>2021-10-20</td>\n",
       "      <td>Cloud9|Cloud 9|C9|League of Legends|LCS|League...</td>\n",
       "      <td>243573</td>\n",
       "      <td>4762</td>\n",
       "      <td>132</td>\n",
       "      <td>691</td>\n",
       "      <td>https://i.ytimg.com/vi/fq5o8R9Qa6A/default.jpg</td>\n",
       "      <td>1</td>\n",
       "      <td>1</td>\n",
       "      <td>Well, the Worlds 2021 Playoffs Bracket has bee...</td>\n",
       "    </tr>\n",
       "    <tr>\n",
       "      <th>3</th>\n",
       "      <td>1QsMVcqgp0U</td>\n",
       "      <td>remember my name #shorts</td>\n",
       "      <td>2021-10-18 16:00:01</td>\n",
       "      <td>UCgB0bPjrj8YeUSC0v0vBuwA</td>\n",
       "      <td>MarkClarkk</td>\n",
       "      <td>20</td>\n",
       "      <td>2021-10-20</td>\n",
       "      <td>call of duty|MarkClarkk|jordy2d|call of duty w...</td>\n",
       "      <td>144304</td>\n",
       "      <td>5055</td>\n",
       "      <td>221</td>\n",
       "      <td>42</td>\n",
       "      <td>https://i.ytimg.com/vi/1QsMVcqgp0U/default.jpg</td>\n",
       "      <td>1</td>\n",
       "      <td>1</td>\n",
       "      <td>Like the video if you enjoyed 👍SUBSCRIBE to Ma...</td>\n",
       "    </tr>\n",
       "    <tr>\n",
       "      <th>4</th>\n",
       "      <td>2ImV4-58Ezg</td>\n",
       "      <td>All Of Ash's Abilities Leaked For Season 11 Ap...</td>\n",
       "      <td>2021-10-18 13:34:53</td>\n",
       "      <td>UCpO6Jl1JPo1Mhqgv3z3NMuQ</td>\n",
       "      <td>Thordan Smash</td>\n",
       "      <td>20</td>\n",
       "      <td>2021-10-20</td>\n",
       "      <td>apex legends ash abilities|apex legends ash pa...</td>\n",
       "      <td>188268</td>\n",
       "      <td>6908</td>\n",
       "      <td>203</td>\n",
       "      <td>3283</td>\n",
       "      <td>https://i.ytimg.com/vi/2ImV4-58Ezg/default.jpg</td>\n",
       "      <td>1</td>\n",
       "      <td>1</td>\n",
       "      <td>All Of Ash's Abilities Leaked For Season 11 Ap...</td>\n",
       "    </tr>\n",
       "  </tbody>\n",
       "</table>\n",
       "</div>"
      ],
      "text/plain": [
       "      video_id                                              title  \\\n",
       "0  gO0bJlXEG5w                           The Story of Herobrine..   \n",
       "1  Vaz_Ex5nSDw                                 Where's 3000 Days?   \n",
       "2  fq5o8R9Qa6A  We're Going to Worlds Finals for FREE! | Cloud...   \n",
       "3  1QsMVcqgp0U                           remember my name #shorts   \n",
       "4  2ImV4-58Ezg  All Of Ash's Abilities Leaked For Season 11 Ap...   \n",
       "\n",
       "          publishedat                 channelid              channeltitle  \\\n",
       "0 2021-10-17 20:00:48  UCSpfz1IyUA1NBH-cgj8ygUw             SeaWattgaming   \n",
       "1 2021-10-17 17:00:12  UC9FkeEFIGd9FXRfxpTltXYA           Luke TheNotable   \n",
       "2 2021-10-18 22:29:09  UCpGqU5C1gsrCNdYJ_Z0Qlug  Cloud9 League of Legends   \n",
       "3 2021-10-18 16:00:01  UCgB0bPjrj8YeUSC0v0vBuwA                MarkClarkk   \n",
       "4 2021-10-18 13:34:53  UCpO6Jl1JPo1Mhqgv3z3NMuQ             Thordan Smash   \n",
       "\n",
       "   categoryid   trending                                               tags  \\\n",
       "0          20 2021-10-20  Seawattgaming|Seawatt|Seawatt gaming|The story...   \n",
       "1          20 2021-10-20  luke thenotable|luke|the|notable|minecraft|300...   \n",
       "2          20 2021-10-20  Cloud9|Cloud 9|C9|League of Legends|LCS|League...   \n",
       "3          20 2021-10-20  call of duty|MarkClarkk|jordy2d|call of duty w...   \n",
       "4          20 2021-10-20  apex legends ash abilities|apex legends ash pa...   \n",
       "\n",
       "   view_count   likes  dislikes  comment_count  \\\n",
       "0     1512593   48482       977           1923   \n",
       "1     1361815  108144      1425           6631   \n",
       "2      243573    4762       132            691   \n",
       "3      144304    5055       221             42   \n",
       "4      188268    6908       203           3283   \n",
       "\n",
       "                                   thumbnail_link  comments_disabled  \\\n",
       "0  https://i.ytimg.com/vi/gO0bJlXEG5w/default.jpg                  1   \n",
       "1  https://i.ytimg.com/vi/Vaz_Ex5nSDw/default.jpg                  1   \n",
       "2  https://i.ytimg.com/vi/fq5o8R9Qa6A/default.jpg                  1   \n",
       "3  https://i.ytimg.com/vi/1QsMVcqgp0U/default.jpg                  1   \n",
       "4  https://i.ytimg.com/vi/2ImV4-58Ezg/default.jpg                  1   \n",
       "\n",
       "   ratings_disabled                                        description  \n",
       "0                 1  This is basically The story of Minecraft's fir...  \n",
       "1                 1  In this video I answer the questions, Where's ...  \n",
       "2                 1  Well, the Worlds 2021 Playoffs Bracket has bee...  \n",
       "3                 1  Like the video if you enjoyed 👍SUBSCRIBE to Ma...  \n",
       "4                 1  All Of Ash's Abilities Leaked For Season 11 Ap...  "
      ]
     },
     "execution_count": 22,
     "metadata": {},
     "output_type": "execute_result"
    }
   ],
   "source": [
    "print(\"Length of data frame:\", us_gaming.shape[0])\n",
    "print(\"Width of data frame:\", us_gaming.shape[1])\n",
    "print(\"Initial data types:\", us_gaming.dtypes)\n",
    "\n",
    "\n",
    "# Change to integer\n",
    "us_gaming['categoryid'] = us_gaming['categoryid'].astype(int) \n",
    "us_gaming['view_count'] = us_gaming['view_count'].astype(int)\n",
    "us_gaming['likes'] = us_gaming['likes'].astype(int)\n",
    "us_gaming['dislikes'] = us_gaming['dislikes'].astype(int)\n",
    "us_gaming['comment_count'] = us_gaming['comment_count'].astype(int)\n",
    "\n",
    "\n",
    "# Change to bool then int representations\n",
    "us_gaming['ratings_disabled'] = us_gaming['ratings_disabled'].astype(bool).apply(int)\n",
    "us_gaming['comments_disabled'] = us_gaming['comments_disabled'].astype(bool).apply(int)\n",
    "\n",
    "\n",
    "\n",
    "# Change to datetime\n",
    "us_gaming['publishedat'] = pd.to_datetime(us_gaming['publishedat'], infer_datetime_format=True)\n",
    "us_gaming['trending'] = pd.to_datetime(us_gaming['trending'], infer_datetime_format=True)\n",
    "\n",
    "\n",
    "\n",
    "print(us_gaming.isnull().sum())\n",
    "print(\"New data types:\", us_gaming.dtypes)\n",
    "us_gaming.head()"
   ]
  },
  {
   "cell_type": "markdown",
   "metadata": {},
   "source": [
    "Above lists the new data types in addition to listing the null values. For our dataset the only null values exist in the description column as many of the videos simply have not had a description written, these values are still important for the dataset and should not be dropped. Instead, the null descriptions will be filled with \"Not Available\" as a way to give the nulls a stand-in value."
   ]
  },
  {
   "cell_type": "markdown",
   "metadata": {},
   "source": [
    "#### Handling Duplicate Videos\n",
    "\n",
    "One major issue with this dataset for the purposes of predicting views for high performing content creators, is that the videos may trend on youtube more than once. In these cases, the scraper used re scraps the video. These duplicates will have to be dropped.  "
   ]
  },
  {
   "cell_type": "code",
   "execution_count": 23,
   "metadata": {
    "tags": []
   },
   "outputs": [],
   "source": [
    "us_gaming.drop_duplicates('video_id', keep = 'last', inplace = True)"
   ]
  },
  {
   "cell_type": "code",
   "execution_count": 24,
   "metadata": {
    "tags": []
   },
   "outputs": [
    {
     "data": {
      "text/html": [
       "<div>\n",
       "<style scoped>\n",
       "    .dataframe tbody tr th:only-of-type {\n",
       "        vertical-align: middle;\n",
       "    }\n",
       "\n",
       "    .dataframe tbody tr th {\n",
       "        vertical-align: top;\n",
       "    }\n",
       "\n",
       "    .dataframe thead th {\n",
       "        text-align: right;\n",
       "    }\n",
       "</style>\n",
       "<table border=\"1\" class=\"dataframe\">\n",
       "  <thead>\n",
       "    <tr style=\"text-align: right;\">\n",
       "      <th></th>\n",
       "      <th>video_id</th>\n",
       "      <th>title</th>\n",
       "      <th>publishedat</th>\n",
       "      <th>channelid</th>\n",
       "      <th>channeltitle</th>\n",
       "      <th>categoryid</th>\n",
       "      <th>trending</th>\n",
       "      <th>tags</th>\n",
       "      <th>view_count</th>\n",
       "      <th>likes</th>\n",
       "      <th>dislikes</th>\n",
       "      <th>comment_count</th>\n",
       "      <th>thumbnail_link</th>\n",
       "      <th>comments_disabled</th>\n",
       "      <th>ratings_disabled</th>\n",
       "      <th>description</th>\n",
       "    </tr>\n",
       "  </thead>\n",
       "  <tbody>\n",
       "    <tr>\n",
       "      <th>122</th>\n",
       "      <td>hVv4JB8xmzw</td>\n",
       "      <td>Fortnite Item Shop *NEW* DRIFTWALKER V-BUCK PA...</td>\n",
       "      <td>2021-10-19 00:05:47</td>\n",
       "      <td>UCIZP6nCTyU9VV0zIhY7q1Aw</td>\n",
       "      <td>I Talk</td>\n",
       "      <td>20</td>\n",
       "      <td>2021-10-22</td>\n",
       "      <td>fortnite|fortnite battle royale|fortnite comme...</td>\n",
       "      <td>189174</td>\n",
       "      <td>7419</td>\n",
       "      <td>119</td>\n",
       "      <td>825</td>\n",
       "      <td>https://i.ytimg.com/vi/hVv4JB8xmzw/default.jpg</td>\n",
       "      <td>1</td>\n",
       "      <td>1</td>\n",
       "      <td>Fortnite Item Shop right now on October 18th, ...</td>\n",
       "    </tr>\n",
       "    <tr>\n",
       "      <th>170</th>\n",
       "      <td>fq5o8R9Qa6A</td>\n",
       "      <td>We're Going to Worlds Finals for FREE! | Cloud...</td>\n",
       "      <td>2021-10-18 22:29:09</td>\n",
       "      <td>UCpGqU5C1gsrCNdYJ_Z0Qlug</td>\n",
       "      <td>Cloud9 League of Legends</td>\n",
       "      <td>20</td>\n",
       "      <td>2021-10-23</td>\n",
       "      <td>Cloud9|Cloud 9|C9|League of Legends|LCS|League...</td>\n",
       "      <td>308589</td>\n",
       "      <td>5514</td>\n",
       "      <td>178</td>\n",
       "      <td>764</td>\n",
       "      <td>https://i.ytimg.com/vi/fq5o8R9Qa6A/default.jpg</td>\n",
       "      <td>1</td>\n",
       "      <td>1</td>\n",
       "      <td>Well, the Worlds 2021 Playoffs Bracket has bee...</td>\n",
       "    </tr>\n",
       "    <tr>\n",
       "      <th>172</th>\n",
       "      <td>1QsMVcqgp0U</td>\n",
       "      <td>remember my name #shorts</td>\n",
       "      <td>2021-10-18 16:00:01</td>\n",
       "      <td>UCgB0bPjrj8YeUSC0v0vBuwA</td>\n",
       "      <td>MarkClarkk</td>\n",
       "      <td>20</td>\n",
       "      <td>2021-10-23</td>\n",
       "      <td>call of duty|MarkClarkk|jordy2d|call of duty w...</td>\n",
       "      <td>144801</td>\n",
       "      <td>5096</td>\n",
       "      <td>200</td>\n",
       "      <td>43</td>\n",
       "      <td>https://i.ytimg.com/vi/1QsMVcqgp0U/default.jpg</td>\n",
       "      <td>1</td>\n",
       "      <td>1</td>\n",
       "      <td>Like the video if you enjoyed 👍SUBSCRIBE to Ma...</td>\n",
       "    </tr>\n",
       "    <tr>\n",
       "      <th>210</th>\n",
       "      <td>TMD1Cwmx3Nw</td>\n",
       "      <td>Guild Wars 2: End of Dragons Elite Specializat...</td>\n",
       "      <td>2021-10-20 13:00:31</td>\n",
       "      <td>UCP_FgMqOxp_VsM0UfrL-DxA</td>\n",
       "      <td>Guild Wars 2</td>\n",
       "      <td>20</td>\n",
       "      <td>2021-10-24</td>\n",
       "      <td>Guild Wars 2|Guild Wars|mmorpg|Guild Wars (Vid...</td>\n",
       "      <td>148736</td>\n",
       "      <td>3741</td>\n",
       "      <td>202</td>\n",
       "      <td>777</td>\n",
       "      <td>https://i.ytimg.com/vi/TMD1Cwmx3Nw/default.jpg</td>\n",
       "      <td>1</td>\n",
       "      <td>1</td>\n",
       "      <td>Ancient forces of nature dwell within Echovald...</td>\n",
       "    </tr>\n",
       "    <tr>\n",
       "      <th>212</th>\n",
       "      <td>XoFFr3JXXnI</td>\n",
       "      <td>OUTLAST - Boney Plays 2021</td>\n",
       "      <td>2021-10-19 19:00:15</td>\n",
       "      <td>UCO1ITICo8MLHGAXR1uzFwjA</td>\n",
       "      <td>OneyPlays</td>\n",
       "      <td>20</td>\n",
       "      <td>2021-10-24</td>\n",
       "      <td>Outlast|Outlast Gameplay|Outlast Walkthrough|O...</td>\n",
       "      <td>278002</td>\n",
       "      <td>15438</td>\n",
       "      <td>121</td>\n",
       "      <td>1683</td>\n",
       "      <td>https://i.ytimg.com/vi/XoFFr3JXXnI/default.jpg</td>\n",
       "      <td>1</td>\n",
       "      <td>1</td>\n",
       "      <td>None</td>\n",
       "    </tr>\n",
       "  </tbody>\n",
       "</table>\n",
       "</div>"
      ],
      "text/plain": [
       "        video_id                                              title  \\\n",
       "122  hVv4JB8xmzw  Fortnite Item Shop *NEW* DRIFTWALKER V-BUCK PA...   \n",
       "170  fq5o8R9Qa6A  We're Going to Worlds Finals for FREE! | Cloud...   \n",
       "172  1QsMVcqgp0U                           remember my name #shorts   \n",
       "210  TMD1Cwmx3Nw  Guild Wars 2: End of Dragons Elite Specializat...   \n",
       "212  XoFFr3JXXnI                         OUTLAST - Boney Plays 2021   \n",
       "\n",
       "            publishedat                 channelid              channeltitle  \\\n",
       "122 2021-10-19 00:05:47  UCIZP6nCTyU9VV0zIhY7q1Aw                    I Talk   \n",
       "170 2021-10-18 22:29:09  UCpGqU5C1gsrCNdYJ_Z0Qlug  Cloud9 League of Legends   \n",
       "172 2021-10-18 16:00:01  UCgB0bPjrj8YeUSC0v0vBuwA                MarkClarkk   \n",
       "210 2021-10-20 13:00:31  UCP_FgMqOxp_VsM0UfrL-DxA              Guild Wars 2   \n",
       "212 2021-10-19 19:00:15  UCO1ITICo8MLHGAXR1uzFwjA                 OneyPlays   \n",
       "\n",
       "     categoryid   trending                                               tags  \\\n",
       "122          20 2021-10-22  fortnite|fortnite battle royale|fortnite comme...   \n",
       "170          20 2021-10-23  Cloud9|Cloud 9|C9|League of Legends|LCS|League...   \n",
       "172          20 2021-10-23  call of duty|MarkClarkk|jordy2d|call of duty w...   \n",
       "210          20 2021-10-24  Guild Wars 2|Guild Wars|mmorpg|Guild Wars (Vid...   \n",
       "212          20 2021-10-24  Outlast|Outlast Gameplay|Outlast Walkthrough|O...   \n",
       "\n",
       "     view_count  likes  dislikes  comment_count  \\\n",
       "122      189174   7419       119            825   \n",
       "170      308589   5514       178            764   \n",
       "172      144801   5096       200             43   \n",
       "210      148736   3741       202            777   \n",
       "212      278002  15438       121           1683   \n",
       "\n",
       "                                     thumbnail_link  comments_disabled  \\\n",
       "122  https://i.ytimg.com/vi/hVv4JB8xmzw/default.jpg                  1   \n",
       "170  https://i.ytimg.com/vi/fq5o8R9Qa6A/default.jpg                  1   \n",
       "172  https://i.ytimg.com/vi/1QsMVcqgp0U/default.jpg                  1   \n",
       "210  https://i.ytimg.com/vi/TMD1Cwmx3Nw/default.jpg                  1   \n",
       "212  https://i.ytimg.com/vi/XoFFr3JXXnI/default.jpg                  1   \n",
       "\n",
       "     ratings_disabled                                        description  \n",
       "122                 1  Fortnite Item Shop right now on October 18th, ...  \n",
       "170                 1  Well, the Worlds 2021 Playoffs Bracket has bee...  \n",
       "172                 1  Like the video if you enjoyed 👍SUBSCRIBE to Ma...  \n",
       "210                 1  Ancient forces of nature dwell within Echovald...  \n",
       "212                 1                                               None  "
      ]
     },
     "execution_count": 24,
     "metadata": {},
     "output_type": "execute_result"
    }
   ],
   "source": [
    "us_gaming.head()"
   ]
  },
  {
   "cell_type": "markdown",
   "metadata": {},
   "source": [
    "##### Null Handling\n",
    "\n",
    "Null values are important within this dataset and will therefore have words assigned to them for representation. "
   ]
  },
  {
   "cell_type": "code",
   "execution_count": 25,
   "metadata": {
    "tags": []
   },
   "outputs": [
    {
     "data": {
      "text/plain": [
       "video_id             0\n",
       "title                0\n",
       "publishedat          0\n",
       "channelid            0\n",
       "channeltitle         0\n",
       "categoryid           0\n",
       "trending             0\n",
       "tags                 0\n",
       "view_count           0\n",
       "likes                0\n",
       "dislikes             0\n",
       "comment_count        0\n",
       "thumbnail_link       0\n",
       "comments_disabled    0\n",
       "ratings_disabled     0\n",
       "description          0\n",
       "dtype: int64"
      ]
     },
     "execution_count": 25,
     "metadata": {},
     "output_type": "execute_result"
    }
   ],
   "source": [
    "us_gaming['description'].fillna(\"not available\", inplace = True)\n",
    "us_gaming.isna().sum()"
   ]
  },
  {
   "cell_type": "markdown",
   "metadata": {},
   "source": [
    "The value counts of the binary features below show that both have zero distribution and should not be used in modeling moving forward. "
   ]
  },
  {
   "cell_type": "code",
   "execution_count": 26,
   "metadata": {
    "tags": []
   },
   "outputs": [
    {
     "name": "stdout",
     "output_type": "stream",
     "text": [
      "1    6993\n",
      "Name: ratings_disabled, dtype: int64\n",
      "1    6993\n",
      "Name: comments_disabled, dtype: int64\n"
     ]
    }
   ],
   "source": [
    "print(us_gaming['ratings_disabled'].value_counts())\n",
    "print(us_gaming['comments_disabled'].value_counts())"
   ]
  },
  {
   "cell_type": "code",
   "execution_count": 27,
   "metadata": {
    "tags": []
   },
   "outputs": [
    {
     "data": {
      "text/plain": [
       "(6993, 5)"
      ]
     },
     "execution_count": 27,
     "metadata": {},
     "output_type": "execute_result"
    }
   ],
   "source": [
    "gaming = us_gaming.drop(columns = ['ratings_disabled', 'comments_disabled', 'thumbnail_link','publishedat','channelid',\n",
    "                                   'channeltitle','categoryid','trending','likes','dislikes','comment_count'])\n",
    "\n",
    "gaming.shape"
   ]
  },
  {
   "cell_type": "markdown",
   "metadata": {
    "tags": []
   },
   "source": [
    "#### Storing the cleaned dataset"
   ]
  },
  {
   "cell_type": "code",
   "execution_count": 28,
   "metadata": {
    "tags": []
   },
   "outputs": [],
   "source": [
    "s3_client = boto3.client(\"s3\")\n",
    "KEY='youtubeStatistics/dfs/gaming.csv'\n",
    "BUCKET= session.default_bucket()\n",
    "#response = s3_client.get_object(Bucket=BUCKET, Key=KEY)\n",
    "\n",
    "with io.StringIO() as csv_buffer:\n",
    "    us_gaming.to_csv(csv_buffer, index=False, header=True)\n",
    "\n",
    "    response = s3_client.put_object(\n",
    "        Bucket=BUCKET, Key=KEY, Body=csv_buffer.getvalue()\n",
    "    )"
   ]
  },
  {
   "cell_type": "markdown",
   "metadata": {},
   "source": [
    "Now the objects need to be prepared for visualization & modeling. A count vectorizer will be used to create visualizations based up the vocabulary available within the dataset. "
   ]
  },
  {
   "cell_type": "code",
   "execution_count": 32,
   "metadata": {
    "tags": []
   },
   "outputs": [
    {
     "name": "stderr",
     "output_type": "stream",
     "text": [
      "[nltk_data] Downloading package stopwords to /root/nltk_data...\n",
      "[nltk_data]   Unzipping corpora/stopwords.zip.\n"
     ]
    }
   ],
   "source": [
    "nltk.download('stopwords')\n",
    "\n",
    "stopwords = nltk.corpus.stopwords.words(['english'])\n",
    "ps = nltk.PorterStemmer()\n",
    "extra_stops = ['00','000','007','01','02','03','04','06','07','09sharkboy','10','100','1000','10000','100000','1000000',\n",
    "               '000001','001','002','004','008','011','013','031','036','037','05','050','062','08','09','094',\n",
    "               '1001','1006','101','102','103','1050','10m','10t','10th','10x','11','119','12','120','12240','13','132',\n",
    "               '133','13th','14','1400','140ms','15','150','150k','15th','16','1600','17', '175','18','1800','183','184',\n",
    "               '188','189','18c','19','19500','20','200','21','2100','2163','21w05a','21w05b','21w06a','21w07a','21w07b',\n",
    "               '21w08a','21w08b','21w09a','21w13a','21w13b','21w14a','21w14b','22','22w11a','22w13oneblockatatime','22w42a',\n",
    "               '22w42b','23','23w04a','23w04b','24','25','25000','2500hp','25th','26','27','28','29','2900','296','2b','2b2t',\n",
    "               '2bt2','2e','31','3100','31415','32','3200','33','34','35','35th','36','360','3600','365','37','3700','39','3900',\n",
    "               '30th','40','400','4000','40000','4200','43','44','4400','46','4900','4logj','4logshell','4th','4x21','4x28','50',\n",
    "               '500','5000','50000','505','510mph','52nd','5300','55','56','59','5e','5g','5n','5th','5up','60','600','30','300',\n",
    "               '3000','303','63','6323','64','64dd','68','69','6a6y','6acc','6locc','6lue','70','700','7000','343i','34547','73',\n",
    "               '7348951','74','77','781','7900','7th','80','8000','80s','82','84','85','87','876','876tv','898','8bitryan','900',\n",
    "               '90s','93','94','96','97','99','999','9th','a380','a6d','a750','abc','adc','2006','2007','2007scape','2008','201',\n",
    "               '2010','2011','2012','2013','2014','2015','2016','2017','2018','2019','202','2020','2021','2022','2023','2030','2042',\n",
    "               '2045','2050','2077','20th','107','109','1236','1250','128','147','14th','152','157','163','167','179','18th','1909',\n",
    "               '19931','19th','1ft','1k','1st','1½','2000','2032','217','219','21st','221129','221130','23rd','240','248','250','25688',\n",
    "               '25k','26th','27th','41','42','425','438','45','4500hp','47','474','48','489','49','136','143','16th','2nd','2wei','3070',\n",
    "               '3080','3090','30k','348','3500','355','38','4070','4080','4090','40k','4e','51','52','53','54','542','560','562','567',\n",
    "               '568','570','571','572','575','576','577','58','585','594','6000','61','623','65','66','673','694','6th','40th','7096',\n",
    "               '71','72','746','75','750','76m','79','7m','800','800x600','817','851','8th','90','91','925','951','97m','996','aang','aau',\n",
    "               'acnient','anymore','almost','bel','티원롤','파피플레이타임','펌킨','프나펌','프레디','프레디의','피규어','피자가게','허기워기',\n",
    "               '오징어','제이홉','채색','커스텀','케플러','키즈','탱크맨','티빙에서스트리밍','티원','프라이데이']\n",
    "\n",
    "for i in extra_stops:\n",
    "    stopwords.append(i)\n",
    "\n",
    "vectag = CountVectorizer(stop_words = stopwords)\n",
    "vecti = CountVectorizer(stop_words = stopwords)\n",
    "vecdes = CountVectorizer(stop_words = stopwords)"
   ]
  },
  {
   "cell_type": "code",
   "execution_count": 33,
   "metadata": {
    "tags": []
   },
   "outputs": [
    {
     "name": "stdout",
     "output_type": "stream",
     "text": [
      "(6993, 11748)\n",
      "(6993, 6163)\n"
     ]
    }
   ],
   "source": [
    "tag = us_gaming['tags']\n",
    "title = us_gaming['title']\n",
    "description = us_gaming['description']\n",
    "\n",
    "tags = vectag.fit_transform(tag)\n",
    "titles = vecti.fit_transform(title)\n",
    "\n",
    "# printing shape of the vectors\n",
    "print(tags.shape)\n",
    "print(titles.shape)\n",
    "\n",
    "# creating df from new extracted string values\n",
    "tag_df = pd.DataFrame(tags.todense(), columns = vectag.get_feature_names())\n",
    "title_df = pd.DataFrame(titles.todense(), columns = vecti.get_feature_names())"
   ]
  },
  {
   "cell_type": "markdown",
   "metadata": {},
   "source": [
    "### Creating Visualizations"
   ]
  },
  {
   "cell_type": "code",
   "execution_count": 34,
   "metadata": {
    "tags": []
   },
   "outputs": [
    {
     "data": {
      "image/png": "[encoded data removed]",
      "text/plain": [
       "<Figure size 640x480 with 1 Axes>"
      ]
     },
     "metadata": {},
     "output_type": "display_data"
    }
   ],
   "source": [
    "fig, ax = plt.subplots()\n",
    "\n",
    "sns.scatterplot(data = us_gaming, x = \"likes\", y = \"view_count\", ax = ax)\n",
    "plt.title(\"View Count vs. Likes\")\n",
    "ax.set_xlim(0, 8000000)\n",
    "ax.set_xticks([0, 2000000, 4000000, 6000000, 8000000])\n",
    "plt.show()"
   ]
  },
  {
   "cell_type": "code",
   "execution_count": 35,
   "metadata": {
    "tags": []
   },
   "outputs": [
    {
     "data": {
      "image/png": "[encoded data removed]",
      "text/plain": [
       "<Figure size 640x480 with 1 Axes>"
      ]
     },
     "metadata": {},
     "output_type": "display_data"
    }
   ],
   "source": [
    "fig, ax = plt.subplots()\n",
    "\n",
    "sns.distplot(us_gaming.likes, ax = ax)\n",
    "plt.title(\"Likes Density Plot\")\n",
    "ax.set_xlim(0, 8000000)\n",
    "ax.set_xticks([0, 2000000, 4000000, 6000000, 8000000])\n",
    "plt.show()"
   ]
  },
  {
   "cell_type": "code",
   "execution_count": 36,
   "metadata": {
    "tags": []
   },
   "outputs": [
    {
     "data": {
      "image/png": "[encoded data removed]",
      "text/plain": [
       "<Figure size 640x480 with 1 Axes>"
      ]
     },
     "metadata": {},
     "output_type": "display_data"
    }
   ],
   "source": [
    "sns.distplot(us_gaming.dislikes)\n",
    "plt.title(\"Dislikes Density Plot\")\n",
    "plt.show()"
   ]
  },
  {
   "cell_type": "markdown",
   "metadata": {},
   "source": [
    "faze is a popular, legacy gaming brand at this point. Below the faze gaming organization 100t is charted as well, 100t is new gaming brand, although already find themselves very successful on YouTube. Looking at the comparison, faze, particularly prior to 2022, is the much stronger brand on YouTube, Perhaps when working out deals or collaborations with gaming brand with our creators, it would be more lucrative to attach our creators to faze's brand rather than 100t. "
   ]
  },
  {
   "cell_type": "code",
   "execution_count": 37,
   "metadata": {
    "tags": []
   },
   "outputs": [
    {
     "data": {
      "image/png": "[encoded data removed]",
      "text/plain": [
       "<Figure size 640x480 with 1 Axes>"
      ]
     },
     "metadata": {},
     "output_type": "display_data"
    }
   ],
   "source": [
    "sns.lineplot(x = us_gaming[\"trending\"], y = tag_df[\"faze\"])\n",
    "plt.xticks(rotation = 15)\n",
    "plt.title(\"Faze Tags by Video Trending Date\")\n",
    "plt.show()"
   ]
  },
  {
   "cell_type": "code",
   "execution_count": 38,
   "metadata": {
    "tags": []
   },
   "outputs": [
    {
     "data": {
      "image/png": "[encoded data removed]",
      "text/plain": [
       "<Figure size 640x480 with 1 Axes>"
      ]
     },
     "metadata": {},
     "output_type": "display_data"
    }
   ],
   "source": [
    "sns.lineplot(x = us_gaming['trending'], y = tag_df['optic'])\n",
    "plt.xticks(rotation = 15)\n",
    "plt.title(\"OpTic Tags by Video Trending Date\")\n",
    "plt.show()"
   ]
  },
  {
   "cell_type": "markdown",
   "metadata": {},
   "source": [
    "Below the recently developed game Valorant is compared to Mario, one of the most popular games in existence. Mario games are more likely to trend on any given day as the time series is much more dense, but the peaks of Valorant are slightly higher. Both of these games could viably be a valuable addition to a creator's video title. "
   ]
  },
  {
   "cell_type": "code",
   "execution_count": 39,
   "metadata": {
    "tags": []
   },
   "outputs": [
    {
     "data": {
      "image/png": "[encoded data removed]",
      "text/plain": [
       "<Figure size 640x480 with 1 Axes>"
      ]
     },
     "metadata": {},
     "output_type": "display_data"
    }
   ],
   "source": [
    "sns.lineplot(x = us_gaming['trending'], y = title_df['valorant'])\n",
    "plt.xticks(rotation = 15)\n",
    "plt.title(\"Valorant in Titles by Video Trending Date\")\n",
    "plt.show()"
   ]
  },
  {
   "cell_type": "code",
   "execution_count": 40,
   "metadata": {
    "tags": []
   },
   "outputs": [
    {
     "data": {
      "image/png": "[encoded data removed]",
      "text/plain": [
       "<Figure size 640x480 with 1 Axes>"
      ]
     },
     "metadata": {},
     "output_type": "display_data"
    }
   ],
   "source": [
    "sns.lineplot(x = us_gaming['trending'], y = title_df['mario'])\n",
    "plt.xticks(rotation = 15)\n",
    "plt.title(\"Mario in Titles by Video Trending Date\")\n",
    "plt.show()"
   ]
  },
  {
   "cell_type": "markdown",
   "metadata": {},
   "source": [
    "### Feature Selection Final Decisions\n",
    "\n",
    "Ultimately, as the goal of the project is to predict views, dislikes, likes, comment count, posting date, trending date, channelid, channel title, and thumbnail link cannot be used as predictors because we hope to predict the view count of the video before the video is posted. Perhaps in future projects an image recognition model can be used to predict views based upon thumbnail photos, but this project will be limited to text. Going forward, NLP techinques will be used to create a deep learning regression model from any combination of title, tags, and description in order to predict view count on videos as view count leads to greater growth for the creators. Particularly because, as the first scatterplot reveals above, high view count often lead to high likes which in turn leads to being boosted on the trending algorithm. The more eyes on the video, the more likely to trend. "
   ]
  },
  {
   "cell_type": "markdown",
   "metadata": {},
   "source": [
    "## Tokenization Transformations to Implement Deep Learning Modeling"
   ]
  },
  {
   "cell_type": "markdown",
   "metadata": {},
   "source": [
    "Below is  a multi-step SKlearn processing container that will do the following:\n",
    "\n",
    "1. Grab the gaming.csv from the s3 bucket where it was stored above. \n",
    "\n",
    "2. split the data using train/test/validation with 85/10/5 split\n",
    "\n",
    "3. Commit the data to pre-processing transformations with distilBert and tensorflow. The data will be tokenized to extract ids and masks for title, tags, and description using distilbert. Then these ids and masks will be converted to tensorflow features and dataset in addition to view_count and video_id. This has been tracked using timestamps in the data column as well.\n",
    "\n",
    "4. The newly transformed data is then stored in the output folder the output s3 bucket that is listed below."
   ]
  },
  {
   "cell_type": "code",
   "execution_count": 41,
   "metadata": {
    "tags": []
   },
   "outputs": [
    {
     "name": "stdout",
     "output_type": "stream",
     "text": [
      "Experiment name: YouTube-View-Prediction-BERT-Experiment-1680571855\n"
     ]
    }
   ],
   "source": [
    "# Timestamp the names of the different segments for tracking purposes over time.\n",
    "timestamp = int(time.time())\n",
    "\n",
    "# Creating the experiment for Youtube view count\n",
    "experiment = Experiment.create(\n",
    "    experiment_name=\"YouTube-View-Prediction-BERT-Experiment-{}\".format(timestamp),\n",
    "    description=\"YouTube View Prediction BERT Experiment\",\n",
    "    sagemaker_boto_client=sm,\n",
    ")\n",
    "\n",
    "# printing the experiment name\n",
    "experiment_name = experiment.experiment_name\n",
    "print(\"Experiment name: {}\".format(experiment_name))"
   ]
  },
  {
   "cell_type": "code",
   "execution_count": 42,
   "metadata": {
    "tags": []
   },
   "outputs": [
    {
     "name": "stdout",
     "output_type": "stream",
     "text": [
      "Trial name: trial-1680571864\n"
     ]
    }
   ],
   "source": [
    "# timestamp trial\n",
    "timestamp = int(time.time())\n",
    "\n",
    "# Creating trial using the experiment name and sagemaker\n",
    "trial = Trial.create(\n",
    "    trial_name=\"trial-{}\".format(timestamp), experiment_name=experiment_name, sagemaker_boto_client=sm\n",
    ")\n",
    "\n",
    "# printing trial name\n",
    "trial_name = trial.trial_name\n",
    "print(\"Trial name: {}\".format(trial_name))"
   ]
  },
  {
   "cell_type": "code",
   "execution_count": 43,
   "metadata": {
    "tags": []
   },
   "outputs": [
    {
     "name": "stdout",
     "output_type": "stream",
     "text": [
      "Stored 'trial_name' (str)\n"
     ]
    }
   ],
   "source": [
    "# store the trial name for later\n",
    "%store trial_name"
   ]
  },
  {
   "cell_type": "code",
   "execution_count": 44,
   "metadata": {
    "tags": []
   },
   "outputs": [],
   "source": [
    "# setting the experiment configuration\n",
    "experiment_config = {\n",
    "    \"ExperimentName\": experiment_name,\n",
    "    \"TrialName\": trial_name,\n",
    "    \"TrialComponentDisplayName\": \"prepare\",\n",
    "}"
   ]
  },
  {
   "cell_type": "code",
   "execution_count": 45,
   "metadata": {
    "tags": []
   },
   "outputs": [],
   "source": [
    "# starting the feature store runtime within sagemaker\n",
    "featurestore_runtime = boto3.Session().client(service_name=\"sagemaker-featurestore-runtime\", region_name=region)"
   ]
  },
  {
   "cell_type": "code",
   "execution_count": 46,
   "metadata": {
    "tags": []
   },
   "outputs": [
    {
     "name": "stdout",
     "output_type": "stream",
     "text": [
      "videos-feature-store-1680571880\n"
     ]
    }
   ],
   "source": [
    "# timestamp prefix \n",
    "timestamp = int(time.time())\n",
    "\n",
    "# setting the future store prefix for use in df-to-tokens-to-tensors.py file\n",
    "feature_store_offline_prefix = \"videos-feature-store-\" + str(timestamp)\n",
    "\n",
    "# print the full name of prefix\n",
    "print(feature_store_offline_prefix)"
   ]
  },
  {
   "cell_type": "code",
   "execution_count": 47,
   "metadata": {
    "tags": []
   },
   "outputs": [
    {
     "name": "stdout",
     "output_type": "stream",
     "text": [
      "videos-feature-group-1680571880\n"
     ]
    }
   ],
   "source": [
    "# create feature group name \n",
    "feature_group_name = \"videos-feature-group-\" + str(timestamp)\n",
    "\n",
    "print(feature_group_name)"
   ]
  },
  {
   "cell_type": "code",
   "execution_count": 48,
   "metadata": {
    "tags": []
   },
   "outputs": [],
   "source": [
    "# writing out our feature definitions to assign them to feature stores\n",
    "# these definitions are for after the features have been transformed and prepped in addition to `date` that acts as the timestamp for the feature store\n",
    "feature_definitions = [\n",
    "    FeatureDefinition(feature_name=\"title_input_ids\", feature_type=FeatureTypeEnum.STRING),\n",
    "    FeatureDefinition(feature_name=\"title_input_mask\", feature_type=FeatureTypeEnum.STRING),\n",
    "    FeatureDefinition(feature_name=\"tags_input_ids\", feature_type=FeatureTypeEnum.STRING),\n",
    "    FeatureDefinition(feature_name=\"tags_input_mask\", feature_type=FeatureTypeEnum.STRING),\n",
    "    FeatureDefinition(feature_name=\"desc_input_ids\", feature_type=FeatureTypeEnum.STRING),\n",
    "    FeatureDefinition(feature_name=\"desc_input_mask\", feature_type=FeatureTypeEnum.STRING),\n",
    "    FeatureDefinition(feature_name=\"segment_ids\", feature_type=FeatureTypeEnum.STRING),\n",
    "    FeatureDefinition(feature_name=\"video_id\", feature_type=FeatureTypeEnum.STRING),\n",
    "    FeatureDefinition(feature_name=\"date\", feature_type=FeatureTypeEnum.STRING),\n",
    "    FeatureDefinition(feature_name=\"split_type\", feature_type=FeatureTypeEnum.STRING),\n",
    "    FeatureDefinition(feature_name=\"view_count\", feature_type=FeatureTypeEnum.INTEGRAL),\n",
    "]"
   ]
  },
  {
   "cell_type": "code",
   "execution_count": 49,
   "metadata": {
    "tags": []
   },
   "outputs": [
    {
     "name": "stdout",
     "output_type": "stream",
     "text": [
      "FeatureGroup(name='videos-feature-group-1680571880', sagemaker_session=<sagemaker.session.Session object at 0x7fd0f3691ad0>, feature_definitions=[FeatureDefinition(feature_name='title_input_ids', feature_type=<FeatureTypeEnum.STRING: 'String'>), FeatureDefinition(feature_name='title_input_mask', feature_type=<FeatureTypeEnum.STRING: 'String'>), FeatureDefinition(feature_name='tags_input_ids', feature_type=<FeatureTypeEnum.STRING: 'String'>), FeatureDefinition(feature_name='tags_input_mask', feature_type=<FeatureTypeEnum.STRING: 'String'>), FeatureDefinition(feature_name='desc_input_ids', feature_type=<FeatureTypeEnum.STRING: 'String'>), FeatureDefinition(feature_name='desc_input_mask', feature_type=<FeatureTypeEnum.STRING: 'String'>), FeatureDefinition(feature_name='segment_ids', feature_type=<FeatureTypeEnum.STRING: 'String'>), FeatureDefinition(feature_name='video_id', feature_type=<FeatureTypeEnum.STRING: 'String'>), FeatureDefinition(feature_name='date', feature_type=<FeatureTypeEnum.STRING: 'String'>), FeatureDefinition(feature_name='split_type', feature_type=<FeatureTypeEnum.STRING: 'String'>), FeatureDefinition(feature_name='view_count', feature_type=<FeatureTypeEnum.INTEGRAL: 'Integral'>)])\n"
     ]
    }
   ],
   "source": [
    "# creating the feature group using the name and definition assigned above\n",
    "feature_group = FeatureGroup(name=feature_group_name, feature_definitions=feature_definitions, sagemaker_session=session)\n",
    "\n",
    "print(feature_group)"
   ]
  },
  {
   "cell_type": "code",
   "execution_count": 50,
   "metadata": {
    "tags": []
   },
   "outputs": [],
   "source": [
    "# setting the instance type and established our train/test/validation splits\n",
    "# max_seq_length may need to be adjusted\n",
    "processing_instance_type = \"ml.c5.xlarge\"\n",
    "processing_instance_count = 2\n",
    "train_split_percentage = 0.85\n",
    "validation_split_percentage = 0.05\n",
    "test_split_percentage = 0.1\n",
    "max_seq_length = 300"
   ]
  },
  {
   "cell_type": "code",
   "execution_count": 51,
   "metadata": {
    "tags": []
   },
   "outputs": [
    {
     "name": "stderr",
     "output_type": "stream",
     "text": [
      "INFO:sagemaker.image_uris:Defaulting to only available Python version: py3\n"
     ]
    }
   ],
   "source": [
    "# creating the Sklearn processor to run the df-to-tokens-to-tensors.py file\n",
    "\n",
    "processor = SKLearnProcessor(\n",
    "    framework_version=\"0.23-1\",\n",
    "    role=role,\n",
    "    instance_type=processing_instance_type,\n",
    "    instance_count=processing_instance_count,\n",
    "    env={\"AWS_DEFAULT_REGION\": region},\n",
    "    max_runtime_in_seconds=7200,\n",
    ")"
   ]
  },
  {
   "cell_type": "code",
   "execution_count": 52,
   "metadata": {
    "tags": []
   },
   "outputs": [
    {
     "name": "stderr",
     "output_type": "stream",
     "text": [
      "INFO:sagemaker:Creating processing-job with name sagemaker-scikit-learn-2023-04-04-01-32-59-185\n"
     ]
    }
   ],
   "source": [
    "# setting the processors inputs and outputs\n",
    "processor.run(\n",
    "    code=\"df-to-tokens-to-tensors.py\",\n",
    "    inputs=[\n",
    "        ProcessingInput(\n",
    "            input_name=\"gaming\",\n",
    "            source=\"s3://{}/youtubeStatistics/dfs/\".format(bucket),\n",
    "            destination=\"/opt/ml/processing/input/data/\",\n",
    "            s3_data_distribution_type=\"ShardedByS3Key\",\n",
    "        )\n",
    "    ],\n",
    "    outputs=[\n",
    "        ProcessingOutput(\n",
    "            output_name=\"bert-train\", \n",
    "            s3_upload_mode=\"EndOfJob\",\n",
    "            source=\"/opt/ml/processing/output/bert/train\"\n",
    "        ),\n",
    "        ProcessingOutput(\n",
    "            output_name=\"bert-validation\",\n",
    "            s3_upload_mode=\"EndOfJob\",\n",
    "            source=\"/opt/ml/processing/output/bert/validation\"\n",
    "        ),\n",
    "        ProcessingOutput(\n",
    "            output_name=\"bert-test\", \n",
    "            s3_upload_mode=\"EndOfJob\", \n",
    "            source=\"/opt/ml/processing/output/bert/test\"\n",
    "        ),\n",
    "    ],\n",
    "    arguments=[\n",
    "        \"--train-split-percentage\",\n",
    "        str(train_split_percentage),\n",
    "        \"--validation-split-percentage\",\n",
    "        str(validation_split_percentage),\n",
    "        \"--test-split-percentage\",\n",
    "        str(test_split_percentage),\n",
    "        \"--max-seq-length\",\n",
    "        str(max_seq_length),\n",
    "        \"--feature-store-offline-prefix\",\n",
    "        str(feature_store_offline_prefix),\n",
    "        \"--feature-group-name\",\n",
    "        str(feature_group_name),\n",
    "    ],\n",
    "    experiment_config=experiment_config,\n",
    "    logs=True,\n",
    "    wait=False,\n",
    ")"
   ]
  },
  {
   "cell_type": "code",
   "execution_count": 53,
   "metadata": {
    "tags": []
   },
   "outputs": [
    {
     "name": "stdout",
     "output_type": "stream",
     "text": [
      "sagemaker-scikit-learn-2023-04-04-01-32-59-185\n"
     ]
    }
   ],
   "source": [
    "scikit_processing_job_name = processor.jobs[-1].describe()[\"ProcessingJobName\"]\n",
    "print(scikit_processing_job_name)"
   ]
  },
  {
   "cell_type": "code",
   "execution_count": 54,
   "metadata": {
    "tags": []
   },
   "outputs": [
    {
     "name": "stdout",
     "output_type": "stream",
     "text": [
      "{'ProcessingInputs': [{'InputName': 'gaming', 'AppManaged': False, 'S3Input': {'S3Uri': 's3://sagemaker-us-west-2-692349450615/youtubeStatistics/dfs/', 'LocalPath': '/opt/ml/processing/input/data/', 'S3DataType': 'S3Prefix', 'S3InputMode': 'File', 'S3DataDistributionType': 'ShardedByS3Key', 'S3CompressionType': 'None'}}, {'InputName': 'code', 'AppManaged': False, 'S3Input': {'S3Uri': 's3://sagemaker-us-west-2-692349450615/sagemaker-scikit-learn-2023-04-04-01-32-59-185/input/code/df-to-tokens-to-tensors.py', 'LocalPath': '/opt/ml/processing/input/code', 'S3DataType': 'S3Prefix', 'S3InputMode': 'File', 'S3DataDistributionType': 'FullyReplicated', 'S3CompressionType': 'None'}}], 'ProcessingOutputConfig': {'Outputs': [{'OutputName': 'bert-train', 'S3Output': {'S3Uri': 's3://sagemaker-us-west-2-692349450615/sagemaker-scikit-learn-2023-04-04-01-32-59-185/output/bert-train', 'LocalPath': '/opt/ml/processing/output/bert/train', 'S3UploadMode': 'EndOfJob'}, 'AppManaged': False}, {'OutputName': 'bert-validation', 'S3Output': {'S3Uri': 's3://sagemaker-us-west-2-692349450615/sagemaker-scikit-learn-2023-04-04-01-32-59-185/output/bert-validation', 'LocalPath': '/opt/ml/processing/output/bert/validation', 'S3UploadMode': 'EndOfJob'}, 'AppManaged': False}, {'OutputName': 'bert-test', 'S3Output': {'S3Uri': 's3://sagemaker-us-west-2-692349450615/sagemaker-scikit-learn-2023-04-04-01-32-59-185/output/bert-test', 'LocalPath': '/opt/ml/processing/output/bert/test', 'S3UploadMode': 'EndOfJob'}, 'AppManaged': False}]}, 'ProcessingJobName': 'sagemaker-scikit-learn-2023-04-04-01-32-59-185', 'ProcessingResources': {'ClusterConfig': {'InstanceCount': 2, 'InstanceType': 'ml.c5.xlarge', 'VolumeSizeInGB': 30}}, 'StoppingCondition': {'MaxRuntimeInSeconds': 7200}, 'AppSpecification': {'ImageUri': '246618743249.dkr.ecr.us-west-2.amazonaws.com/sagemaker-scikit-learn:0.23-1-cpu-py3', 'ContainerEntrypoint': ['python3', '/opt/ml/processing/input/code/df-to-tokens-to-tensors.py'], 'ContainerArguments': ['--train-split-percentage', '0.85', '--validation-split-percentage', '0.05', '--test-split-percentage', '0.1', '--max-seq-length', '300', '--feature-store-offline-prefix', 'videos-feature-store-1680571880', '--feature-group-name', 'videos-feature-group-1680571880']}, 'Environment': {'AWS_DEFAULT_REGION': 'us-west-2'}, 'RoleArn': 'arn:aws:iam::692349450615:role/LabRole', 'ExperimentConfig': {'ExperimentName': 'YouTube-View-Prediction-BERT-Experiment-1680571855', 'TrialName': 'trial-1680571864', 'TrialComponentDisplayName': 'prepare'}, 'ProcessingJobArn': 'arn:aws:sagemaker:us-west-2:692349450615:processing-job/sagemaker-scikit-learn-2023-04-04-01-32-59-185', 'ProcessingJobStatus': 'InProgress', 'LastModifiedTime': datetime.datetime(2023, 4, 4, 1, 33, 0, 105000, tzinfo=tzlocal()), 'CreationTime': datetime.datetime(2023, 4, 4, 1, 32, 59, 674000, tzinfo=tzlocal()), 'ResponseMetadata': {'RequestId': '791eaed3-6b08-4714-828c-f7234fabd59a', 'HTTPStatusCode': 200, 'HTTPHeaders': {'x-amzn-requestid': '791eaed3-6b08-4714-828c-f7234fabd59a', 'content-type': 'application/x-amz-json-1.1', 'content-length': '2819', 'date': 'Tue, 04 Apr 2023 01:33:15 GMT'}, 'RetryAttempts': 0}}\n"
     ]
    }
   ],
   "source": [
    "running_processor = sagemaker.processing.ProcessingJob.from_processing_name(\n",
    "    processing_job_name=scikit_processing_job_name, sagemaker_session=session\n",
    ")\n",
    "\n",
    "processing_job_description = running_processor.describe()\n",
    "\n",
    "print(processing_job_description)"
   ]
  },
  {
   "cell_type": "code",
   "execution_count": 55,
   "metadata": {
    "tags": []
   },
   "outputs": [
    {
     "name": "stdout",
     "output_type": "stream",
     "text": [
      "..................................................................................................................................................................!"
     ]
    }
   ],
   "source": [
    "# logs can be set to true to find errors when trouble shooting\n",
    "running_processor.wait(logs=False)"
   ]
  },
  {
   "cell_type": "code",
   "execution_count": 56,
   "metadata": {
    "tags": []
   },
   "outputs": [
    {
     "name": "stdout",
     "output_type": "stream",
     "text": [
      "s3://sagemaker-us-west-2-692349450615/sagemaker-scikit-learn-2023-04-04-01-32-59-185/output/bert-train\n",
      "s3://sagemaker-us-west-2-692349450615/sagemaker-scikit-learn-2023-04-04-01-32-59-185/output/bert-validation\n",
      "s3://sagemaker-us-west-2-692349450615/sagemaker-scikit-learn-2023-04-04-01-32-59-185/output/bert-test\n"
     ]
    }
   ],
   "source": [
    "# obtain the location of the new s3 folders for the training/testing/validation data in order to implement modeling\n",
    "processing_job_description = running_processor.describe()\n",
    "\n",
    "output_config = processing_job_description[\"ProcessingOutputConfig\"]\n",
    "for output in output_config[\"Outputs\"]:\n",
    "    if output[\"OutputName\"] == \"bert-train\":\n",
    "        processed_train_uri = output[\"S3Output\"][\"S3Uri\"]\n",
    "    if output[\"OutputName\"] == \"bert-validation\":\n",
    "        processed_validation_uri = output[\"S3Output\"][\"S3Uri\"]\n",
    "    if output[\"OutputName\"] == \"bert-test\":\n",
    "        processed_test_uri = output[\"S3Output\"][\"S3Uri\"]\n",
    "\n",
    "print(processed_train_uri)\n",
    "print(processed_validation_uri)\n",
    "print(processed_test_uri)"
   ]
  },
  {
   "cell_type": "markdown",
   "metadata": {},
   "source": [
    "This is the final transformation for the strings before modeling. The strings have been encoded/tokenized, placed into tensorflow tensors, made into a tensor dataset and ultimately transformed into a tensorflow dataset for modeling. The data has also been stored in the s3. "
   ]
  },
  {
   "cell_type": "markdown",
   "metadata": {},
   "source": [
    "## Model Creation/Training\n",
    "\n",
    "Model creation and training will also be a script job that takes the tensors from the different folders within the s3 bucket to train and test the model within the script while revealing the results/progress here."
   ]
  },
  {
   "cell_type": "code",
   "execution_count": 24,
   "metadata": {},
   "outputs": [
    {
     "name": "stdout",
     "output_type": "stream",
     "text": [
      "2023-04-02 22:21:25   15256479 part-algo-1-gaming.tfrecord\n",
      "2023-04-02 22:21:25   15248241 part-algo-2-us_gaming.tfrecord\n"
     ]
    }
   ],
   "source": [
    "!aws s3 ls $processed_train_uri/"
   ]
  },
  {
   "cell_type": "code",
   "execution_count": 25,
   "metadata": {
    "tags": []
   },
   "outputs": [
    {
     "name": "stdout",
     "output_type": "stream",
     "text": [
      "2023-04-02 22:21:26    1791302 part-algo-1-gaming.tfrecord\n",
      "2023-04-02 22:21:26    1795366 part-algo-2-us_gaming.tfrecord\n"
     ]
    }
   ],
   "source": [
    "!aws s3 ls $processed_test_uri/"
   ]
  },
  {
   "cell_type": "code",
   "execution_count": 26,
   "metadata": {
    "tags": []
   },
   "outputs": [
    {
     "name": "stdout",
     "output_type": "stream",
     "text": [
      "2023-04-02 22:21:26     894130 part-algo-1-gaming.tfrecord\n",
      "2023-04-02 22:21:26     898231 part-algo-2-us_gaming.tfrecord\n"
     ]
    }
   ],
   "source": [
    "!aws s3 ls $processed_validation_uri/"
   ]
  },
  {
   "cell_type": "code",
   "execution_count": 145,
   "metadata": {
    "tags": []
   },
   "outputs": [
    {
     "name": "stdout",
     "output_type": "stream",
     "text": [
      "<sagemaker.inputs.TrainingInput object at 0x7f5b70dafa90>\n",
      "{'DataSource': {'S3DataSource': {'S3DataType': 'S3Prefix', 'S3Uri': 's3://sagemaker-us-east-1-492991381452/sagemaker-scikit-learn-2023-04-02-22-07-16-846/output/bert-validation/', 'S3DataDistributionType': 'ShardedByS3Key'}}}\n",
      "{'DataSource': {'S3DataSource': {'S3DataType': 'S3Prefix', 'S3Uri': 's3://sagemaker-us-east-1-492991381452/sagemaker-scikit-learn-2023-04-02-22-07-16-846/output/bert-test/', 'S3DataDistributionType': 'ShardedByS3Key'}}}\n"
     ]
    }
   ],
   "source": [
    "input_train_data = TrainingInput(processed_train_uri+\"/\", distribution=\"ShardedByS3Key\")\n",
    "input_validation_data = TrainingInput(s3_data=processed_validation_uri+\"/\", distribution=\"ShardedByS3Key\")\n",
    "input_test_data = TrainingInput(s3_data=processed_test_uri+\"/\", distribution=\"ShardedByS3Key\")\n",
    "\n",
    "print(input_train_data)\n",
    "print(input_validation_data.config)\n",
    "print(input_test_data.config)"
   ]
  },
  {
   "cell_type": "code",
   "execution_count": 135,
   "metadata": {
    "tags": []
   },
   "outputs": [],
   "source": [
    "epochs = 2\n",
    "learning_rate = 0.001\n",
    "epsilon = 0.000001\n",
    "train_batch_size = 128\n",
    "validation_batch_size = 128\n",
    "test_batch_size = 128\n",
    "train_steps_per_epoch = 10\n",
    "validation_steps = 10\n",
    "test_steps = 10\n",
    "train_instance_count = 1\n",
    "train_instance_type = \"ml.p2.xlarge\"\n",
    "train_volume_size = 1024\n",
    "use_xla = True\n",
    "use_amp = True\n",
    "freeze_bert_layer = False\n",
    "enable_sagemaker_debugger = True\n",
    "enable_checkpointing = False\n",
    "enable_tensorboard = True\n",
    "input_mode = \"Pipe\"\n",
    "run_validation = True\n",
    "run_test = True\n",
    "run_sample_predictions = True"
   ]
  },
  {
   "cell_type": "code",
   "execution_count": 136,
   "metadata": {
    "tags": []
   },
   "outputs": [],
   "source": [
    "metrics_definitions = [\n",
    "    {\"Name\": \"train:loss\", \"Regex\": \"loss: ([0-9\\\\.]+)\"},\n",
    "    {\"Name\": \"train:accuracy\", \"Regex\": \"accuracy: ([0-9\\\\.]+)\"},\n",
    "    {\"Name\": \"validation:loss\", \"Regex\": \"val_loss: ([0-9\\\\.]+)\"},\n",
    "    {\"Name\": \"validation:accuracy\", \"Regex\": \"val_accuracy: ([0-9\\\\.]+)\"},\n",
    "]"
   ]
  },
  {
   "cell_type": "code",
   "execution_count": 137,
   "metadata": {
    "tags": []
   },
   "outputs": [],
   "source": [
    "actions = rule_configs.ActionList()\n",
    "\n",
    "rules = [ProfilerRule.sagemaker(rule_configs.ProfilerReport())]\n",
    "\n",
    "\n",
    "hook_config = DebuggerHookConfig(\n",
    "    hook_parameters={\n",
    "        \"save_interval\": \"10\",  # number of steps\n",
    "        \"export_tensorboard\": \"true\",\n",
    "        \"tensorboard_dir\": \"hook_tensorboard/\",\n",
    "    }\n",
    ")"
   ]
  },
  {
   "cell_type": "code",
   "execution_count": 146,
   "metadata": {
    "tags": []
   },
   "outputs": [],
   "source": [
    "profiler_config = ProfilerConfig(system_monitor_interval_millis=500,\n",
    "    framework_profile_params=FrameworkProfile(local_path=\"/opt/ml/output/profiler/\", start_step=5, num_steps=10))"
   ]
  },
  {
   "cell_type": "code",
   "execution_count": 147,
   "metadata": {
    "tags": []
   },
   "outputs": [
    {
     "name": "stdout",
     "output_type": "stream",
     "text": [
      "s3://sagemaker-us-east-1-492991381452/checkpoints/c359ccda-f845-400e-9a39-1af1ff6631d0/\n"
     ]
    }
   ],
   "source": [
    "checkpoint_s3_prefix = \"checkpoints/{}\".format(str(uuid.uuid4()))\n",
    "checkpoint_s3_uri = \"s3://{}/{}/\".format(bucket, checkpoint_s3_prefix)\n",
    "\n",
    "print(checkpoint_s3_uri)"
   ]
  },
  {
   "cell_type": "code",
   "execution_count": 151,
   "metadata": {
    "tags": []
   },
   "outputs": [],
   "source": [
    "estimator = TensorFlow(\n",
    "    entry_point=\"model_construction.py\",\n",
    "    role=role,\n",
    "    instance_count=train_instance_count,\n",
    "    instance_type=train_instance_type,\n",
    "    volume_size=train_volume_size,\n",
    "    checkpoint_base_path=checkpoint_s3_uri,\n",
    "    py_version=\"py37\",\n",
    "    framework_version=\"2.3.1\",\n",
    "    hyperparameters={\n",
    "        \"epochs\": epochs,\n",
    "        \"learning_rate\": learning_rate,\n",
    "        \"epsilon\": epsilon,\n",
    "        \"train_batch_size\": train_batch_size,\n",
    "        \"validation_batch_size\": validation_batch_size,\n",
    "        \"test_batch_size\": test_batch_size,\n",
    "        \"train_steps_per_epoch\": train_steps_per_epoch,\n",
    "        \"validation_steps\": validation_steps,\n",
    "        \"test_steps\": test_steps,\n",
    "        \"use_xla\": use_xla,\n",
    "        \"use_amp\": use_amp,\n",
    "        \"max_seq_length\": max_seq_length,\n",
    "        \"freeze_bert_layer\": freeze_bert_layer,\n",
    "        \"enable_sagemaker_debugger\": enable_sagemaker_debugger,\n",
    "        \"enable_checkpointing\": enable_checkpointing,\n",
    "        \"enable_tensorboard\": enable_tensorboard,\n",
    "        \"run_validation\": run_validation,\n",
    "        \"run_test\": run_test,\n",
    "        \"run_sample_predictions\": run_sample_predictions,\n",
    "    },\n",
    "    input_mode=input_mode,\n",
    "    metric_definitions=metrics_definitions,\n",
    "    rules=rules,\n",
    "    debugger_hook_config=hook_config,\n",
    "    profiler_config=profiler_config,\n",
    ")"
   ]
  },
  {
   "cell_type": "code",
   "execution_count": 152,
   "metadata": {
    "tags": []
   },
   "outputs": [],
   "source": [
    "experiment_config = {\"ExperimentName\": experiment_name, \"TrialName\": trial_name, \"TrialComponentDisplayName\": \"train\"}"
   ]
  },
  {
   "cell_type": "code",
   "execution_count": 155,
   "metadata": {
    "tags": []
   },
   "outputs": [
    {
     "name": "stderr",
     "output_type": "stream",
     "text": [
      "INFO:sagemaker.image_uris:image_uri is not presented, retrieving image_uri based on instance_type, framework etc.\n",
      "INFO:sagemaker:Creating training-job with name: tensorflow-training-2023-04-03-01-51-12-118\n"
     ]
    },
    {
     "ename": "ResourceLimitExceeded",
     "evalue": "An error occurred (ResourceLimitExceeded) when calling the CreateTrainingJob operation: The account-level service limit 'ml.p2.xlarge for training job usage' is 1 Instances, with current utilization of 1 Instances and a request delta of 1 Instances. Please contact AWS support to request an increase for this limit.",
     "output_type": "error",
     "traceback": [
      "\u001b[0;31m---------------------------------------------------------------------------\u001b[0m",
      "\u001b[0;31mResourceLimitExceeded\u001b[0m                     Traceback (most recent call last)",
      "\u001b[0;32m<ipython-input-155-d9634f3b7ee1>\u001b[0m in \u001b[0;36m<module>\u001b[0;34m\u001b[0m\n\u001b[1;32m      2\u001b[0m     \u001b[0minputs\u001b[0m\u001b[0;34m=\u001b[0m\u001b[0;34m{\u001b[0m\u001b[0;34m\"train\"\u001b[0m\u001b[0;34m:\u001b[0m \u001b[0minput_train_data\u001b[0m\u001b[0;34m,\u001b[0m \u001b[0;34m\"validation\"\u001b[0m\u001b[0;34m:\u001b[0m \u001b[0minput_validation_data\u001b[0m\u001b[0;34m,\u001b[0m \u001b[0;34m\"test\"\u001b[0m\u001b[0;34m:\u001b[0m \u001b[0minput_test_data\u001b[0m\u001b[0;34m}\u001b[0m\u001b[0;34m,\u001b[0m\u001b[0;34m\u001b[0m\u001b[0;34m\u001b[0m\u001b[0m\n\u001b[1;32m      3\u001b[0m     \u001b[0mexperiment_config\u001b[0m\u001b[0;34m=\u001b[0m\u001b[0mexperiment_config\u001b[0m\u001b[0;34m,\u001b[0m\u001b[0;34m\u001b[0m\u001b[0;34m\u001b[0m\u001b[0m\n\u001b[0;32m----> 4\u001b[0;31m     \u001b[0mwait\u001b[0m\u001b[0;34m=\u001b[0m\u001b[0;32mFalse\u001b[0m\u001b[0;34m,\u001b[0m\u001b[0;34m\u001b[0m\u001b[0;34m\u001b[0m\u001b[0m\n\u001b[0m\u001b[1;32m      5\u001b[0m )\n",
      "\u001b[0;32m/opt/conda/lib/python3.7/site-packages/sagemaker/workflow/pipeline_context.py\u001b[0m in \u001b[0;36mwrapper\u001b[0;34m(*args, **kwargs)\u001b[0m\n\u001b[1;32m    282\u001b[0m             \u001b[0;32mreturn\u001b[0m \u001b[0m_StepArguments\u001b[0m\u001b[0;34m(\u001b[0m\u001b[0mretrieve_caller_name\u001b[0m\u001b[0;34m(\u001b[0m\u001b[0mself_instance\u001b[0m\u001b[0;34m)\u001b[0m\u001b[0;34m,\u001b[0m \u001b[0mrun_func\u001b[0m\u001b[0;34m,\u001b[0m \u001b[0;34m*\u001b[0m\u001b[0margs\u001b[0m\u001b[0;34m,\u001b[0m \u001b[0;34m**\u001b[0m\u001b[0mkwargs\u001b[0m\u001b[0;34m)\u001b[0m\u001b[0;34m\u001b[0m\u001b[0;34m\u001b[0m\u001b[0m\n\u001b[1;32m    283\u001b[0m \u001b[0;34m\u001b[0m\u001b[0m\n\u001b[0;32m--> 284\u001b[0;31m         \u001b[0;32mreturn\u001b[0m \u001b[0mrun_func\u001b[0m\u001b[0;34m(\u001b[0m\u001b[0;34m*\u001b[0m\u001b[0margs\u001b[0m\u001b[0;34m,\u001b[0m \u001b[0;34m**\u001b[0m\u001b[0mkwargs\u001b[0m\u001b[0;34m)\u001b[0m\u001b[0;34m\u001b[0m\u001b[0;34m\u001b[0m\u001b[0m\n\u001b[0m\u001b[1;32m    285\u001b[0m \u001b[0;34m\u001b[0m\u001b[0m\n\u001b[1;32m    286\u001b[0m     \u001b[0;32mreturn\u001b[0m \u001b[0mwrapper\u001b[0m\u001b[0;34m\u001b[0m\u001b[0;34m\u001b[0m\u001b[0m\n",
      "\u001b[0;32m/opt/conda/lib/python3.7/site-packages/sagemaker/estimator.py\u001b[0m in \u001b[0;36mfit\u001b[0;34m(self, inputs, wait, logs, job_name, experiment_config)\u001b[0m\n\u001b[1;32m   1193\u001b[0m \u001b[0;34m\u001b[0m\u001b[0m\n\u001b[1;32m   1194\u001b[0m         \u001b[0mexperiment_config\u001b[0m \u001b[0;34m=\u001b[0m \u001b[0mcheck_and_get_run_experiment_config\u001b[0m\u001b[0;34m(\u001b[0m\u001b[0mexperiment_config\u001b[0m\u001b[0;34m)\u001b[0m\u001b[0;34m\u001b[0m\u001b[0;34m\u001b[0m\u001b[0m\n\u001b[0;32m-> 1195\u001b[0;31m         \u001b[0mself\u001b[0m\u001b[0;34m.\u001b[0m\u001b[0mlatest_training_job\u001b[0m \u001b[0;34m=\u001b[0m \u001b[0m_TrainingJob\u001b[0m\u001b[0;34m.\u001b[0m\u001b[0mstart_new\u001b[0m\u001b[0;34m(\u001b[0m\u001b[0mself\u001b[0m\u001b[0;34m,\u001b[0m \u001b[0minputs\u001b[0m\u001b[0;34m,\u001b[0m \u001b[0mexperiment_config\u001b[0m\u001b[0;34m)\u001b[0m\u001b[0;34m\u001b[0m\u001b[0;34m\u001b[0m\u001b[0m\n\u001b[0m\u001b[1;32m   1196\u001b[0m         \u001b[0mself\u001b[0m\u001b[0;34m.\u001b[0m\u001b[0mjobs\u001b[0m\u001b[0;34m.\u001b[0m\u001b[0mappend\u001b[0m\u001b[0;34m(\u001b[0m\u001b[0mself\u001b[0m\u001b[0;34m.\u001b[0m\u001b[0mlatest_training_job\u001b[0m\u001b[0;34m)\u001b[0m\u001b[0;34m\u001b[0m\u001b[0;34m\u001b[0m\u001b[0m\n\u001b[1;32m   1197\u001b[0m         \u001b[0;32mif\u001b[0m \u001b[0mwait\u001b[0m\u001b[0;34m:\u001b[0m\u001b[0;34m\u001b[0m\u001b[0;34m\u001b[0m\u001b[0m\n",
      "\u001b[0;32m/opt/conda/lib/python3.7/site-packages/sagemaker/estimator.py\u001b[0m in \u001b[0;36mstart_new\u001b[0;34m(cls, estimator, inputs, experiment_config)\u001b[0m\n\u001b[1;32m   2125\u001b[0m         \u001b[0mtrain_args\u001b[0m \u001b[0;34m=\u001b[0m \u001b[0mcls\u001b[0m\u001b[0;34m.\u001b[0m\u001b[0m_get_train_args\u001b[0m\u001b[0;34m(\u001b[0m\u001b[0mestimator\u001b[0m\u001b[0;34m,\u001b[0m \u001b[0minputs\u001b[0m\u001b[0;34m,\u001b[0m \u001b[0mexperiment_config\u001b[0m\u001b[0;34m)\u001b[0m\u001b[0;34m\u001b[0m\u001b[0;34m\u001b[0m\u001b[0m\n\u001b[1;32m   2126\u001b[0m \u001b[0;34m\u001b[0m\u001b[0m\n\u001b[0;32m-> 2127\u001b[0;31m         \u001b[0mestimator\u001b[0m\u001b[0;34m.\u001b[0m\u001b[0msagemaker_session\u001b[0m\u001b[0;34m.\u001b[0m\u001b[0mtrain\u001b[0m\u001b[0;34m(\u001b[0m\u001b[0;34m**\u001b[0m\u001b[0mtrain_args\u001b[0m\u001b[0;34m)\u001b[0m\u001b[0;34m\u001b[0m\u001b[0;34m\u001b[0m\u001b[0m\n\u001b[0m\u001b[1;32m   2128\u001b[0m \u001b[0;34m\u001b[0m\u001b[0m\n\u001b[1;32m   2129\u001b[0m         \u001b[0;32mreturn\u001b[0m \u001b[0mcls\u001b[0m\u001b[0;34m(\u001b[0m\u001b[0mestimator\u001b[0m\u001b[0;34m.\u001b[0m\u001b[0msagemaker_session\u001b[0m\u001b[0;34m,\u001b[0m \u001b[0mestimator\u001b[0m\u001b[0;34m.\u001b[0m\u001b[0m_current_job_name\u001b[0m\u001b[0;34m)\u001b[0m\u001b[0;34m\u001b[0m\u001b[0;34m\u001b[0m\u001b[0m\n",
      "\u001b[0;32m/opt/conda/lib/python3.7/site-packages/sagemaker/session.py\u001b[0m in \u001b[0;36mtrain\u001b[0;34m(self, input_mode, input_config, role, job_name, output_config, resource_config, vpc_config, hyperparameters, stop_condition, tags, metric_definitions, enable_network_isolation, image_uri, training_image_config, algorithm_arn, encrypt_inter_container_traffic, use_spot_instances, checkpoint_s3_uri, checkpoint_local_path, experiment_config, debugger_rule_configs, debugger_hook_config, tensorboard_output_config, enable_sagemaker_metrics, profiler_rule_configs, profiler_config, environment, retry_strategy)\u001b[0m\n\u001b[1;32m    845\u001b[0m             \u001b[0mself\u001b[0m\u001b[0;34m.\u001b[0m\u001b[0msagemaker_client\u001b[0m\u001b[0;34m.\u001b[0m\u001b[0mcreate_training_job\u001b[0m\u001b[0;34m(\u001b[0m\u001b[0;34m**\u001b[0m\u001b[0mrequest\u001b[0m\u001b[0;34m)\u001b[0m\u001b[0;34m\u001b[0m\u001b[0;34m\u001b[0m\u001b[0m\n\u001b[1;32m    846\u001b[0m \u001b[0;34m\u001b[0m\u001b[0m\n\u001b[0;32m--> 847\u001b[0;31m         \u001b[0mself\u001b[0m\u001b[0;34m.\u001b[0m\u001b[0m_intercept_create_request\u001b[0m\u001b[0;34m(\u001b[0m\u001b[0mtrain_request\u001b[0m\u001b[0;34m,\u001b[0m \u001b[0msubmit\u001b[0m\u001b[0;34m,\u001b[0m \u001b[0mself\u001b[0m\u001b[0;34m.\u001b[0m\u001b[0mtrain\u001b[0m\u001b[0;34m.\u001b[0m\u001b[0m__name__\u001b[0m\u001b[0;34m)\u001b[0m\u001b[0;34m\u001b[0m\u001b[0;34m\u001b[0m\u001b[0m\n\u001b[0m\u001b[1;32m    848\u001b[0m \u001b[0;34m\u001b[0m\u001b[0m\n\u001b[1;32m    849\u001b[0m     def _get_train_request(  # noqa: C901\n",
      "\u001b[0;32m/opt/conda/lib/python3.7/site-packages/sagemaker/session.py\u001b[0m in \u001b[0;36m_intercept_create_request\u001b[0;34m(self, request, create, func_name)\u001b[0m\n\u001b[1;32m   5263\u001b[0m             \u001b[0mfunc_name\u001b[0m \u001b[0;34m(\u001b[0m\u001b[0mstr\u001b[0m\u001b[0;34m)\u001b[0m\u001b[0;34m:\u001b[0m \u001b[0mthe\u001b[0m \u001b[0mname\u001b[0m \u001b[0mof\u001b[0m \u001b[0mthe\u001b[0m \u001b[0mfunction\u001b[0m \u001b[0mneeded\u001b[0m \u001b[0mintercepting\u001b[0m\u001b[0;34m\u001b[0m\u001b[0;34m\u001b[0m\u001b[0m\n\u001b[1;32m   5264\u001b[0m         \"\"\"\n\u001b[0;32m-> 5265\u001b[0;31m         \u001b[0;32mreturn\u001b[0m \u001b[0mcreate\u001b[0m\u001b[0;34m(\u001b[0m\u001b[0mrequest\u001b[0m\u001b[0;34m)\u001b[0m\u001b[0;34m\u001b[0m\u001b[0;34m\u001b[0m\u001b[0m\n\u001b[0m\u001b[1;32m   5266\u001b[0m \u001b[0;34m\u001b[0m\u001b[0m\n\u001b[1;32m   5267\u001b[0m     def _create_inference_recommendations_job_request(\n",
      "\u001b[0;32m/opt/conda/lib/python3.7/site-packages/sagemaker/session.py\u001b[0m in \u001b[0;36msubmit\u001b[0;34m(request)\u001b[0m\n\u001b[1;32m    843\u001b[0m             \u001b[0mLOGGER\u001b[0m\u001b[0;34m.\u001b[0m\u001b[0minfo\u001b[0m\u001b[0;34m(\u001b[0m\u001b[0;34m\"Creating training-job with name: %s\"\u001b[0m\u001b[0;34m,\u001b[0m \u001b[0mjob_name\u001b[0m\u001b[0;34m)\u001b[0m\u001b[0;34m\u001b[0m\u001b[0;34m\u001b[0m\u001b[0m\n\u001b[1;32m    844\u001b[0m             \u001b[0mLOGGER\u001b[0m\u001b[0;34m.\u001b[0m\u001b[0mdebug\u001b[0m\u001b[0;34m(\u001b[0m\u001b[0;34m\"train request: %s\"\u001b[0m\u001b[0;34m,\u001b[0m \u001b[0mjson\u001b[0m\u001b[0;34m.\u001b[0m\u001b[0mdumps\u001b[0m\u001b[0;34m(\u001b[0m\u001b[0mrequest\u001b[0m\u001b[0;34m,\u001b[0m \u001b[0mindent\u001b[0m\u001b[0;34m=\u001b[0m\u001b[0;36m4\u001b[0m\u001b[0;34m)\u001b[0m\u001b[0;34m)\u001b[0m\u001b[0;34m\u001b[0m\u001b[0;34m\u001b[0m\u001b[0m\n\u001b[0;32m--> 845\u001b[0;31m             \u001b[0mself\u001b[0m\u001b[0;34m.\u001b[0m\u001b[0msagemaker_client\u001b[0m\u001b[0;34m.\u001b[0m\u001b[0mcreate_training_job\u001b[0m\u001b[0;34m(\u001b[0m\u001b[0;34m**\u001b[0m\u001b[0mrequest\u001b[0m\u001b[0;34m)\u001b[0m\u001b[0;34m\u001b[0m\u001b[0;34m\u001b[0m\u001b[0m\n\u001b[0m\u001b[1;32m    846\u001b[0m \u001b[0;34m\u001b[0m\u001b[0m\n\u001b[1;32m    847\u001b[0m         \u001b[0mself\u001b[0m\u001b[0;34m.\u001b[0m\u001b[0m_intercept_create_request\u001b[0m\u001b[0;34m(\u001b[0m\u001b[0mtrain_request\u001b[0m\u001b[0;34m,\u001b[0m \u001b[0msubmit\u001b[0m\u001b[0;34m,\u001b[0m \u001b[0mself\u001b[0m\u001b[0;34m.\u001b[0m\u001b[0mtrain\u001b[0m\u001b[0;34m.\u001b[0m\u001b[0m__name__\u001b[0m\u001b[0;34m)\u001b[0m\u001b[0;34m\u001b[0m\u001b[0;34m\u001b[0m\u001b[0m\n",
      "\u001b[0;32m/opt/conda/lib/python3.7/site-packages/botocore/client.py\u001b[0m in \u001b[0;36m_api_call\u001b[0;34m(self, *args, **kwargs)\u001b[0m\n\u001b[1;32m    528\u001b[0m                 )\n\u001b[1;32m    529\u001b[0m             \u001b[0;31m# The \"self\" in this scope is referring to the BaseClient.\u001b[0m\u001b[0;34m\u001b[0m\u001b[0;34m\u001b[0m\u001b[0;34m\u001b[0m\u001b[0m\n\u001b[0;32m--> 530\u001b[0;31m             \u001b[0;32mreturn\u001b[0m \u001b[0mself\u001b[0m\u001b[0;34m.\u001b[0m\u001b[0m_make_api_call\u001b[0m\u001b[0;34m(\u001b[0m\u001b[0moperation_name\u001b[0m\u001b[0;34m,\u001b[0m \u001b[0mkwargs\u001b[0m\u001b[0;34m)\u001b[0m\u001b[0;34m\u001b[0m\u001b[0;34m\u001b[0m\u001b[0m\n\u001b[0m\u001b[1;32m    531\u001b[0m \u001b[0;34m\u001b[0m\u001b[0m\n\u001b[1;32m    532\u001b[0m         \u001b[0m_api_call\u001b[0m\u001b[0;34m.\u001b[0m\u001b[0m__name__\u001b[0m \u001b[0;34m=\u001b[0m \u001b[0mstr\u001b[0m\u001b[0;34m(\u001b[0m\u001b[0mpy_operation_name\u001b[0m\u001b[0;34m)\u001b[0m\u001b[0;34m\u001b[0m\u001b[0;34m\u001b[0m\u001b[0m\n",
      "\u001b[0;32m/opt/conda/lib/python3.7/site-packages/botocore/client.py\u001b[0m in \u001b[0;36m_make_api_call\u001b[0;34m(self, operation_name, api_params)\u001b[0m\n\u001b[1;32m    958\u001b[0m             \u001b[0merror_code\u001b[0m \u001b[0;34m=\u001b[0m \u001b[0mparsed_response\u001b[0m\u001b[0;34m.\u001b[0m\u001b[0mget\u001b[0m\u001b[0;34m(\u001b[0m\u001b[0;34m\"Error\"\u001b[0m\u001b[0;34m,\u001b[0m \u001b[0;34m{\u001b[0m\u001b[0;34m}\u001b[0m\u001b[0;34m)\u001b[0m\u001b[0;34m.\u001b[0m\u001b[0mget\u001b[0m\u001b[0;34m(\u001b[0m\u001b[0;34m\"Code\"\u001b[0m\u001b[0;34m)\u001b[0m\u001b[0;34m\u001b[0m\u001b[0;34m\u001b[0m\u001b[0m\n\u001b[1;32m    959\u001b[0m             \u001b[0merror_class\u001b[0m \u001b[0;34m=\u001b[0m \u001b[0mself\u001b[0m\u001b[0;34m.\u001b[0m\u001b[0mexceptions\u001b[0m\u001b[0;34m.\u001b[0m\u001b[0mfrom_code\u001b[0m\u001b[0;34m(\u001b[0m\u001b[0merror_code\u001b[0m\u001b[0;34m)\u001b[0m\u001b[0;34m\u001b[0m\u001b[0;34m\u001b[0m\u001b[0m\n\u001b[0;32m--> 960\u001b[0;31m             \u001b[0;32mraise\u001b[0m \u001b[0merror_class\u001b[0m\u001b[0;34m(\u001b[0m\u001b[0mparsed_response\u001b[0m\u001b[0;34m,\u001b[0m \u001b[0moperation_name\u001b[0m\u001b[0;34m)\u001b[0m\u001b[0;34m\u001b[0m\u001b[0;34m\u001b[0m\u001b[0m\n\u001b[0m\u001b[1;32m    961\u001b[0m         \u001b[0;32melse\u001b[0m\u001b[0;34m:\u001b[0m\u001b[0;34m\u001b[0m\u001b[0;34m\u001b[0m\u001b[0m\n\u001b[1;32m    962\u001b[0m             \u001b[0;32mreturn\u001b[0m \u001b[0mparsed_response\u001b[0m\u001b[0;34m\u001b[0m\u001b[0;34m\u001b[0m\u001b[0m\n",
      "\u001b[0;31mResourceLimitExceeded\u001b[0m: An error occurred (ResourceLimitExceeded) when calling the CreateTrainingJob operation: The account-level service limit 'ml.p2.xlarge for training job usage' is 1 Instances, with current utilization of 1 Instances and a request delta of 1 Instances. Please contact AWS support to request an increase for this limit."
     ]
    }
   ],
   "source": [
    "estimator.fit(\n",
    "    inputs={\"train\": input_train_data, \"validation\": input_validation_data, \"test\": input_test_data},\n",
    "    experiment_config=experiment_config,\n",
    "    wait=False,\n",
    ")"
   ]
  },
  {
   "cell_type": "code",
   "execution_count": 156,
   "metadata": {
    "tags": []
   },
   "outputs": [
    {
     "ename": "AttributeError",
     "evalue": "'NoneType' object has no attribute 'name'",
     "output_type": "error",
     "traceback": [
      "\u001b[0;31m---------------------------------------------------------------------------\u001b[0m",
      "\u001b[0;31mAttributeError\u001b[0m                            Traceback (most recent call last)",
      "\u001b[0;32m<ipython-input-156-928f7d7eb9b4>\u001b[0m in \u001b[0;36m<module>\u001b[0;34m\u001b[0m\n\u001b[0;32m----> 1\u001b[0;31m \u001b[0mtraining_job_name\u001b[0m \u001b[0;34m=\u001b[0m \u001b[0mestimator\u001b[0m\u001b[0;34m.\u001b[0m\u001b[0mlatest_training_job\u001b[0m\u001b[0;34m.\u001b[0m\u001b[0mname\u001b[0m\u001b[0;34m\u001b[0m\u001b[0;34m\u001b[0m\u001b[0m\n\u001b[0m\u001b[1;32m      2\u001b[0m \u001b[0mprint\u001b[0m\u001b[0;34m(\u001b[0m\u001b[0;34m\"Training Job Name:  {}\"\u001b[0m\u001b[0;34m.\u001b[0m\u001b[0mformat\u001b[0m\u001b[0;34m(\u001b[0m\u001b[0mtraining_job_name\u001b[0m\u001b[0;34m)\u001b[0m\u001b[0;34m)\u001b[0m\u001b[0;34m\u001b[0m\u001b[0;34m\u001b[0m\u001b[0m\n",
      "\u001b[0;31mAttributeError\u001b[0m: 'NoneType' object has no attribute 'name'"
     ]
    }
   ],
   "source": [
    "training_job_name = estimator.latest_training_job.name\n",
    "print(\"Training Job Name:  {}\".format(training_job_name))"
   ]
  },
  {
   "cell_type": "code",
   "execution_count": 157,
   "metadata": {
    "tags": []
   },
   "outputs": [
    {
     "ename": "AttributeError",
     "evalue": "'NoneType' object has no attribute 'wait'",
     "output_type": "error",
     "traceback": [
      "\u001b[0;31m---------------------------------------------------------------------------\u001b[0m",
      "\u001b[0;31mAttributeError\u001b[0m                            Traceback (most recent call last)",
      "\u001b[0;32m<timed eval>\u001b[0m in \u001b[0;36m<module>\u001b[0;34m\u001b[0m\n",
      "\u001b[0;31mAttributeError\u001b[0m: 'NoneType' object has no attribute 'wait'"
     ]
    }
   ],
   "source": [
    "%%time\n",
    "\n",
    "estimator.latest_training_job.wait(logs=True)"
   ]
  },
  {
   "cell_type": "code",
   "execution_count": null,
   "metadata": {},
   "outputs": [],
   "source": [
    "estimator.training_job_analytics.dataframe()"
   ]
  }
 ],
 "metadata": {
  "availableInstances": [
   {
    "_defaultOrder": 0,
    "_isFastLaunch": true,
    "category": "General purpose",
    "gpuNum": 0,
    "hideHardwareSpecs": false,
    "memoryGiB": 4,
    "name": "ml.t3.medium",
    "vcpuNum": 2
   },
   {
    "_defaultOrder": 1,
    "_isFastLaunch": false,
    "category": "General purpose",
    "gpuNum": 0,
    "hideHardwareSpecs": false,
    "memoryGiB": 8,
    "name": "ml.t3.large",
    "vcpuNum": 2
   },
   {
    "_defaultOrder": 2,
    "_isFastLaunch": false,
    "category": "General purpose",
    "gpuNum": 0,
    "hideHardwareSpecs": false,
    "memoryGiB": 16,
    "name": "ml.t3.xlarge",
    "vcpuNum": 4
   },
   {
    "_defaultOrder": 3,
    "_isFastLaunch": false,
    "category": "General purpose",
    "gpuNum": 0,
    "hideHardwareSpecs": false,
    "memoryGiB": 32,
    "name": "ml.t3.2xlarge",
    "vcpuNum": 8
   },
   {
    "_defaultOrder": 4,
    "_isFastLaunch": true,
    "category": "General purpose",
    "gpuNum": 0,
    "hideHardwareSpecs": false,
    "memoryGiB": 8,
    "name": "ml.m5.large",
    "vcpuNum": 2
   },
   {
    "_defaultOrder": 5,
    "_isFastLaunch": false,
    "category": "General purpose",
    "gpuNum": 0,
    "hideHardwareSpecs": false,
    "memoryGiB": 16,
    "name": "ml.m5.xlarge",
    "vcpuNum": 4
   },
   {
    "_defaultOrder": 6,
    "_isFastLaunch": false,
    "category": "General purpose",
    "gpuNum": 0,
    "hideHardwareSpecs": false,
    "memoryGiB": 32,
    "name": "ml.m5.2xlarge",
    "vcpuNum": 8
   },
   {
    "_defaultOrder": 7,
    "_isFastLaunch": false,
    "category": "General purpose",
    "gpuNum": 0,
    "hideHardwareSpecs": false,
    "memoryGiB": 64,
    "name": "ml.m5.4xlarge",
    "vcpuNum": 16
   },
   {
    "_defaultOrder": 8,
    "_isFastLaunch": false,
    "category": "General purpose",
    "gpuNum": 0,
    "hideHardwareSpecs": false,
    "memoryGiB": 128,
    "name": "ml.m5.8xlarge",
    "vcpuNum": 32
   },
   {
    "_defaultOrder": 9,
    "_isFastLaunch": false,
    "category": "General purpose",
    "gpuNum": 0,
    "hideHardwareSpecs": false,
    "memoryGiB": 192,
    "name": "ml.m5.12xlarge",
    "vcpuNum": 48
   },
   {
    "_defaultOrder": 10,
    "_isFastLaunch": false,
    "category": "General purpose",
    "gpuNum": 0,
    "hideHardwareSpecs": false,
    "memoryGiB": 256,
    "name": "ml.m5.16xlarge",
    "vcpuNum": 64
   },
   {
    "_defaultOrder": 11,
    "_isFastLaunch": false,
    "category": "General purpose",
    "gpuNum": 0,
    "hideHardwareSpecs": false,
    "memoryGiB": 384,
    "name": "ml.m5.24xlarge",
    "vcpuNum": 96
   },
   {
    "_defaultOrder": 12,
    "_isFastLaunch": false,
    "category": "General purpose",
    "gpuNum": 0,
    "hideHardwareSpecs": false,
    "memoryGiB": 8,
    "name": "ml.m5d.large",
    "vcpuNum": 2
   },
   {
    "_defaultOrder": 13,
    "_isFastLaunch": false,
    "category": "General purpose",
    "gpuNum": 0,
    "hideHardwareSpecs": false,
    "memoryGiB": 16,
    "name": "ml.m5d.xlarge",
    "vcpuNum": 4
   },
   {
    "_defaultOrder": 14,
    "_isFastLaunch": false,
    "category": "General purpose",
    "gpuNum": 0,
    "hideHardwareSpecs": false,
    "memoryGiB": 32,
    "name": "ml.m5d.2xlarge",
    "vcpuNum": 8
   },
   {
    "_defaultOrder": 15,
    "_isFastLaunch": false,
    "category": "General purpose",
    "gpuNum": 0,
    "hideHardwareSpecs": false,
    "memoryGiB": 64,
    "name": "ml.m5d.4xlarge",
    "vcpuNum": 16
   },
   {
    "_defaultOrder": 16,
    "_isFastLaunch": false,
    "category": "General purpose",
    "gpuNum": 0,
    "hideHardwareSpecs": false,
    "memoryGiB": 128,
    "name": "ml.m5d.8xlarge",
    "vcpuNum": 32
   },
   {
    "_defaultOrder": 17,
    "_isFastLaunch": false,
    "category": "General purpose",
    "gpuNum": 0,
    "hideHardwareSpecs": false,
    "memoryGiB": 192,
    "name": "ml.m5d.12xlarge",
    "vcpuNum": 48
   },
   {
    "_defaultOrder": 18,
    "_isFastLaunch": false,
    "category": "General purpose",
    "gpuNum": 0,
    "hideHardwareSpecs": false,
    "memoryGiB": 256,
    "name": "ml.m5d.16xlarge",
    "vcpuNum": 64
   },
   {
    "_defaultOrder": 19,
    "_isFastLaunch": false,
    "category": "General purpose",
    "gpuNum": 0,
    "hideHardwareSpecs": false,
    "memoryGiB": 384,
    "name": "ml.m5d.24xlarge",
    "vcpuNum": 96
   },
   {
    "_defaultOrder": 20,
    "_isFastLaunch": false,
    "category": "General purpose",
    "gpuNum": 0,
    "hideHardwareSpecs": true,
    "memoryGiB": 0,
    "name": "ml.geospatial.interactive",
    "supportedImageNames": [
     "sagemaker-geospatial-v1-0"
    ],
    "vcpuNum": 0
   },
   {
    "_defaultOrder": 21,
    "_isFastLaunch": true,
    "category": "Compute optimized",
    "gpuNum": 0,
    "hideHardwareSpecs": false,
    "memoryGiB": 4,
    "name": "ml.c5.large",
    "vcpuNum": 2
   },
   {
    "_defaultOrder": 22,
    "_isFastLaunch": false,
    "category": "Compute optimized",
    "gpuNum": 0,
    "hideHardwareSpecs": false,
    "memoryGiB": 8,
    "name": "ml.c5.xlarge",
    "vcpuNum": 4
   },
   {
    "_defaultOrder": 23,
    "_isFastLaunch": false,
    "category": "Compute optimized",
    "gpuNum": 0,
    "hideHardwareSpecs": false,
    "memoryGiB": 16,
    "name": "ml.c5.2xlarge",
    "vcpuNum": 8
   },
   {
    "_defaultOrder": 24,
    "_isFastLaunch": false,
    "category": "Compute optimized",
    "gpuNum": 0,
    "hideHardwareSpecs": false,
    "memoryGiB": 32,
    "name": "ml.c5.4xlarge",
    "vcpuNum": 16
   },
   {
    "_defaultOrder": 25,
    "_isFastLaunch": false,
    "category": "Compute optimized",
    "gpuNum": 0,
    "hideHardwareSpecs": false,
    "memoryGiB": 72,
    "name": "ml.c5.9xlarge",
    "vcpuNum": 36
   },
   {
    "_defaultOrder": 26,
    "_isFastLaunch": false,
    "category": "Compute optimized",
    "gpuNum": 0,
    "hideHardwareSpecs": false,
    "memoryGiB": 96,
    "name": "ml.c5.12xlarge",
    "vcpuNum": 48
   },
   {
    "_defaultOrder": 27,
    "_isFastLaunch": false,
    "category": "Compute optimized",
    "gpuNum": 0,
    "hideHardwareSpecs": false,
    "memoryGiB": 144,
    "name": "ml.c5.18xlarge",
    "vcpuNum": 72
   },
   {
    "_defaultOrder": 28,
    "_isFastLaunch": false,
    "category": "Compute optimized",
    "gpuNum": 0,
    "hideHardwareSpecs": false,
    "memoryGiB": 192,
    "name": "ml.c5.24xlarge",
    "vcpuNum": 96
   },
   {
    "_defaultOrder": 29,
    "_isFastLaunch": true,
    "category": "Accelerated computing",
    "gpuNum": 1,
    "hideHardwareSpecs": false,
    "memoryGiB": 16,
    "name": "ml.g4dn.xlarge",
    "vcpuNum": 4
   },
   {
    "_defaultOrder": 30,
    "_isFastLaunch": false,
    "category": "Accelerated computing",
    "gpuNum": 1,
    "hideHardwareSpecs": false,
    "memoryGiB": 32,
    "name": "ml.g4dn.2xlarge",
    "vcpuNum": 8
   },
   {
    "_defaultOrder": 31,
    "_isFastLaunch": false,
    "category": "Accelerated computing",
    "gpuNum": 1,
    "hideHardwareSpecs": false,
    "memoryGiB": 64,
    "name": "ml.g4dn.4xlarge",
    "vcpuNum": 16
   },
   {
    "_defaultOrder": 32,
    "_isFastLaunch": false,
    "category": "Accelerated computing",
    "gpuNum": 1,
    "hideHardwareSpecs": false,
    "memoryGiB": 128,
    "name": "ml.g4dn.8xlarge",
    "vcpuNum": 32
   },
   {
    "_defaultOrder": 33,
    "_isFastLaunch": false,
    "category": "Accelerated computing",
    "gpuNum": 4,
    "hideHardwareSpecs": false,
    "memoryGiB": 192,
    "name": "ml.g4dn.12xlarge",
    "vcpuNum": 48
   },
   {
    "_defaultOrder": 34,
    "_isFastLaunch": false,
    "category": "Accelerated computing",
    "gpuNum": 1,
    "hideHardwareSpecs": false,
    "memoryGiB": 256,
    "name": "ml.g4dn.16xlarge",
    "vcpuNum": 64
   },
   {
    "_defaultOrder": 35,
    "_isFastLaunch": false,
    "category": "Accelerated computing",
    "gpuNum": 1,
    "hideHardwareSpecs": false,
    "memoryGiB": 61,
    "name": "ml.p3.2xlarge",
    "vcpuNum": 8
   },
   {
    "_defaultOrder": 36,
    "_isFastLaunch": false,
    "category": "Accelerated computing",
    "gpuNum": 4,
    "hideHardwareSpecs": false,
    "memoryGiB": 244,
    "name": "ml.p3.8xlarge",
    "vcpuNum": 32
   },
   {
    "_defaultOrder": 37,
    "_isFastLaunch": false,
    "category": "Accelerated computing",
    "gpuNum": 8,
    "hideHardwareSpecs": false,
    "memoryGiB": 488,
    "name": "ml.p3.16xlarge",
    "vcpuNum": 64
   },
   {
    "_defaultOrder": 38,
    "_isFastLaunch": false,
    "category": "Accelerated computing",
    "gpuNum": 8,
    "hideHardwareSpecs": false,
    "memoryGiB": 768,
    "name": "ml.p3dn.24xlarge",
    "vcpuNum": 96
   },
   {
    "_defaultOrder": 39,
    "_isFastLaunch": false,
    "category": "Memory Optimized",
    "gpuNum": 0,
    "hideHardwareSpecs": false,
    "memoryGiB": 16,
    "name": "ml.r5.large",
    "vcpuNum": 2
   },
   {
    "_defaultOrder": 40,
    "_isFastLaunch": false,
    "category": "Memory Optimized",
    "gpuNum": 0,
    "hideHardwareSpecs": false,
    "memoryGiB": 32,
    "name": "ml.r5.xlarge",
    "vcpuNum": 4
   },
   {
    "_defaultOrder": 41,
    "_isFastLaunch": false,
    "category": "Memory Optimized",
    "gpuNum": 0,
    "hideHardwareSpecs": false,
    "memoryGiB": 64,
    "name": "ml.r5.2xlarge",
    "vcpuNum": 8
   },
   {
    "_defaultOrder": 42,
    "_isFastLaunch": false,
    "category": "Memory Optimized",
    "gpuNum": 0,
    "hideHardwareSpecs": false,
    "memoryGiB": 128,
    "name": "ml.r5.4xlarge",
    "vcpuNum": 16
   },
   {
    "_defaultOrder": 43,
    "_isFastLaunch": false,
    "category": "Memory Optimized",
    "gpuNum": 0,
    "hideHardwareSpecs": false,
    "memoryGiB": 256,
    "name": "ml.r5.8xlarge",
    "vcpuNum": 32
   },
   {
    "_defaultOrder": 44,
    "_isFastLaunch": false,
    "category": "Memory Optimized",
    "gpuNum": 0,
    "hideHardwareSpecs": false,
    "memoryGiB": 384,
    "name": "ml.r5.12xlarge",
    "vcpuNum": 48
   },
   {
    "_defaultOrder": 45,
    "_isFastLaunch": false,
    "category": "Memory Optimized",
    "gpuNum": 0,
    "hideHardwareSpecs": false,
    "memoryGiB": 512,
    "name": "ml.r5.16xlarge",
    "vcpuNum": 64
   },
   {
    "_defaultOrder": 46,
    "_isFastLaunch": false,
    "category": "Memory Optimized",
    "gpuNum": 0,
    "hideHardwareSpecs": false,
    "memoryGiB": 768,
    "name": "ml.r5.24xlarge",
    "vcpuNum": 96
   },
   {
    "_defaultOrder": 47,
    "_isFastLaunch": false,
    "category": "Accelerated computing",
    "gpuNum": 1,
    "hideHardwareSpecs": false,
    "memoryGiB": 16,
    "name": "ml.g5.xlarge",
    "vcpuNum": 4
   },
   {
    "_defaultOrder": 48,
    "_isFastLaunch": false,
    "category": "Accelerated computing",
    "gpuNum": 1,
    "hideHardwareSpecs": false,
    "memoryGiB": 32,
    "name": "ml.g5.2xlarge",
    "vcpuNum": 8
   },
   {
    "_defaultOrder": 49,
    "_isFastLaunch": false,
    "category": "Accelerated computing",
    "gpuNum": 1,
    "hideHardwareSpecs": false,
    "memoryGiB": 64,
    "name": "ml.g5.4xlarge",
    "vcpuNum": 16
   },
   {
    "_defaultOrder": 50,
    "_isFastLaunch": false,
    "category": "Accelerated computing",
    "gpuNum": 1,
    "hideHardwareSpecs": false,
    "memoryGiB": 128,
    "name": "ml.g5.8xlarge",
    "vcpuNum": 32
   },
   {
    "_defaultOrder": 51,
    "_isFastLaunch": false,
    "category": "Accelerated computing",
    "gpuNum": 1,
    "hideHardwareSpecs": false,
    "memoryGiB": 256,
    "name": "ml.g5.16xlarge",
    "vcpuNum": 64
   },
   {
    "_defaultOrder": 52,
    "_isFastLaunch": false,
    "category": "Accelerated computing",
    "gpuNum": 4,
    "hideHardwareSpecs": false,
    "memoryGiB": 192,
    "name": "ml.g5.12xlarge",
    "vcpuNum": 48
   },
   {
    "_defaultOrder": 53,
    "_isFastLaunch": false,
    "category": "Accelerated computing",
    "gpuNum": 4,
    "hideHardwareSpecs": false,
    "memoryGiB": 384,
    "name": "ml.g5.24xlarge",
    "vcpuNum": 96
   },
   {
    "_defaultOrder": 54,
    "_isFastLaunch": false,
    "category": "Accelerated computing",
    "gpuNum": 8,
    "hideHardwareSpecs": false,
    "memoryGiB": 768,
    "name": "ml.g5.48xlarge",
    "vcpuNum": 192
   }
  ],
  "instance_type": "ml.t3.medium",
  "kernelspec": {
   "display_name": "Python 3 (Data Science)",
   "language": "python",
   "name": "python3__SAGEMAKER_INTERNAL__arn:aws:sagemaker:us-west-2:236514542706:image/datascience-1.0"
  },
  "language_info": {
   "codemirror_mode": {
    "name": "ipython",
    "version": 3
   },
   "file_extension": ".py",
   "mimetype": "text/x-python",
   "name": "python",
   "nbconvert_exporter": "python",
   "pygments_lexer": "ipython3",
   "version": "3.7.10"
  }
 },
 "nbformat": 4,
 "nbformat_minor": 4
}
