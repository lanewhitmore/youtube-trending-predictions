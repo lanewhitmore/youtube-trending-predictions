{
 "cells": [
  {
   "cell_type": "markdown",
   "metadata": {},
   "source": [
    "## YouTube Trending Video Analysis & Prediction\n",
    "\n",
    "### Joel Day, Caleb McCurdy, & Lane Whitmore\n",
    "\n",
    "### The University of San Diego\n",
    "\n",
    "#### ADS 508 - Data Science Cloud Computing"
   ]
  },
  {
   "cell_type": "code",
   "execution_count": 88,
   "metadata": {
    "tags": []
   },
   "outputs": [
    {
     "name": "stdout",
     "output_type": "stream",
     "text": [
      "You may see error or warning messages, but that is okay. Proceed to the next cell.\n",
      "\u001b[33mWARNING: The directory '/root/.cache/pip' or its parent directory is not owned or is not writable by the current user. The cache has been disabled. Check the permissions and owner of that directory. If executing pip with sudo, you should use sudo's -H flag.\u001b[0m\u001b[33m\n",
      "\u001b[0m\u001b[33mWARNING: Running pip as the 'root' user can result in broken permissions and conflicting behaviour with the system package manager. It is recommended to use a virtual environment instead: https://pip.pypa.io/warnings/venv\u001b[0m\u001b[33m\n",
      "\u001b[0m\u001b[33mWARNING: The directory '/root/.cache/pip' or its parent directory is not owned or is not writable by the current user. The cache has been disabled. Check the permissions and owner of that directory. If executing pip with sudo, you should use sudo's -H flag.\u001b[0m\u001b[33m\n",
      "\u001b[0m\u001b[33mWARNING: Running pip as the 'root' user can result in broken permissions and conflicting behaviour with the system package manager. It is recommended to use a virtual environment instead: https://pip.pypa.io/warnings/venv\u001b[0m\u001b[33m\n",
      "\u001b[0m\u001b[33mWARNING: The directory '/root/.cache/pip' or its parent directory is not owned or is not writable by the current user. The cache has been disabled. Check the permissions and owner of that directory. If executing pip with sudo, you should use sudo's -H flag.\u001b[0m\u001b[33m\n",
      "\u001b[0m\u001b[33mWARNING: Running pip as the 'root' user can result in broken permissions and conflicting behaviour with the system package manager. It is recommended to use a virtual environment instead: https://pip.pypa.io/warnings/venv\u001b[0m\u001b[33m\n",
      "\u001b[0m\u001b[33mWARNING: The directory '/root/.cache/pip' or its parent directory is not owned or is not writable by the current user. The cache has been disabled. Check the permissions and owner of that directory. If executing pip with sudo, you should use sudo's -H flag.\u001b[0m\u001b[33m\n",
      "\u001b[0m\u001b[33mWARNING: Running pip as the 'root' user can result in broken permissions and conflicting behaviour with the system package manager. It is recommended to use a virtual environment instead: https://pip.pypa.io/warnings/venv\u001b[0m\u001b[33m\n",
      "\u001b[0m"
     ]
    }
   ],
   "source": [
    "print(\"You may see error or warning messages, but that is okay. Proceed to the next cell.\")\n",
    "\n",
    "!pip --disable-pip-version-check -q  install transformers\n",
    "!pip --disable-pip-version-check -q install pyathena\n",
    "!pip --disable-pip-version-check -q install tensorflow\n",
    "#!pip --disable-pip-version-check -q install torch==1.5.0\n",
    "!pip --disable-pip-version-check -q install sagemaker-experiments==0.1.26"
   ]
  },
  {
   "cell_type": "code",
   "execution_count": 89,
   "metadata": {
    "tags": []
   },
   "outputs": [],
   "source": [
    "# General imports\n",
    "import pandas as pd\n",
    "import numpy as np\n",
    "import collections\n",
    "import io\n",
    "import os\n",
    "import time\n",
    "from smexperiments.trial import Trial\n",
    "from smexperiments.experiment import Experiment\n",
    "import uuid\n",
    "\n",
    "# nlp processing imports\n",
    "import string\n",
    "import re\n",
    "import nltk\n",
    "from transformers import DistilBertTokenizer\n",
    "from transformers import DistilBertModel\n",
    "\n",
    "\n",
    "# sklearn packages\n",
    "from sklearn.model_selection import train_test_split\n",
    "from sklearn.feature_extraction.text import CountVectorizer\n",
    "\n",
    "# Visualization imports\n",
    "import matplotlib.pyplot as plt\n",
    "import seaborn as sns\n",
    "\n",
    "# Sagemaker imports\n",
    "import sagemaker\n",
    "from sagemaker import get_execution_role\n",
    "from sagemaker.processing import ProcessingInput, ProcessingOutput\n",
    "from sagemaker.sklearn.processing import SKLearnProcessor\n",
    "from sagemaker.feature_store.feature_group import FeatureGroup\n",
    "from sagemaker.feature_store.feature_definition import FeatureDefinition, FeatureTypeEnum\n",
    "from sagemaker.inputs import TrainingInput\n",
    "from sagemaker.debugger import Rule\n",
    "from sagemaker.debugger import rule_configs\n",
    "from sagemaker.debugger import ProfilerRule\n",
    "from sagemaker.debugger import CollectionConfig\n",
    "from sagemaker.debugger import DebuggerHookConfig\n",
    "from sagemaker.debugger import ProfilerConfig, FrameworkProfile\n",
    "from sagemaker.tensorflow import TensorFlow\n",
    "\n",
    "\n",
    "# athena connection imports\n",
    "from pyathena import connect\n",
    "import boto3\n",
    "\n",
    "#import torch\n",
    "from sagemaker.pytorch import PyTorch\n",
    "import tensorflow as tf\n",
    "#import torch.nn as nn\n",
    "#from torch.utils.data import TensorDataset, DataLoader"
   ]
  },
  {
   "cell_type": "markdown",
   "metadata": {},
   "source": [
    "## Establishing Athena for SQL Queries"
   ]
  },
  {
   "cell_type": "code",
   "execution_count": 4,
   "metadata": {
    "tags": []
   },
   "outputs": [],
   "source": [
    "region = boto3.Session().region_name\n",
    "role = get_execution_role()\n",
    "sm = boto3.Session(region_name=region).client(service_name=\"sagemaker\", region_name=region)"
   ]
  },
  {
   "cell_type": "code",
   "execution_count": 5,
   "metadata": {
    "tags": []
   },
   "outputs": [
    {
     "name": "stdout",
     "output_type": "stream",
     "text": [
      "sagemaker-us-west-2-692349450615\n"
     ]
    }
   ],
   "source": [
    "# Set Athena for data wrangling // exploration\n",
    "session = sagemaker.Session()\n",
    "\n",
    "# this sets the bucket to the default sagemaker bucket\n",
    "bucket = session.default_bucket()\n",
    "print(bucket)"
   ]
  },
  {
   "cell_type": "markdown",
   "metadata": {},
   "source": [
    "Create folder within s3 bucket named youtubeStatistics"
   ]
  },
  {
   "cell_type": "code",
   "execution_count": 6,
   "metadata": {
    "tags": []
   },
   "outputs": [],
   "source": [
    "ingest_create_athena_db_passed = False\n",
    "\n",
    "db_name = \"youtubedb\""
   ]
  },
  {
   "cell_type": "code",
   "execution_count": 7,
   "metadata": {
    "tags": []
   },
   "outputs": [],
   "source": [
    "# temp query storage\n",
    "s3_athena = \"s3://{}/athena/tmp/\".format(bucket)\n",
    "\n",
    "# file storage\n",
    "youtube_dir = \"s3://{}/athena/files/\".format(bucket)\n",
    "\n",
    "# creating connection to database\n",
    "conn = connect(region_name=region, s3_staging_dir=s3_athena)"
   ]
  },
  {
   "cell_type": "markdown",
   "metadata": {},
   "source": [
    "### Creating Database"
   ]
  },
  {
   "cell_type": "code",
   "execution_count": 8,
   "metadata": {
    "tags": []
   },
   "outputs": [
    {
     "data": {
      "text/html": [
       "<div>\n",
       "<style scoped>\n",
       "    .dataframe tbody tr th:only-of-type {\n",
       "        vertical-align: middle;\n",
       "    }\n",
       "\n",
       "    .dataframe tbody tr th {\n",
       "        vertical-align: top;\n",
       "    }\n",
       "\n",
       "    .dataframe thead th {\n",
       "        text-align: right;\n",
       "    }\n",
       "</style>\n",
       "<table border=\"1\" class=\"dataframe\">\n",
       "  <thead>\n",
       "    <tr style=\"text-align: right;\">\n",
       "      <th></th>\n",
       "    </tr>\n",
       "  </thead>\n",
       "  <tbody>\n",
       "  </tbody>\n",
       "</table>\n",
       "</div>"
      ],
      "text/plain": [
       "Empty DataFrame\n",
       "Columns: []\n",
       "Index: []"
      ]
     },
     "execution_count": 8,
     "metadata": {},
     "output_type": "execute_result"
    }
   ],
   "source": [
    "# Creating DATABASE with db_name above\n",
    "create_db = \"CREATE DATABASE IF NOT EXISTS {}\".format(db_name)\n",
    "\n",
    "pd.read_sql(create_db, conn)"
   ]
  },
  {
   "cell_type": "markdown",
   "metadata": {},
   "source": [
    "### Creating Tables"
   ]
  },
  {
   "cell_type": "markdown",
   "metadata": {},
   "source": [
    "#### CSV Tables"
   ]
  },
  {
   "cell_type": "markdown",
   "metadata": {},
   "source": [
    "Currently, the tables below are still struggling to appropriately populate the tables. If the data type is anything but strings, the column becomes null for all values and the comma seperation is not consistent."
   ]
  },
  {
   "cell_type": "code",
   "execution_count": 9,
   "metadata": {
    "tags": []
   },
   "outputs": [],
   "source": [
    "# set the names of folders holding different datasets\n",
    "csv_folder = \"csv\"\n",
    "json_folder = \"json\""
   ]
  },
  {
   "cell_type": "code",
   "execution_count": 10,
   "metadata": {
    "tags": []
   },
   "outputs": [
    {
     "data": {
      "text/html": [
       "<div>\n",
       "<style scoped>\n",
       "    .dataframe tbody tr th:only-of-type {\n",
       "        vertical-align: middle;\n",
       "    }\n",
       "\n",
       "    .dataframe tbody tr th {\n",
       "        vertical-align: top;\n",
       "    }\n",
       "\n",
       "    .dataframe thead th {\n",
       "        text-align: right;\n",
       "    }\n",
       "</style>\n",
       "<table border=\"1\" class=\"dataframe\">\n",
       "  <thead>\n",
       "    <tr style=\"text-align: right;\">\n",
       "      <th></th>\n",
       "    </tr>\n",
       "  </thead>\n",
       "  <tbody>\n",
       "  </tbody>\n",
       "</table>\n",
       "</div>"
      ],
      "text/plain": [
       "Empty DataFrame\n",
       "Columns: []\n",
       "Index: []"
      ]
     },
     "execution_count": 10,
     "metadata": {},
     "output_type": "execute_result"
    }
   ],
   "source": [
    "pd.read_sql(f\"DROP TABLE IF EXISTS {db_name}.ca_csv\", conn)\n",
    "\n",
    "\n",
    "ca_csv_create = f\"\"\"\n",
    "CREATE EXTERNAL TABLE IF NOT EXISTS {db_name}.ca_csv(\n",
    "                video_id string,\n",
    "                title string,\n",
    "                publishedAt string,\n",
    "                channelId string,\n",
    "                channelTitle string,\n",
    "                categoryId string,\n",
    "                trending string,\n",
    "                tags string,\n",
    "                view_count string,\n",
    "                likes string,\n",
    "                dislikes string,\n",
    "                comment_count string,\n",
    "                thumbnail_link string,\n",
    "                comments_disabled string,\n",
    "                ratings_disabled string,\n",
    "                description string)\n",
    "            \n",
    "                \n",
    "                ROW FORMAT SERDE 'org.apache.hadoop.hive.serde2.OpenCSVSerde' \n",
    "                WITH SERDEPROPERTIES (\n",
    "                \"separatorChar\" = \",\", \n",
    "                \"quoteChar\" = '\\\"',\n",
    "                \"escapeChar\" = '\\\"'\n",
    "                ) \n",
    "                LOCATION 's3://{bucket}/youtubeStatistics/{csv_folder}/can/'\n",
    "                TBLPROPERTIES (\"skip.header.line.count\"=\"1\");\n",
    "\"\"\"\n",
    "\n",
    "pd.read_sql(ca_csv_create, conn)"
   ]
  },
  {
   "cell_type": "code",
   "execution_count": 11,
   "metadata": {
    "tags": []
   },
   "outputs": [
    {
     "data": {
      "text/html": [
       "<div>\n",
       "<style scoped>\n",
       "    .dataframe tbody tr th:only-of-type {\n",
       "        vertical-align: middle;\n",
       "    }\n",
       "\n",
       "    .dataframe tbody tr th {\n",
       "        vertical-align: top;\n",
       "    }\n",
       "\n",
       "    .dataframe thead th {\n",
       "        text-align: right;\n",
       "    }\n",
       "</style>\n",
       "<table border=\"1\" class=\"dataframe\">\n",
       "  <thead>\n",
       "    <tr style=\"text-align: right;\">\n",
       "      <th></th>\n",
       "      <th>video_id</th>\n",
       "      <th>title</th>\n",
       "      <th>publishedat</th>\n",
       "      <th>channelid</th>\n",
       "      <th>channeltitle</th>\n",
       "      <th>categoryid</th>\n",
       "      <th>trending</th>\n",
       "      <th>tags</th>\n",
       "      <th>view_count</th>\n",
       "      <th>likes</th>\n",
       "      <th>dislikes</th>\n",
       "      <th>comment_count</th>\n",
       "      <th>thumbnail_link</th>\n",
       "      <th>comments_disabled</th>\n",
       "      <th>ratings_disabled</th>\n",
       "      <th>description</th>\n",
       "    </tr>\n",
       "  </thead>\n",
       "  <tbody>\n",
       "    <tr>\n",
       "      <th>0</th>\n",
       "      <td>qhPnIjr6sbY</td>\n",
       "      <td>✅ POP IT vs CREWMATES 😂🔫</td>\n",
       "      <td>2021-06-30T13:24:41Z</td>\n",
       "      <td>UCUVkUam9f5uVgSMRWLzSIew</td>\n",
       "      <td>Binaziz animation</td>\n",
       "      <td>20</td>\n",
       "      <td>2021-07-03T00:00:00Z</td>\n",
       "      <td>амонг ас|амонгас|among us|мультик|animation|ам...</td>\n",
       "      <td>5678188</td>\n",
       "      <td>27226</td>\n",
       "      <td>2280</td>\n",
       "      <td>1094</td>\n",
       "      <td>https://i.ytimg.com/vi/qhPnIjr6sbY/default.jpg</td>\n",
       "      <td>False</td>\n",
       "      <td>False</td>\n",
       "      <td>Amomg Us Animation😂😂😂</td>\n",
       "    </tr>\n",
       "    <tr>\n",
       "      <th>1</th>\n",
       "      <td>HvmDxl4YTW0</td>\n",
       "      <td>The Silence And The Fury Announce Trailer | To...</td>\n",
       "      <td>2021-07-01T13:59:59Z</td>\n",
       "      <td>UCugJq15BiB-c1NDYPHiznWQ</td>\n",
       "      <td>Total War</td>\n",
       "      <td>20</td>\n",
       "      <td>2021-07-03T00:00:00Z</td>\n",
       "      <td>Total War|warhammer|total war warhammer|rome t...</td>\n",
       "      <td>351590</td>\n",
       "      <td>18063</td>\n",
       "      <td>187</td>\n",
       "      <td>1262</td>\n",
       "      <td>https://i.ytimg.com/vi/HvmDxl4YTW0/default.jpg</td>\n",
       "      <td>False</td>\n",
       "      <td>False</td>\n",
       "      <td>One seeks the destruction of Chaos, while the ...</td>\n",
       "    </tr>\n",
       "    <tr>\n",
       "      <th>2</th>\n",
       "      <td>JAFSn5JLt7o</td>\n",
       "      <td>Loki Episode 4 Marvel TOP 10 Breakdown Easter ...</td>\n",
       "      <td>2021-06-30T18:20:37Z</td>\n",
       "      <td>UCDiFRMQWpcp8_KD4vwIVicw</td>\n",
       "      <td>Emergency Awesome</td>\n",
       "      <td>24</td>\n",
       "      <td>2021-07-03T00:00:00Z</td>\n",
       "      <td>Loki|Loki Episode 4|Emergency Awesome|Loki Pos...</td>\n",
       "      <td>1131927</td>\n",
       "      <td>30923</td>\n",
       "      <td>647</td>\n",
       "      <td>5535</td>\n",
       "      <td>https://i.ytimg.com/vi/JAFSn5JLt7o/default.jpg</td>\n",
       "      <td>False</td>\n",
       "      <td>False</td>\n",
       "      <td>Loki Episode 4 Nexus Event. Marvel TOP 10, Eas...</td>\n",
       "    </tr>\n",
       "    <tr>\n",
       "      <th>3</th>\n",
       "      <td>c0f19JziCR0</td>\n",
       "      <td>Re-Watch Montreal Canadiens vs. Tampa Bay Ligh...</td>\n",
       "      <td>2021-07-01T03:17:04Z</td>\n",
       "      <td>UCVhibwHk4WKw4leUt6JfRLg</td>\n",
       "      <td>SPORTSNET</td>\n",
       "      <td>17</td>\n",
       "      <td>2021-07-03T00:00:00Z</td>\n",
       "      <td>Sportsnet|Sports|Canada|game 1|highlights|vega...</td>\n",
       "      <td>236138</td>\n",
       "      <td>4457</td>\n",
       "      <td>118</td>\n",
       "      <td>173</td>\n",
       "      <td>https://i.ytimg.com/vi/c0f19JziCR0/default.jpg</td>\n",
       "      <td>False</td>\n",
       "      <td>False</td>\n",
       "      <td>Join Steve Dangle for Game 2 of the Stanley Cu...</td>\n",
       "    </tr>\n",
       "    <tr>\n",
       "      <th>4</th>\n",
       "      <td>D3MWoz_n_Bs</td>\n",
       "      <td>Royal family reunite for Princess Diana statue...</td>\n",
       "      <td>2021-07-01T10:47:57Z</td>\n",
       "      <td>UCIYLOcEUX6TbBo7HQVF2PKA</td>\n",
       "      <td>9 News Australia</td>\n",
       "      <td>25</td>\n",
       "      <td>2021-07-03T00:00:00Z</td>\n",
       "      <td>Nine News Australia|Channel 9|Nine news|channe...</td>\n",
       "      <td>155093</td>\n",
       "      <td>1182</td>\n",
       "      <td>50</td>\n",
       "      <td>0</td>\n",
       "      <td>https://i.ytimg.com/vi/D3MWoz_n_Bs/default.jpg</td>\n",
       "      <td>True</td>\n",
       "      <td>False</td>\n",
       "      <td>A statue of Diana, Princess of Wales, will sta...</td>\n",
       "    </tr>\n",
       "    <tr>\n",
       "      <th>5</th>\n",
       "      <td>p7-jnvsVKb8</td>\n",
       "      <td>BLACKPINK - 「THE ALBUM -JP Ver.-」 Concept Phot...</td>\n",
       "      <td>2021-07-01T09:00:31Z</td>\n",
       "      <td>UCOmHUn--16B90oW2L6FRR3A</td>\n",
       "      <td>BLACKPINK</td>\n",
       "      <td>10</td>\n",
       "      <td>2021-07-03T00:00:00Z</td>\n",
       "      <td>YG Entertainment|YG|와이지|K-pop|BLACKPINK|블랙핑크|블...</td>\n",
       "      <td>5029159</td>\n",
       "      <td>846478</td>\n",
       "      <td>8543</td>\n",
       "      <td>44127</td>\n",
       "      <td>https://i.ytimg.com/vi/p7-jnvsVKb8/default.jpg</td>\n",
       "      <td>False</td>\n",
       "      <td>False</td>\n",
       "      <td>BLACKPINK - 「THE ALBUM -JP Ver.-」 Concept Phot...</td>\n",
       "    </tr>\n",
       "    <tr>\n",
       "      <th>6</th>\n",
       "      <td>tVQAft9Oe3M</td>\n",
       "      <td>I hired a girl for $100 to play minecraft…</td>\n",
       "      <td>2021-07-01T13:15:01Z</td>\n",
       "      <td>UC2OTr2ZnuJg1TAZ5_xcb9Rw</td>\n",
       "      <td>NotNico</td>\n",
       "      <td>20</td>\n",
       "      <td>2021-07-03T00:00:00Z</td>\n",
       "      <td>Nico|NotNico|NicoNot|Minecraft|minecraft woman...</td>\n",
       "      <td>362429</td>\n",
       "      <td>25511</td>\n",
       "      <td>351</td>\n",
       "      <td>2650</td>\n",
       "      <td>https://i.ytimg.com/vi/tVQAft9Oe3M/default.jpg</td>\n",
       "      <td>False</td>\n",
       "      <td>False</td>\n",
       "      <td>I paid a girl $100 to play Minecraft... this w...</td>\n",
       "    </tr>\n",
       "    <tr>\n",
       "      <th>7</th>\n",
       "      <td>6bN45f9NjlA</td>\n",
       "      <td>Moneybagg Yo - Wockesha (Official Music Video)</td>\n",
       "      <td>2021-06-30T16:00:12Z</td>\n",
       "      <td>UC7r-J2sPQVv9i3iNcte1u-A</td>\n",
       "      <td>MoneybaggYoVEVO</td>\n",
       "      <td>10</td>\n",
       "      <td>2021-07-03T00:00:00Z</td>\n",
       "      <td>moneybagg yo|bagg|moneybag yo|big speaker|mone...</td>\n",
       "      <td>1742496</td>\n",
       "      <td>64883</td>\n",
       "      <td>1463</td>\n",
       "      <td>4433</td>\n",
       "      <td>https://i.ytimg.com/vi/6bN45f9NjlA/default.jpg</td>\n",
       "      <td>False</td>\n",
       "      <td>False</td>\n",
       "      <td>Moneybagg Yo's new album out now: https://mone...</td>\n",
       "    </tr>\n",
       "    <tr>\n",
       "      <th>8</th>\n",
       "      <td>ipKa7zzdtjw</td>\n",
       "      <td>I Survived 5000 Days in Hardcore Minecraft - T...</td>\n",
       "      <td>2021-06-30T13:00:14Z</td>\n",
       "      <td>UCFIuxF87ZcHfZSMd3wi77dQ</td>\n",
       "      <td>Loony</td>\n",
       "      <td>20</td>\n",
       "      <td>2021-07-03T00:00:00Z</td>\n",
       "      <td>Minecraft|Minecraft Hardcore|100 days|Minecraf...</td>\n",
       "      <td>1293273</td>\n",
       "      <td>84614</td>\n",
       "      <td>707</td>\n",
       "      <td>6379</td>\n",
       "      <td>https://i.ytimg.com/vi/ipKa7zzdtjw/default.jpg</td>\n",
       "      <td>False</td>\n",
       "      <td>False</td>\n",
       "      <td>After 13 months I've hit day 5000 in my Hardco...</td>\n",
       "    </tr>\n",
       "    <tr>\n",
       "      <th>9</th>\n",
       "      <td>LC2_RBuhX3I</td>\n",
       "      <td>Je mange que la NOURRITURE DE MON ENFANCE pend...</td>\n",
       "      <td>2021-07-02T14:59:01Z</td>\n",
       "      <td>UCC4alo9gA8is4zXfAImf45Q</td>\n",
       "      <td>Carl is cooking</td>\n",
       "      <td>26</td>\n",
       "      <td>2021-07-03T00:00:00Z</td>\n",
       "      <td>carl is cooking|carl is cooking 24h|24h carl i...</td>\n",
       "      <td>142093</td>\n",
       "      <td>10116</td>\n",
       "      <td>112</td>\n",
       "      <td>739</td>\n",
       "      <td>https://i.ytimg.com/vi/LC2_RBuhX3I/default.jpg</td>\n",
       "      <td>False</td>\n",
       "      <td>False</td>\n",
       "      <td>Aujourd'hui sur Carl is cooking... je mange qu...</td>\n",
       "    </tr>\n",
       "  </tbody>\n",
       "</table>\n",
       "</div>"
      ],
      "text/plain": [
       "      video_id                                              title  \\\n",
       "0  qhPnIjr6sbY                           ✅ POP IT vs CREWMATES 😂🔫   \n",
       "1  HvmDxl4YTW0  The Silence And The Fury Announce Trailer | To...   \n",
       "2  JAFSn5JLt7o  Loki Episode 4 Marvel TOP 10 Breakdown Easter ...   \n",
       "3  c0f19JziCR0  Re-Watch Montreal Canadiens vs. Tampa Bay Ligh...   \n",
       "4  D3MWoz_n_Bs  Royal family reunite for Princess Diana statue...   \n",
       "5  p7-jnvsVKb8  BLACKPINK - 「THE ALBUM -JP Ver.-」 Concept Phot...   \n",
       "6  tVQAft9Oe3M         I hired a girl for $100 to play minecraft…   \n",
       "7  6bN45f9NjlA     Moneybagg Yo - Wockesha (Official Music Video)   \n",
       "8  ipKa7zzdtjw  I Survived 5000 Days in Hardcore Minecraft - T...   \n",
       "9  LC2_RBuhX3I  Je mange que la NOURRITURE DE MON ENFANCE pend...   \n",
       "\n",
       "            publishedat                 channelid       channeltitle  \\\n",
       "0  2021-06-30T13:24:41Z  UCUVkUam9f5uVgSMRWLzSIew  Binaziz animation   \n",
       "1  2021-07-01T13:59:59Z  UCugJq15BiB-c1NDYPHiznWQ          Total War   \n",
       "2  2021-06-30T18:20:37Z  UCDiFRMQWpcp8_KD4vwIVicw  Emergency Awesome   \n",
       "3  2021-07-01T03:17:04Z  UCVhibwHk4WKw4leUt6JfRLg          SPORTSNET   \n",
       "4  2021-07-01T10:47:57Z  UCIYLOcEUX6TbBo7HQVF2PKA   9 News Australia   \n",
       "5  2021-07-01T09:00:31Z  UCOmHUn--16B90oW2L6FRR3A          BLACKPINK   \n",
       "6  2021-07-01T13:15:01Z  UC2OTr2ZnuJg1TAZ5_xcb9Rw            NotNico   \n",
       "7  2021-06-30T16:00:12Z  UC7r-J2sPQVv9i3iNcte1u-A    MoneybaggYoVEVO   \n",
       "8  2021-06-30T13:00:14Z  UCFIuxF87ZcHfZSMd3wi77dQ              Loony   \n",
       "9  2021-07-02T14:59:01Z  UCC4alo9gA8is4zXfAImf45Q    Carl is cooking   \n",
       "\n",
       "  categoryid              trending  \\\n",
       "0         20  2021-07-03T00:00:00Z   \n",
       "1         20  2021-07-03T00:00:00Z   \n",
       "2         24  2021-07-03T00:00:00Z   \n",
       "3         17  2021-07-03T00:00:00Z   \n",
       "4         25  2021-07-03T00:00:00Z   \n",
       "5         10  2021-07-03T00:00:00Z   \n",
       "6         20  2021-07-03T00:00:00Z   \n",
       "7         10  2021-07-03T00:00:00Z   \n",
       "8         20  2021-07-03T00:00:00Z   \n",
       "9         26  2021-07-03T00:00:00Z   \n",
       "\n",
       "                                                tags view_count   likes  \\\n",
       "0  амонг ас|амонгас|among us|мультик|animation|ам...    5678188   27226   \n",
       "1  Total War|warhammer|total war warhammer|rome t...     351590   18063   \n",
       "2  Loki|Loki Episode 4|Emergency Awesome|Loki Pos...    1131927   30923   \n",
       "3  Sportsnet|Sports|Canada|game 1|highlights|vega...     236138    4457   \n",
       "4  Nine News Australia|Channel 9|Nine news|channe...     155093    1182   \n",
       "5  YG Entertainment|YG|와이지|K-pop|BLACKPINK|블랙핑크|블...    5029159  846478   \n",
       "6  Nico|NotNico|NicoNot|Minecraft|minecraft woman...     362429   25511   \n",
       "7  moneybagg yo|bagg|moneybag yo|big speaker|mone...    1742496   64883   \n",
       "8  Minecraft|Minecraft Hardcore|100 days|Minecraf...    1293273   84614   \n",
       "9  carl is cooking|carl is cooking 24h|24h carl i...     142093   10116   \n",
       "\n",
       "  dislikes comment_count                                  thumbnail_link  \\\n",
       "0     2280          1094  https://i.ytimg.com/vi/qhPnIjr6sbY/default.jpg   \n",
       "1      187          1262  https://i.ytimg.com/vi/HvmDxl4YTW0/default.jpg   \n",
       "2      647          5535  https://i.ytimg.com/vi/JAFSn5JLt7o/default.jpg   \n",
       "3      118           173  https://i.ytimg.com/vi/c0f19JziCR0/default.jpg   \n",
       "4       50             0  https://i.ytimg.com/vi/D3MWoz_n_Bs/default.jpg   \n",
       "5     8543         44127  https://i.ytimg.com/vi/p7-jnvsVKb8/default.jpg   \n",
       "6      351          2650  https://i.ytimg.com/vi/tVQAft9Oe3M/default.jpg   \n",
       "7     1463          4433  https://i.ytimg.com/vi/6bN45f9NjlA/default.jpg   \n",
       "8      707          6379  https://i.ytimg.com/vi/ipKa7zzdtjw/default.jpg   \n",
       "9      112           739  https://i.ytimg.com/vi/LC2_RBuhX3I/default.jpg   \n",
       "\n",
       "  comments_disabled ratings_disabled  \\\n",
       "0             False            False   \n",
       "1             False            False   \n",
       "2             False            False   \n",
       "3             False            False   \n",
       "4              True            False   \n",
       "5             False            False   \n",
       "6             False            False   \n",
       "7             False            False   \n",
       "8             False            False   \n",
       "9             False            False   \n",
       "\n",
       "                                         description  \n",
       "0                              Amomg Us Animation😂😂😂  \n",
       "1  One seeks the destruction of Chaos, while the ...  \n",
       "2  Loki Episode 4 Nexus Event. Marvel TOP 10, Eas...  \n",
       "3  Join Steve Dangle for Game 2 of the Stanley Cu...  \n",
       "4  A statue of Diana, Princess of Wales, will sta...  \n",
       "5  BLACKPINK - 「THE ALBUM -JP Ver.-」 Concept Phot...  \n",
       "6  I paid a girl $100 to play Minecraft... this w...  \n",
       "7  Moneybagg Yo's new album out now: https://mone...  \n",
       "8  After 13 months I've hit day 5000 in my Hardco...  \n",
       "9  Aujourd'hui sur Carl is cooking... je mange qu...  "
      ]
     },
     "execution_count": 11,
     "metadata": {},
     "output_type": "execute_result"
    }
   ],
   "source": [
    "pd.read_sql(f\"SELECT * FROM {db_name}.ca_csv LIMIT 10\", conn)"
   ]
  },
  {
   "cell_type": "code",
   "execution_count": 12,
   "metadata": {
    "tags": []
   },
   "outputs": [
    {
     "data": {
      "text/html": [
       "<div>\n",
       "<style scoped>\n",
       "    .dataframe tbody tr th:only-of-type {\n",
       "        vertical-align: middle;\n",
       "    }\n",
       "\n",
       "    .dataframe tbody tr th {\n",
       "        vertical-align: top;\n",
       "    }\n",
       "\n",
       "    .dataframe thead th {\n",
       "        text-align: right;\n",
       "    }\n",
       "</style>\n",
       "<table border=\"1\" class=\"dataframe\">\n",
       "  <thead>\n",
       "    <tr style=\"text-align: right;\">\n",
       "      <th></th>\n",
       "    </tr>\n",
       "  </thead>\n",
       "  <tbody>\n",
       "  </tbody>\n",
       "</table>\n",
       "</div>"
      ],
      "text/plain": [
       "Empty DataFrame\n",
       "Columns: []\n",
       "Index: []"
      ]
     },
     "execution_count": 12,
     "metadata": {},
     "output_type": "execute_result"
    }
   ],
   "source": [
    "pd.read_sql(f\"DROP TABLE IF EXISTS {db_name}.us_csv\", conn)\n",
    "\n",
    "\n",
    "us_csv_create = f\"\"\"\n",
    "CREATE EXTERNAL TABLE IF NOT EXISTS {db_name}.us_csv(\n",
    "                video_id string,\n",
    "                title string,\n",
    "                publishedAt string,\n",
    "                channelId string,\n",
    "                channelTitle string,\n",
    "                categoryId string,\n",
    "                trending string,\n",
    "                tags string,\n",
    "                view_count string,\n",
    "                likes string,\n",
    "                dislikes string,\n",
    "                comment_count string,\n",
    "                thumbnail_link string,\n",
    "                comments_disabled string,\n",
    "                ratings_disabled string,\n",
    "                description string)\n",
    "            \n",
    "                \n",
    "                ROW FORMAT SERDE 'org.apache.hadoop.hive.serde2.OpenCSVSerde' \n",
    "                WITH SERDEPROPERTIES (\n",
    "                \"separatorChar\" = ',', \n",
    "                \"quoteChar\" = '\\\"',\n",
    "                \"escapeChar\" = '\\\"'\n",
    "                ) \n",
    "                LOCATION 's3://{bucket}/youtubeStatistics/{csv_folder}/usa/'\n",
    "                TBLPROPERTIES (\"skip.header.line.count\"=\"1\");\n",
    "\"\"\"\n",
    "\n",
    "pd.read_sql(us_csv_create, conn)"
   ]
  },
  {
   "cell_type": "code",
   "execution_count": 13,
   "metadata": {
    "tags": []
   },
   "outputs": [
    {
     "data": {
      "text/html": [
       "<div>\n",
       "<style scoped>\n",
       "    .dataframe tbody tr th:only-of-type {\n",
       "        vertical-align: middle;\n",
       "    }\n",
       "\n",
       "    .dataframe tbody tr th {\n",
       "        vertical-align: top;\n",
       "    }\n",
       "\n",
       "    .dataframe thead th {\n",
       "        text-align: right;\n",
       "    }\n",
       "</style>\n",
       "<table border=\"1\" class=\"dataframe\">\n",
       "  <thead>\n",
       "    <tr style=\"text-align: right;\">\n",
       "      <th></th>\n",
       "      <th>video_id</th>\n",
       "      <th>title</th>\n",
       "      <th>publishedat</th>\n",
       "      <th>channelid</th>\n",
       "      <th>channeltitle</th>\n",
       "      <th>categoryid</th>\n",
       "      <th>trending</th>\n",
       "      <th>tags</th>\n",
       "      <th>view_count</th>\n",
       "      <th>likes</th>\n",
       "      <th>dislikes</th>\n",
       "      <th>comment_count</th>\n",
       "      <th>thumbnail_link</th>\n",
       "      <th>comments_disabled</th>\n",
       "      <th>ratings_disabled</th>\n",
       "      <th>description</th>\n",
       "    </tr>\n",
       "  </thead>\n",
       "  <tbody>\n",
       "    <tr>\n",
       "      <th>0</th>\n",
       "      <td>Y4wWqz3ng_U</td>\n",
       "      <td>This Kinda SUCKS! - Cyberpunk 2077 Next Gen Up...</td>\n",
       "      <td>2022-02-15T18:03:04Z</td>\n",
       "      <td>UCiHFS5txB0O7jckRk-oK8XQ</td>\n",
       "      <td>DreamcastGuy</td>\n",
       "      <td>20</td>\n",
       "      <td>2022-02-19T00:00:00Z</td>\n",
       "      <td>xbox|pc|one|sony|playstation|dreamcast|gaming|...</td>\n",
       "      <td>227405</td>\n",
       "      <td>4959</td>\n",
       "      <td>0</td>\n",
       "      <td>2621</td>\n",
       "      <td>https://i.ytimg.com/vi/Y4wWqz3ng_U/default.jpg</td>\n",
       "      <td>False</td>\n",
       "      <td>False</td>\n",
       "      <td>Like and subscribe if you enjoyed it!Follow me...</td>\n",
       "    </tr>\n",
       "    <tr>\n",
       "      <th>1</th>\n",
       "      <td>zk2rxLH80XA</td>\n",
       "      <td>The SHOCKING Truth about Yae Miko! 4★ Weapon C...</td>\n",
       "      <td>2022-02-16T02:52:38Z</td>\n",
       "      <td>UC8BTtymnCZ7jTvt09cjPMwQ</td>\n",
       "      <td>Gacha Gamer</td>\n",
       "      <td>20</td>\n",
       "      <td>2022-02-19T00:00:00Z</td>\n",
       "      <td>genshin impact|genshin impact mobile|genshin i...</td>\n",
       "      <td>382598</td>\n",
       "      <td>13241</td>\n",
       "      <td>0</td>\n",
       "      <td>1025</td>\n",
       "      <td>https://i.ytimg.com/vi/zk2rxLH80XA/default.jpg</td>\n",
       "      <td>False</td>\n",
       "      <td>False</td>\n",
       "      <td>Yae Miko surprised me in several ways and with...</td>\n",
       "    </tr>\n",
       "    <tr>\n",
       "      <th>2</th>\n",
       "      <td>yPYW5z7O1rw</td>\n",
       "      <td>Mo3 - For The Love (Official Visualizer)</td>\n",
       "      <td>2022-02-14T20:00:29Z</td>\n",
       "      <td>UC_PQ7gGEKIwJv0YsnxH3dUw</td>\n",
       "      <td>HSM</td>\n",
       "      <td>10</td>\n",
       "      <td>2022-02-19T00:00:00Z</td>\n",
       "      <td>Mo3|Dallas|Texas|Rap Music|Badazz</td>\n",
       "      <td>373768</td>\n",
       "      <td>25484</td>\n",
       "      <td>0</td>\n",
       "      <td>1356</td>\n",
       "      <td>https://i.ytimg.com/vi/yPYW5z7O1rw/default.jpg</td>\n",
       "      <td>False</td>\n",
       "      <td>False</td>\n",
       "      <td>#Mo3  #ForTheLove #HSMOfficial Visualizer for ...</td>\n",
       "    </tr>\n",
       "    <tr>\n",
       "      <th>3</th>\n",
       "      <td>eEQMtIX61LA</td>\n",
       "      <td>Bruno Mars, Anderson .Paak, Silk Sonic - Love'...</td>\n",
       "      <td>2022-02-14T20:00:09Z</td>\n",
       "      <td>UCoUM-UJ7rirJYP8CQ0EIaHA</td>\n",
       "      <td>Bruno Mars</td>\n",
       "      <td>10</td>\n",
       "      <td>2022-02-19T00:00:00Z</td>\n",
       "      <td>bruno mars|silk sonic|anderson .paak|anderson ...</td>\n",
       "      <td>1541464</td>\n",
       "      <td>85978</td>\n",
       "      <td>0</td>\n",
       "      <td>4419</td>\n",
       "      <td>https://i.ytimg.com/vi/eEQMtIX61LA/default.jpg</td>\n",
       "      <td>False</td>\n",
       "      <td>False</td>\n",
       "      <td>Bruno Mars, Anderson .Paak, Silk Sonic - Love'...</td>\n",
       "    </tr>\n",
       "    <tr>\n",
       "      <th>4</th>\n",
       "      <td>J6CbElkmmMA</td>\n",
       "      <td>GIANT ALEX Mod in Among Us...</td>\n",
       "      <td>2022-02-16T23:45:01Z</td>\n",
       "      <td>UCXHGoWpySS0smjanTUDa6Gw</td>\n",
       "      <td>GameToons Gaming</td>\n",
       "      <td>20</td>\n",
       "      <td>2022-02-19T00:00:00Z</td>\n",
       "      <td>among us|among us logic|among us adventures|ga...</td>\n",
       "      <td>989968</td>\n",
       "      <td>16910</td>\n",
       "      <td>0</td>\n",
       "      <td>516</td>\n",
       "      <td>https://i.ytimg.com/vi/J6CbElkmmMA/default.jpg</td>\n",
       "      <td>False</td>\n",
       "      <td>False</td>\n",
       "      <td>► SUBSCRIBE to GameToons Gaming! -https://www....</td>\n",
       "    </tr>\n",
       "    <tr>\n",
       "      <th>5</th>\n",
       "      <td>2bZYqFsU72Y</td>\n",
       "      <td>The First-Ever All-Electric Chevy Silverado – ...</td>\n",
       "      <td>2022-02-14T00:16:41Z</td>\n",
       "      <td>UCSVpCNZzOeMekuMiFze3fnQ</td>\n",
       "      <td>Chevrolet</td>\n",
       "      <td>2</td>\n",
       "      <td>2022-02-19T00:00:00Z</td>\n",
       "      <td>Chevrolet|Chevy|Silverado EV|Electric Silverad...</td>\n",
       "      <td>11553038</td>\n",
       "      <td>20700</td>\n",
       "      <td>0</td>\n",
       "      <td>3803</td>\n",
       "      <td>https://i.ytimg.com/vi/2bZYqFsU72Y/default.jpg</td>\n",
       "      <td>False</td>\n",
       "      <td>False</td>\n",
       "      <td>With available Four-Wheel Steer, an available ...</td>\n",
       "    </tr>\n",
       "    <tr>\n",
       "      <th>6</th>\n",
       "      <td>0z1dsxJcAPg</td>\n",
       "      <td>SURPRISING MY BOYFRIEND WITH HIS DREAM CAR !</td>\n",
       "      <td>2022-02-15T04:12:12Z</td>\n",
       "      <td>UCABbEMDC2EdsLuF0pkoV_cg</td>\n",
       "      <td>Jathaly</td>\n",
       "      <td>22</td>\n",
       "      <td>2022-02-19T00:00:00Z</td>\n",
       "      <td>new car|surprise|surprising my boyfriend|car g...</td>\n",
       "      <td>294989</td>\n",
       "      <td>17246</td>\n",
       "      <td>0</td>\n",
       "      <td>975</td>\n",
       "      <td>https://i.ytimg.com/vi/0z1dsxJcAPg/default.jpg</td>\n",
       "      <td>False</td>\n",
       "      <td>False</td>\n",
       "      <td>!!!!!! WELCOME TO JATHALY !!!!!Our solo channe...</td>\n",
       "    </tr>\n",
       "    <tr>\n",
       "      <th>7</th>\n",
       "      <td>wyWo_qkjlLk</td>\n",
       "      <td>How rich people vs really rich people act at t...</td>\n",
       "      <td>2022-02-16T16:31:41Z</td>\n",
       "      <td>UCJSICzUeXSxBvc0UAf2Up8g</td>\n",
       "      <td>Nicholas Crown</td>\n",
       "      <td>22</td>\n",
       "      <td>2022-02-19T00:00:00Z</td>\n",
       "      <td>[None]</td>\n",
       "      <td>424249</td>\n",
       "      <td>50917</td>\n",
       "      <td>0</td>\n",
       "      <td>109</td>\n",
       "      <td>https://i.ytimg.com/vi/wyWo_qkjlLk/default.jpg</td>\n",
       "      <td>False</td>\n",
       "      <td>False</td>\n",
       "      <td></td>\n",
       "    </tr>\n",
       "    <tr>\n",
       "      <th>8</th>\n",
       "      <td>xK5qVtczVmk</td>\n",
       "      <td>Toosii - Love Me Easy (Official Audio)</td>\n",
       "      <td>2022-02-14T17:50:13Z</td>\n",
       "      <td>UCUtmzHuW43bFbUP-Xl0TTKA</td>\n",
       "      <td>Toosii 2x</td>\n",
       "      <td>10</td>\n",
       "      <td>2022-02-19T00:00:00Z</td>\n",
       "      <td>[None]</td>\n",
       "      <td>458758</td>\n",
       "      <td>29118</td>\n",
       "      <td>0</td>\n",
       "      <td>1201</td>\n",
       "      <td>https://i.ytimg.com/vi/xK5qVtczVmk/default.jpg</td>\n",
       "      <td>False</td>\n",
       "      <td>False</td>\n",
       "      <td>Stream // Download Toosii’s “Pretty Girls Love...</td>\n",
       "    </tr>\n",
       "    <tr>\n",
       "      <th>9</th>\n",
       "      <td>VmI0YIqdjv8</td>\n",
       "      <td>I'M PREGNANT!</td>\n",
       "      <td>2022-02-14T14:56:53Z</td>\n",
       "      <td>UCF2oW5-MO8dB6ul9WH9xi0A</td>\n",
       "      <td>blndsundoll4mj</td>\n",
       "      <td>22</td>\n",
       "      <td>2022-02-19T00:00:00Z</td>\n",
       "      <td>[None]</td>\n",
       "      <td>784231</td>\n",
       "      <td>39162</td>\n",
       "      <td>0</td>\n",
       "      <td>10912</td>\n",
       "      <td>https://i.ytimg.com/vi/VmI0YIqdjv8/default.jpg</td>\n",
       "      <td>False</td>\n",
       "      <td>False</td>\n",
       "      <td></td>\n",
       "    </tr>\n",
       "  </tbody>\n",
       "</table>\n",
       "</div>"
      ],
      "text/plain": [
       "      video_id                                              title  \\\n",
       "0  Y4wWqz3ng_U  This Kinda SUCKS! - Cyberpunk 2077 Next Gen Up...   \n",
       "1  zk2rxLH80XA  The SHOCKING Truth about Yae Miko! 4★ Weapon C...   \n",
       "2  yPYW5z7O1rw           Mo3 - For The Love (Official Visualizer)   \n",
       "3  eEQMtIX61LA  Bruno Mars, Anderson .Paak, Silk Sonic - Love'...   \n",
       "4  J6CbElkmmMA                      GIANT ALEX Mod in Among Us...   \n",
       "5  2bZYqFsU72Y  The First-Ever All-Electric Chevy Silverado – ...   \n",
       "6  0z1dsxJcAPg       SURPRISING MY BOYFRIEND WITH HIS DREAM CAR !   \n",
       "7  wyWo_qkjlLk  How rich people vs really rich people act at t...   \n",
       "8  xK5qVtczVmk             Toosii - Love Me Easy (Official Audio)   \n",
       "9  VmI0YIqdjv8                                      I'M PREGNANT!   \n",
       "\n",
       "            publishedat                 channelid      channeltitle  \\\n",
       "0  2022-02-15T18:03:04Z  UCiHFS5txB0O7jckRk-oK8XQ      DreamcastGuy   \n",
       "1  2022-02-16T02:52:38Z  UC8BTtymnCZ7jTvt09cjPMwQ       Gacha Gamer   \n",
       "2  2022-02-14T20:00:29Z  UC_PQ7gGEKIwJv0YsnxH3dUw               HSM   \n",
       "3  2022-02-14T20:00:09Z  UCoUM-UJ7rirJYP8CQ0EIaHA        Bruno Mars   \n",
       "4  2022-02-16T23:45:01Z  UCXHGoWpySS0smjanTUDa6Gw  GameToons Gaming   \n",
       "5  2022-02-14T00:16:41Z  UCSVpCNZzOeMekuMiFze3fnQ         Chevrolet   \n",
       "6  2022-02-15T04:12:12Z  UCABbEMDC2EdsLuF0pkoV_cg           Jathaly   \n",
       "7  2022-02-16T16:31:41Z  UCJSICzUeXSxBvc0UAf2Up8g    Nicholas Crown   \n",
       "8  2022-02-14T17:50:13Z  UCUtmzHuW43bFbUP-Xl0TTKA         Toosii 2x   \n",
       "9  2022-02-14T14:56:53Z  UCF2oW5-MO8dB6ul9WH9xi0A    blndsundoll4mj   \n",
       "\n",
       "  categoryid              trending  \\\n",
       "0         20  2022-02-19T00:00:00Z   \n",
       "1         20  2022-02-19T00:00:00Z   \n",
       "2         10  2022-02-19T00:00:00Z   \n",
       "3         10  2022-02-19T00:00:00Z   \n",
       "4         20  2022-02-19T00:00:00Z   \n",
       "5          2  2022-02-19T00:00:00Z   \n",
       "6         22  2022-02-19T00:00:00Z   \n",
       "7         22  2022-02-19T00:00:00Z   \n",
       "8         10  2022-02-19T00:00:00Z   \n",
       "9         22  2022-02-19T00:00:00Z   \n",
       "\n",
       "                                                tags view_count  likes  \\\n",
       "0  xbox|pc|one|sony|playstation|dreamcast|gaming|...     227405   4959   \n",
       "1  genshin impact|genshin impact mobile|genshin i...     382598  13241   \n",
       "2                  Mo3|Dallas|Texas|Rap Music|Badazz     373768  25484   \n",
       "3  bruno mars|silk sonic|anderson .paak|anderson ...    1541464  85978   \n",
       "4  among us|among us logic|among us adventures|ga...     989968  16910   \n",
       "5  Chevrolet|Chevy|Silverado EV|Electric Silverad...   11553038  20700   \n",
       "6  new car|surprise|surprising my boyfriend|car g...     294989  17246   \n",
       "7                                             [None]     424249  50917   \n",
       "8                                             [None]     458758  29118   \n",
       "9                                             [None]     784231  39162   \n",
       "\n",
       "  dislikes comment_count                                  thumbnail_link  \\\n",
       "0        0          2621  https://i.ytimg.com/vi/Y4wWqz3ng_U/default.jpg   \n",
       "1        0          1025  https://i.ytimg.com/vi/zk2rxLH80XA/default.jpg   \n",
       "2        0          1356  https://i.ytimg.com/vi/yPYW5z7O1rw/default.jpg   \n",
       "3        0          4419  https://i.ytimg.com/vi/eEQMtIX61LA/default.jpg   \n",
       "4        0           516  https://i.ytimg.com/vi/J6CbElkmmMA/default.jpg   \n",
       "5        0          3803  https://i.ytimg.com/vi/2bZYqFsU72Y/default.jpg   \n",
       "6        0           975  https://i.ytimg.com/vi/0z1dsxJcAPg/default.jpg   \n",
       "7        0           109  https://i.ytimg.com/vi/wyWo_qkjlLk/default.jpg   \n",
       "8        0          1201  https://i.ytimg.com/vi/xK5qVtczVmk/default.jpg   \n",
       "9        0         10912  https://i.ytimg.com/vi/VmI0YIqdjv8/default.jpg   \n",
       "\n",
       "  comments_disabled ratings_disabled  \\\n",
       "0             False            False   \n",
       "1             False            False   \n",
       "2             False            False   \n",
       "3             False            False   \n",
       "4             False            False   \n",
       "5             False            False   \n",
       "6             False            False   \n",
       "7             False            False   \n",
       "8             False            False   \n",
       "9             False            False   \n",
       "\n",
       "                                         description  \n",
       "0  Like and subscribe if you enjoyed it!Follow me...  \n",
       "1  Yae Miko surprised me in several ways and with...  \n",
       "2  #Mo3  #ForTheLove #HSMOfficial Visualizer for ...  \n",
       "3  Bruno Mars, Anderson .Paak, Silk Sonic - Love'...  \n",
       "4  ► SUBSCRIBE to GameToons Gaming! -https://www....  \n",
       "5  With available Four-Wheel Steer, an available ...  \n",
       "6  !!!!!! WELCOME TO JATHALY !!!!!Our solo channe...  \n",
       "7                                                     \n",
       "8  Stream // Download Toosii’s “Pretty Girls Love...  \n",
       "9                                                     "
      ]
     },
     "execution_count": 13,
     "metadata": {},
     "output_type": "execute_result"
    }
   ],
   "source": [
    "pd.read_sql(f\"SELECT * FROM {db_name}.us_csv LIMIT 10\", conn)"
   ]
  },
  {
   "cell_type": "code",
   "execution_count": 14,
   "metadata": {
    "tags": []
   },
   "outputs": [
    {
     "data": {
      "text/html": [
       "<div>\n",
       "<style scoped>\n",
       "    .dataframe tbody tr th:only-of-type {\n",
       "        vertical-align: middle;\n",
       "    }\n",
       "\n",
       "    .dataframe tbody tr th {\n",
       "        vertical-align: top;\n",
       "    }\n",
       "\n",
       "    .dataframe thead th {\n",
       "        text-align: right;\n",
       "    }\n",
       "</style>\n",
       "<table border=\"1\" class=\"dataframe\">\n",
       "  <thead>\n",
       "    <tr style=\"text-align: right;\">\n",
       "      <th></th>\n",
       "    </tr>\n",
       "  </thead>\n",
       "  <tbody>\n",
       "  </tbody>\n",
       "</table>\n",
       "</div>"
      ],
      "text/plain": [
       "Empty DataFrame\n",
       "Columns: []\n",
       "Index: []"
      ]
     },
     "execution_count": 14,
     "metadata": {},
     "output_type": "execute_result"
    }
   ],
   "source": [
    "pd.read_sql(f\"DROP TABLE IF EXISTS {db_name}.gb_csv\", conn)\n",
    "\n",
    "\n",
    "gb_csv_create = f\"\"\"\n",
    "CREATE EXTERNAL TABLE IF NOT EXISTS {db_name}.gb_csv(\n",
    "                video_id string,\n",
    "                title string,\n",
    "                publishedAt string,\n",
    "                channelId string,\n",
    "                channelTitle string,\n",
    "                categoryId string,\n",
    "                trending string,\n",
    "                tags string,\n",
    "                view_count string,\n",
    "                likes string,\n",
    "                dislikes string,\n",
    "                comment_count string,\n",
    "                thumbnail_link string,\n",
    "                comments_disabled string,\n",
    "                ratings_disabled string,\n",
    "                description string\n",
    "                )\n",
    "            \n",
    "                ROW FORMAT SERDE 'org.apache.hadoop.hive.serde2.OpenCSVSerde' \n",
    "                WITH SERDEPROPERTIES (\n",
    "                \"separatorChar\" = \",\", \n",
    "                \"quoteChar\" = '\\\"',\n",
    "                \"escapeChar\" = '\\\"'\n",
    "                ) \n",
    "                LOCATION 's3://{bucket}/youtubeStatistics/{csv_folder}/gb/'\n",
    "                TBLPROPERTIES (\"skip.header.line.count\"=\"1\");\n",
    "\"\"\"\n",
    "\n",
    "pd.read_sql(gb_csv_create, conn)"
   ]
  },
  {
   "cell_type": "code",
   "execution_count": 15,
   "metadata": {
    "tags": []
   },
   "outputs": [
    {
     "data": {
      "text/html": [
       "<div>\n",
       "<style scoped>\n",
       "    .dataframe tbody tr th:only-of-type {\n",
       "        vertical-align: middle;\n",
       "    }\n",
       "\n",
       "    .dataframe tbody tr th {\n",
       "        vertical-align: top;\n",
       "    }\n",
       "\n",
       "    .dataframe thead th {\n",
       "        text-align: right;\n",
       "    }\n",
       "</style>\n",
       "<table border=\"1\" class=\"dataframe\">\n",
       "  <thead>\n",
       "    <tr style=\"text-align: right;\">\n",
       "      <th></th>\n",
       "      <th>video_id</th>\n",
       "      <th>title</th>\n",
       "      <th>publishedat</th>\n",
       "      <th>channelid</th>\n",
       "      <th>channeltitle</th>\n",
       "      <th>categoryid</th>\n",
       "      <th>trending</th>\n",
       "      <th>tags</th>\n",
       "      <th>view_count</th>\n",
       "      <th>likes</th>\n",
       "      <th>dislikes</th>\n",
       "      <th>comment_count</th>\n",
       "      <th>thumbnail_link</th>\n",
       "      <th>comments_disabled</th>\n",
       "      <th>ratings_disabled</th>\n",
       "      <th>description</th>\n",
       "    </tr>\n",
       "  </thead>\n",
       "  <tbody>\n",
       "    <tr>\n",
       "      <th>0</th>\n",
       "      <td>iLgCv4I6Bpk</td>\n",
       "      <td>Obsessed with Rebel Wilson hosting this year's...</td>\n",
       "      <td>2022-03-13T21:44:50Z</td>\n",
       "      <td>UCCj956IF62FbT7Gouszaj9w</td>\n",
       "      <td>BBC</td>\n",
       "      <td>24</td>\n",
       "      <td>2022-03-15T00:00:00Z</td>\n",
       "      <td>BBC iPlayer|United Kingdom|British TV|British ...</td>\n",
       "      <td>298981</td>\n",
       "      <td>4073</td>\n",
       "      <td>0</td>\n",
       "      <td>641</td>\n",
       "      <td>https://i.ytimg.com/vi/iLgCv4I6Bpk/default.jpg</td>\n",
       "      <td>False</td>\n",
       "      <td>False</td>\n",
       "      <td>Subscribe and 🔔 to the BBC 👉 https://bit.ly/BB...</td>\n",
       "    </tr>\n",
       "    <tr>\n",
       "      <th>1</th>\n",
       "      <td>lX0TPbCSAbM</td>\n",
       "      <td>MORGENSHTERN - 12 (Official Video, 2022)</td>\n",
       "      <td>2022-03-13T22:00:31Z</td>\n",
       "      <td>UCWnqnojAgMdN0fQpr_xByJw</td>\n",
       "      <td>MORGENSHTERN</td>\n",
       "      <td>10</td>\n",
       "      <td>2022-03-15T00:00:00Z</td>\n",
       "      <td>12|morgenshtern|моргенштерн|клип|премьера|новы...</td>\n",
       "      <td>5191454</td>\n",
       "      <td>571067</td>\n",
       "      <td>0</td>\n",
       "      <td>40438</td>\n",
       "      <td>https://i.ytimg.com/vi/lX0TPbCSAbM/default.jpg</td>\n",
       "      <td>False</td>\n",
       "      <td>False</td>\n",
       "      <td>https://t.me/alisherhateu</td>\n",
       "    </tr>\n",
       "    <tr>\n",
       "      <th>2</th>\n",
       "      <td>Dx7zoJR17HE</td>\n",
       "      <td>EATING 100,000 CALORIES WITH A SUMO WRESTLER!</td>\n",
       "      <td>2022-03-14T04:31:22Z</td>\n",
       "      <td>UC-O9o5coq8iFSVthivq__tw</td>\n",
       "      <td>Lexi Hensler</td>\n",
       "      <td>1</td>\n",
       "      <td>2022-03-15T00:00:00Z</td>\n",
       "      <td>Brent rivera|Lexi Rivera|ben azelart|Pierson w...</td>\n",
       "      <td>615766</td>\n",
       "      <td>31876</td>\n",
       "      <td>0</td>\n",
       "      <td>1234</td>\n",
       "      <td>https://i.ytimg.com/vi/Dx7zoJR17HE/default.jpg</td>\n",
       "      <td>False</td>\n",
       "      <td>False</td>\n",
       "      <td>a bunch of friends and I attempted to eat 100,...</td>\n",
       "    </tr>\n",
       "    <tr>\n",
       "      <th>3</th>\n",
       "      <td>zTcPgggZpfk</td>\n",
       "      <td>Rebel Wilson's Opening Monologue | EE BAFTA Fi...</td>\n",
       "      <td>2022-03-13T20:59:40Z</td>\n",
       "      <td>UCtggghgcffr7-OSjiRXRM3Q</td>\n",
       "      <td>BAFTA</td>\n",
       "      <td>24</td>\n",
       "      <td>2022-03-15T00:00:00Z</td>\n",
       "      <td>baftas|bafta film awards|bafta film awards 202...</td>\n",
       "      <td>143406</td>\n",
       "      <td>1166</td>\n",
       "      <td>0</td>\n",
       "      <td>201</td>\n",
       "      <td>https://i.ytimg.com/vi/zTcPgggZpfk/default.jpg</td>\n",
       "      <td>False</td>\n",
       "      <td>False</td>\n",
       "      <td>Rebel Wilson opens up proceedings at this year...</td>\n",
       "    </tr>\n",
       "    <tr>\n",
       "      <th>4</th>\n",
       "      <td>tR-E9XzwfNg</td>\n",
       "      <td>#POV: You can see how many days you have left ...</td>\n",
       "      <td>2022-03-13T12:09:35Z</td>\n",
       "      <td>UCt2efhikMJ_91ZYub1H5EcQ</td>\n",
       "      <td>Amara Chehade</td>\n",
       "      <td>1</td>\n",
       "      <td>2022-03-15T00:00:00Z</td>\n",
       "      <td>[None]</td>\n",
       "      <td>1686074</td>\n",
       "      <td>210231</td>\n",
       "      <td>0</td>\n",
       "      <td>805</td>\n",
       "      <td>https://i.ytimg.com/vi/tR-E9XzwfNg/default.jpg</td>\n",
       "      <td>False</td>\n",
       "      <td>False</td>\n",
       "      <td></td>\n",
       "    </tr>\n",
       "    <tr>\n",
       "      <th>5</th>\n",
       "      <td>zf7GbseHaFw</td>\n",
       "      <td>SHARING BIG NEWS ... Get Ready With Me!</td>\n",
       "      <td>2022-03-14T16:00:29Z</td>\n",
       "      <td>UC4qk9TtGhBKCkoWz5qGJcGg</td>\n",
       "      <td>Tati</td>\n",
       "      <td>26</td>\n",
       "      <td>2022-03-15T00:00:00Z</td>\n",
       "      <td>YouTube|Beauty|Makeup|Tutorial|Review|blogger|...</td>\n",
       "      <td>298205</td>\n",
       "      <td>21169</td>\n",
       "      <td>0</td>\n",
       "      <td>2203</td>\n",
       "      <td>https://i.ytimg.com/vi/zf7GbseHaFw/default.jpg</td>\n",
       "      <td>False</td>\n",
       "      <td>False</td>\n",
       "      <td>Big News / Life update today!xo's Tati😇  BEST ...</td>\n",
       "    </tr>\n",
       "    <tr>\n",
       "      <th>6</th>\n",
       "      <td>HmJRkaKnsKE</td>\n",
       "      <td>Making A Number 1 Song In 24 Hours</td>\n",
       "      <td>2022-03-13T19:13:49Z</td>\n",
       "      <td>UCKI_nC8ZYng9JmLcRbu1V_w</td>\n",
       "      <td>Stephen Tries Less</td>\n",
       "      <td>23</td>\n",
       "      <td>2022-03-15T00:00:00Z</td>\n",
       "      <td>stephen tries|stephen tries less|steven tries|...</td>\n",
       "      <td>99196</td>\n",
       "      <td>8710</td>\n",
       "      <td>0</td>\n",
       "      <td>294</td>\n",
       "      <td>https://i.ytimg.com/vi/HmJRkaKnsKE/default.jpg</td>\n",
       "      <td>False</td>\n",
       "      <td>False</td>\n",
       "      <td>This week we have less than one day to create ...</td>\n",
       "    </tr>\n",
       "    <tr>\n",
       "      <th>7</th>\n",
       "      <td>Yib8WJbcNoE</td>\n",
       "      <td>Brisket jerky</td>\n",
       "      <td>2022-03-12T23:50:43Z</td>\n",
       "      <td>UCyP9TINtZzvTJfN69GskqLQ</td>\n",
       "      <td>Dan-O’s Seasoning</td>\n",
       "      <td>26</td>\n",
       "      <td>2022-03-15T00:00:00Z</td>\n",
       "      <td>[None]</td>\n",
       "      <td>546811</td>\n",
       "      <td>32602</td>\n",
       "      <td>0</td>\n",
       "      <td>157</td>\n",
       "      <td>https://i.ytimg.com/vi/Yib8WJbcNoE/default.jpg</td>\n",
       "      <td>False</td>\n",
       "      <td>False</td>\n",
       "      <td></td>\n",
       "    </tr>\n",
       "    <tr>\n",
       "      <th>8</th>\n",
       "      <td>ep6gSdzQjyE</td>\n",
       "      <td>I Beat The Broad Jump World Record</td>\n",
       "      <td>2022-03-13T00:12:50Z</td>\n",
       "      <td>UC8cRojZvNtms970qonot1-w</td>\n",
       "      <td>Dexton Shorts</td>\n",
       "      <td>22</td>\n",
       "      <td>2022-03-15T00:00:00Z</td>\n",
       "      <td>I Beat The Broad Jump World Record|#Shorts</td>\n",
       "      <td>680176</td>\n",
       "      <td>47870</td>\n",
       "      <td>0</td>\n",
       "      <td>642</td>\n",
       "      <td>https://i.ytimg.com/vi/ep6gSdzQjyE/default.jpg</td>\n",
       "      <td>False</td>\n",
       "      <td>False</td>\n",
       "      <td>I Beat The Broad Jump World Record#Shorts</td>\n",
       "    </tr>\n",
       "    <tr>\n",
       "      <th>9</th>\n",
       "      <td>Pp7KqNkPqpA</td>\n",
       "      <td>Lacazette ends drought with pin-point penalty ...</td>\n",
       "      <td>2022-03-13T18:41:34Z</td>\n",
       "      <td>UCNAf1k0yIjyGu3k9BwAg3lg</td>\n",
       "      <td>Sky Sports Football</td>\n",
       "      <td>17</td>\n",
       "      <td>2022-03-15T00:00:00Z</td>\n",
       "      <td>sky sports|premier league|Football League|foot...</td>\n",
       "      <td>751371</td>\n",
       "      <td>11252</td>\n",
       "      <td>0</td>\n",
       "      <td>933</td>\n",
       "      <td>https://i.ytimg.com/vi/Pp7KqNkPqpA/default.jpg</td>\n",
       "      <td>False</td>\n",
       "      <td>False</td>\n",
       "      <td>SUBSCRIBE ► http://bit.ly/SSFootballSubPREMIER...</td>\n",
       "    </tr>\n",
       "  </tbody>\n",
       "</table>\n",
       "</div>"
      ],
      "text/plain": [
       "      video_id                                              title  \\\n",
       "0  iLgCv4I6Bpk  Obsessed with Rebel Wilson hosting this year's...   \n",
       "1  lX0TPbCSAbM           MORGENSHTERN - 12 (Official Video, 2022)   \n",
       "2  Dx7zoJR17HE      EATING 100,000 CALORIES WITH A SUMO WRESTLER!   \n",
       "3  zTcPgggZpfk  Rebel Wilson's Opening Monologue | EE BAFTA Fi...   \n",
       "4  tR-E9XzwfNg  #POV: You can see how many days you have left ...   \n",
       "5  zf7GbseHaFw            SHARING BIG NEWS ... Get Ready With Me!   \n",
       "6  HmJRkaKnsKE                 Making A Number 1 Song In 24 Hours   \n",
       "7  Yib8WJbcNoE                                      Brisket jerky   \n",
       "8  ep6gSdzQjyE                 I Beat The Broad Jump World Record   \n",
       "9  Pp7KqNkPqpA  Lacazette ends drought with pin-point penalty ...   \n",
       "\n",
       "            publishedat                 channelid         channeltitle  \\\n",
       "0  2022-03-13T21:44:50Z  UCCj956IF62FbT7Gouszaj9w                  BBC   \n",
       "1  2022-03-13T22:00:31Z  UCWnqnojAgMdN0fQpr_xByJw         MORGENSHTERN   \n",
       "2  2022-03-14T04:31:22Z  UC-O9o5coq8iFSVthivq__tw         Lexi Hensler   \n",
       "3  2022-03-13T20:59:40Z  UCtggghgcffr7-OSjiRXRM3Q                BAFTA   \n",
       "4  2022-03-13T12:09:35Z  UCt2efhikMJ_91ZYub1H5EcQ        Amara Chehade   \n",
       "5  2022-03-14T16:00:29Z  UC4qk9TtGhBKCkoWz5qGJcGg                 Tati   \n",
       "6  2022-03-13T19:13:49Z  UCKI_nC8ZYng9JmLcRbu1V_w   Stephen Tries Less   \n",
       "7  2022-03-12T23:50:43Z  UCyP9TINtZzvTJfN69GskqLQ    Dan-O’s Seasoning   \n",
       "8  2022-03-13T00:12:50Z  UC8cRojZvNtms970qonot1-w        Dexton Shorts   \n",
       "9  2022-03-13T18:41:34Z  UCNAf1k0yIjyGu3k9BwAg3lg  Sky Sports Football   \n",
       "\n",
       "  categoryid              trending  \\\n",
       "0         24  2022-03-15T00:00:00Z   \n",
       "1         10  2022-03-15T00:00:00Z   \n",
       "2          1  2022-03-15T00:00:00Z   \n",
       "3         24  2022-03-15T00:00:00Z   \n",
       "4          1  2022-03-15T00:00:00Z   \n",
       "5         26  2022-03-15T00:00:00Z   \n",
       "6         23  2022-03-15T00:00:00Z   \n",
       "7         26  2022-03-15T00:00:00Z   \n",
       "8         22  2022-03-15T00:00:00Z   \n",
       "9         17  2022-03-15T00:00:00Z   \n",
       "\n",
       "                                                tags view_count   likes  \\\n",
       "0  BBC iPlayer|United Kingdom|British TV|British ...     298981    4073   \n",
       "1  12|morgenshtern|моргенштерн|клип|премьера|новы...    5191454  571067   \n",
       "2  Brent rivera|Lexi Rivera|ben azelart|Pierson w...     615766   31876   \n",
       "3  baftas|bafta film awards|bafta film awards 202...     143406    1166   \n",
       "4                                             [None]    1686074  210231   \n",
       "5  YouTube|Beauty|Makeup|Tutorial|Review|blogger|...     298205   21169   \n",
       "6  stephen tries|stephen tries less|steven tries|...      99196    8710   \n",
       "7                                             [None]     546811   32602   \n",
       "8         I Beat The Broad Jump World Record|#Shorts     680176   47870   \n",
       "9  sky sports|premier league|Football League|foot...     751371   11252   \n",
       "\n",
       "  dislikes comment_count                                  thumbnail_link  \\\n",
       "0        0           641  https://i.ytimg.com/vi/iLgCv4I6Bpk/default.jpg   \n",
       "1        0         40438  https://i.ytimg.com/vi/lX0TPbCSAbM/default.jpg   \n",
       "2        0          1234  https://i.ytimg.com/vi/Dx7zoJR17HE/default.jpg   \n",
       "3        0           201  https://i.ytimg.com/vi/zTcPgggZpfk/default.jpg   \n",
       "4        0           805  https://i.ytimg.com/vi/tR-E9XzwfNg/default.jpg   \n",
       "5        0          2203  https://i.ytimg.com/vi/zf7GbseHaFw/default.jpg   \n",
       "6        0           294  https://i.ytimg.com/vi/HmJRkaKnsKE/default.jpg   \n",
       "7        0           157  https://i.ytimg.com/vi/Yib8WJbcNoE/default.jpg   \n",
       "8        0           642  https://i.ytimg.com/vi/ep6gSdzQjyE/default.jpg   \n",
       "9        0           933  https://i.ytimg.com/vi/Pp7KqNkPqpA/default.jpg   \n",
       "\n",
       "  comments_disabled ratings_disabled  \\\n",
       "0             False            False   \n",
       "1             False            False   \n",
       "2             False            False   \n",
       "3             False            False   \n",
       "4             False            False   \n",
       "5             False            False   \n",
       "6             False            False   \n",
       "7             False            False   \n",
       "8             False            False   \n",
       "9             False            False   \n",
       "\n",
       "                                         description  \n",
       "0  Subscribe and 🔔 to the BBC 👉 https://bit.ly/BB...  \n",
       "1                          https://t.me/alisherhateu  \n",
       "2  a bunch of friends and I attempted to eat 100,...  \n",
       "3  Rebel Wilson opens up proceedings at this year...  \n",
       "4                                                     \n",
       "5  Big News / Life update today!xo's Tati😇  BEST ...  \n",
       "6  This week we have less than one day to create ...  \n",
       "7                                                     \n",
       "8          I Beat The Broad Jump World Record#Shorts  \n",
       "9  SUBSCRIBE ► http://bit.ly/SSFootballSubPREMIER...  "
      ]
     },
     "execution_count": 15,
     "metadata": {},
     "output_type": "execute_result"
    }
   ],
   "source": [
    "pd.read_sql(f\"SELECT * FROM {db_name}.gb_csv LIMIT 10\", conn)"
   ]
  },
  {
   "cell_type": "markdown",
   "metadata": {},
   "source": [
    "#### JSON Tables"
   ]
  },
  {
   "cell_type": "code",
   "execution_count": 16,
   "metadata": {
    "tags": []
   },
   "outputs": [
    {
     "data": {
      "text/html": [
       "<div>\n",
       "<style scoped>\n",
       "    .dataframe tbody tr th:only-of-type {\n",
       "        vertical-align: middle;\n",
       "    }\n",
       "\n",
       "    .dataframe tbody tr th {\n",
       "        vertical-align: top;\n",
       "    }\n",
       "\n",
       "    .dataframe thead th {\n",
       "        text-align: right;\n",
       "    }\n",
       "</style>\n",
       "<table border=\"1\" class=\"dataframe\">\n",
       "  <thead>\n",
       "    <tr style=\"text-align: right;\">\n",
       "      <th></th>\n",
       "    </tr>\n",
       "  </thead>\n",
       "  <tbody>\n",
       "  </tbody>\n",
       "</table>\n",
       "</div>"
      ],
      "text/plain": [
       "Empty DataFrame\n",
       "Columns: []\n",
       "Index: []"
      ]
     },
     "execution_count": 16,
     "metadata": {},
     "output_type": "execute_result"
    }
   ],
   "source": [
    "pd.read_sql(f\"DROP TABLE IF EXISTS {db_name}.us_json\", conn)\n",
    "\n",
    "us_json_create = f\"\"\"\n",
    "CREATE EXTERNAL TABLE IF NOT EXISTS {db_name}.us_json (\n",
    "                        kind string, \n",
    "                        etag string, \n",
    "                        items ARRAY< struct< kind: string, \n",
    "                                             etag: string,\n",
    "                                             id: string,\n",
    "                                             snippet: ARRAY< struct<\n",
    "                                                            title: string,\n",
    "                                                            assignable: string,\n",
    "                                                            channelId: string\n",
    "                                                    >>\n",
    "                                        >>\n",
    "                        )\n",
    "                        ROW FORMAT SERDE 'org.openx.data.jsonserde.JsonSerDe'\n",
    "                        WITH SERDEPROPERTIES ( \n",
    "                                                \"ignore.malformed.json\"=\"true\"\n",
    "                                             )\n",
    "                        LOCATION 's3://{bucket}/youtubeStatistics/{json_folder}/usa/US_category_id_test.json';\n",
    "\"\"\"\n",
    "\n",
    "pd.read_sql(us_json_create, conn)"
   ]
  },
  {
   "cell_type": "code",
   "execution_count": 17,
   "metadata": {
    "tags": []
   },
   "outputs": [
    {
     "data": {
      "text/html": [
       "<div>\n",
       "<style scoped>\n",
       "    .dataframe tbody tr th:only-of-type {\n",
       "        vertical-align: middle;\n",
       "    }\n",
       "\n",
       "    .dataframe tbody tr th {\n",
       "        vertical-align: top;\n",
       "    }\n",
       "\n",
       "    .dataframe thead th {\n",
       "        text-align: right;\n",
       "    }\n",
       "</style>\n",
       "<table border=\"1\" class=\"dataframe\">\n",
       "  <thead>\n",
       "    <tr style=\"text-align: right;\">\n",
       "      <th></th>\n",
       "      <th>kind</th>\n",
       "      <th>etag</th>\n",
       "      <th>id</th>\n",
       "      <th>title</th>\n",
       "      <th>assignable</th>\n",
       "      <th>channelId</th>\n",
       "    </tr>\n",
       "  </thead>\n",
       "  <tbody>\n",
       "  </tbody>\n",
       "</table>\n",
       "</div>"
      ],
      "text/plain": [
       "Empty DataFrame\n",
       "Columns: [kind, etag, id, title, assignable, channelId]\n",
       "Index: []"
      ]
     },
     "execution_count": 17,
     "metadata": {},
     "output_type": "execute_result"
    }
   ],
   "source": [
    "query_json_us = f\"\"\"SELECT \n",
    "                    its.kind, \n",
    "                    its.etag, \n",
    "                    its.id, \n",
    "                    snt.title, \n",
    "                    snt.assignable, \n",
    "                    snt.channelId \n",
    "                    FROM {db_name}.us_json, \n",
    "                    UNNEST({db_name}.us_json.items) AS t(its),\n",
    "                    UNNEST(its.snippet) AS t(snt)\n",
    "                    WHERE snt.title = 'gaming';\n",
    "\"\"\"\n",
    "\n",
    "pd.read_sql(query_json_us, conn)"
   ]
  },
  {
   "cell_type": "code",
   "execution_count": 18,
   "metadata": {
    "tags": []
   },
   "outputs": [
    {
     "data": {
      "text/html": [
       "<div>\n",
       "<style scoped>\n",
       "    .dataframe tbody tr th:only-of-type {\n",
       "        vertical-align: middle;\n",
       "    }\n",
       "\n",
       "    .dataframe tbody tr th {\n",
       "        vertical-align: top;\n",
       "    }\n",
       "\n",
       "    .dataframe thead th {\n",
       "        text-align: right;\n",
       "    }\n",
       "</style>\n",
       "<table border=\"1\" class=\"dataframe\">\n",
       "  <thead>\n",
       "    <tr style=\"text-align: right;\">\n",
       "      <th></th>\n",
       "      <th>database_name</th>\n",
       "    </tr>\n",
       "  </thead>\n",
       "  <tbody>\n",
       "    <tr>\n",
       "      <th>0</th>\n",
       "      <td>default</td>\n",
       "    </tr>\n",
       "    <tr>\n",
       "      <th>1</th>\n",
       "      <td>dsoaws</td>\n",
       "    </tr>\n",
       "    <tr>\n",
       "      <th>2</th>\n",
       "      <td>sagemaker_featurestore</td>\n",
       "    </tr>\n",
       "    <tr>\n",
       "      <th>3</th>\n",
       "      <td>youtubedb</td>\n",
       "    </tr>\n",
       "  </tbody>\n",
       "</table>\n",
       "</div>"
      ],
      "text/plain": [
       "            database_name\n",
       "0                 default\n",
       "1                  dsoaws\n",
       "2  sagemaker_featurestore\n",
       "3               youtubedb"
      ]
     },
     "execution_count": 18,
     "metadata": {},
     "output_type": "execute_result"
    }
   ],
   "source": [
    "statement = \"SHOW DATABASES\"\n",
    "db_show = pd.read_sql(statement, conn)\n",
    "db_show.head(5)"
   ]
  },
  {
   "cell_type": "code",
   "execution_count": 19,
   "metadata": {
    "tags": []
   },
   "outputs": [],
   "source": [
    "if db_name in db_show.values:\n",
    "    ingest_create_athena_db_passed = True"
   ]
  },
  {
   "cell_type": "code",
   "execution_count": 20,
   "metadata": {
    "tags": []
   },
   "outputs": [
    {
     "name": "stdout",
     "output_type": "stream",
     "text": [
      "Stored 'ingest_create_athena_db_passed' (bool)\n"
     ]
    }
   ],
   "source": [
    "%store ingest_create_athena_db_passed"
   ]
  },
  {
   "cell_type": "markdown",
   "metadata": {},
   "source": [
    "## Exploratory Data Analysis"
   ]
  },
  {
   "cell_type": "markdown",
   "metadata": {},
   "source": [
    "#### US American Gaming Exploration"
   ]
  },
  {
   "cell_type": "markdown",
   "metadata": {
    "tags": []
   },
   "source": [
    "Preparing the data for exploration by adjusting the necessary column types."
   ]
  },
  {
   "cell_type": "markdown",
   "metadata": {},
   "source": [
    "### Initial Preprocesssing and transformations to visualize the data properly"
   ]
  },
  {
   "cell_type": "markdown",
   "metadata": {},
   "source": [
    "#### Data Import \n",
    "\n",
    "The data set below is created from the United States area where categoryid = 20 or 'Gaming' category on Youtube. As many of the creators under our companies umbrella do create 'Gaming' content, it is a key area for ViewBoost to focus in on. It also provides an opportunity to refine a robust deep learning neural network as there is still 37,000 records within the US Gaming segment. "
   ]
  },
  {
   "cell_type": "code",
   "execution_count": 21,
   "metadata": {
    "tags": []
   },
   "outputs": [
    {
     "data": {
      "text/html": [
       "<div>\n",
       "<style scoped>\n",
       "    .dataframe tbody tr th:only-of-type {\n",
       "        vertical-align: middle;\n",
       "    }\n",
       "\n",
       "    .dataframe tbody tr th {\n",
       "        vertical-align: top;\n",
       "    }\n",
       "\n",
       "    .dataframe thead th {\n",
       "        text-align: right;\n",
       "    }\n",
       "</style>\n",
       "<table border=\"1\" class=\"dataframe\">\n",
       "  <thead>\n",
       "    <tr style=\"text-align: right;\">\n",
       "      <th></th>\n",
       "      <th>video_id</th>\n",
       "      <th>title</th>\n",
       "      <th>publishedat</th>\n",
       "      <th>channelid</th>\n",
       "      <th>channeltitle</th>\n",
       "      <th>categoryid</th>\n",
       "      <th>trending</th>\n",
       "      <th>tags</th>\n",
       "      <th>view_count</th>\n",
       "      <th>likes</th>\n",
       "      <th>dislikes</th>\n",
       "      <th>comment_count</th>\n",
       "      <th>thumbnail_link</th>\n",
       "      <th>comments_disabled</th>\n",
       "      <th>ratings_disabled</th>\n",
       "      <th>description</th>\n",
       "    </tr>\n",
       "  </thead>\n",
       "  <tbody>\n",
       "    <tr>\n",
       "      <th>0</th>\n",
       "      <td>9NXbtp9uhOI</td>\n",
       "      <td>Minecraft Live 2022: Vote for the Rascal!</td>\n",
       "      <td>2022-10-05T15:00:08Z</td>\n",
       "      <td>UC1sELGmy5jp5fQUugmuYlXQ</td>\n",
       "      <td>Minecraft</td>\n",
       "      <td>20</td>\n",
       "      <td>2022-10-12T00:00:00Z</td>\n",
       "      <td>minecraft live 2022|mob vote|minecraft mob vot...</td>\n",
       "      <td>5499644</td>\n",
       "      <td>317106</td>\n",
       "      <td>0</td>\n",
       "      <td>21601</td>\n",
       "      <td>https://i.ytimg.com/vi/9NXbtp9uhOI/default.jpg</td>\n",
       "      <td>False</td>\n",
       "      <td>False</td>\n",
       "      <td>Meet the rascal, a mischievous mob that loves ...</td>\n",
       "    </tr>\n",
       "    <tr>\n",
       "      <th>1</th>\n",
       "      <td>-K9EGHljtsA</td>\n",
       "      <td>The COMPLETE Guide To All Overwatch 2 Tanks</td>\n",
       "      <td>2022-10-05T15:00:00Z</td>\n",
       "      <td>UCulXXKKrC3LjQpxGNPNMFPA</td>\n",
       "      <td>Flats</td>\n",
       "      <td>20</td>\n",
       "      <td>2022-10-12T00:00:00Z</td>\n",
       "      <td>Flats|Flats Overwatch|FlatsOW|Flats_OW|flats b...</td>\n",
       "      <td>716090</td>\n",
       "      <td>25830</td>\n",
       "      <td>0</td>\n",
       "      <td>1744</td>\n",
       "      <td>https://i.ytimg.com/vi/-K9EGHljtsA/default.jpg</td>\n",
       "      <td>False</td>\n",
       "      <td>False</td>\n",
       "      <td>Excited to release this Overwatch 2 Tank Guide...</td>\n",
       "    </tr>\n",
       "    <tr>\n",
       "      <th>2</th>\n",
       "      <td>qEfEhm7GTnc</td>\n",
       "      <td>New Spell Towers and Monolith Explained (Clash...</td>\n",
       "      <td>2022-10-06T12:00:40Z</td>\n",
       "      <td>UC85aYbNSFjsJdxfpxgQr8tA</td>\n",
       "      <td>Judo Sloth Gaming</td>\n",
       "      <td>20</td>\n",
       "      <td>2022-10-12T00:00:00Z</td>\n",
       "      <td>clash of clans|coc|clash of clans gameplay|cla...</td>\n",
       "      <td>1343604</td>\n",
       "      <td>67998</td>\n",
       "      <td>0</td>\n",
       "      <td>3051</td>\n",
       "      <td>https://i.ytimg.com/vi/qEfEhm7GTnc/default.jpg</td>\n",
       "      <td>False</td>\n",
       "      <td>False</td>\n",
       "      <td>The New Town Hall 15 Update brings New Defense...</td>\n",
       "    </tr>\n",
       "    <tr>\n",
       "      <th>3</th>\n",
       "      <td>wWsFgl-P3xg</td>\n",
       "      <td>Welcome to Overwatch 2</td>\n",
       "      <td>2022-10-05T19:30:03Z</td>\n",
       "      <td>UCsvn_Po0SmunchJYOWpOxMg</td>\n",
       "      <td>videogamedunkey</td>\n",
       "      <td>20</td>\n",
       "      <td>2022-10-12T00:00:00Z</td>\n",
       "      <td>dunkey|dunkey overwatch 2|dunkey overwatch|ove...</td>\n",
       "      <td>3230509</td>\n",
       "      <td>265685</td>\n",
       "      <td>0</td>\n",
       "      <td>8133</td>\n",
       "      <td>https://i.ytimg.com/vi/wWsFgl-P3xg/default.jpg</td>\n",
       "      <td>False</td>\n",
       "      <td>False</td>\n",
       "      <td>They really PHONED this one in.donkey store ht...</td>\n",
       "    </tr>\n",
       "    <tr>\n",
       "      <th>4</th>\n",
       "      <td>U9HAaHc3wnc</td>\n",
       "      <td>Guess Iono’s Partner Pokémon! 🤔 | Pokémon Scar...</td>\n",
       "      <td>2022-10-12T13:05:29Z</td>\n",
       "      <td>UCFctpiB_Hnlk3ejWfHqSm6Q</td>\n",
       "      <td>The Official Pokémon YouTube channel</td>\n",
       "      <td>20</td>\n",
       "      <td>2022-10-13T00:00:00Z</td>\n",
       "      <td>Pokemon Scarlet|Pokemon Violet|Generation 9|Ge...</td>\n",
       "      <td>1098712</td>\n",
       "      <td>49193</td>\n",
       "      <td>0</td>\n",
       "      <td>10939</td>\n",
       "      <td>https://i.ytimg.com/vi/U9HAaHc3wnc/default.jpg</td>\n",
       "      <td>False</td>\n",
       "      <td>False</td>\n",
       "      <td>Meet Iono, an influencer, streamer, and Gym Le...</td>\n",
       "    </tr>\n",
       "  </tbody>\n",
       "</table>\n",
       "</div>"
      ],
      "text/plain": [
       "      video_id                                              title  \\\n",
       "0  9NXbtp9uhOI          Minecraft Live 2022: Vote for the Rascal!   \n",
       "1  -K9EGHljtsA        The COMPLETE Guide To All Overwatch 2 Tanks   \n",
       "2  qEfEhm7GTnc  New Spell Towers and Monolith Explained (Clash...   \n",
       "3  wWsFgl-P3xg                             Welcome to Overwatch 2   \n",
       "4  U9HAaHc3wnc  Guess Iono’s Partner Pokémon! 🤔 | Pokémon Scar...   \n",
       "\n",
       "            publishedat                 channelid  \\\n",
       "0  2022-10-05T15:00:08Z  UC1sELGmy5jp5fQUugmuYlXQ   \n",
       "1  2022-10-05T15:00:00Z  UCulXXKKrC3LjQpxGNPNMFPA   \n",
       "2  2022-10-06T12:00:40Z  UC85aYbNSFjsJdxfpxgQr8tA   \n",
       "3  2022-10-05T19:30:03Z  UCsvn_Po0SmunchJYOWpOxMg   \n",
       "4  2022-10-12T13:05:29Z  UCFctpiB_Hnlk3ejWfHqSm6Q   \n",
       "\n",
       "                           channeltitle categoryid              trending  \\\n",
       "0                             Minecraft         20  2022-10-12T00:00:00Z   \n",
       "1                                 Flats         20  2022-10-12T00:00:00Z   \n",
       "2                     Judo Sloth Gaming         20  2022-10-12T00:00:00Z   \n",
       "3                       videogamedunkey         20  2022-10-12T00:00:00Z   \n",
       "4  The Official Pokémon YouTube channel         20  2022-10-13T00:00:00Z   \n",
       "\n",
       "                                                tags view_count   likes  \\\n",
       "0  minecraft live 2022|mob vote|minecraft mob vot...    5499644  317106   \n",
       "1  Flats|Flats Overwatch|FlatsOW|Flats_OW|flats b...     716090   25830   \n",
       "2  clash of clans|coc|clash of clans gameplay|cla...    1343604   67998   \n",
       "3  dunkey|dunkey overwatch 2|dunkey overwatch|ove...    3230509  265685   \n",
       "4  Pokemon Scarlet|Pokemon Violet|Generation 9|Ge...    1098712   49193   \n",
       "\n",
       "  dislikes comment_count                                  thumbnail_link  \\\n",
       "0        0         21601  https://i.ytimg.com/vi/9NXbtp9uhOI/default.jpg   \n",
       "1        0          1744  https://i.ytimg.com/vi/-K9EGHljtsA/default.jpg   \n",
       "2        0          3051  https://i.ytimg.com/vi/qEfEhm7GTnc/default.jpg   \n",
       "3        0          8133  https://i.ytimg.com/vi/wWsFgl-P3xg/default.jpg   \n",
       "4        0         10939  https://i.ytimg.com/vi/U9HAaHc3wnc/default.jpg   \n",
       "\n",
       "  comments_disabled ratings_disabled  \\\n",
       "0             False            False   \n",
       "1             False            False   \n",
       "2             False            False   \n",
       "3             False            False   \n",
       "4             False            False   \n",
       "\n",
       "                                         description  \n",
       "0  Meet the rascal, a mischievous mob that loves ...  \n",
       "1  Excited to release this Overwatch 2 Tank Guide...  \n",
       "2  The New Town Hall 15 Update brings New Defense...  \n",
       "3  They really PHONED this one in.donkey store ht...  \n",
       "4  Meet Iono, an influencer, streamer, and Gym Le...  "
      ]
     },
     "execution_count": 21,
     "metadata": {},
     "output_type": "execute_result"
    }
   ],
   "source": [
    "# 20 is the category id for gaming in each country\n",
    "us_gaming = pd.read_sql(f\"SELECT * FROM {db_name}.us_csv WHERE us_csv.categoryid LIKE '20';\", conn)\n",
    "us_gaming.head()"
   ]
  },
  {
   "cell_type": "markdown",
   "metadata": {},
   "source": [
    "##### Data type transformations"
   ]
  },
  {
   "cell_type": "code",
   "execution_count": 22,
   "metadata": {
    "tags": []
   },
   "outputs": [
    {
     "name": "stdout",
     "output_type": "stream",
     "text": [
      "Length of data frame: 38046\n",
      "Width of data frame: 16\n",
      "Initial data types: video_id             object\n",
      "title                object\n",
      "publishedat          object\n",
      "channelid            object\n",
      "channeltitle         object\n",
      "categoryid           object\n",
      "trending             object\n",
      "tags                 object\n",
      "view_count           object\n",
      "likes                object\n",
      "dislikes             object\n",
      "comment_count        object\n",
      "thumbnail_link       object\n",
      "comments_disabled    object\n",
      "ratings_disabled     object\n",
      "description          object\n",
      "dtype: object\n",
      "video_id                0\n",
      "title                   0\n",
      "publishedat             0\n",
      "channelid               0\n",
      "channeltitle            0\n",
      "categoryid              0\n",
      "trending                0\n",
      "tags                    0\n",
      "view_count              0\n",
      "likes                   0\n",
      "dislikes                0\n",
      "comment_count           0\n",
      "thumbnail_link          0\n",
      "comments_disabled       0\n",
      "ratings_disabled        0\n",
      "description          1305\n",
      "dtype: int64\n",
      "New data types: video_id                     object\n",
      "title                        object\n",
      "publishedat          datetime64[ns]\n",
      "channelid                    object\n",
      "channeltitle                 object\n",
      "categoryid                    int64\n",
      "trending             datetime64[ns]\n",
      "tags                         object\n",
      "view_count                    int64\n",
      "likes                         int64\n",
      "dislikes                      int64\n",
      "comment_count                 int64\n",
      "thumbnail_link               object\n",
      "comments_disabled             int64\n",
      "ratings_disabled              int64\n",
      "description                  object\n",
      "dtype: object\n"
     ]
    },
    {
     "data": {
      "text/html": [
       "<div>\n",
       "<style scoped>\n",
       "    .dataframe tbody tr th:only-of-type {\n",
       "        vertical-align: middle;\n",
       "    }\n",
       "\n",
       "    .dataframe tbody tr th {\n",
       "        vertical-align: top;\n",
       "    }\n",
       "\n",
       "    .dataframe thead th {\n",
       "        text-align: right;\n",
       "    }\n",
       "</style>\n",
       "<table border=\"1\" class=\"dataframe\">\n",
       "  <thead>\n",
       "    <tr style=\"text-align: right;\">\n",
       "      <th></th>\n",
       "      <th>video_id</th>\n",
       "      <th>title</th>\n",
       "      <th>publishedat</th>\n",
       "      <th>channelid</th>\n",
       "      <th>channeltitle</th>\n",
       "      <th>categoryid</th>\n",
       "      <th>trending</th>\n",
       "      <th>tags</th>\n",
       "      <th>view_count</th>\n",
       "      <th>likes</th>\n",
       "      <th>dislikes</th>\n",
       "      <th>comment_count</th>\n",
       "      <th>thumbnail_link</th>\n",
       "      <th>comments_disabled</th>\n",
       "      <th>ratings_disabled</th>\n",
       "      <th>description</th>\n",
       "    </tr>\n",
       "  </thead>\n",
       "  <tbody>\n",
       "    <tr>\n",
       "      <th>0</th>\n",
       "      <td>9NXbtp9uhOI</td>\n",
       "      <td>Minecraft Live 2022: Vote for the Rascal!</td>\n",
       "      <td>2022-10-05 15:00:08</td>\n",
       "      <td>UC1sELGmy5jp5fQUugmuYlXQ</td>\n",
       "      <td>Minecraft</td>\n",
       "      <td>20</td>\n",
       "      <td>2022-10-12</td>\n",
       "      <td>minecraft live 2022|mob vote|minecraft mob vot...</td>\n",
       "      <td>5499644</td>\n",
       "      <td>317106</td>\n",
       "      <td>0</td>\n",
       "      <td>21601</td>\n",
       "      <td>https://i.ytimg.com/vi/9NXbtp9uhOI/default.jpg</td>\n",
       "      <td>1</td>\n",
       "      <td>1</td>\n",
       "      <td>Meet the rascal, a mischievous mob that loves ...</td>\n",
       "    </tr>\n",
       "    <tr>\n",
       "      <th>1</th>\n",
       "      <td>-K9EGHljtsA</td>\n",
       "      <td>The COMPLETE Guide To All Overwatch 2 Tanks</td>\n",
       "      <td>2022-10-05 15:00:00</td>\n",
       "      <td>UCulXXKKrC3LjQpxGNPNMFPA</td>\n",
       "      <td>Flats</td>\n",
       "      <td>20</td>\n",
       "      <td>2022-10-12</td>\n",
       "      <td>Flats|Flats Overwatch|FlatsOW|Flats_OW|flats b...</td>\n",
       "      <td>716090</td>\n",
       "      <td>25830</td>\n",
       "      <td>0</td>\n",
       "      <td>1744</td>\n",
       "      <td>https://i.ytimg.com/vi/-K9EGHljtsA/default.jpg</td>\n",
       "      <td>1</td>\n",
       "      <td>1</td>\n",
       "      <td>Excited to release this Overwatch 2 Tank Guide...</td>\n",
       "    </tr>\n",
       "    <tr>\n",
       "      <th>2</th>\n",
       "      <td>qEfEhm7GTnc</td>\n",
       "      <td>New Spell Towers and Monolith Explained (Clash...</td>\n",
       "      <td>2022-10-06 12:00:40</td>\n",
       "      <td>UC85aYbNSFjsJdxfpxgQr8tA</td>\n",
       "      <td>Judo Sloth Gaming</td>\n",
       "      <td>20</td>\n",
       "      <td>2022-10-12</td>\n",
       "      <td>clash of clans|coc|clash of clans gameplay|cla...</td>\n",
       "      <td>1343604</td>\n",
       "      <td>67998</td>\n",
       "      <td>0</td>\n",
       "      <td>3051</td>\n",
       "      <td>https://i.ytimg.com/vi/qEfEhm7GTnc/default.jpg</td>\n",
       "      <td>1</td>\n",
       "      <td>1</td>\n",
       "      <td>The New Town Hall 15 Update brings New Defense...</td>\n",
       "    </tr>\n",
       "    <tr>\n",
       "      <th>3</th>\n",
       "      <td>wWsFgl-P3xg</td>\n",
       "      <td>Welcome to Overwatch 2</td>\n",
       "      <td>2022-10-05 19:30:03</td>\n",
       "      <td>UCsvn_Po0SmunchJYOWpOxMg</td>\n",
       "      <td>videogamedunkey</td>\n",
       "      <td>20</td>\n",
       "      <td>2022-10-12</td>\n",
       "      <td>dunkey|dunkey overwatch 2|dunkey overwatch|ove...</td>\n",
       "      <td>3230509</td>\n",
       "      <td>265685</td>\n",
       "      <td>0</td>\n",
       "      <td>8133</td>\n",
       "      <td>https://i.ytimg.com/vi/wWsFgl-P3xg/default.jpg</td>\n",
       "      <td>1</td>\n",
       "      <td>1</td>\n",
       "      <td>They really PHONED this one in.donkey store ht...</td>\n",
       "    </tr>\n",
       "    <tr>\n",
       "      <th>4</th>\n",
       "      <td>U9HAaHc3wnc</td>\n",
       "      <td>Guess Iono’s Partner Pokémon! 🤔 | Pokémon Scar...</td>\n",
       "      <td>2022-10-12 13:05:29</td>\n",
       "      <td>UCFctpiB_Hnlk3ejWfHqSm6Q</td>\n",
       "      <td>The Official Pokémon YouTube channel</td>\n",
       "      <td>20</td>\n",
       "      <td>2022-10-13</td>\n",
       "      <td>Pokemon Scarlet|Pokemon Violet|Generation 9|Ge...</td>\n",
       "      <td>1098712</td>\n",
       "      <td>49193</td>\n",
       "      <td>0</td>\n",
       "      <td>10939</td>\n",
       "      <td>https://i.ytimg.com/vi/U9HAaHc3wnc/default.jpg</td>\n",
       "      <td>1</td>\n",
       "      <td>1</td>\n",
       "      <td>Meet Iono, an influencer, streamer, and Gym Le...</td>\n",
       "    </tr>\n",
       "  </tbody>\n",
       "</table>\n",
       "</div>"
      ],
      "text/plain": [
       "      video_id                                              title  \\\n",
       "0  9NXbtp9uhOI          Minecraft Live 2022: Vote for the Rascal!   \n",
       "1  -K9EGHljtsA        The COMPLETE Guide To All Overwatch 2 Tanks   \n",
       "2  qEfEhm7GTnc  New Spell Towers and Monolith Explained (Clash...   \n",
       "3  wWsFgl-P3xg                             Welcome to Overwatch 2   \n",
       "4  U9HAaHc3wnc  Guess Iono’s Partner Pokémon! 🤔 | Pokémon Scar...   \n",
       "\n",
       "          publishedat                 channelid  \\\n",
       "0 2022-10-05 15:00:08  UC1sELGmy5jp5fQUugmuYlXQ   \n",
       "1 2022-10-05 15:00:00  UCulXXKKrC3LjQpxGNPNMFPA   \n",
       "2 2022-10-06 12:00:40  UC85aYbNSFjsJdxfpxgQr8tA   \n",
       "3 2022-10-05 19:30:03  UCsvn_Po0SmunchJYOWpOxMg   \n",
       "4 2022-10-12 13:05:29  UCFctpiB_Hnlk3ejWfHqSm6Q   \n",
       "\n",
       "                           channeltitle  categoryid   trending  \\\n",
       "0                             Minecraft          20 2022-10-12   \n",
       "1                                 Flats          20 2022-10-12   \n",
       "2                     Judo Sloth Gaming          20 2022-10-12   \n",
       "3                       videogamedunkey          20 2022-10-12   \n",
       "4  The Official Pokémon YouTube channel          20 2022-10-13   \n",
       "\n",
       "                                                tags  view_count   likes  \\\n",
       "0  minecraft live 2022|mob vote|minecraft mob vot...     5499644  317106   \n",
       "1  Flats|Flats Overwatch|FlatsOW|Flats_OW|flats b...      716090   25830   \n",
       "2  clash of clans|coc|clash of clans gameplay|cla...     1343604   67998   \n",
       "3  dunkey|dunkey overwatch 2|dunkey overwatch|ove...     3230509  265685   \n",
       "4  Pokemon Scarlet|Pokemon Violet|Generation 9|Ge...     1098712   49193   \n",
       "\n",
       "   dislikes  comment_count                                  thumbnail_link  \\\n",
       "0         0          21601  https://i.ytimg.com/vi/9NXbtp9uhOI/default.jpg   \n",
       "1         0           1744  https://i.ytimg.com/vi/-K9EGHljtsA/default.jpg   \n",
       "2         0           3051  https://i.ytimg.com/vi/qEfEhm7GTnc/default.jpg   \n",
       "3         0           8133  https://i.ytimg.com/vi/wWsFgl-P3xg/default.jpg   \n",
       "4         0          10939  https://i.ytimg.com/vi/U9HAaHc3wnc/default.jpg   \n",
       "\n",
       "   comments_disabled  ratings_disabled  \\\n",
       "0                  1                 1   \n",
       "1                  1                 1   \n",
       "2                  1                 1   \n",
       "3                  1                 1   \n",
       "4                  1                 1   \n",
       "\n",
       "                                         description  \n",
       "0  Meet the rascal, a mischievous mob that loves ...  \n",
       "1  Excited to release this Overwatch 2 Tank Guide...  \n",
       "2  The New Town Hall 15 Update brings New Defense...  \n",
       "3  They really PHONED this one in.donkey store ht...  \n",
       "4  Meet Iono, an influencer, streamer, and Gym Le...  "
      ]
     },
     "execution_count": 22,
     "metadata": {},
     "output_type": "execute_result"
    }
   ],
   "source": [
    "print(\"Length of data frame:\", us_gaming.shape[0])\n",
    "print(\"Width of data frame:\", us_gaming.shape[1])\n",
    "print(\"Initial data types:\", us_gaming.dtypes)\n",
    "\n",
    "\n",
    "# Change to integer\n",
    "us_gaming['categoryid'] = us_gaming['categoryid'].astype(int) \n",
    "us_gaming['view_count'] = us_gaming['view_count'].astype(int)\n",
    "us_gaming['likes'] = us_gaming['likes'].astype(int)\n",
    "us_gaming['dislikes'] = us_gaming['dislikes'].astype(int)\n",
    "us_gaming['comment_count'] = us_gaming['comment_count'].astype(int)\n",
    "\n",
    "\n",
    "# Change to bool then int representations\n",
    "us_gaming['ratings_disabled'] = us_gaming['ratings_disabled'].astype(bool).apply(int)\n",
    "us_gaming['comments_disabled'] = us_gaming['comments_disabled'].astype(bool).apply(int)\n",
    "\n",
    "\n",
    "\n",
    "# Change to datetime\n",
    "us_gaming['publishedat'] = pd.to_datetime(us_gaming['publishedat'], infer_datetime_format=True)\n",
    "us_gaming['trending'] = pd.to_datetime(us_gaming['trending'], infer_datetime_format=True)\n",
    "\n",
    "\n",
    "\n",
    "print(us_gaming.isnull().sum())\n",
    "print(\"New data types:\", us_gaming.dtypes)\n",
    "us_gaming.head()"
   ]
  },
  {
   "cell_type": "markdown",
   "metadata": {},
   "source": [
    "Above lists the new data types in addition to listing the null values. For our dataset the only null values exist in the description column as many of the videos simply have not had a description written, these values are still important for the dataset and should not be dropped. Instead, the null descriptions will be filled with \"Not Available\" as a way to give the nulls a stand-in value."
   ]
  },
  {
   "cell_type": "markdown",
   "metadata": {},
   "source": [
    "#### Handling Duplicate Videos\n",
    "\n",
    "One major issue with this dataset for the purposes of predicting views for high performing content creators, is that the videos may trend on youtube more than once. In these cases, the scraper used re scraps the video. These duplicates will have to be dropped.  "
   ]
  },
  {
   "cell_type": "code",
   "execution_count": 23,
   "metadata": {
    "tags": []
   },
   "outputs": [],
   "source": [
    "us_gaming.drop_duplicates('video_id', keep = 'last', inplace = True)"
   ]
  },
  {
   "cell_type": "code",
   "execution_count": 24,
   "metadata": {
    "tags": []
   },
   "outputs": [
    {
     "data": {
      "text/html": [
       "<div>\n",
       "<style scoped>\n",
       "    .dataframe tbody tr th:only-of-type {\n",
       "        vertical-align: middle;\n",
       "    }\n",
       "\n",
       "    .dataframe tbody tr th {\n",
       "        vertical-align: top;\n",
       "    }\n",
       "\n",
       "    .dataframe thead th {\n",
       "        text-align: right;\n",
       "    }\n",
       "</style>\n",
       "<table border=\"1\" class=\"dataframe\">\n",
       "  <thead>\n",
       "    <tr style=\"text-align: right;\">\n",
       "      <th></th>\n",
       "      <th>video_id</th>\n",
       "      <th>title</th>\n",
       "      <th>publishedat</th>\n",
       "      <th>channelid</th>\n",
       "      <th>channeltitle</th>\n",
       "      <th>categoryid</th>\n",
       "      <th>trending</th>\n",
       "      <th>tags</th>\n",
       "      <th>view_count</th>\n",
       "      <th>likes</th>\n",
       "      <th>dislikes</th>\n",
       "      <th>comment_count</th>\n",
       "      <th>thumbnail_link</th>\n",
       "      <th>comments_disabled</th>\n",
       "      <th>ratings_disabled</th>\n",
       "      <th>description</th>\n",
       "    </tr>\n",
       "  </thead>\n",
       "  <tbody>\n",
       "    <tr>\n",
       "      <th>159</th>\n",
       "      <td>BcchfgfC6F4</td>\n",
       "      <td>Dragon Ball Breakers Is NOT Fair 💀</td>\n",
       "      <td>2022-10-13 00:00:05</td>\n",
       "      <td>UCrfoHZm9EHP0vtt94xM7p1Q</td>\n",
       "      <td>SeeReax</td>\n",
       "      <td>20</td>\n",
       "      <td>2022-10-16</td>\n",
       "      <td>SeeReax|Dragon Ball The Breakers|Dragon Ball T...</td>\n",
       "      <td>171377</td>\n",
       "      <td>13924</td>\n",
       "      <td>0</td>\n",
       "      <td>392</td>\n",
       "      <td>https://i.ytimg.com/vi/BcchfgfC6F4/default.jpg</td>\n",
       "      <td>1</td>\n",
       "      <td>1</td>\n",
       "      <td>Dragon Ball Breakers is nearing it's full rele...</td>\n",
       "    </tr>\n",
       "    <tr>\n",
       "      <th>166</th>\n",
       "      <td>dw8bqmnLQmw</td>\n",
       "      <td>What is the hardest thing to do in Minecraft?</td>\n",
       "      <td>2022-10-10 17:20:44</td>\n",
       "      <td>UCSn9XPmhbkCAcqb_r1limvw</td>\n",
       "      <td>Twifies</td>\n",
       "      <td>20</td>\n",
       "      <td>2022-10-16</td>\n",
       "      <td>redsheepmlg|redsheep mlg|red sheep|redsheepmlg...</td>\n",
       "      <td>134214</td>\n",
       "      <td>7616</td>\n",
       "      <td>0</td>\n",
       "      <td>471</td>\n",
       "      <td>https://i.ytimg.com/vi/dw8bqmnLQmw/default.jpg</td>\n",
       "      <td>1</td>\n",
       "      <td>1</td>\n",
       "      <td>what is the most difficult thing to do in mine...</td>\n",
       "    </tr>\n",
       "    <tr>\n",
       "      <th>205</th>\n",
       "      <td>bunhaERjxmE</td>\n",
       "      <td>Frog Slime 🐸✨ | Ep. 11 | Minecraft Empires S2 ...</td>\n",
       "      <td>2022-10-11 17:41:39</td>\n",
       "      <td>UCzTlXb7ivVzuFlugVCv3Kvg</td>\n",
       "      <td>LDShadowLady</td>\n",
       "      <td>20</td>\n",
       "      <td>2022-10-17</td>\n",
       "      <td>ldshadowlady|minecraft|mini game|girl gamer|pi...</td>\n",
       "      <td>925974</td>\n",
       "      <td>58920</td>\n",
       "      <td>0</td>\n",
       "      <td>3809</td>\n",
       "      <td>https://i.ytimg.com/vi/bunhaERjxmE/default.jpg</td>\n",
       "      <td>1</td>\n",
       "      <td>1</td>\n",
       "      <td>Please *boop* the like button if you enjoy the...</td>\n",
       "    </tr>\n",
       "    <tr>\n",
       "      <th>206</th>\n",
       "      <td>wOeETvhMF8k</td>\n",
       "      <td>THE NFL BANNED PLAYERS FROM USING THESE GLOVES...</td>\n",
       "      <td>2022-10-12 00:00:17</td>\n",
       "      <td>UCyonhOKT0NDMXzM72UFcu5A</td>\n",
       "      <td>Eli Mack</td>\n",
       "      <td>20</td>\n",
       "      <td>2022-10-17</td>\n",
       "      <td>football challenge|stickum|football nfl|nfl ch...</td>\n",
       "      <td>724080</td>\n",
       "      <td>8369</td>\n",
       "      <td>0</td>\n",
       "      <td>505</td>\n",
       "      <td>https://i.ytimg.com/vi/wOeETvhMF8k/default.jpg</td>\n",
       "      <td>1</td>\n",
       "      <td>1</td>\n",
       "      <td>Yo what's up guys today we did a irl football ...</td>\n",
       "    </tr>\n",
       "    <tr>\n",
       "      <th>207</th>\n",
       "      <td>_akEYecFdyM</td>\n",
       "      <td>Overwatch 2 is free but I still feel scammed</td>\n",
       "      <td>2022-10-11 17:00:18</td>\n",
       "      <td>UCd9TUql8V7J-Xy1RNgA7MlQ</td>\n",
       "      <td>zanny</td>\n",
       "      <td>20</td>\n",
       "      <td>2022-10-17</td>\n",
       "      <td>[None]</td>\n",
       "      <td>1897586</td>\n",
       "      <td>121300</td>\n",
       "      <td>0</td>\n",
       "      <td>3485</td>\n",
       "      <td>https://i.ytimg.com/vi/_akEYecFdyM/default.jpg</td>\n",
       "      <td>1</td>\n",
       "      <td>1</td>\n",
       "      <td>Ashe main►zan clan meme merchhttps://crowdmade...</td>\n",
       "    </tr>\n",
       "  </tbody>\n",
       "</table>\n",
       "</div>"
      ],
      "text/plain": [
       "        video_id                                              title  \\\n",
       "159  BcchfgfC6F4                 Dragon Ball Breakers Is NOT Fair 💀   \n",
       "166  dw8bqmnLQmw      What is the hardest thing to do in Minecraft?   \n",
       "205  bunhaERjxmE  Frog Slime 🐸✨ | Ep. 11 | Minecraft Empires S2 ...   \n",
       "206  wOeETvhMF8k  THE NFL BANNED PLAYERS FROM USING THESE GLOVES...   \n",
       "207  _akEYecFdyM       Overwatch 2 is free but I still feel scammed   \n",
       "\n",
       "            publishedat                 channelid  channeltitle  categoryid  \\\n",
       "159 2022-10-13 00:00:05  UCrfoHZm9EHP0vtt94xM7p1Q       SeeReax          20   \n",
       "166 2022-10-10 17:20:44  UCSn9XPmhbkCAcqb_r1limvw       Twifies          20   \n",
       "205 2022-10-11 17:41:39  UCzTlXb7ivVzuFlugVCv3Kvg  LDShadowLady          20   \n",
       "206 2022-10-12 00:00:17  UCyonhOKT0NDMXzM72UFcu5A      Eli Mack          20   \n",
       "207 2022-10-11 17:00:18  UCd9TUql8V7J-Xy1RNgA7MlQ         zanny          20   \n",
       "\n",
       "      trending                                               tags  view_count  \\\n",
       "159 2022-10-16  SeeReax|Dragon Ball The Breakers|Dragon Ball T...      171377   \n",
       "166 2022-10-16  redsheepmlg|redsheep mlg|red sheep|redsheepmlg...      134214   \n",
       "205 2022-10-17  ldshadowlady|minecraft|mini game|girl gamer|pi...      925974   \n",
       "206 2022-10-17  football challenge|stickum|football nfl|nfl ch...      724080   \n",
       "207 2022-10-17                                             [None]     1897586   \n",
       "\n",
       "      likes  dislikes  comment_count  \\\n",
       "159   13924         0            392   \n",
       "166    7616         0            471   \n",
       "205   58920         0           3809   \n",
       "206    8369         0            505   \n",
       "207  121300         0           3485   \n",
       "\n",
       "                                     thumbnail_link  comments_disabled  \\\n",
       "159  https://i.ytimg.com/vi/BcchfgfC6F4/default.jpg                  1   \n",
       "166  https://i.ytimg.com/vi/dw8bqmnLQmw/default.jpg                  1   \n",
       "205  https://i.ytimg.com/vi/bunhaERjxmE/default.jpg                  1   \n",
       "206  https://i.ytimg.com/vi/wOeETvhMF8k/default.jpg                  1   \n",
       "207  https://i.ytimg.com/vi/_akEYecFdyM/default.jpg                  1   \n",
       "\n",
       "     ratings_disabled                                        description  \n",
       "159                 1  Dragon Ball Breakers is nearing it's full rele...  \n",
       "166                 1  what is the most difficult thing to do in mine...  \n",
       "205                 1  Please *boop* the like button if you enjoy the...  \n",
       "206                 1  Yo what's up guys today we did a irl football ...  \n",
       "207                 1  Ashe main►zan clan meme merchhttps://crowdmade...  "
      ]
     },
     "execution_count": 24,
     "metadata": {},
     "output_type": "execute_result"
    }
   ],
   "source": [
    "us_gaming.head()"
   ]
  },
  {
   "cell_type": "markdown",
   "metadata": {},
   "source": [
    "##### Null Handling\n",
    "\n",
    "Null values are important within this dataset and will therefore have words assigned to them for representation. "
   ]
  },
  {
   "cell_type": "code",
   "execution_count": 25,
   "metadata": {
    "tags": []
   },
   "outputs": [
    {
     "data": {
      "text/plain": [
       "video_id             0\n",
       "title                0\n",
       "publishedat          0\n",
       "channelid            0\n",
       "channeltitle         0\n",
       "categoryid           0\n",
       "trending             0\n",
       "tags                 0\n",
       "view_count           0\n",
       "likes                0\n",
       "dislikes             0\n",
       "comment_count        0\n",
       "thumbnail_link       0\n",
       "comments_disabled    0\n",
       "ratings_disabled     0\n",
       "description          0\n",
       "dtype: int64"
      ]
     },
     "execution_count": 25,
     "metadata": {},
     "output_type": "execute_result"
    }
   ],
   "source": [
    "us_gaming['description'].fillna(\"not available\", inplace = True)\n",
    "us_gaming.isna().sum()"
   ]
  },
  {
   "cell_type": "markdown",
   "metadata": {},
   "source": [
    "The value counts of the binary features below show that both have zero distribution and should not be used in modeling moving forward. "
   ]
  },
  {
   "cell_type": "code",
   "execution_count": 26,
   "metadata": {
    "tags": []
   },
   "outputs": [
    {
     "name": "stdout",
     "output_type": "stream",
     "text": [
      "1    6993\n",
      "Name: ratings_disabled, dtype: int64\n",
      "1    6993\n",
      "Name: comments_disabled, dtype: int64\n"
     ]
    }
   ],
   "source": [
    "print(us_gaming['ratings_disabled'].value_counts())\n",
    "print(us_gaming['comments_disabled'].value_counts())"
   ]
  },
  {
   "cell_type": "code",
   "execution_count": 27,
   "metadata": {
    "tags": []
   },
   "outputs": [
    {
     "data": {
      "text/plain": [
       "(6993, 5)"
      ]
     },
     "execution_count": 27,
     "metadata": {},
     "output_type": "execute_result"
    }
   ],
   "source": [
    "gaming = us_gaming.drop(columns = ['ratings_disabled', 'comments_disabled', 'thumbnail_link','publishedat','channelid',\n",
    "                                   'channeltitle','categoryid','trending','likes','dislikes','comment_count'])\n",
    "\n",
    "gaming.shape"
   ]
  },
  {
   "cell_type": "markdown",
   "metadata": {
    "tags": []
   },
   "source": [
    "#### Storing the cleaned dataset"
   ]
  },
  {
   "cell_type": "code",
   "execution_count": 28,
   "metadata": {
    "tags": []
   },
   "outputs": [],
   "source": [
    "s3_client = boto3.client(\"s3\")\n",
    "KEY='youtubeStatistics/dfs/gaming.csv'\n",
    "BUCKET= session.default_bucket()\n",
    "#response = s3_client.get_object(Bucket=BUCKET, Key=KEY)\n",
    "\n",
    "with io.StringIO() as csv_buffer:\n",
    "    us_gaming.to_csv(csv_buffer, index=False, header=True)\n",
    "\n",
    "    response = s3_client.put_object(\n",
    "        Bucket=BUCKET, Key=KEY, Body=csv_buffer.getvalue()\n",
    "    )"
   ]
  },
  {
   "cell_type": "markdown",
   "metadata": {},
   "source": [
    "Now the objects need to be prepared for visualization & modeling. A count vectorizer will be used to create visualizations based up the vocabulary available within the dataset. "
   ]
  },
  {
   "cell_type": "code",
   "execution_count": 29,
   "metadata": {
    "tags": []
   },
   "outputs": [
    {
     "name": "stderr",
     "output_type": "stream",
     "text": [
      "[nltk_data] Downloading package stopwords to /root/nltk_data...\n",
      "[nltk_data]   Package stopwords is already up-to-date!\n"
     ]
    }
   ],
   "source": [
    "nltk.download('stopwords')\n",
    "\n",
    "stopwords = nltk.corpus.stopwords.words(['english'])\n",
    "ps = nltk.PorterStemmer()\n",
    "extra_stops = ['00','000','007','01','02','03','04','06','07','09sharkboy','10','100','1000','10000','100000','1000000',\n",
    "               '000001','001','002','004','008','011','013','031','036','037','05','050','062','08','09','094',\n",
    "               '1001','1006','101','102','103','1050','10m','10t','10th','10x','11','119','12','120','12240','13','132',\n",
    "               '133','13th','14','1400','140ms','15','150','150k','15th','16','1600','17', '175','18','1800','183','184',\n",
    "               '188','189','18c','19','19500','20','200','21','2100','2163','21w05a','21w05b','21w06a','21w07a','21w07b',\n",
    "               '21w08a','21w08b','21w09a','21w13a','21w13b','21w14a','21w14b','22','22w11a','22w13oneblockatatime','22w42a',\n",
    "               '22w42b','23','23w04a','23w04b','24','25','25000','2500hp','25th','26','27','28','29','2900','296','2b','2b2t',\n",
    "               '2bt2','2e','31','3100','31415','32','3200','33','34','35','35th','36','360','3600','365','37','3700','39','3900',\n",
    "               '30th','40','400','4000','40000','4200','43','44','4400','46','4900','4logj','4logshell','4th','4x21','4x28','50',\n",
    "               '500','5000','50000','505','510mph','52nd','5300','55','56','59','5e','5g','5n','5th','5up','60','600','30','300',\n",
    "               '3000','303','63','6323','64','64dd','68','69','6a6y','6acc','6locc','6lue','70','700','7000','343i','34547','73',\n",
    "               '7348951','74','77','781','7900','7th','80','8000','80s','82','84','85','87','876','876tv','898','8bitryan','900',\n",
    "               '90s','93','94','96','97','99','999','9th','a380','a6d','a750','abc','adc','2006','2007','2007scape','2008','201',\n",
    "               '2010','2011','2012','2013','2014','2015','2016','2017','2018','2019','202','2020','2021','2022','2023','2030','2042',\n",
    "               '2045','2050','2077','20th','107','109','1236','1250','128','147','14th','152','157','163','167','179','18th','1909',\n",
    "               '19931','19th','1ft','1k','1st','1½','2000','2032','217','219','21st','221129','221130','23rd','240','248','250','25688',\n",
    "               '25k','26th','27th','41','42','425','438','45','4500hp','47','474','48','489','49','136','143','16th','2nd','2wei','3070',\n",
    "               '3080','3090','30k','348','3500','355','38','4070','4080','4090','40k','4e','51','52','53','54','542','560','562','567',\n",
    "               '568','570','571','572','575','576','577','58','585','594','6000','61','623','65','66','673','694','6th','40th','7096',\n",
    "               '71','72','746','75','750','76m','79','7m','800','800x600','817','851','8th','90','91','925','951','97m','996','aang','aau',\n",
    "               'acnient','anymore','almost','bel','티원롤','파피플레이타임','펌킨','프나펌','프레디','프레디의','피규어','피자가게','허기워기',\n",
    "               '오징어','제이홉','채색','커스텀','케플러','키즈','탱크맨','티빙에서스트리밍','티원','프라이데이']\n",
    "\n",
    "for i in extra_stops:\n",
    "    stopwords.append(i)\n",
    "\n",
    "vectag = CountVectorizer(stop_words = stopwords)\n",
    "vecti = CountVectorizer(stop_words = stopwords)\n",
    "vecdes = CountVectorizer(stop_words = stopwords)"
   ]
  },
  {
   "cell_type": "code",
   "execution_count": 30,
   "metadata": {
    "tags": []
   },
   "outputs": [
    {
     "name": "stdout",
     "output_type": "stream",
     "text": [
      "(6993, 11748)\n",
      "(6993, 6164)\n"
     ]
    }
   ],
   "source": [
    "tag = us_gaming['tags']\n",
    "title = us_gaming['title']\n",
    "description = us_gaming['description']\n",
    "\n",
    "tags = vectag.fit_transform(tag)\n",
    "titles = vecti.fit_transform(title)\n",
    "\n",
    "# printing shape of the vectors\n",
    "print(tags.shape)\n",
    "print(titles.shape)\n",
    "\n",
    "# creating df from new extracted string values\n",
    "tag_df = pd.DataFrame(tags.todense(), columns = vectag.get_feature_names())\n",
    "title_df = pd.DataFrame(titles.todense(), columns = vecti.get_feature_names())"
   ]
  },
  {
   "cell_type": "markdown",
   "metadata": {},
   "source": [
    "### Creating Visualizations"
   ]
  },
  {
   "cell_type": "code",
   "execution_count": 31,
   "metadata": {
    "tags": []
   },
   "outputs": [
    {
     "data": {
      "image/png": "[encoded data removed]",
      "text/plain": [
       "<Figure size 640x480 with 1 Axes>"
      ]
     },
     "metadata": {},
     "output_type": "display_data"
    }
   ],
   "source": [
    "fig, ax = plt.subplots()\n",
    "\n",
    "sns.scatterplot(data = us_gaming, x = \"likes\", y = \"view_count\", ax = ax)\n",
    "plt.title(\"View Count vs. Likes\")\n",
    "ax.set_xlim(0, 8000000)\n",
    "ax.set_xticks([0, 2000000, 4000000, 6000000, 8000000])\n",
    "plt.show()"
   ]
  },
  {
   "cell_type": "code",
   "execution_count": 32,
   "metadata": {
    "tags": []
   },
   "outputs": [
    {
     "data": {
      "image/png": "[encoded data removed]",
      "text/plain": [
       "<Figure size 640x480 with 1 Axes>"
      ]
     },
     "metadata": {},
     "output_type": "display_data"
    }
   ],
   "source": [
    "fig, ax = plt.subplots()\n",
    "\n",
    "sns.distplot(us_gaming.likes, ax = ax)\n",
    "plt.title(\"Likes Density Plot\")\n",
    "ax.set_xlim(0, 8000000)\n",
    "ax.set_xticks([0, 2000000, 4000000, 6000000, 8000000])\n",
    "plt.show()"
   ]
  },
  {
   "cell_type": "code",
   "execution_count": 33,
   "metadata": {
    "tags": []
   },
   "outputs": [
    {
     "data": {
      "image/png": "[encoded data removed]",
      "text/plain": [
       "<Figure size 640x480 with 1 Axes>"
      ]
     },
     "metadata": {},
     "output_type": "display_data"
    }
   ],
   "source": [
    "sns.distplot(us_gaming.dislikes)\n",
    "plt.title(\"Dislikes Density Plot\")\n",
    "plt.show()"
   ]
  },
  {
   "cell_type": "markdown",
   "metadata": {},
   "source": [
    "faze is a popular, legacy gaming brand at this point. Below the faze gaming organization 100t is charted as well, 100t is new gaming brand, although already find themselves very successful on YouTube. Looking at the comparison, faze, particularly prior to 2022, is the much stronger brand on YouTube, Perhaps when working out deals or collaborations with gaming brand with our creators, it would be more lucrative to attach our creators to faze's brand rather than 100t. "
   ]
  },
  {
   "cell_type": "code",
   "execution_count": 34,
   "metadata": {
    "tags": []
   },
   "outputs": [
    {
     "data": {
      "image/png": "[encoded data removed]",
      "text/plain": [
       "<Figure size 640x480 with 1 Axes>"
      ]
     },
     "metadata": {},
     "output_type": "display_data"
    }
   ],
   "source": [
    "sns.lineplot(x = us_gaming[\"trending\"], y = tag_df[\"faze\"])\n",
    "plt.xticks(rotation = 15)\n",
    "plt.title(\"Faze Tags by Video Trending Date\")\n",
    "plt.show()"
   ]
  },
  {
   "cell_type": "code",
   "execution_count": 35,
   "metadata": {
    "tags": []
   },
   "outputs": [
    {
     "data": {
      "image/png": "[encoded data removed]",
      "text/plain": [
       "<Figure size 640x480 with 1 Axes>"
      ]
     },
     "metadata": {},
     "output_type": "display_data"
    }
   ],
   "source": [
    "sns.lineplot(x = us_gaming['trending'], y = tag_df['optic'])\n",
    "plt.xticks(rotation = 15)\n",
    "plt.title(\"OpTic Tags by Video Trending Date\")\n",
    "plt.show()"
   ]
  },
  {
   "cell_type": "markdown",
   "metadata": {},
   "source": [
    "Below the recently developed game Valorant is compared to Mario, one of the most popular games in existence. Mario games are more likely to trend on any given day as the time series is much more dense, but the peaks of Valorant are slightly higher. Both of these games could viably be a valuable addition to a creator's video title. "
   ]
  },
  {
   "cell_type": "code",
   "execution_count": 36,
   "metadata": {
    "tags": []
   },
   "outputs": [
    {
     "data": {
      "image/png": "[encoded data removed]",
      "text/plain": [
       "<Figure size 640x480 with 1 Axes>"
      ]
     },
     "metadata": {},
     "output_type": "display_data"
    }
   ],
   "source": [
    "sns.lineplot(x = us_gaming['trending'], y = title_df['valorant'])\n",
    "plt.xticks(rotation = 15)\n",
    "plt.title(\"Valorant in Titles by Video Trending Date\")\n",
    "plt.show()"
   ]
  },
  {
   "cell_type": "code",
   "execution_count": 37,
   "metadata": {
    "tags": []
   },
   "outputs": [
    {
     "data": {
      "image/png": "[encoded data removed]",
      "text/plain": [
       "<Figure size 640x480 with 1 Axes>"
      ]
     },
     "metadata": {},
     "output_type": "display_data"
    }
   ],
   "source": [
    "sns.lineplot(x = us_gaming['trending'], y = title_df['mario'])\n",
    "plt.xticks(rotation = 15)\n",
    "plt.title(\"Mario in Titles by Video Trending Date\")\n",
    "plt.show()"
   ]
  },
  {
   "cell_type": "markdown",
   "metadata": {},
   "source": [
    "### Feature Selection Final Decisions\n",
    "\n",
    "Ultimately, as the goal of the project is to predict views, dislikes, likes, comment count, posting date, trending date, channelid, channel title, and thumbnail link cannot be used as predictors because we hope to predict the view count of the video before the video is posted. Perhaps in future projects an image recognition model can be used to predict views based upon thumbnail photos, but this project will be limited to text. Going forward, NLP techinques will be used to create a deep learning regression model from any combination of title, tags, and description in order to predict view count on videos as view count leads to greater growth for the creators. Particularly because, as the first scatterplot reveals above, high view count often lead to high likes which in turn leads to being boosted on the trending algorithm. The more eyes on the video, the more likely to trend. "
   ]
  },
  {
   "cell_type": "markdown",
   "metadata": {},
   "source": [
    "## Tokenization Transformations to Implement Deep Learning Modeling"
   ]
  },
  {
   "cell_type": "markdown",
   "metadata": {},
   "source": [
    "Below is  a multi-step SKlearn processing container that will do the following:\n",
    "\n",
    "1. Grab the gaming.csv from the s3 bucket where it was stored above. \n",
    "\n",
    "2. split the data using train/test/validation with 85/10/5 split\n",
    "\n",
    "3. Commit the data to pre-processing transformations with distilBert and tensorflow. The data will be tokenized to extract ids and masks for title, tags, and description using distilbert. Then these ids and masks will be converted to tensorflow features and dataset in addition to view_count and video_id. This has been tracked using timestamps in the data column as well.\n",
    "\n",
    "4. The newly transformed data is then stored in the output folder the output s3 bucket that is listed below."
   ]
  },
  {
   "cell_type": "code",
   "execution_count": 38,
   "metadata": {
    "tags": []
   },
   "outputs": [
    {
     "name": "stdout",
     "output_type": "stream",
     "text": [
      "Experiment name: YouTube-View-Prediction-BERT-Experiment-1680640458\n"
     ]
    }
   ],
   "source": [
    "# Timestamp the names of the different segments for tracking purposes over time.\n",
    "timestamp = int(time.time())\n",
    "\n",
    "# Creating the experiment for Youtube view count\n",
    "experiment = Experiment.create(\n",
    "    experiment_name=\"YouTube-View-Prediction-BERT-Experiment-{}\".format(timestamp),\n",
    "    description=\"YouTube View Prediction BERT Experiment\",\n",
    "    sagemaker_boto_client=sm,\n",
    ")\n",
    "\n",
    "# printing the experiment name\n",
    "experiment_name = experiment.experiment_name\n",
    "print(\"Experiment name: {}\".format(experiment_name))"
   ]
  },
  {
   "cell_type": "code",
   "execution_count": 39,
   "metadata": {
    "tags": []
   },
   "outputs": [
    {
     "name": "stdout",
     "output_type": "stream",
     "text": [
      "Trial name: trial-1680640461\n"
     ]
    }
   ],
   "source": [
    "# timestamp trial\n",
    "timestamp = int(time.time())\n",
    "\n",
    "# Creating trial using the experiment name and sagemaker\n",
    "trial = Trial.create(\n",
    "    trial_name=\"trial-{}\".format(timestamp), experiment_name=experiment_name, sagemaker_boto_client=sm\n",
    ")\n",
    "\n",
    "# printing trial name\n",
    "trial_name = trial.trial_name\n",
    "print(\"Trial name: {}\".format(trial_name))"
   ]
  },
  {
   "cell_type": "code",
   "execution_count": 40,
   "metadata": {
    "tags": []
   },
   "outputs": [
    {
     "name": "stdout",
     "output_type": "stream",
     "text": [
      "Stored 'trial_name' (str)\n"
     ]
    }
   ],
   "source": [
    "# store the trial name for later\n",
    "%store trial_name"
   ]
  },
  {
   "cell_type": "code",
   "execution_count": 41,
   "metadata": {
    "tags": []
   },
   "outputs": [],
   "source": [
    "# setting the experiment configuration\n",
    "experiment_config = {\n",
    "    \"ExperimentName\": experiment_name,\n",
    "    \"TrialName\": trial_name,\n",
    "    \"TrialComponentDisplayName\": \"prepare\",\n",
    "}"
   ]
  },
  {
   "cell_type": "code",
   "execution_count": 42,
   "metadata": {
    "tags": []
   },
   "outputs": [],
   "source": [
    "# starting the feature store runtime within sagemaker\n",
    "featurestore_runtime = boto3.Session().client(service_name=\"sagemaker-featurestore-runtime\", region_name=region)"
   ]
  },
  {
   "cell_type": "code",
   "execution_count": 43,
   "metadata": {
    "tags": []
   },
   "outputs": [
    {
     "name": "stdout",
     "output_type": "stream",
     "text": [
      "videos-feature-store-1680640480\n"
     ]
    }
   ],
   "source": [
    "# timestamp prefix \n",
    "timestamp = int(time.time())\n",
    "\n",
    "# setting the future store prefix for use in df-to-tokens-to-tensors.py file\n",
    "feature_store_offline_prefix = \"videos-feature-store-\" + str(timestamp)\n",
    "\n",
    "# print the full name of prefix\n",
    "print(feature_store_offline_prefix)"
   ]
  },
  {
   "cell_type": "code",
   "execution_count": 44,
   "metadata": {
    "tags": []
   },
   "outputs": [
    {
     "name": "stdout",
     "output_type": "stream",
     "text": [
      "videos-feature-group-1680640480\n"
     ]
    }
   ],
   "source": [
    "# create feature group name \n",
    "feature_group_name = \"videos-feature-group-\" + str(timestamp)\n",
    "\n",
    "print(feature_group_name)"
   ]
  },
  {
   "cell_type": "code",
   "execution_count": 45,
   "metadata": {
    "tags": []
   },
   "outputs": [],
   "source": [
    "# writing out our feature definitions to assign them to feature stores\n",
    "# these definitions are for after the features have been transformed and prepped in addition to `date` that acts as the timestamp for the feature store\n",
    "feature_definitions = [\n",
    "    FeatureDefinition(feature_name=\"title_input_ids\", feature_type=FeatureTypeEnum.STRING),\n",
    "    FeatureDefinition(feature_name=\"title_input_mask\", feature_type=FeatureTypeEnum.STRING),\n",
    "    FeatureDefinition(feature_name=\"tags_input_ids\", feature_type=FeatureTypeEnum.STRING),\n",
    "    FeatureDefinition(feature_name=\"tags_input_mask\", feature_type=FeatureTypeEnum.STRING),\n",
    "    FeatureDefinition(feature_name=\"desc_input_ids\", feature_type=FeatureTypeEnum.STRING),\n",
    "    FeatureDefinition(feature_name=\"desc_input_mask\", feature_type=FeatureTypeEnum.STRING),\n",
    "    FeatureDefinition(feature_name=\"segment_ids\", feature_type=FeatureTypeEnum.STRING),\n",
    "    FeatureDefinition(feature_name=\"video_id\", feature_type=FeatureTypeEnum.STRING),\n",
    "    FeatureDefinition(feature_name=\"date\", feature_type=FeatureTypeEnum.STRING),\n",
    "    FeatureDefinition(feature_name=\"split_type\", feature_type=FeatureTypeEnum.STRING),\n",
    "    FeatureDefinition(feature_name=\"view_count\", feature_type=FeatureTypeEnum.INTEGRAL),\n",
    "]"
   ]
  },
  {
   "cell_type": "code",
   "execution_count": 46,
   "metadata": {
    "tags": []
   },
   "outputs": [
    {
     "name": "stdout",
     "output_type": "stream",
     "text": [
      "FeatureGroup(name='videos-feature-group-1680640480', sagemaker_session=<sagemaker.session.Session object at 0x7feed472e550>, feature_definitions=[FeatureDefinition(feature_name='title_input_ids', feature_type=<FeatureTypeEnum.STRING: 'String'>), FeatureDefinition(feature_name='title_input_mask', feature_type=<FeatureTypeEnum.STRING: 'String'>), FeatureDefinition(feature_name='tags_input_ids', feature_type=<FeatureTypeEnum.STRING: 'String'>), FeatureDefinition(feature_name='tags_input_mask', feature_type=<FeatureTypeEnum.STRING: 'String'>), FeatureDefinition(feature_name='desc_input_ids', feature_type=<FeatureTypeEnum.STRING: 'String'>), FeatureDefinition(feature_name='desc_input_mask', feature_type=<FeatureTypeEnum.STRING: 'String'>), FeatureDefinition(feature_name='segment_ids', feature_type=<FeatureTypeEnum.STRING: 'String'>), FeatureDefinition(feature_name='video_id', feature_type=<FeatureTypeEnum.STRING: 'String'>), FeatureDefinition(feature_name='date', feature_type=<FeatureTypeEnum.STRING: 'String'>), FeatureDefinition(feature_name='split_type', feature_type=<FeatureTypeEnum.STRING: 'String'>), FeatureDefinition(feature_name='view_count', feature_type=<FeatureTypeEnum.INTEGRAL: 'Integral'>)])\n"
     ]
    }
   ],
   "source": [
    "# creating the feature group using the name and definition assigned above\n",
    "feature_group = FeatureGroup(name=feature_group_name, feature_definitions=feature_definitions, sagemaker_session=session)\n",
    "\n",
    "print(feature_group)"
   ]
  },
  {
   "cell_type": "code",
   "execution_count": 47,
   "metadata": {
    "tags": []
   },
   "outputs": [],
   "source": [
    "# setting the instance type and established our train/test/validation splits\n",
    "# max_seq_length may need to be adjusted\n",
    "processing_instance_type = \"ml.c5.xlarge\"\n",
    "processing_instance_count = 2\n",
    "train_split_percentage = 0.85\n",
    "validation_split_percentage = 0.05\n",
    "test_split_percentage = 0.1\n",
    "max_seq_length = 300"
   ]
  },
  {
   "cell_type": "code",
   "execution_count": 48,
   "metadata": {
    "tags": []
   },
   "outputs": [
    {
     "name": "stderr",
     "output_type": "stream",
     "text": [
      "INFO:sagemaker.image_uris:Defaulting to only available Python version: py3\n"
     ]
    }
   ],
   "source": [
    "# creating the Sklearn processor to run the df-to-tokens-to-tensors.py file\n",
    "\n",
    "processor = SKLearnProcessor(\n",
    "    framework_version=\"0.23-1\",\n",
    "    role=role,\n",
    "    instance_type=processing_instance_type,\n",
    "    instance_count=processing_instance_count,\n",
    "    env={\"AWS_DEFAULT_REGION\": region},\n",
    "    max_runtime_in_seconds=7200,\n",
    ")"
   ]
  },
  {
   "cell_type": "code",
   "execution_count": 49,
   "metadata": {
    "tags": []
   },
   "outputs": [
    {
     "name": "stderr",
     "output_type": "stream",
     "text": [
      "INFO:sagemaker:Creating processing-job with name sagemaker-scikit-learn-2023-04-04-20-35-26-408\n"
     ]
    }
   ],
   "source": [
    "# setting the processors inputs and outputs\n",
    "processor.run(\n",
    "    code=\"df-to-tokens-to-tensors.py\",\n",
    "    inputs=[\n",
    "        ProcessingInput(\n",
    "            input_name=\"gaming\",\n",
    "            source=\"s3://{}/youtubeStatistics/dfs/\".format(bucket),\n",
    "            destination=\"/opt/ml/processing/input/data/\",\n",
    "            s3_data_distribution_type=\"ShardedByS3Key\",\n",
    "        )\n",
    "    ],\n",
    "    outputs=[\n",
    "        ProcessingOutput(\n",
    "            output_name=\"bert-train\", \n",
    "            s3_upload_mode=\"EndOfJob\",\n",
    "            source=\"/opt/ml/processing/output/bert/train\"\n",
    "        ),\n",
    "        ProcessingOutput(\n",
    "            output_name=\"bert-validation\",\n",
    "            s3_upload_mode=\"EndOfJob\",\n",
    "            source=\"/opt/ml/processing/output/bert/validation\"\n",
    "        ),\n",
    "        ProcessingOutput(\n",
    "            output_name=\"bert-test\", \n",
    "            s3_upload_mode=\"EndOfJob\", \n",
    "            source=\"/opt/ml/processing/output/bert/test\"\n",
    "        ),\n",
    "    ],\n",
    "    arguments=[\n",
    "        \"--train-split-percentage\",\n",
    "        str(train_split_percentage),\n",
    "        \"--validation-split-percentage\",\n",
    "        str(validation_split_percentage),\n",
    "        \"--test-split-percentage\",\n",
    "        str(test_split_percentage),\n",
    "        \"--max-seq-length\",\n",
    "        str(max_seq_length),\n",
    "        \"--feature-store-offline-prefix\",\n",
    "        str(feature_store_offline_prefix),\n",
    "        \"--feature-group-name\",\n",
    "        str(feature_group_name),\n",
    "    ],\n",
    "    experiment_config=experiment_config,\n",
    "    logs=True,\n",
    "    wait=False,\n",
    ")"
   ]
  },
  {
   "cell_type": "code",
   "execution_count": 50,
   "metadata": {
    "tags": []
   },
   "outputs": [
    {
     "name": "stdout",
     "output_type": "stream",
     "text": [
      "sagemaker-scikit-learn-2023-04-04-20-35-26-408\n"
     ]
    }
   ],
   "source": [
    "scikit_processing_job_name = processor.jobs[-1].describe()[\"ProcessingJobName\"]\n",
    "print(scikit_processing_job_name)"
   ]
  },
  {
   "cell_type": "code",
   "execution_count": 51,
   "metadata": {
    "tags": []
   },
   "outputs": [
    {
     "name": "stdout",
     "output_type": "stream",
     "text": [
      "{'ProcessingInputs': [{'InputName': 'gaming', 'AppManaged': False, 'S3Input': {'S3Uri': 's3://sagemaker-us-west-2-692349450615/youtubeStatistics/dfs/', 'LocalPath': '/opt/ml/processing/input/data/', 'S3DataType': 'S3Prefix', 'S3InputMode': 'File', 'S3DataDistributionType': 'ShardedByS3Key', 'S3CompressionType': 'None'}}, {'InputName': 'code', 'AppManaged': False, 'S3Input': {'S3Uri': 's3://sagemaker-us-west-2-692349450615/sagemaker-scikit-learn-2023-04-04-20-35-26-408/input/code/df-to-tokens-to-tensors.py', 'LocalPath': '/opt/ml/processing/input/code', 'S3DataType': 'S3Prefix', 'S3InputMode': 'File', 'S3DataDistributionType': 'FullyReplicated', 'S3CompressionType': 'None'}}], 'ProcessingOutputConfig': {'Outputs': [{'OutputName': 'bert-train', 'S3Output': {'S3Uri': 's3://sagemaker-us-west-2-692349450615/sagemaker-scikit-learn-2023-04-04-20-35-26-408/output/bert-train', 'LocalPath': '/opt/ml/processing/output/bert/train', 'S3UploadMode': 'EndOfJob'}, 'AppManaged': False}, {'OutputName': 'bert-validation', 'S3Output': {'S3Uri': 's3://sagemaker-us-west-2-692349450615/sagemaker-scikit-learn-2023-04-04-20-35-26-408/output/bert-validation', 'LocalPath': '/opt/ml/processing/output/bert/validation', 'S3UploadMode': 'EndOfJob'}, 'AppManaged': False}, {'OutputName': 'bert-test', 'S3Output': {'S3Uri': 's3://sagemaker-us-west-2-692349450615/sagemaker-scikit-learn-2023-04-04-20-35-26-408/output/bert-test', 'LocalPath': '/opt/ml/processing/output/bert/test', 'S3UploadMode': 'EndOfJob'}, 'AppManaged': False}]}, 'ProcessingJobName': 'sagemaker-scikit-learn-2023-04-04-20-35-26-408', 'ProcessingResources': {'ClusterConfig': {'InstanceCount': 2, 'InstanceType': 'ml.c5.xlarge', 'VolumeSizeInGB': 30}}, 'StoppingCondition': {'MaxRuntimeInSeconds': 7200}, 'AppSpecification': {'ImageUri': '246618743249.dkr.ecr.us-west-2.amazonaws.com/sagemaker-scikit-learn:0.23-1-cpu-py3', 'ContainerEntrypoint': ['python3', '/opt/ml/processing/input/code/df-to-tokens-to-tensors.py'], 'ContainerArguments': ['--train-split-percentage', '0.85', '--validation-split-percentage', '0.05', '--test-split-percentage', '0.1', '--max-seq-length', '300', '--feature-store-offline-prefix', 'videos-feature-store-1680640480', '--feature-group-name', 'videos-feature-group-1680640480']}, 'Environment': {'AWS_DEFAULT_REGION': 'us-west-2'}, 'RoleArn': 'arn:aws:iam::692349450615:role/LabRole', 'ExperimentConfig': {'ExperimentName': 'YouTube-View-Prediction-BERT-Experiment-1680640458', 'TrialName': 'trial-1680640461', 'TrialComponentDisplayName': 'prepare'}, 'ProcessingJobArn': 'arn:aws:sagemaker:us-west-2:692349450615:processing-job/sagemaker-scikit-learn-2023-04-04-20-35-26-408', 'ProcessingJobStatus': 'InProgress', 'LastModifiedTime': datetime.datetime(2023, 4, 4, 20, 35, 27, 550000, tzinfo=tzlocal()), 'CreationTime': datetime.datetime(2023, 4, 4, 20, 35, 26, 979000, tzinfo=tzlocal()), 'ResponseMetadata': {'RequestId': 'b31d37a4-0221-4503-aeba-9df6caa77c7b', 'HTTPStatusCode': 200, 'HTTPHeaders': {'x-amzn-requestid': 'b31d37a4-0221-4503-aeba-9df6caa77c7b', 'content-type': 'application/x-amz-json-1.1', 'content-length': '2818', 'date': 'Tue, 04 Apr 2023 20:35:33 GMT'}, 'RetryAttempts': 0}}\n"
     ]
    }
   ],
   "source": [
    "running_processor = sagemaker.processing.ProcessingJob.from_processing_name(\n",
    "    processing_job_name=scikit_processing_job_name, sagemaker_session=session\n",
    ")\n",
    "\n",
    "processing_job_description = running_processor.describe()\n",
    "\n",
    "print(processing_job_description)"
   ]
  },
  {
   "cell_type": "code",
   "execution_count": 52,
   "metadata": {
    "tags": []
   },
   "outputs": [
    {
     "name": "stdout",
     "output_type": "stream",
     "text": [
      "..........................................................................................................................................................................!"
     ]
    }
   ],
   "source": [
    "# logs can be set to true to find errors when trouble shooting\n",
    "running_processor.wait(logs=False)"
   ]
  },
  {
   "cell_type": "code",
   "execution_count": 53,
   "metadata": {
    "tags": []
   },
   "outputs": [
    {
     "name": "stdout",
     "output_type": "stream",
     "text": [
      "s3://sagemaker-us-west-2-692349450615/sagemaker-scikit-learn-2023-04-04-20-35-26-408/output/bert-train\n",
      "s3://sagemaker-us-west-2-692349450615/sagemaker-scikit-learn-2023-04-04-20-35-26-408/output/bert-validation\n",
      "s3://sagemaker-us-west-2-692349450615/sagemaker-scikit-learn-2023-04-04-20-35-26-408/output/bert-test\n"
     ]
    }
   ],
   "source": [
    "# obtain the location of the new s3 folders for the training/testing/validation data in order to implement modeling\n",
    "processing_job_description = running_processor.describe()\n",
    "\n",
    "output_config = processing_job_description[\"ProcessingOutputConfig\"]\n",
    "for output in output_config[\"Outputs\"]:\n",
    "    if output[\"OutputName\"] == \"bert-train\":\n",
    "        processed_train_uri = output[\"S3Output\"][\"S3Uri\"]\n",
    "    if output[\"OutputName\"] == \"bert-validation\":\n",
    "        processed_validation_uri = output[\"S3Output\"][\"S3Uri\"]\n",
    "    if output[\"OutputName\"] == \"bert-test\":\n",
    "        processed_test_uri = output[\"S3Output\"][\"S3Uri\"]\n",
    "\n",
    "print(processed_train_uri)\n",
    "print(processed_validation_uri)\n",
    "print(processed_test_uri)"
   ]
  },
  {
   "cell_type": "markdown",
   "metadata": {},
   "source": [
    "This is the final transformation for the strings before modeling. The strings have been encoded/tokenized, placed into tensorflow tensors, made into a tensor dataset and ultimately transformed into a tensorflow dataset for modeling. The data has also been stored in the s3. "
   ]
  },
  {
   "cell_type": "markdown",
   "metadata": {},
   "source": [
    "## Model Creation/Training\n",
    "\n",
    "Model creation and training will also be a script job that takes the tensors from the different folders within the s3 bucket to train and test the model within the script while revealing the results/progress here."
   ]
  },
  {
   "cell_type": "code",
   "execution_count": 54,
   "metadata": {},
   "outputs": [
    {
     "name": "stdout",
     "output_type": "stream",
     "text": [
      "2023-04-04 20:49:50   15610173 part-algo-1-gaming.tfrecord\n"
     ]
    }
   ],
   "source": [
    "!aws s3 ls $processed_train_uri/"
   ]
  },
  {
   "cell_type": "code",
   "execution_count": 55,
   "metadata": {
    "tags": []
   },
   "outputs": [
    {
     "name": "stdout",
     "output_type": "stream",
     "text": [
      "2023-04-04 20:49:51    1846761 part-algo-1-gaming.tfrecord\n"
     ]
    }
   ],
   "source": [
    "!aws s3 ls $processed_test_uri/"
   ]
  },
  {
   "cell_type": "code",
   "execution_count": 56,
   "metadata": {
    "tags": []
   },
   "outputs": [
    {
     "name": "stdout",
     "output_type": "stream",
     "text": [
      "2023-04-04 20:49:50     916329 part-algo-1-gaming.tfrecord\n"
     ]
    }
   ],
   "source": [
    "!aws s3 ls $processed_validation_uri/"
   ]
  },
  {
   "cell_type": "code",
   "execution_count": 57,
   "metadata": {
    "tags": []
   },
   "outputs": [
    {
     "name": "stdout",
     "output_type": "stream",
     "text": [
      "<sagemaker.inputs.TrainingInput object at 0x7fee8fa10890>\n",
      "{'DataSource': {'S3DataSource': {'S3DataType': 'S3Prefix', 'S3Uri': 's3://sagemaker-us-west-2-692349450615/sagemaker-scikit-learn-2023-04-04-20-35-26-408/output/bert-validation/', 'S3DataDistributionType': 'ShardedByS3Key'}}}\n",
      "{'DataSource': {'S3DataSource': {'S3DataType': 'S3Prefix', 'S3Uri': 's3://sagemaker-us-west-2-692349450615/sagemaker-scikit-learn-2023-04-04-20-35-26-408/output/bert-test/', 'S3DataDistributionType': 'ShardedByS3Key'}}}\n"
     ]
    }
   ],
   "source": [
    "input_train_data = TrainingInput(processed_train_uri+\"/\", distribution=\"ShardedByS3Key\")\n",
    "input_validation_data = TrainingInput(s3_data=processed_validation_uri+\"/\", distribution=\"ShardedByS3Key\")\n",
    "input_test_data = TrainingInput(s3_data=processed_test_uri+\"/\", distribution=\"ShardedByS3Key\")\n",
    "\n",
    "print(input_train_data)\n",
    "print(input_validation_data.config)\n",
    "print(input_test_data.config)"
   ]
  },
  {
   "cell_type": "code",
   "execution_count": 58,
   "metadata": {
    "tags": []
   },
   "outputs": [],
   "source": [
    "epochs = 2\n",
    "learning_rate = 0.001\n",
    "epsilon = 0.000001\n",
    "train_batch_size = 128\n",
    "validation_batch_size = 128\n",
    "test_batch_size = 128\n",
    "train_steps_per_epoch = 10\n",
    "validation_steps = 10\n",
    "test_steps = 10\n",
    "train_instance_count = 1\n",
    "train_instance_type = \"ml.p2.xlarge\"\n",
    "train_volume_size = 1024\n",
    "use_xla = True\n",
    "use_amp = True\n",
    "freeze_bert_layer = False\n",
    "enable_sagemaker_debugger = True\n",
    "enable_checkpointing = False\n",
    "enable_tensorboard = True\n",
    "input_mode = \"Pipe\"\n",
    "run_validation = True\n",
    "run_test = True\n",
    "run_sample_predictions = True"
   ]
  },
  {
   "cell_type": "code",
   "execution_count": 59,
   "metadata": {
    "tags": []
   },
   "outputs": [],
   "source": [
    "metrics_definitions = [\n",
    "    {\"Name\": \"train:loss\", \"Regex\": \"loss: ([0-9\\\\.]+)\"},\n",
    "    {\"Name\": \"train:accuracy\", \"Regex\": \"accuracy: ([0-9\\\\.]+)\"},\n",
    "    {\"Name\": \"validation:loss\", \"Regex\": \"val_loss: ([0-9\\\\.]+)\"},\n",
    "    {\"Name\": \"validation:accuracy\", \"Regex\": \"val_accuracy: ([0-9\\\\.]+)\"},\n",
    "]"
   ]
  },
  {
   "cell_type": "code",
   "execution_count": 60,
   "metadata": {
    "tags": []
   },
   "outputs": [],
   "source": [
    "actions = rule_configs.ActionList()\n",
    "\n",
    "rules = [ProfilerRule.sagemaker(rule_configs.ProfilerReport())]\n",
    "\n",
    "\n",
    "hook_config = DebuggerHookConfig(\n",
    "    hook_parameters={\n",
    "        \"save_interval\": \"10\",  # number of steps\n",
    "        \"export_tensorboard\": \"true\",\n",
    "        \"tensorboard_dir\": \"hook_tensorboard/\",\n",
    "    }\n",
    ")"
   ]
  },
  {
   "cell_type": "code",
   "execution_count": 61,
   "metadata": {
    "tags": []
   },
   "outputs": [],
   "source": [
    "profiler_config = ProfilerConfig(system_monitor_interval_millis=500,\n",
    "    framework_profile_params=FrameworkProfile(local_path=\"/opt/ml/output/profiler/\", start_step=5, num_steps=10))"
   ]
  },
  {
   "cell_type": "code",
   "execution_count": 62,
   "metadata": {
    "tags": []
   },
   "outputs": [
    {
     "name": "stdout",
     "output_type": "stream",
     "text": [
      "s3://sagemaker-us-west-2-692349450615/checkpoints/3cfa6a9b-75bf-4d01-a3e0-5ecee6323ef4/\n"
     ]
    }
   ],
   "source": [
    "checkpoint_s3_prefix = \"checkpoints/{}\".format(str(uuid.uuid4()))\n",
    "checkpoint_s3_uri = \"s3://{}/{}/\".format(bucket, checkpoint_s3_prefix)\n",
    "\n",
    "print(checkpoint_s3_uri)"
   ]
  },
  {
   "cell_type": "code",
   "execution_count": 63,
   "metadata": {
    "tags": []
   },
   "outputs": [],
   "source": [
    "estimator = TensorFlow(\n",
    "    entry_point=\"model_construction.py\",\n",
    "    role=role,\n",
    "    instance_count=train_instance_count,\n",
    "    instance_type=train_instance_type,\n",
    "    volume_size=train_volume_size,\n",
    "    checkpoint_base_path=checkpoint_s3_uri,\n",
    "    py_version=\"py37\",\n",
    "    framework_version=\"2.3.1\",\n",
    "    hyperparameters={\n",
    "        \"epochs\": epochs,\n",
    "        \"learning_rate\": learning_rate,\n",
    "        \"epsilon\": epsilon,\n",
    "        \"train_batch_size\": train_batch_size,\n",
    "        \"validation_batch_size\": validation_batch_size,\n",
    "        \"test_batch_size\": test_batch_size,\n",
    "        \"train_steps_per_epoch\": train_steps_per_epoch,\n",
    "        \"validation_steps\": validation_steps,\n",
    "        \"test_steps\": test_steps,\n",
    "        \"use_xla\": use_xla,\n",
    "        \"use_amp\": use_amp,\n",
    "        \"max_seq_length\": max_seq_length,\n",
    "        \"freeze_bert_layer\": freeze_bert_layer,\n",
    "        \"enable_sagemaker_debugger\": enable_sagemaker_debugger,\n",
    "        \"enable_checkpointing\": enable_checkpointing,\n",
    "        \"enable_tensorboard\": enable_tensorboard,\n",
    "        \"run_validation\": run_validation,\n",
    "        \"run_test\": run_test,\n",
    "        \"run_sample_predictions\": run_sample_predictions,\n",
    "    },\n",
    "    input_mode=input_mode,\n",
    "    metric_definitions=metrics_definitions,\n",
    "    rules=rules,\n",
    "    debugger_hook_config=hook_config,\n",
    "    profiler_config=profiler_config,\n",
    ")"
   ]
  },
  {
   "cell_type": "code",
   "execution_count": 64,
   "metadata": {
    "tags": []
   },
   "outputs": [],
   "source": [
    "experiment_config = {\"ExperimentName\": experiment_name, \"TrialName\": trial_name, \"TrialComponentDisplayName\": \"train\"}"
   ]
  },
  {
   "cell_type": "code",
   "execution_count": 65,
   "metadata": {
    "tags": []
   },
   "outputs": [
    {
     "name": "stderr",
     "output_type": "stream",
     "text": [
      "INFO:sagemaker.image_uris:image_uri is not presented, retrieving image_uri based on instance_type, framework etc.\n",
      "INFO:sagemaker.image_uris:Defaulting to the only supported framework/algorithm version: latest.\n",
      "INFO:sagemaker.image_uris:Ignoring unnecessary instance type: None.\n",
      "INFO:sagemaker.image_uris:image_uri is not presented, retrieving image_uri based on instance_type, framework etc.\n",
      "INFO:sagemaker:Creating training-job with name: tensorflow-training-2023-04-04-21-22-20-338\n"
     ]
    }
   ],
   "source": [
    "estimator.fit(\n",
    "    inputs={\"train\": input_train_data, \"validation\": input_validation_data, \"test\": input_test_data},\n",
    "    experiment_config=experiment_config,\n",
    "    wait=False,\n",
    ")"
   ]
  },
  {
   "cell_type": "code",
   "execution_count": 66,
   "metadata": {
    "tags": []
   },
   "outputs": [
    {
     "name": "stdout",
     "output_type": "stream",
     "text": [
      "Training Job Name:  tensorflow-training-2023-04-04-21-22-20-338\n"
     ]
    }
   ],
   "source": [
    "training_job_name = estimator.latest_training_job.name\n",
    "print(\"Training Job Name:  {}\".format(training_job_name))"
   ]
  },
  {
   "cell_type": "code",
   "execution_count": 86,
   "metadata": {
    "tags": []
   },
   "outputs": [
    {
     "name": "stdout",
     "output_type": "stream",
     "text": [
      "2023-04-04 21:30:11 Starting - Preparing the instances for training\n",
      "2023-04-04 21:30:11 Downloading - Downloading input data\n",
      "2023-04-04 21:30:11 Training - Training image download completed. Training in progress.\n",
      "2023-04-04 21:30:11 Uploading - Uploading generated training model\n",
      "2023-04-04 21:30:11 Failed - Training job failed\u001b[34m2023-04-04 21:27:52.376581: W tensorflow/core/profiler/internal/smprofiler_timeline.cc:460] Initializing the SageMaker Profiler.\u001b[0m\n",
      "\u001b[34m2023-04-04 21:27:52.376866: I tensorflow/core/profiler/internal/smprofiler_config_reader.cc:123] PID of the process that is writing to the timeline : 7\u001b[0m\n",
      "\u001b[34m2023-04-04 21:27:52.376920: I tensorflow/core/profiler/internal/smprofiler_timeline.cc:121] SageMaker Profiler Timeline Writer read the following config parameters :\u001b[0m\n",
      "\u001b[34m2023-04-04 21:27:52.376945: I tensorflow/core/profiler/internal/smprofiler_timeline.cc:122] Base Folder : /opt/ml/output/profiler/\u001b[0m\n",
      "\u001b[34m2023-04-04 21:27:52.376968: I tensorflow/core/profiler/internal/smprofiler_timeline.cc:123] Node Id : 7-algo-1\u001b[0m\n",
      "\u001b[34m2023-04-04 21:27:52.376983: I tensorflow/core/profiler/internal/smprofiler_timeline.cc:124] Maximum file size : 10485760\u001b[0m\n",
      "\u001b[34m2023-04-04 21:27:52.376994: I tensorflow/core/profiler/internal/smprofiler_timeline.cc:125] Close file interval : 60\u001b[0m\n",
      "\u001b[34m2023-04-04 21:27:52.377020: I tensorflow/core/profiler/internal/smprofiler_timeline.cc:126] Continuous fail count threshold : 50\u001b[0m\n",
      "\u001b[34m2023-04-04 21:27:52.377043: I tensorflow/core/profiler/internal/smprofiler_timeline.cc:144] PID of the current Timeline Process : 7\u001b[0m\n",
      "\u001b[34m2023-04-04 21:27:52.390347: I tensorflow/stream_executor/platform/default/dso_loader.cc:48] Successfully opened dynamic library libcudart.so.10.2\u001b[0m\n",
      "\u001b[34m2023-04-04 21:27:52.469754: W tensorflow/core/profiler/internal/smprofiler_timeline.cc:460] Initializing the SageMaker Profiler.\u001b[0m\n",
      "\u001b[34m2023-04-04 21:27:54,216 sagemaker-training-toolkit INFO     Imported framework sagemaker_tensorflow_container.training\u001b[0m\n",
      "\u001b[34m2023-04-04 21:27:54,648 sagemaker-training-toolkit INFO     Invoking user script\u001b[0m\n",
      "\u001b[34mTraining Env:\u001b[0m\n",
      "\u001b[34m{\n",
      "    \"additional_framework_parameters\": {},\n",
      "    \"channel_input_dirs\": {\n",
      "        \"test\": \"/opt/ml/input/data/test\",\n",
      "        \"train\": \"/opt/ml/input/data/train\",\n",
      "        \"validation\": \"/opt/ml/input/data/validation\"\n",
      "    },\n",
      "    \"current_host\": \"algo-1\",\n",
      "    \"framework_module\": \"sagemaker_tensorflow_container.training:main\",\n",
      "    \"hosts\": [\n",
      "        \"algo-1\"\n",
      "    ],\n",
      "    \"hyperparameters\": {\n",
      "        \"enable_checkpointing\": false,\n",
      "        \"enable_sagemaker_debugger\": true,\n",
      "        \"enable_tensorboard\": true,\n",
      "        \"epochs\": 2,\n",
      "        \"epsilon\": 1e-06,\n",
      "        \"freeze_bert_layer\": false,\n",
      "        \"learning_rate\": 0.001,\n",
      "        \"max_seq_length\": 300,\n",
      "        \"model_dir\": \"s3://sagemaker-us-west-2-692349450615/tensorflow-training-2023-04-04-21-22-20-338/model\",\n",
      "        \"run_sample_predictions\": true,\n",
      "        \"run_test\": true,\n",
      "        \"run_validation\": true,\n",
      "        \"test_batch_size\": 128,\n",
      "        \"test_steps\": 10,\n",
      "        \"train_batch_size\": 128,\n",
      "        \"train_steps_per_epoch\": 10,\n",
      "        \"use_amp\": true,\n",
      "        \"use_xla\": true,\n",
      "        \"validation_batch_size\": 128,\n",
      "        \"validation_steps\": 10\n",
      "    },\n",
      "    \"input_config_dir\": \"/opt/ml/input/config\",\n",
      "    \"input_data_config\": {\n",
      "        \"test\": {\n",
      "            \"TrainingInputMode\": \"Pipe\",\n",
      "            \"S3DistributionType\": \"ShardedByS3Key\",\n",
      "            \"RecordWrapperType\": \"None\"\n",
      "        },\n",
      "        \"train\": {\n",
      "            \"TrainingInputMode\": \"Pipe\",\n",
      "            \"S3DistributionType\": \"ShardedByS3Key\",\n",
      "            \"RecordWrapperType\": \"None\"\n",
      "        },\n",
      "        \"validation\": {\n",
      "            \"TrainingInputMode\": \"Pipe\",\n",
      "            \"S3DistributionType\": \"ShardedByS3Key\",\n",
      "            \"RecordWrapperType\": \"None\"\n",
      "        }\n",
      "    },\n",
      "    \"input_dir\": \"/opt/ml/input\",\n",
      "    \"is_master\": true,\n",
      "    \"job_name\": \"tensorflow-training-2023-04-04-21-22-20-338\",\n",
      "    \"log_level\": 20,\n",
      "    \"master_hostname\": \"algo-1\",\n",
      "    \"model_dir\": \"/opt/ml/model\",\n",
      "    \"module_dir\": \"s3://sagemaker-us-west-2-692349450615/tensorflow-training-2023-04-04-21-22-20-338/source/sourcedir.tar.gz\",\n",
      "    \"module_name\": \"model_construction\",\n",
      "    \"network_interface_name\": \"eth0\",\n",
      "    \"num_cpus\": 4,\n",
      "    \"num_gpus\": 1,\n",
      "    \"output_data_dir\": \"/opt/ml/output/data\",\n",
      "    \"output_dir\": \"/opt/ml/output\",\n",
      "    \"output_intermediate_dir\": \"/opt/ml/output/intermediate\",\n",
      "    \"resource_config\": {\n",
      "        \"current_host\": \"algo-1\",\n",
      "        \"current_instance_type\": \"ml.p2.xlarge\",\n",
      "        \"current_group_name\": \"homogeneousCluster\",\n",
      "        \"hosts\": [\n",
      "            \"algo-1\"\n",
      "        ],\n",
      "        \"instance_groups\": [\n",
      "            {\n",
      "                \"instance_group_name\": \"homogeneousCluster\",\n",
      "                \"instance_type\": \"ml.p2.xlarge\",\n",
      "                \"hosts\": [\n",
      "                    \"algo-1\"\n",
      "                ]\n",
      "            }\n",
      "        ],\n",
      "        \"network_interface_name\": \"eth0\"\n",
      "    },\n",
      "    \"user_entry_point\": \"model_construction.py\"\u001b[0m\n",
      "\u001b[34m}\u001b[0m\n",
      "\u001b[34mEnvironment variables:\u001b[0m\n",
      "\u001b[34mSM_HOSTS=[\"algo-1\"]\u001b[0m\n",
      "\u001b[34mSM_NETWORK_INTERFACE_NAME=eth0\u001b[0m\n",
      "\u001b[34mSM_HPS={\"enable_checkpointing\":false,\"enable_sagemaker_debugger\":true,\"enable_tensorboard\":true,\"epochs\":2,\"epsilon\":1e-06,\"freeze_bert_layer\":false,\"learning_rate\":0.001,\"max_seq_length\":300,\"model_dir\":\"s3://sagemaker-us-west-2-692349450615/tensorflow-training-2023-04-04-21-22-20-338/model\",\"run_sample_predictions\":true,\"run_test\":true,\"run_validation\":true,\"test_batch_size\":128,\"test_steps\":10,\"train_batch_size\":128,\"train_steps_per_epoch\":10,\"use_amp\":true,\"use_xla\":true,\"validation_batch_size\":128,\"validation_steps\":10}\u001b[0m\n",
      "\u001b[34mSM_USER_ENTRY_POINT=model_construction.py\u001b[0m\n",
      "\u001b[34mSM_FRAMEWORK_PARAMS={}\u001b[0m\n",
      "\u001b[34mSM_RESOURCE_CONFIG={\"current_group_name\":\"homogeneousCluster\",\"current_host\":\"algo-1\",\"current_instance_type\":\"ml.p2.xlarge\",\"hosts\":[\"algo-1\"],\"instance_groups\":[{\"hosts\":[\"algo-1\"],\"instance_group_name\":\"homogeneousCluster\",\"instance_type\":\"ml.p2.xlarge\"}],\"network_interface_name\":\"eth0\"}\u001b[0m\n",
      "\u001b[34mSM_INPUT_DATA_CONFIG={\"test\":{\"RecordWrapperType\":\"None\",\"S3DistributionType\":\"ShardedByS3Key\",\"TrainingInputMode\":\"Pipe\"},\"train\":{\"RecordWrapperType\":\"None\",\"S3DistributionType\":\"ShardedByS3Key\",\"TrainingInputMode\":\"Pipe\"},\"validation\":{\"RecordWrapperType\":\"None\",\"S3DistributionType\":\"ShardedByS3Key\",\"TrainingInputMode\":\"Pipe\"}}\u001b[0m\n",
      "\u001b[34mSM_OUTPUT_DATA_DIR=/opt/ml/output/data\u001b[0m\n",
      "\u001b[34mSM_CHANNELS=[\"test\",\"train\",\"validation\"]\u001b[0m\n",
      "\u001b[34mSM_CURRENT_HOST=algo-1\u001b[0m\n",
      "\u001b[34mSM_MODULE_NAME=model_construction\u001b[0m\n",
      "\u001b[34mSM_LOG_LEVEL=20\u001b[0m\n",
      "\u001b[34mSM_FRAMEWORK_MODULE=sagemaker_tensorflow_container.training:main\u001b[0m\n",
      "\u001b[34mSM_INPUT_DIR=/opt/ml/input\u001b[0m\n",
      "\u001b[34mSM_INPUT_CONFIG_DIR=/opt/ml/input/config\u001b[0m\n",
      "\u001b[34mSM_OUTPUT_DIR=/opt/ml/output\u001b[0m\n",
      "\u001b[34mSM_NUM_CPUS=4\u001b[0m\n",
      "\u001b[34mSM_NUM_GPUS=1\u001b[0m\n",
      "\u001b[34mSM_MODEL_DIR=/opt/ml/model\u001b[0m\n",
      "\u001b[34mSM_MODULE_DIR=s3://sagemaker-us-west-2-692349450615/tensorflow-training-2023-04-04-21-22-20-338/source/sourcedir.tar.gz\u001b[0m\n",
      "\u001b[34mSM_TRAINING_ENV={\"additional_framework_parameters\":{},\"channel_input_dirs\":{\"test\":\"/opt/ml/input/data/test\",\"train\":\"/opt/ml/input/data/train\",\"validation\":\"/opt/ml/input/data/validation\"},\"current_host\":\"algo-1\",\"framework_module\":\"sagemaker_tensorflow_container.training:main\",\"hosts\":[\"algo-1\"],\"hyperparameters\":{\"enable_checkpointing\":false,\"enable_sagemaker_debugger\":true,\"enable_tensorboard\":true,\"epochs\":2,\"epsilon\":1e-06,\"freeze_bert_layer\":false,\"learning_rate\":0.001,\"max_seq_length\":300,\"model_dir\":\"s3://sagemaker-us-west-2-692349450615/tensorflow-training-2023-04-04-21-22-20-338/model\",\"run_sample_predictions\":true,\"run_test\":true,\"run_validation\":true,\"test_batch_size\":128,\"test_steps\":10,\"train_batch_size\":128,\"train_steps_per_epoch\":10,\"use_amp\":true,\"use_xla\":true,\"validation_batch_size\":128,\"validation_steps\":10},\"input_config_dir\":\"/opt/ml/input/config\",\"input_data_config\":{\"test\":{\"RecordWrapperType\":\"None\",\"S3DistributionType\":\"ShardedByS3Key\",\"TrainingInputMode\":\"Pipe\"},\"train\":{\"RecordWrapperType\":\"None\",\"S3DistributionType\":\"ShardedByS3Key\",\"TrainingInputMode\":\"Pipe\"},\"validation\":{\"RecordWrapperType\":\"None\",\"S3DistributionType\":\"ShardedByS3Key\",\"TrainingInputMode\":\"Pipe\"}},\"input_dir\":\"/opt/ml/input\",\"is_master\":true,\"job_name\":\"tensorflow-training-2023-04-04-21-22-20-338\",\"log_level\":20,\"master_hostname\":\"algo-1\",\"model_dir\":\"/opt/ml/model\",\"module_dir\":\"s3://sagemaker-us-west-2-692349450615/tensorflow-training-2023-04-04-21-22-20-338/source/sourcedir.tar.gz\",\"module_name\":\"model_construction\",\"network_interface_name\":\"eth0\",\"num_cpus\":4,\"num_gpus\":1,\"output_data_dir\":\"/opt/ml/output/data\",\"output_dir\":\"/opt/ml/output\",\"output_intermediate_dir\":\"/opt/ml/output/intermediate\",\"resource_config\":{\"current_group_name\":\"homogeneousCluster\",\"current_host\":\"algo-1\",\"current_instance_type\":\"ml.p2.xlarge\",\"hosts\":[\"algo-1\"],\"instance_groups\":[{\"hosts\":[\"algo-1\"],\"instance_group_name\":\"homogeneousCluster\",\"instance_type\":\"ml.p2.xlarge\"}],\"network_interface_name\":\"eth0\"},\"user_entry_point\":\"model_construction.py\"}\u001b[0m\n",
      "\u001b[34mSM_USER_ARGS=[\"--enable_checkpointing\",\"False\",\"--enable_sagemaker_debugger\",\"True\",\"--enable_tensorboard\",\"True\",\"--epochs\",\"2\",\"--epsilon\",\"1e-06\",\"--freeze_bert_layer\",\"False\",\"--learning_rate\",\"0.001\",\"--max_seq_length\",\"300\",\"--model_dir\",\"s3://sagemaker-us-west-2-692349450615/tensorflow-training-2023-04-04-21-22-20-338/model\",\"--run_sample_predictions\",\"True\",\"--run_test\",\"True\",\"--run_validation\",\"True\",\"--test_batch_size\",\"128\",\"--test_steps\",\"10\",\"--train_batch_size\",\"128\",\"--train_steps_per_epoch\",\"10\",\"--use_amp\",\"True\",\"--use_xla\",\"True\",\"--validation_batch_size\",\"128\",\"--validation_steps\",\"10\"]\u001b[0m\n",
      "\u001b[34mSM_OUTPUT_INTERMEDIATE_DIR=/opt/ml/output/intermediate\u001b[0m\n",
      "\u001b[34mSM_CHANNEL_TEST=/opt/ml/input/data/test\u001b[0m\n",
      "\u001b[34mSM_CHANNEL_TRAIN=/opt/ml/input/data/train\u001b[0m\n",
      "\u001b[34mSM_CHANNEL_VALIDATION=/opt/ml/input/data/validation\u001b[0m\n",
      "\u001b[34mSM_HP_ENABLE_CHECKPOINTING=false\u001b[0m\n",
      "\u001b[34mSM_HP_ENABLE_SAGEMAKER_DEBUGGER=true\u001b[0m\n",
      "\u001b[34mSM_HP_ENABLE_TENSORBOARD=true\u001b[0m\n",
      "\u001b[34mSM_HP_EPOCHS=2\u001b[0m\n",
      "\u001b[34mSM_HP_EPSILON=1e-06\u001b[0m\n",
      "\u001b[34mSM_HP_FREEZE_BERT_LAYER=false\u001b[0m\n",
      "\u001b[34mSM_HP_LEARNING_RATE=0.001\u001b[0m\n",
      "\u001b[34mSM_HP_MAX_SEQ_LENGTH=300\u001b[0m\n",
      "\u001b[34mSM_HP_MODEL_DIR=s3://sagemaker-us-west-2-692349450615/tensorflow-training-2023-04-04-21-22-20-338/model\u001b[0m\n",
      "\u001b[34mSM_HP_RUN_SAMPLE_PREDICTIONS=true\u001b[0m\n",
      "\u001b[34mSM_HP_RUN_TEST=true\u001b[0m\n",
      "\u001b[34mSM_HP_RUN_VALIDATION=true\u001b[0m\n",
      "\u001b[34mSM_HP_TEST_BATCH_SIZE=128\u001b[0m\n",
      "\u001b[34mSM_HP_TEST_STEPS=10\u001b[0m\n",
      "\u001b[34mSM_HP_TRAIN_BATCH_SIZE=128\u001b[0m\n",
      "\u001b[34mSM_HP_TRAIN_STEPS_PER_EPOCH=10\u001b[0m\n",
      "\u001b[34mSM_HP_USE_AMP=true\u001b[0m\n",
      "\u001b[34mSM_HP_USE_XLA=true\u001b[0m\n",
      "\u001b[34mSM_HP_VALIDATION_BATCH_SIZE=128\u001b[0m\n",
      "\u001b[34mSM_HP_VALIDATION_STEPS=10\u001b[0m\n",
      "\u001b[34mPYTHONPATH=/opt/ml/code:/usr/local/bin:/usr/local/lib/python37.zip:/usr/local/lib/python3.7:/usr/local/lib/python3.7/lib-dynload:/usr/local/lib/python3.7/site-packages\u001b[0m\n",
      "\u001b[34mInvoking script with the following command:\u001b[0m\n",
      "\u001b[34m/usr/local/bin/python3.7 model_construction.py --enable_checkpointing False --enable_sagemaker_debugger True --enable_tensorboard True --epochs 2 --epsilon 1e-06 --freeze_bert_layer False --learning_rate 0.001 --max_seq_length 300 --model_dir s3://sagemaker-us-west-2-692349450615/tensorflow-training-2023-04-04-21-22-20-338/model --run_sample_predictions True --run_test True --run_validation True --test_batch_size 128 --test_steps 10 --train_batch_size 128 --train_steps_per_epoch 10 --use_amp True --use_xla True --validation_batch_size 128 --validation_steps 10\u001b[0m\n",
      "\u001b[34mCollecting tensorflow==2.3.0\n",
      "  Downloading tensorflow-2.3.0-cp37-cp37m-manylinux2010_x86_64.whl (320.4 MB)\u001b[0m\n",
      "\u001b[34mRequirement already satisfied: h5py<2.11.0,>=2.10.0 in /usr/local/lib/python3.7/site-packages (from tensorflow==2.3.0) (2.10.0)\u001b[0m\n",
      "\u001b[34mRequirement already satisfied: absl-py>=0.7.0 in /usr/local/lib/python3.7/site-packages (from tensorflow==2.3.0) (0.10.0)\u001b[0m\n",
      "\u001b[34mRequirement already satisfied: astunparse==1.6.3 in /usr/local/lib/python3.7/site-packages (from tensorflow==2.3.0) (1.6.3)\u001b[0m\n",
      "\u001b[34mRequirement already satisfied: grpcio>=1.8.6 in /usr/local/lib/python3.7/site-packages (from tensorflow==2.3.0) (1.35.0)\u001b[0m\n",
      "\u001b[34mRequirement already satisfied: keras-preprocessing<1.2,>=1.1.1 in /usr/local/lib/python3.7/site-packages (from tensorflow==2.3.0) (1.1.2)\u001b[0m\n",
      "\u001b[34mRequirement already satisfied: wrapt>=1.11.1 in /usr/local/lib/python3.7/site-packages (from tensorflow==2.3.0) (1.12.1)\u001b[0m\n",
      "\u001b[34mRequirement already satisfied: tensorboard<3,>=2.3.0 in /usr/local/lib/python3.7/site-packages (from tensorflow==2.3.0) (2.4.1)\u001b[0m\n",
      "\u001b[34mRequirement already satisfied: termcolor>=1.1.0 in /usr/local/lib/python3.7/site-packages (from tensorflow==2.3.0) (1.1.0)\u001b[0m\n",
      "\u001b[34mCollecting scipy==1.4.1\n",
      "  Downloading scipy-1.4.1-cp37-cp37m-manylinux1_x86_64.whl (26.1 MB)\u001b[0m\n",
      "\u001b[34mRequirement already satisfied: opt-einsum>=2.3.2 in /usr/local/lib/python3.7/site-packages (from tensorflow==2.3.0) (3.3.0)\u001b[0m\n",
      "\u001b[34mRequirement already satisfied: wheel>=0.26 in /usr/local/lib/python3.7/site-packages (from tensorflow==2.3.0) (0.36.2)\u001b[0m\n",
      "\u001b[34mRequirement already satisfied: google-pasta>=0.1.8 in /usr/local/lib/python3.7/site-packages (from tensorflow==2.3.0) (0.2.0)\u001b[0m\n",
      "\u001b[34mRequirement already satisfied: tensorflow-estimator<2.4.0,>=2.3.0 in /usr/local/lib/python3.7/site-packages (from tensorflow==2.3.0) (2.3.0)\u001b[0m\n",
      "\u001b[34mRequirement already satisfied: six>=1.12.0 in /usr/local/lib/python3.7/site-packages (from tensorflow==2.3.0) (1.15.0)\u001b[0m\n",
      "\u001b[34mRequirement already satisfied: numpy<1.19.0,>=1.16.0 in /usr/local/lib/python3.7/site-packages (from tensorflow==2.3.0) (1.18.5)\u001b[0m\n",
      "\u001b[34mRequirement already satisfied: protobuf>=3.9.2 in /usr/local/lib/python3.7/site-packages (from tensorflow==2.3.0) (3.15.0)\u001b[0m\n",
      "\u001b[34mRequirement already satisfied: gast==0.3.3 in /usr/local/lib/python3.7/site-packages (from tensorflow==2.3.0) (0.3.3)\u001b[0m\n",
      "\u001b[34mRequirement already satisfied: tensorboard-plugin-wit>=1.6.0 in /usr/local/lib/python3.7/site-packages (from tensorboard<3,>=2.3.0->tensorflow==2.3.0) (1.8.0)\u001b[0m\n",
      "\u001b[34mRequirement already satisfied: google-auth<2,>=1.6.3 in /usr/local/lib/python3.7/site-packages (from tensorboard<3,>=2.3.0->tensorflow==2.3.0) (1.27.0)\u001b[0m\n",
      "\u001b[34mRequirement already satisfied: markdown>=2.6.8 in /usr/local/lib/python3.7/site-packages (from tensorboard<3,>=2.3.0->tensorflow==2.3.0) (3.3.3)\u001b[0m\n",
      "\u001b[34mRequirement already satisfied: requests<3,>=2.21.0 in /usr/local/lib/python3.7/site-packages (from tensorboard<3,>=2.3.0->tensorflow==2.3.0) (2.24.0)\u001b[0m\n",
      "\u001b[34mRequirement already satisfied: google-auth-oauthlib<0.5,>=0.4.1 in /usr/local/lib/python3.7/site-packages (from tensorboard<3,>=2.3.0->tensorflow==2.3.0) (0.4.2)\u001b[0m\n",
      "\u001b[34mRequirement already satisfied: setuptools>=41.0.0 in /usr/local/lib/python3.7/site-packages (from tensorboard<3,>=2.3.0->tensorflow==2.3.0) (53.0.0)\u001b[0m\n",
      "\u001b[34mRequirement already satisfied: werkzeug>=0.11.15 in /usr/local/lib/python3.7/site-packages (from tensorboard<3,>=2.3.0->tensorflow==2.3.0) (1.0.1)\u001b[0m\n",
      "\u001b[34mRequirement already satisfied: rsa<5,>=3.1.4 in /usr/local/lib/python3.7/site-packages (from google-auth<2,>=1.6.3->tensorboard<3,>=2.3.0->tensorflow==2.3.0) (4.5)\u001b[0m\n",
      "\u001b[34mRequirement already satisfied: pyasn1-modules>=0.2.1 in /usr/local/lib/python3.7/site-packages (from google-auth<2,>=1.6.3->tensorboard<3,>=2.3.0->tensorflow==2.3.0) (0.2.8)\u001b[0m\n",
      "\u001b[34mRequirement already satisfied: cachetools<5.0,>=2.0.0 in /usr/local/lib/python3.7/site-packages (from google-auth<2,>=1.6.3->tensorboard<3,>=2.3.0->tensorflow==2.3.0) (4.2.1)\u001b[0m\n",
      "\u001b[34mRequirement already satisfied: requests-oauthlib>=0.7.0 in /usr/local/lib/python3.7/site-packages (from google-auth-oauthlib<0.5,>=0.4.1->tensorboard<3,>=2.3.0->tensorflow==2.3.0) (1.3.0)\u001b[0m\n",
      "\u001b[34mRequirement already satisfied: importlib-metadata in /usr/local/lib/python3.7/site-packages (from markdown>=2.6.8->tensorboard<3,>=2.3.0->tensorflow==2.3.0) (3.4.0)\u001b[0m\n",
      "\u001b[34mRequirement already satisfied: pyasn1<0.5.0,>=0.4.6 in /usr/local/lib/python3.7/site-packages (from pyasn1-modules>=0.2.1->google-auth<2,>=1.6.3->tensorboard<3,>=2.3.0->tensorflow==2.3.0) (0.4.8)\u001b[0m\n",
      "\u001b[34mRequirement already satisfied: certifi>=2017.4.17 in /usr/local/lib/python3.7/site-packages (from requests<3,>=2.21.0->tensorboard<3,>=2.3.0->tensorflow==2.3.0) (2020.12.5)\u001b[0m\n",
      "\u001b[34mRequirement already satisfied: urllib3!=1.25.0,!=1.25.1,<1.26,>=1.21.1 in /usr/local/lib/python3.7/site-packages (from requests<3,>=2.21.0->tensorboard<3,>=2.3.0->tensorflow==2.3.0) (1.25.11)\u001b[0m\n",
      "\u001b[34mRequirement already satisfied: chardet<4,>=3.0.2 in /usr/local/lib/python3.7/site-packages (from requests<3,>=2.21.0->tensorboard<3,>=2.3.0->tensorflow==2.3.0) (3.0.4)\u001b[0m\n",
      "\u001b[34mRequirement already satisfied: idna<3,>=2.5 in /usr/local/lib/python3.7/site-packages (from requests<3,>=2.21.0->tensorboard<3,>=2.3.0->tensorflow==2.3.0) (2.10)\u001b[0m\n",
      "\u001b[34mRequirement already satisfied: oauthlib>=3.0.0 in /usr/local/lib/python3.7/site-packages (from requests-oauthlib>=0.7.0->google-auth-oauthlib<0.5,>=0.4.1->tensorboard<3,>=2.3.0->tensorflow==2.3.0) (3.1.0)\u001b[0m\n",
      "\u001b[34mRequirement already satisfied: typing-extensions>=3.6.4 in /usr/local/lib/python3.7/site-packages (from importlib-metadata->markdown>=2.6.8->tensorboard<3,>=2.3.0->tensorflow==2.3.0) (3.7.4.3)\u001b[0m\n",
      "\u001b[34mRequirement already satisfied: zipp>=0.5 in /usr/local/lib/python3.7/site-packages (from importlib-metadata->markdown>=2.6.8->tensorboard<3,>=2.3.0->tensorflow==2.3.0) (3.4.0)\u001b[0m\n",
      "\u001b[34mInstalling collected packages: scipy, tensorflow\n",
      "  Attempting uninstall: scipy\n",
      "    Found existing installation: scipy 1.5.2\n",
      "    Uninstalling scipy-1.5.2:\u001b[0m\n",
      "\u001b[34m      Successfully uninstalled scipy-1.5.2\u001b[0m\n",
      "\u001b[34mSuccessfully installed scipy-1.4.1 tensorflow-2.3.0\u001b[0m\n",
      "\u001b[34mCollecting transformers==3.5.1\n",
      "  Downloading transformers-3.5.1-py3-none-any.whl (1.3 MB)\u001b[0m\n",
      "\u001b[34mCollecting tokenizers==0.9.3\n",
      "  Downloading tokenizers-0.9.3-cp37-cp37m-manylinux1_x86_64.whl (2.9 MB)\u001b[0m\n",
      "\u001b[34mCollecting regex!=2019.12.17\n",
      "  Downloading regex-2022.10.31-cp37-cp37m-manylinux_2_17_x86_64.manylinux2014_x86_64.whl (757 kB)\u001b[0m\n",
      "\u001b[34mRequirement already satisfied: numpy in /usr/local/lib/python3.7/site-packages (from transformers==3.5.1) (1.18.5)\u001b[0m\n",
      "\u001b[34mCollecting filelock\n",
      "  Downloading filelock-3.10.7-py3-none-any.whl (10 kB)\u001b[0m\n",
      "\u001b[34mCollecting sacremoses\n",
      "  Downloading sacremoses-0.0.53.tar.gz (880 kB)\u001b[0m\n",
      "\u001b[34mCollecting sentencepiece==0.1.91\n",
      "  Downloading sentencepiece-0.1.91-cp37-cp37m-manylinux1_x86_64.whl (1.1 MB)\u001b[0m\n",
      "\u001b[34mRequirement already satisfied: requests in /usr/local/lib/python3.7/site-packages (from transformers==3.5.1) (2.24.0)\u001b[0m\n",
      "\u001b[34mRequirement already satisfied: packaging in /usr/local/lib/python3.7/site-packages (from transformers==3.5.1) (20.9)\u001b[0m\n",
      "\u001b[34mCollecting tqdm>=4.27\n",
      "  Downloading tqdm-4.65.0-py3-none-any.whl (77 kB)\u001b[0m\n",
      "\u001b[34mRequirement already satisfied: protobuf in /usr/local/lib/python3.7/site-packages (from transformers==3.5.1) (3.15.0)\u001b[0m\n",
      "\u001b[34mRequirement already satisfied: pyparsing>=2.0.2 in /usr/local/lib/python3.7/site-packages (from packaging->transformers==3.5.1) (2.4.7)\u001b[0m\n",
      "\u001b[34mRequirement already satisfied: six>=1.9 in /usr/local/lib/python3.7/site-packages (from protobuf->transformers==3.5.1) (1.15.0)\u001b[0m\n",
      "\u001b[34mRequirement already satisfied: certifi>=2017.4.17 in /usr/local/lib/python3.7/site-packages (from requests->transformers==3.5.1) (2020.12.5)\u001b[0m\n",
      "\u001b[34mRequirement already satisfied: idna<3,>=2.5 in /usr/local/lib/python3.7/site-packages (from requests->transformers==3.5.1) (2.10)\u001b[0m\n",
      "\u001b[34mRequirement already satisfied: urllib3!=1.25.0,!=1.25.1,<1.26,>=1.21.1 in /usr/local/lib/python3.7/site-packages (from requests->transformers==3.5.1) (1.25.11)\u001b[0m\n",
      "\u001b[34mRequirement already satisfied: chardet<4,>=3.0.2 in /usr/local/lib/python3.7/site-packages (from requests->transformers==3.5.1) (3.0.4)\u001b[0m\n",
      "\u001b[34mCollecting click\n",
      "  Downloading click-8.1.3-py3-none-any.whl (96 kB)\u001b[0m\n",
      "\u001b[34mRequirement already satisfied: joblib in /usr/local/lib/python3.7/site-packages (from sacremoses->transformers==3.5.1) (1.0.1)\u001b[0m\n",
      "\u001b[34mRequirement already satisfied: importlib-metadata in /usr/local/lib/python3.7/site-packages (from click->sacremoses->transformers==3.5.1) (3.4.0)\u001b[0m\n",
      "\u001b[34mRequirement already satisfied: zipp>=0.5 in /usr/local/lib/python3.7/site-packages (from importlib-metadata->click->sacremoses->transformers==3.5.1) (3.4.0)\u001b[0m\n",
      "\u001b[34mRequirement already satisfied: typing-extensions>=3.6.4 in /usr/local/lib/python3.7/site-packages (from importlib-metadata->click->sacremoses->transformers==3.5.1) (3.7.4.3)\u001b[0m\n",
      "\u001b[34mBuilding wheels for collected packages: sacremoses\n",
      "  Building wheel for sacremoses (setup.py): started\u001b[0m\n",
      "\u001b[34m  Building wheel for sacremoses (setup.py): finished with status 'done'\n",
      "  Created wheel for sacremoses: filename=sacremoses-0.0.53-py3-none-any.whl size=895254 sha256=21bc7c55d5946daebc5ea05880bc8e52efaeb85b26cec5f921db34eabb509836\n",
      "  Stored in directory: /root/.cache/pip/wheels/87/39/dd/a83eeef36d0bf98e7a4d1933a4ad2d660295a40613079bafc9\u001b[0m\n",
      "\u001b[34mSuccessfully built sacremoses\u001b[0m\n",
      "\u001b[34mInstalling collected packages: tqdm, regex, click, tokenizers, sentencepiece, sacremoses, filelock, transformers\u001b[0m\n",
      "\u001b[34mSuccessfully installed click-8.1.3 filelock-3.10.7 regex-2022.10.31 sacremoses-0.0.53 sentencepiece-0.1.91 tokenizers-0.9.3 tqdm-4.65.0 transformers-3.5.1\u001b[0m\n",
      "\u001b[34mCollecting scikit-learn==0.23.1\n",
      "  Downloading scikit_learn-0.23.1-cp37-cp37m-manylinux1_x86_64.whl (6.8 MB)\u001b[0m\n",
      "\u001b[34mRequirement already satisfied: numpy>=1.13.3 in /usr/local/lib/python3.7/site-packages (from scikit-learn==0.23.1) (1.18.5)\u001b[0m\n",
      "\u001b[34mRequirement already satisfied: joblib>=0.11 in /usr/local/lib/python3.7/site-packages (from scikit-learn==0.23.1) (1.0.1)\u001b[0m\n",
      "\u001b[34mRequirement already satisfied: threadpoolctl>=2.0.0 in /usr/local/lib/python3.7/site-packages (from scikit-learn==0.23.1) (2.1.0)\u001b[0m\n",
      "\u001b[34mRequirement already satisfied: scipy>=0.19.1 in /usr/local/lib/python3.7/site-packages (from scikit-learn==0.23.1) (1.4.1)\u001b[0m\n",
      "\u001b[34mInstalling collected packages: scikit-learn\n",
      "  Attempting uninstall: scikit-learn\n",
      "    Found existing installation: scikit-learn 0.23.0\n",
      "    Uninstalling scikit-learn-0.23.0:\u001b[0m\n",
      "\u001b[34m      Successfully uninstalled scikit-learn-0.23.0\u001b[0m\n",
      "\u001b[34mSuccessfully installed scikit-learn-0.23.1\u001b[0m\n",
      "\u001b[34mCollecting matplotlib==3.2.1\n",
      "  Downloading matplotlib-3.2.1-cp37-cp37m-manylinux1_x86_64.whl (12.4 MB)\u001b[0m\n",
      "\u001b[34mCollecting kiwisolver>=1.0.1\n",
      "  Downloading kiwisolver-1.4.4-cp37-cp37m-manylinux_2_5_x86_64.manylinux1_x86_64.whl (1.1 MB)\u001b[0m\n",
      "\u001b[34mCollecting cycler>=0.10\n",
      "  Downloading cycler-0.11.0-py3-none-any.whl (6.4 kB)\u001b[0m\n",
      "\u001b[34mRequirement already satisfied: pyparsing!=2.0.4,!=2.1.2,!=2.1.6,>=2.0.1 in /usr/local/lib/python3.7/site-packages (from matplotlib==3.2.1) (2.4.7)\u001b[0m\n",
      "\u001b[34mRequirement already satisfied: numpy>=1.11 in /usr/local/lib/python3.7/site-packages (from matplotlib==3.2.1) (1.18.5)\u001b[0m\n",
      "\u001b[34mRequirement already satisfied: python-dateutil>=2.1 in /usr/local/lib/python3.7/site-packages (from matplotlib==3.2.1) (2.8.1)\u001b[0m\n",
      "\u001b[34mRequirement already satisfied: typing-extensions in /usr/local/lib/python3.7/site-packages (from kiwisolver>=1.0.1->matplotlib==3.2.1) (3.7.4.3)\u001b[0m\n",
      "\u001b[34mRequirement already satisfied: six>=1.5 in /usr/local/lib/python3.7/site-packages (from python-dateutil>=2.1->matplotlib==3.2.1) (1.15.0)\u001b[0m\n",
      "\u001b[34mInstalling collected packages: kiwisolver, cycler, matplotlib\u001b[0m\n",
      "\u001b[34mSuccessfully installed cycler-0.11.0 kiwisolver-1.4.4 matplotlib-3.2.1\u001b[0m\n",
      "\u001b[34mCollecting smdebug==0.9.3\n",
      "  Downloading smdebug-0.9.3-py2.py3-none-any.whl (174 kB)\u001b[0m\n",
      "\u001b[34mRequirement already satisfied: numpy<2.0.0,>1.16.0 in /usr/local/lib/python3.7/site-packages (from smdebug==0.9.3) (1.18.5)\u001b[0m\n",
      "\u001b[34mRequirement already satisfied: packaging in /usr/local/lib/python3.7/site-packages (from smdebug==0.9.3) (20.9)\u001b[0m\n",
      "\u001b[34mRequirement already satisfied: protobuf>=3.6.0 in /usr/local/lib/python3.7/site-packages (from smdebug==0.9.3) (3.15.0)\u001b[0m\n",
      "\u001b[34mRequirement already satisfied: boto3>=1.10.32 in /usr/local/lib/python3.7/site-packages (from smdebug==0.9.3) (1.17.11)\u001b[0m\n",
      "\u001b[34mRequirement already satisfied: s3transfer<0.4.0,>=0.3.0 in /usr/local/lib/python3.7/site-packages (from boto3>=1.10.32->smdebug==0.9.3) (0.3.4)\u001b[0m\n",
      "\u001b[34mRequirement already satisfied: botocore<1.21.0,>=1.20.11 in /usr/local/lib/python3.7/site-packages (from boto3>=1.10.32->smdebug==0.9.3) (1.20.11)\u001b[0m\n",
      "\u001b[34mRequirement already satisfied: jmespath<1.0.0,>=0.7.1 in /usr/local/lib/python3.7/site-packages (from boto3>=1.10.32->smdebug==0.9.3) (0.10.0)\u001b[0m\n",
      "\u001b[34mRequirement already satisfied: urllib3<1.27,>=1.25.4 in /usr/local/lib/python3.7/site-packages (from botocore<1.21.0,>=1.20.11->boto3>=1.10.32->smdebug==0.9.3) (1.25.11)\u001b[0m\n",
      "\u001b[34mRequirement already satisfied: python-dateutil<3.0.0,>=2.1 in /usr/local/lib/python3.7/site-packages (from botocore<1.21.0,>=1.20.11->boto3>=1.10.32->smdebug==0.9.3) (2.8.1)\u001b[0m\n",
      "\u001b[34mRequirement already satisfied: six>=1.9 in /usr/local/lib/python3.7/site-packages (from protobuf>=3.6.0->smdebug==0.9.3) (1.15.0)\u001b[0m\n",
      "\u001b[34mRequirement already satisfied: pyparsing>=2.0.2 in /usr/local/lib/python3.7/site-packages (from packaging->smdebug==0.9.3) (2.4.7)\u001b[0m\n",
      "\u001b[34mInstalling collected packages: smdebug\n",
      "  Attempting uninstall: smdebug\n",
      "    Found existing installation: smdebug 1.0.3\n",
      "    Uninstalling smdebug-1.0.3:\u001b[0m\n",
      "\u001b[34m      Successfully uninstalled smdebug-1.0.3\u001b[0m\n",
      "\u001b[34mSuccessfully installed smdebug-0.9.3\u001b[0m\n",
      "\u001b[34mArgs:\u001b[0m\n",
      "\u001b[34mNamespace(checkpoint_base_path='/opt/ml/checkpoints', current_host='algo-1', enable_checkpointing=False, enable_sagemaker_debugger=True, enable_tensorboard=True, epochs=2, epsilon=1e-06, freeze_bert_layer=False, hosts=['algo-1'], learning_rate=0.001, max_seq_length=300, num_gpus=1, output_data_dir='/opt/ml/output/data', output_dir='/opt/ml/output', run_sample_predictions=True, run_test=True, run_validation=True, test_batch_size=128, test_data='/opt/ml/input/data/test', test_steps=10, train_batch_size=128, train_data='/opt/ml/input/data/train', train_steps_per_epoch=10, use_amp=True, use_xla=True, validation_batch_size=128, validation_data='/opt/ml/input/data/validation', validation_steps=10)\u001b[0m\n",
      "\u001b[34mEnvironment Variables:\u001b[0m\n",
      "\u001b[34m{'AWS_CONTAINER_CREDENTIALS_RELATIVE_URI': '/v2/credentials/proxy-d0df49a9961a94245e8c9c1e1e1dc50b7f2060704d7dc4f981feadc235cc3002-customer',\n",
      " 'AWS_REGION': 'us-west-2',\n",
      " 'CUDA_PKG_VERSION': '10-2=10.2.89-1',\n",
      " 'CUDA_VERSION': '10.2.89',\n",
      " 'CURRENT_HOST': 'algo-1',\n",
      " 'DEBCONF_NONINTERACTIVE_SEEN': 'true',\n",
      " 'DEBIAN_FRONTEND': 'noninteractive',\n",
      " 'DMLC_INTERFACE': 'eth0',\n",
      " 'HOME': '/root',\n",
      " 'HOSTNAME': 'ip-10-0-93-19.us-west-2.compute.internal',\n",
      " 'KMP_AFFINITY': 'granularity=fine,compact,1,0',\n",
      " 'KMP_BLOCKTIME': '1',\n",
      " 'KMP_DUPLICATE_LIB_OK': 'True',\n",
      " 'KMP_INIT_AT_FORK': 'FALSE',\n",
      " 'KMP_SETTINGS': '0',\n",
      " 'LANG': 'C.UTF-8',\n",
      " 'LC_ALL': 'C.UTF-8',\n",
      " 'LD_LIBRARY_PATH': '/usr/local/lib:/usr/local/openmpi/lib:/usr/local/nvidia/lib:/usr/local/nvidia/lib64',\n",
      " 'NVIDIA_DRIVER_CAPABILITIES': 'compute,utility,compat32,graphics,video',\n",
      " 'NVIDIA_REQUIRE_CUDA': 'cuda>=10.2 '\n",
      "                        'brand=tesla,driver>=396,driver<397 '\n",
      "                        'brand=tesla,driver>=410,driver<411 '\n",
      "                        'brand=tesla,driver>=418,driver<419 '\n",
      "                        'brand=tesla,driver>=440,driver<441',\n",
      " 'NVIDIA_VISIBLE_DEVICES': 'all',\n",
      " 'PATH': '/usr/local/nvidia/bin:/usr/local/openmpi/bin/:/usr/local/nvidia/bin:/usr/local/cuda/bin:/usr/local/sbin:/usr/local/bin:/usr/sbin:/usr/bin:/sbin:/bin',\n",
      " 'PYTHONDONTWRITEBYTECODE': '1',\n",
      " 'PYTHONIOENCODING': 'UTF-8',\n",
      " 'PYTHONPATH': '/opt/ml/code:/usr/local/bin:/usr/local/lib/python37.zip:/usr/local/lib/python3.7:/usr/local/lib/python3.7/lib-dynload:/usr/local/lib/python3.7/site-packages',\n",
      " 'PYTHONUNBUFFERED': '1',\n",
      " 'S3_REGION': 'us-west-2',\n",
      " 'S3_USE_HTTPS': '1',\n",
      " 'SAGEMAKER_JOB_NAME': 'tensorflow-training-2023-04-04-21-22-20-338',\n",
      " 'SAGEMAKER_METRICS_DIRECTORY': '/opt/ml/output/metrics/sagemaker',\n",
      " 'SAGEMAKER_REGION': 'us-west-2',\n",
      " 'SAGEMAKER_TRAINING_MODULE': 'sagemaker_tensorflow_container.training:main',\n",
      " 'SM_CHANNELS': '[\"test\",\"train\",\"validation\"]',\n",
      " 'SM_CHANNEL_TEST': '/opt/ml/input/data/test',\n",
      " 'SM_CHANNEL_TRAIN': '/opt/ml/input/data/train',\n",
      " 'SM_CHANNEL_VALIDATION': '/opt/ml/input/data/validation',\n",
      " 'SM_CURRENT_HOST': 'algo-1',\n",
      " 'SM_FRAMEWORK_MODULE': 'sagemaker_tensorflow_container.training:main',\n",
      " 'SM_FRAMEWORK_PARAMS': '{}',\n",
      " 'SM_HOSTS': '[\"algo-1\"]',\n",
      " 'SM_HPS': '{\"enable_checkpointing\":false,\"enable_sagemaker_debugger\":true,\"enable_tensorboard\":true,\"epochs\":2,\"epsilon\":1e-06,\"freeze_bert_layer\":false,\"learning_rate\":0.001,\"max_seq_length\":300,\"model_dir\":\"s3://sagemaker-us-west-2-692349450615/tensorflow-training-2023-04-04-21-22-20-338/model\",\"run_sample_predictions\":true,\"run_test\":true,\"run_validation\":true,\"test_batch_size\":128,\"test_steps\":10,\"train_batch_size\":128,\"train_steps_per_epoch\":10,\"use_amp\":true,\"use_xla\":true,\"validation_batch_size\":128,\"validation_steps\":10}',\n",
      " 'SM_HP_ENABLE_CHECKPOINTING': 'false',\n",
      " 'SM_HP_ENABLE_SAGEMAKER_DEBUGGER': 'true',\n",
      " 'SM_HP_ENABLE_TENSORBOARD': 'true',\n",
      " 'SM_HP_EPOCHS': '2',\n",
      " 'SM_HP_EPSILON': '1e-06',\n",
      " 'SM_HP_FREEZE_BERT_LAYER': 'false',\n",
      " 'SM_HP_LEARNING_RATE': '0.001',\n",
      " 'SM_HP_MAX_SEQ_LENGTH': '300',\n",
      " 'SM_HP_MODEL_DIR': 's3://sagemaker-us-west-2-692349450615/tensorflow-training-2023-04-04-21-22-20-338/model',\n",
      " 'SM_HP_RUN_SAMPLE_PREDICTIONS': 'true',\n",
      " 'SM_HP_RUN_TEST': 'true',\n",
      " 'SM_HP_RUN_VALIDATION': 'true',\n",
      " 'SM_HP_TEST_BATCH_SIZE': '128',\n",
      " 'SM_HP_TEST_STEPS': '10',\n",
      " 'SM_HP_TRAIN_BATCH_SIZE': '128',\n",
      " 'SM_HP_TRAIN_STEPS_PER_EPOCH': '10',\n",
      " 'SM_HP_USE_AMP': 'true',\n",
      " 'SM_HP_USE_XLA': 'true',\n",
      " 'SM_HP_VALIDATION_BATCH_SIZE': '128',\n",
      " 'SM_HP_VALIDATION_STEPS': '10',\n",
      " 'SM_INPUT_CONFIG_DIR': '/opt/ml/input/config',\n",
      " 'SM_INPUT_DATA_CONFIG': '{\"test\":{\"RecordWrapperType\":\"None\",\"S3DistributionType\":\"ShardedByS3Key\",\"TrainingInputMode\":\"Pipe\"},\"train\":{\"RecordWrapperType\":\"None\",\"S3DistributionType\":\"ShardedByS3Key\",\"TrainingInputMode\":\"Pipe\"},\"validation\":{\"RecordWrapperType\":\"None\",\"S3DistributionType\":\"ShardedByS3Key\",\"TrainingInputMode\":\"Pipe\"}}',\n",
      " 'SM_INPUT_DIR': '/opt/ml/input',\n",
      " 'SM_LOG_LEVEL': '20',\n",
      " 'SM_MODEL_DIR': '/opt/ml/model',\n",
      " 'SM_MODULE_DIR': 's3://sagemaker-us-west-2-692349450615/tensorflow-training-2023-04-04-21-22-20-338/source/sourcedir.tar.gz',\n",
      " 'SM_MODULE_NAME': 'model_construction',\n",
      " 'SM_NETWORK_INTERFACE_NAME': 'eth0',\n",
      " 'SM_NUM_CPUS': '4',\n",
      " 'SM_NUM_GPUS': '1',\n",
      " 'SM_OUTPUT_DATA_DIR': '/opt/ml/output/data',\n",
      " 'SM_OUTPUT_DIR': '/opt/ml/output',\n",
      " 'SM_OUTPUT_INTERMEDIATE_DIR': '/opt/ml/output/intermediate',\n",
      " 'SM_RESOURCE_CONFIG': '{\"current_group_name\":\"homogeneousCluster\",\"current_host\":\"algo-1\",\"current_instance_type\":\"ml.p2.xlarge\",\"hosts\":[\"algo-1\"],\"instance_groups\":[{\"hosts\":[\"algo-1\"],\"instance_group_name\":\"homogeneousCluster\",\"instance_type\":\"ml.p2.xlarge\"}],\"network_interface_name\":\"eth0\"}',\n",
      " 'SM_TRAINING_ENV': '{\"additional_framework_parameters\":{},\"channel_input_dirs\":{\"test\":\"/opt/ml/input/data/test\",\"train\":\"/opt/ml/input/data/train\",\"validation\":\"/opt/ml/input/data/validation\"},\"current_host\":\"algo-1\",\"framework_module\":\"sagemaker_tensorflow_container.training:main\",\"hosts\":[\"algo-1\"],\"hyperparameters\":{\"enable_checkpointing\":false,\"enable_sagemaker_debugger\":true,\"enable_tensorboard\":true,\"epochs\":2,\"epsilon\":1e-06,\"freeze_bert_layer\":false,\"learning_rate\":0.001,\"max_seq_length\":300,\"model_dir\":\"s3://sagemaker-us-west-2-692349450615/tensorflow-training-2023-04-04-21-22-20-338/model\",\"run_sample_predictions\":true,\"run_test\":true,\"run_validation\":true,\"test_batch_size\":128,\"test_steps\":10,\"train_batch_size\":128,\"train_steps_per_epoch\":10,\"use_amp\":true,\"use_xla\":true,\"validation_batch_size\":128,\"validation_steps\":10},\"input_config_dir\":\"/opt/ml/input/config\",\"input_data_config\":{\"test\":{\"RecordWrapperType\":\"None\",\"S3DistributionType\":\"ShardedByS3Key\",\"TrainingInputMode\":\"Pipe\"},\"train\":{\"RecordWrapperType\":\"None\",\"S3DistributionType\":\"ShardedByS3Key\",\"TrainingInputMode\":\"Pipe\"},\"validation\":{\"RecordWrapperType\":\"None\",\"S3DistributionType\":\"ShardedByS3Key\",\"TrainingInputMode\":\"Pipe\"}},\"input_dir\":\"/opt/ml/input\",\"is_master\":true,\"job_name\":\"tensorflow-training-2023-04-04-21-22-20-338\",\"log_level\":20,\"master_hostname\":\"algo-1\",\"model_dir\":\"/opt/ml/model\",\"module_dir\":\"s3://sagemaker-us-west-2-692349450615/tensorflow-training-2023-04-04-21-22-20-338/source/sourcedir.tar.gz\",\"module_name\":\"model_construction\",\"network_interface_name\":\"eth0\",\"num_cpus\":4,\"num_gpus\":1,\"output_data_dir\":\"/opt/ml/output/data\",\"output_dir\":\"/opt/ml/output\",\"output_intermediate_dir\":\"/opt/ml/output/intermediate\",\"resource_config\":{\"current_group_name\":\"homogeneousCluster\",\"current_host\":\"algo-1\",\"current_instance_type\":\"ml.p2.xlarge\",\"hosts\":[\"algo-1\"],\"instance_groups\":[{\"hosts\":[\"algo-1\"],\"instance_group_name\":\"homogeneousCluster\",\"instance_type\":\"ml.p2.xlarge\"}],\"network_interface_name\":\"eth0\"},\"user_entry_point\":\"model_construction.py\"}',\n",
      " 'SM_USER_ARGS': '[\"--enable_checkpointing\",\"False\",\"--enable_sagemaker_debugger\",\"True\",\"--enable_tensorboard\",\"True\",\"--epochs\",\"2\",\"--epsilon\",\"1e-06\",\"--freeze_bert_layer\",\"False\",\"--learning_rate\",\"0.001\",\"--max_seq_length\",\"300\",\"--model_dir\",\"s3://sagemaker-us-west-2-692349450615/tensorflow-training-2023-04-04-21-22-20-338/model\",\"--run_sample_predictions\",\"True\",\"--run_test\",\"True\",\"--run_validation\",\"True\",\"--test_batch_size\",\"128\",\"--test_steps\",\"10\",\"--train_batch_size\",\"128\",\"--train_steps_per_epoch\",\"10\",\"--use_amp\",\"True\",\"--use_xla\",\"True\",\"--validation_batch_size\",\"128\",\"--validation_steps\",\"10\"]',\n",
      " 'SM_USER_ENTRY_POINT': 'model_construction.py',\n",
      " 'TF2_BEHAVIOR': '1',\n",
      " 'TF_CPP_MIN_LOG_LEVEL': '1',\n",
      " 'TRAINING_JOB_ARN': 'arn:aws:sagemaker:us-west-2:692349450615:training-job/tensorflow-training-2023-04-04-21-22-20-338',\n",
      " 'TRAINING_JOB_NAME': 'tensorflow-training-2023-04-04-21-22-20-338'}\u001b[0m\n",
      "\u001b[34mSageMaker Training Environment {\"additional_framework_parameters\":{},\"channel_input_dirs\":{\"test\":\"/opt/ml/input/data/test\",\"train\":\"/opt/ml/input/data/train\",\"validation\":\"/opt/ml/input/data/validation\"},\"current_host\":\"algo-1\",\"framework_module\":\"sagemaker_tensorflow_container.training:main\",\"hosts\":[\"algo-1\"],\"hyperparameters\":{\"enable_checkpointing\":false,\"enable_sagemaker_debugger\":true,\"enable_tensorboard\":true,\"epochs\":2,\"epsilon\":1e-06,\"freeze_bert_layer\":false,\"learning_rate\":0.001,\"max_seq_length\":300,\"model_dir\":\"s3://sagemaker-us-west-2-692349450615/tensorflow-training-2023-04-04-21-22-20-338/model\",\"run_sample_predictions\":true,\"run_test\":true,\"run_validation\":true,\"test_batch_size\":128,\"test_steps\":10,\"train_batch_size\":128,\"train_steps_per_epoch\":10,\"use_amp\":true,\"use_xla\":true,\"validation_batch_size\":128,\"validation_steps\":10},\"input_config_dir\":\"/opt/ml/input/config\",\"input_data_config\":{\"test\":{\"RecordWrapperType\":\"None\",\"S3DistributionType\":\"ShardedByS3Key\",\"TrainingInputMode\":\"Pipe\"},\"train\":{\"RecordWrapperType\":\"None\",\"S3DistributionType\":\"ShardedByS3Key\",\"TrainingInputMode\":\"Pipe\"},\"validation\":{\"RecordWrapperType\":\"None\",\"S3DistributionType\":\"ShardedByS3Key\",\"TrainingInputMode\":\"Pipe\"}},\"input_dir\":\"/opt/ml/input\",\"is_master\":true,\"job_name\":\"tensorflow-training-2023-04-04-21-22-20-338\",\"log_level\":20,\"master_hostname\":\"algo-1\",\"model_dir\":\"/opt/ml/model\",\"module_dir\":\"s3://sagemaker-us-west-2-692349450615/tensorflow-training-2023-04-04-21-22-20-338/source/sourcedir.tar.gz\",\"module_name\":\"model_construction\",\"network_interface_name\":\"eth0\",\"num_cpus\":4,\"num_gpus\":1,\"output_data_dir\":\"/opt/ml/output/data\",\"output_dir\":\"/opt/ml/output\",\"output_intermediate_dir\":\"/opt/ml/output/intermediate\",\"resource_config\":{\"current_group_name\":\"homogeneousCluster\",\"current_host\":\"algo-1\",\"current_instance_type\":\"ml.p2.xlarge\",\"hosts\":[\"algo-1\"],\"instance_groups\":[{\"hosts\":[\"algo-1\"],\"instance_group_name\":\"homogeneousCluster\",\"instance_type\":\"ml.p2.xlarge\"}],\"network_interface_name\":\"eth0\"},\"user_entry_point\":\"model_construction.py\"}\u001b[0m\n",
      "\u001b[34mis_master True\u001b[0m\n",
      "\u001b[34mtrain data: /opt/ml/input/data/train\u001b[0m\n",
      "\u001b[34mvalidation data: /opt/ml/input/data/validation\u001b[0m\n",
      "\u001b[34mtest data: /opt/ml/input/data/test\u001b[0m\n",
      "\u001b[34moutput directory: /opt/ml/output\u001b[0m\n",
      "\u001b[34mhosts: ['algo-1']\u001b[0m\n",
      "\u001b[34mcurrent host: algo-1\u001b[0m\n",
      "\u001b[34mnumber of gpus: 1\u001b[0m\n",
      "\u001b[34mjob name: tensorflow-training-2023-04-04-21-22-20-338\u001b[0m\n",
      "\u001b[34mare you using xla? True\u001b[0m\n",
      "\u001b[34mare you using amp? True\u001b[0m\n",
      "\u001b[34mMax sequence length: 300\u001b[0m\n",
      "\u001b[34mtraining batch size: 128\u001b[0m\n",
      "\u001b[34mvalidation batch size: 128\u001b[0m\n",
      "\u001b[34mtest batch size: 128\u001b[0m\n",
      "\u001b[34mepochs: 2\u001b[0m\n",
      "\u001b[34mlearning rate: 0.001\u001b[0m\n",
      "\u001b[34mepsilon: 1e-06\u001b[0m\n",
      "\u001b[34mtrain steps per epoch: 10\u001b[0m\n",
      "\u001b[34mvalidation steps: 10\u001b[0m\n",
      "\u001b[34mtest steps: 10\u001b[0m\n",
      "\u001b[34mfreeze bert layer: False\u001b[0m\n",
      "\u001b[34menable sagemaker debugger: True\u001b[0m\n",
      "\u001b[34mrun validation: True\u001b[0m\n",
      "\u001b[34mrun test: True\u001b[0m\n",
      "\u001b[34mrun sample predictions: True\u001b[0m\n",
      "\u001b[34menable tensorboard: True\u001b[0m\n",
      "\u001b[34menable checkpointing: False\u001b[0m\n",
      "\u001b[34mcheckpoint path: /opt/ml/checkpoints\u001b[0m\n",
      "\u001b[34musing the pipe mode: True\u001b[0m\n",
      "\u001b[34mtrain_data_filenames []\u001b[0m\n",
      "\u001b[34mUsing pipe_mode with channel train\u001b[0m\n",
      "\u001b[34mWARNING: You are using pip version 21.0.1; however, version 23.0.1 is available.\u001b[0m\n",
      "\u001b[34mYou should consider upgrading via the '/usr/local/bin/python3.7 -m pip install --upgrade pip' command.\u001b[0m\n",
      "\u001b[34mWARNING: You are using pip version 21.0.1; however, version 23.0.1 is available.\u001b[0m\n",
      "\u001b[34mYou should consider upgrading via the '/usr/local/bin/python3.7 -m pip install --upgrade pip' command.\u001b[0m\n",
      "\u001b[34mWARNING: You are using pip version 21.0.1; however, version 23.0.1 is available.\u001b[0m\n",
      "\u001b[34mYou should consider upgrading via the '/usr/local/bin/python3.7 -m pip install --upgrade pip' command.\u001b[0m\n",
      "\u001b[34mWARNING: You are using pip version 21.0.1; however, version 23.0.1 is available.\u001b[0m\n",
      "\u001b[34mYou should consider upgrading via the '/usr/local/bin/python3.7 -m pip install --upgrade pip' command.\u001b[0m\n",
      "\u001b[34mWARNING: You are using pip version 21.0.1; however, version 23.0.1 is available.\u001b[0m\n",
      "\u001b[34mYou should consider upgrading via the '/usr/local/bin/python3.7 -m pip install --upgrade pip' command.\u001b[0m\n",
      "\u001b[34m2023-04-04 21:28:57.237000: W tensorflow/stream_executor/platform/default/dso_loader.cc:59] Could not load dynamic library 'libcudart.so.10.1'; dlerror: libcudart.so.10.1: cannot open shared object file: No such file or directory; LD_LIBRARY_PATH: /usr/local/lib:/usr/local/openmpi/lib:/usr/local/nvidia/lib:/usr/local/nvidia/lib64\u001b[0m\n",
      "\u001b[34m2023-04-04 21:28:59.689112: W tensorflow/stream_executor/platform/default/dso_loader.cc:59] Could not load dynamic library 'libcudart.so.10.1'; dlerror: libcudart.so.10.1: cannot open shared object file: No such file or directory; LD_LIBRARY_PATH: /usr/local/lib:/usr/local/openmpi/lib:/usr/local/nvidia/lib:/usr/local/nvidia/lib64\u001b[0m\n",
      "\u001b[34m2023-04-04 21:28:59.702164: W tensorflow/core/common_runtime/gpu/gpu_device.cc:1753] Cannot dlopen some GPU libraries. Please make sure the missing libraries mentioned above are installed properly if you would like to use GPU. Follow the guide at https://www.tensorflow.org/install/gpu for how to download and setup the required libraries for your platform.\u001b[0m\n",
      "\u001b[34mSkipping registering GPU devices...\u001b[0m\n",
      "\u001b[34mWARNING:tensorflow:There are non-GPU devices in `tf.distribute.Strategy`, not using nccl allreduce.\u001b[0m\n",
      "\u001b[34mWARNING:tensorflow:There are non-GPU devices in `tf.distribute.Strategy`, not using nccl allreduce.\u001b[0m\n",
      "\u001b[34mINFO:tensorflow:Using MirroredStrategy with devices ('/job:localhost/replica:0/task:0/device:CPU:0',)\u001b[0m\n",
      "\u001b[34mINFO:tensorflow:Using MirroredStrategy with devices ('/job:localhost/replica:0/task:0/device:CPU:0',)\u001b[0m\n",
      "\u001b[34mWARNING:tensorflow:From model_construction.py:79: map_and_batch (from tensorflow.python.data.experimental.ops.batching) is deprecated and will be removed in a future version.\u001b[0m\n",
      "\u001b[34mInstructions for updating:\u001b[0m\n",
      "\u001b[34mUse `tf.data.Dataset.map(map_func, num_parallel_calls)` followed by `tf.data.Dataset.batch(batch_size, drop_remainder)`. Static tf.data optimizations will take care of using the fused implementation.\u001b[0m\n",
      "\u001b[34mWARNING:tensorflow:From model_construction.py:79: map_and_batch (from tensorflow.python.data.experimental.ops.batching) is deprecated and will be removed in a future version.\u001b[0m\n",
      "\u001b[34mInstructions for updating:\u001b[0m\n",
      "\u001b[34mUse `tf.data.Dataset.map(map_func, num_parallel_calls)` followed by `tf.data.Dataset.batch(batch_size, drop_remainder)`. Static tf.data optimizations will take care of using the fused implementation.\u001b[0m\n",
      "\u001b[34mTraceback (most recent call last):\n",
      "  File \"model_construction.py\", line 280, in <module>\n",
      "    max_seq_length = max_seq_length).map(select_data_and_view_count)\n",
      "  File \"model_construction.py\", line 79, in file_dataset_builder\n",
      "    num_parallel_calls=tf.data.experimental.AUTOTUNE)\n",
      "  File \"/usr/local/lib/python3.7/site-packages/tensorflow/python/data/ops/dataset_ops.py\", line 1886, in apply\n",
      "    dataset = transformation_func(self)\n",
      "  File \"/usr/local/lib/python3.7/site-packages/tensorflow/python/data/experimental/ops/batching.py\", line 262, in _apply_fn\n",
      "    num_parallel_calls, drop_remainder)\n",
      "  File \"/usr/local/lib/python3.7/site-packages/tensorflow/python/data/experimental/ops/batching.py\", line 338, in __init__\n",
      "    use_legacy_function=use_legacy_function)\n",
      "  File \"/usr/local/lib/python3.7/site-packages/tensorflow/python/data/ops/dataset_ops.py\", line 3371, in __init__\n",
      "    self._function = wrapper_fn.get_concrete_function()\n",
      "  File \"/usr/local/lib/python3.7/site-packages/tensorflow/python/eager/function.py\", line 2939, in get_concrete_function\n",
      "    *args, **kwargs)\n",
      "  File \"/usr/local/lib/python3.7/site-packages/tensorflow/python/eager/function.py\", line 2906, in _get_concrete_function_garbage_collected\n",
      "    graph_function, args, kwargs = self._maybe_define_function(args, kwargs)\n",
      "  File \"/usr/local/lib/python3.7/site-packages/tensorflow/python/eager/function.py\", line 3213, in _maybe_define_function\n",
      "    graph_function = self._create_graph_function(args, kwargs)\n",
      "  File \"/usr/local/lib/python3.7/site-packages/tensorflow/python/eager/function.py\", line 3075, in _create_graph_function\n",
      "    capture_by_value=self._capture_by_value),\n",
      "  File \"/usr/local/lib/python3.7/site-packages/tensorflow/python/framework/func_graph.py\", line 986, in func_graph_from_py_func\n",
      "    func_outputs = python_func(*func_args, **func_kwargs)\n",
      "  File \"/usr/local/lib/python3.7/site-packages/tensorflow/python/data/ops/dataset_ops.py\", line 3364, in wrapper_fn\n",
      "    ret = _wrapper_helper(*args)\n",
      "  File \"/usr/local/lib/python3.7/site-packages/tensorflow/python/data/ops/dataset_ops.py\", line 3299, in _wrapper_helper\n",
      "    ret = autograph.tf_convert(func, ag_ctx)(*nested_args)\n",
      "  File \"/usr/local/lib/python3.7/site-packages/tensorflow/python/autograph/impl/api.py\", line 258, in wrapper\n",
      "    raise e.ag_error_metadata.to_exception(e)\u001b[0m\n",
      "\u001b[34mNameError: in user code:\n",
      "    model_construction.py:76 None  *\n",
      "        lambda record: decode_record_to_tensorflow_ex(record, name_to_features),\n",
      "    NameError: name 'name_to_features' is not defined\u001b[0m\n",
      "\u001b[34m2023-04-04 21:29:00,117 sagemaker-training-toolkit ERROR    ExecuteUserScriptError:\u001b[0m\n",
      "\u001b[34mCommand \"/usr/local/bin/python3.7 model_construction.py --enable_checkpointing False --enable_sagemaker_debugger True --enable_tensorboard True --epochs 2 --epsilon 1e-06 --freeze_bert_layer False --learning_rate 0.001 --max_seq_length 300 --model_dir s3://sagemaker-us-west-2-692349450615/tensorflow-training-2023-04-04-21-22-20-338/model --run_sample_predictions True --run_test True --run_validation True --test_batch_size 128 --test_steps 10 --train_batch_size 128 --train_steps_per_epoch 10 --use_amp True --use_xla True --validation_batch_size 128 --validation_steps 10\"\u001b[0m\n",
      "\u001b[34mWARNING: You are using pip version 21.0.1; however, version 23.0.1 is available.\u001b[0m\n",
      "\u001b[34mYou should consider upgrading via the '/usr/local/bin/python3.7 -m pip install --upgrade pip' command.\u001b[0m\n",
      "\u001b[34mWARNING: You are using pip version 21.0.1; however, version 23.0.1 is available.\u001b[0m\n",
      "\u001b[34mYou should consider upgrading via the '/usr/local/bin/python3.7 -m pip install --upgrade pip' command.\u001b[0m\n",
      "\u001b[34mWARNING: You are using pip version 21.0.1; however, version 23.0.1 is available.\u001b[0m\n",
      "\u001b[34mYou should consider upgrading via the '/usr/local/bin/python3.7 -m pip install --upgrade pip' command.\u001b[0m\n",
      "\u001b[34mWARNING: You are using pip version 21.0.1; however, version 23.0.1 is available.\u001b[0m\n",
      "\u001b[34mYou should consider upgrading via the '/usr/local/bin/python3.7 -m pip install --upgrade pip' command.\u001b[0m\n",
      "\u001b[34mWARNING: You are using pip version 21.0.1; however, version 23.0.1 is available.\u001b[0m\n",
      "\u001b[34mYou should consider upgrading via the '/usr/local/bin/python3.7 -m pip install --upgrade pip' command.\u001b[0m\n",
      "\u001b[34m2023-04-04 21:28:57.237000: W tensorflow/stream_executor/platform/default/dso_loader.cc:59] Could not load dynamic library 'libcudart.so.10.1'; dlerror: libcudart.so.10.1: cannot open shared object file: No such file or directory; LD_LIBRARY_PATH: /usr/local/lib:/usr/local/openmpi/lib:/usr/local/nvidia/lib:/usr/local/nvidia/lib64\u001b[0m\n",
      "\u001b[34m2023-04-04 21:28:59.689112: W tensorflow/stream_executor/platform/default/dso_loader.cc:59] Could not load dynamic library 'libcudart.so.10.1'; dlerror: libcudart.so.10.1: cannot open shared object file: No such file or directory; LD_LIBRARY_PATH: /usr/local/lib:/usr/local/openmpi/lib:/usr/local/nvidia/lib:/usr/local/nvidia/lib64\u001b[0m\n",
      "\u001b[34m2023-04-04 21:28:59.702164: W tensorflow/core/common_runtime/gpu/gpu_device.cc:1753] Cannot dlopen some GPU libraries. Please make sure the missing libraries mentioned above are installed properly if you would like to use GPU. Follow the guide at https://www.tensorflow.org/install/gpu for how to download and setup the required libraries for your platform.\u001b[0m\n",
      "\u001b[34mSkipping registering GPU devices...\u001b[0m\n",
      "\u001b[34mWARNING:tensorflow:There are non-GPU devices in `tf.distribute.Strategy`, not using nccl allreduce.\u001b[0m\n",
      "\u001b[34mWARNING:tensorflow:There are non-GPU devices in `tf.distribute.Strategy`, not using nccl allreduce.\u001b[0m\n",
      "\u001b[34mINFO:tensorflow:Using MirroredStrategy with devices ('/job:localhost/replica:0/task:0/device:CPU:0',)\u001b[0m\n",
      "\u001b[34mINFO:tensorflow:Using MirroredStrategy with devices ('/job:localhost/replica:0/task:0/device:CPU:0',)\u001b[0m\n",
      "\u001b[34mWARNING:tensorflow:From model_construction.py:79: map_and_batch (from tensorflow.python.data.experimental.ops.batching) is deprecated and will be removed in a future version.\u001b[0m\n",
      "\u001b[34mInstructions for updating:\u001b[0m\n",
      "\u001b[34mUse `tf.data.Dataset.map(map_func, num_parallel_calls)` followed by `tf.data.Dataset.batch(batch_size, drop_remainder)`. Static tf.data optimizations will take care of using the fused implementation.\u001b[0m\n",
      "\u001b[34mWARNING:tensorflow:From model_construction.py:79: map_and_batch (from tensorflow.python.data.experimental.ops.batching) is deprecated and will be removed in a future version.\u001b[0m\n",
      "\u001b[34mInstructions for updating:\u001b[0m\n",
      "\u001b[34mUse `tf.data.Dataset.map(map_func, num_parallel_calls)` followed by `tf.data.Dataset.batch(batch_size, drop_remainder)`. Static tf.data optimizations will take care of using the fused implementation.\u001b[0m\n",
      "\u001b[34mTraceback (most recent call last):\n",
      "  File \"model_construction.py\", line 280, in <module>\n",
      "    max_seq_length = max_seq_length).map(select_data_and_view_count)\n",
      "  File \"model_construction.py\", line 79, in file_dataset_builder\n",
      "    num_parallel_calls=tf.data.experimental.AUTOTUNE)\n",
      "  File \"/usr/local/lib/python3.7/site-packages/tensorflow/python/data/ops/dataset_ops.py\", line 1886, in apply\n",
      "    dataset = transformation_func(self)\n",
      "  File \"/usr/local/lib/python3.7/site-packages/tensorflow/python/data/experimental/ops/batching.py\", line 262, in _apply_fn\n",
      "    num_parallel_calls, drop_remainder)\n",
      "  File \"/usr/local/lib/python3.7/site-packages/tensorflow/python/data/experimental/ops/batching.py\", line 338, in __init__\n",
      "    use_legacy_function=use_legacy_function)\n",
      "  File \"/usr/local/lib/python3.7/site-packages/tensorflow/python/data/ops/dataset_ops.py\", line 3371, in __init__\n",
      "    self._function = wrapper_fn.get_concrete_function()\n",
      "  File \"/usr/local/lib/python3.7/site-packages/tensorflow/python/eager/function.py\", line 2939, in get_concrete_function\n",
      "    *args, **kwargs)\n",
      "  File \"/usr/local/lib/python3.7/site-packages/tensorflow/python/eager/function.py\", line 2906, in _get_concrete_function_garbage_collected\n",
      "    graph_function, args, kwargs = self._maybe_define_function(args, kwargs)\n",
      "  File \"/usr/local/lib/python3.7/site-packages/tensorflow/python/eager/function.py\", line 3213, in _maybe_define_function\n",
      "    graph_function = self._create_graph_function(args, kwargs)\n",
      "  File \"/usr/local/lib/python3.7/site-packages/tensorflow/python/eager/function.py\", line 3075, in _create_graph_function\n",
      "    capture_by_value=self._capture_by_value),\n",
      "  File \"/usr/local/lib/python3.7/site-packages/tensorflow/python/framework/func_graph.py\", line 986, in func_graph_from_py_func\n",
      "    func_outputs = python_func(*func_args, **func_kwargs)\n",
      "  File \"/usr/local/lib/python3.7/site-packages/tensorflow/python/data/ops/dataset_ops.py\", line 3364, in wrapper_fn\n",
      "    ret = _wrapper_helper(*args)\n",
      "  File \"/usr/local/lib/python3.7/site-packages/tensorflow/python/data/ops/dataset_ops.py\", line 3299, in _wrapper_helper\n",
      "    ret = autograph.tf_convert(func, ag_ctx)(*nested_args)\n",
      "  File \"/usr/local/lib/python3.7/site-packages/tensorflow/python/autograph/impl/api.py\", line 258, in wrapper\n",
      "    raise e.ag_error_metadata.to_exception(e)\u001b[0m\n",
      "\u001b[34mNameError: in user code:\n",
      "    model_construction.py:76 None  *\n",
      "        lambda record: decode_record_to_tensorflow_ex(record, name_to_features),\n",
      "    NameError: name 'name_to_features' is not defined\u001b[0m\n"
     ]
    },
    {
     "ename": "UnexpectedStatusException",
     "evalue": "Error for Training job tensorflow-training-2023-04-04-21-22-20-338: Failed. Reason: AlgorithmError: ExecuteUserScriptError:\nCommand \"/usr/local/bin/python3.7 model_construction.py --enable_checkpointing False --enable_sagemaker_debugger True --enable_tensorboard True --epochs 2 --epsilon 1e-06 --freeze_bert_layer False --learning_rate 0.001 --max_seq_length 300 --model_dir s3://sagemaker-us-west-2-692349450615/tensorflow-training-2023-04-04-21-22-20-338/model --run_sample_predictions True --run_test True --run_validation True --test_batch_size 128 --test_steps 10 --train_batch_size 128 --train_steps_per_epoch 10 --use_amp True --use_xla True --validation_batch_size 128 --validation_steps 10\"\nWARNING: You are using pip version 21.0.1; however, version 23.0.1 is available.\nYou should consider upgrading via the '/usr/local/bin/python3.7 -m pip install --upgrade pip' command.\nWARNING: You are using pip version 21.0.1; however, version 23.0.1 is available.\nYou should consider upgrading via the '/usr/local/bin/python3.7 -m pip install --upgrade pip' command.\nWARNING: You are using pip version 21.0",
     "output_type": "error",
     "traceback": [
      "\u001b[0;31m---------------------------------------------------------------------------\u001b[0m",
      "\u001b[0;31mUnexpectedStatusException\u001b[0m                 Traceback (most recent call last)",
      "\u001b[0;32m<timed eval>\u001b[0m in \u001b[0;36m<module>\u001b[0;34m\u001b[0m\n",
      "\u001b[0;32m/opt/conda/lib/python3.7/site-packages/sagemaker/estimator.py\u001b[0m in \u001b[0;36mwait\u001b[0;34m(self, logs)\u001b[0m\n\u001b[1;32m   2338\u001b[0m         \u001b[0;31m# If logs are requested, call logs_for_jobs.\u001b[0m\u001b[0;34m\u001b[0m\u001b[0;34m\u001b[0m\u001b[0;34m\u001b[0m\u001b[0m\n\u001b[1;32m   2339\u001b[0m         \u001b[0;32mif\u001b[0m \u001b[0mlogs\u001b[0m \u001b[0;34m!=\u001b[0m \u001b[0;34m\"None\"\u001b[0m\u001b[0;34m:\u001b[0m\u001b[0;34m\u001b[0m\u001b[0;34m\u001b[0m\u001b[0m\n\u001b[0;32m-> 2340\u001b[0;31m             \u001b[0mself\u001b[0m\u001b[0;34m.\u001b[0m\u001b[0msagemaker_session\u001b[0m\u001b[0;34m.\u001b[0m\u001b[0mlogs_for_job\u001b[0m\u001b[0;34m(\u001b[0m\u001b[0mself\u001b[0m\u001b[0;34m.\u001b[0m\u001b[0mjob_name\u001b[0m\u001b[0;34m,\u001b[0m \u001b[0mwait\u001b[0m\u001b[0;34m=\u001b[0m\u001b[0;32mTrue\u001b[0m\u001b[0;34m,\u001b[0m \u001b[0mlog_type\u001b[0m\u001b[0;34m=\u001b[0m\u001b[0mlogs\u001b[0m\u001b[0;34m)\u001b[0m\u001b[0;34m\u001b[0m\u001b[0;34m\u001b[0m\u001b[0m\n\u001b[0m\u001b[1;32m   2341\u001b[0m         \u001b[0;32melse\u001b[0m\u001b[0;34m:\u001b[0m\u001b[0;34m\u001b[0m\u001b[0;34m\u001b[0m\u001b[0m\n\u001b[1;32m   2342\u001b[0m             \u001b[0mself\u001b[0m\u001b[0;34m.\u001b[0m\u001b[0msagemaker_session\u001b[0m\u001b[0;34m.\u001b[0m\u001b[0mwait_for_job\u001b[0m\u001b[0;34m(\u001b[0m\u001b[0mself\u001b[0m\u001b[0;34m.\u001b[0m\u001b[0mjob_name\u001b[0m\u001b[0;34m)\u001b[0m\u001b[0;34m\u001b[0m\u001b[0;34m\u001b[0m\u001b[0m\n",
      "\u001b[0;32m/opt/conda/lib/python3.7/site-packages/sagemaker/session.py\u001b[0m in \u001b[0;36mlogs_for_job\u001b[0;34m(self, job_name, wait, poll, log_type)\u001b[0m\n\u001b[1;32m   4644\u001b[0m \u001b[0;34m\u001b[0m\u001b[0m\n\u001b[1;32m   4645\u001b[0m         \u001b[0;32mif\u001b[0m \u001b[0mwait\u001b[0m\u001b[0;34m:\u001b[0m\u001b[0;34m\u001b[0m\u001b[0;34m\u001b[0m\u001b[0m\n\u001b[0;32m-> 4646\u001b[0;31m             \u001b[0mself\u001b[0m\u001b[0;34m.\u001b[0m\u001b[0m_check_job_status\u001b[0m\u001b[0;34m(\u001b[0m\u001b[0mjob_name\u001b[0m\u001b[0;34m,\u001b[0m \u001b[0mdescription\u001b[0m\u001b[0;34m,\u001b[0m \u001b[0;34m\"TrainingJobStatus\"\u001b[0m\u001b[0;34m)\u001b[0m\u001b[0;34m\u001b[0m\u001b[0;34m\u001b[0m\u001b[0m\n\u001b[0m\u001b[1;32m   4647\u001b[0m             \u001b[0;32mif\u001b[0m \u001b[0mdot\u001b[0m\u001b[0;34m:\u001b[0m\u001b[0;34m\u001b[0m\u001b[0;34m\u001b[0m\u001b[0m\n\u001b[1;32m   4648\u001b[0m                 \u001b[0mprint\u001b[0m\u001b[0;34m(\u001b[0m\u001b[0;34m)\u001b[0m\u001b[0;34m\u001b[0m\u001b[0;34m\u001b[0m\u001b[0m\n",
      "\u001b[0;32m/opt/conda/lib/python3.7/site-packages/sagemaker/session.py\u001b[0m in \u001b[0;36m_check_job_status\u001b[0;34m(self, job, desc, status_key_name)\u001b[0m\n\u001b[1;32m   4160\u001b[0m                 \u001b[0mmessage\u001b[0m\u001b[0;34m=\u001b[0m\u001b[0mmessage\u001b[0m\u001b[0;34m,\u001b[0m\u001b[0;34m\u001b[0m\u001b[0;34m\u001b[0m\u001b[0m\n\u001b[1;32m   4161\u001b[0m                 \u001b[0mallowed_statuses\u001b[0m\u001b[0;34m=\u001b[0m\u001b[0;34m[\u001b[0m\u001b[0;34m\"Completed\"\u001b[0m\u001b[0;34m,\u001b[0m \u001b[0;34m\"Stopped\"\u001b[0m\u001b[0;34m]\u001b[0m\u001b[0;34m,\u001b[0m\u001b[0;34m\u001b[0m\u001b[0;34m\u001b[0m\u001b[0m\n\u001b[0;32m-> 4162\u001b[0;31m                 \u001b[0mactual_status\u001b[0m\u001b[0;34m=\u001b[0m\u001b[0mstatus\u001b[0m\u001b[0;34m,\u001b[0m\u001b[0;34m\u001b[0m\u001b[0;34m\u001b[0m\u001b[0m\n\u001b[0m\u001b[1;32m   4163\u001b[0m             )\n\u001b[1;32m   4164\u001b[0m \u001b[0;34m\u001b[0m\u001b[0m\n",
      "\u001b[0;31mUnexpectedStatusException\u001b[0m: Error for Training job tensorflow-training-2023-04-04-21-22-20-338: Failed. Reason: AlgorithmError: ExecuteUserScriptError:\nCommand \"/usr/local/bin/python3.7 model_construction.py --enable_checkpointing False --enable_sagemaker_debugger True --enable_tensorboard True --epochs 2 --epsilon 1e-06 --freeze_bert_layer False --learning_rate 0.001 --max_seq_length 300 --model_dir s3://sagemaker-us-west-2-692349450615/tensorflow-training-2023-04-04-21-22-20-338/model --run_sample_predictions True --run_test True --run_validation True --test_batch_size 128 --test_steps 10 --train_batch_size 128 --train_steps_per_epoch 10 --use_amp True --use_xla True --validation_batch_size 128 --validation_steps 10\"\nWARNING: You are using pip version 21.0.1; however, version 23.0.1 is available.\nYou should consider upgrading via the '/usr/local/bin/python3.7 -m pip install --upgrade pip' command.\nWARNING: You are using pip version 21.0.1; however, version 23.0.1 is available.\nYou should consider upgrading via the '/usr/local/bin/python3.7 -m pip install --upgrade pip' command.\nWARNING: You are using pip version 21.0"
     ]
    }
   ],
   "source": [
    "%%time\n",
    "\n",
    "estimator.latest_training_job.wait(logs=True)"
   ]
  },
  {
   "cell_type": "code",
   "execution_count": 68,
   "metadata": {},
   "outputs": [
    {
     "name": "stderr",
     "output_type": "stream",
     "text": [
      "WARNING:sagemaker.analytics:Warning: No metrics called train:loss found\n",
      "WARNING:sagemaker.analytics:Warning: No metrics called train:accuracy found\n",
      "WARNING:sagemaker.analytics:Warning: No metrics called validation:loss found\n",
      "WARNING:sagemaker.analytics:Warning: No metrics called validation:accuracy found\n"
     ]
    },
    {
     "data": {
      "text/html": [
       "<div>\n",
       "<style scoped>\n",
       "    .dataframe tbody tr th:only-of-type {\n",
       "        vertical-align: middle;\n",
       "    }\n",
       "\n",
       "    .dataframe tbody tr th {\n",
       "        vertical-align: top;\n",
       "    }\n",
       "\n",
       "    .dataframe thead th {\n",
       "        text-align: right;\n",
       "    }\n",
       "</style>\n",
       "<table border=\"1\" class=\"dataframe\">\n",
       "  <thead>\n",
       "    <tr style=\"text-align: right;\">\n",
       "      <th></th>\n",
       "    </tr>\n",
       "  </thead>\n",
       "  <tbody>\n",
       "  </tbody>\n",
       "</table>\n",
       "</div>"
      ],
      "text/plain": [
       "Empty DataFrame\n",
       "Columns: []\n",
       "Index: []"
      ]
     },
     "execution_count": 68,
     "metadata": {},
     "output_type": "execute_result"
    }
   ],
   "source": [
    "estimator.training_job_analytics.dataframe()"
   ]
  },
  {
   "cell_type": "code",
   "execution_count": 71,
   "metadata": {
    "tags": []
   },
   "outputs": [
    {
     "name": "stdout",
     "output_type": "stream",
     "text": [
      "/bin/bash: nvcc: command not found\n"
     ]
    }
   ],
   "source": [
    "!nvcc --version"
   ]
  },
  {
   "cell_type": "code",
   "execution_count": 79,
   "metadata": {
    "tags": []
   },
   "outputs": [
    {
     "ename": "AttributeError",
     "evalue": "type object 'TensorFlow' has no attribute '__version__'",
     "output_type": "error",
     "traceback": [
      "\u001b[0;31m---------------------------------------------------------------------------\u001b[0m",
      "\u001b[0;31mAttributeError\u001b[0m                            Traceback (most recent call last)",
      "\u001b[0;32m<ipython-input-79-4eea96d99494>\u001b[0m in \u001b[0;36m<module>\u001b[0;34m\u001b[0m\n\u001b[0;32m----> 1\u001b[0;31m \u001b[0mprint\u001b[0m\u001b[0;34m(\u001b[0m\u001b[0mTensorFlow\u001b[0m\u001b[0;34m.\u001b[0m\u001b[0m__version__\u001b[0m\u001b[0;34m)\u001b[0m\u001b[0;34m\u001b[0m\u001b[0;34m\u001b[0m\u001b[0m\n\u001b[0m",
      "\u001b[0;31mAttributeError\u001b[0m: type object 'TensorFlow' has no attribute '__version__'"
     ]
    }
   ],
   "source": [
    "print(TensorFlow.__version__)"
   ]
  },
  {
   "cell_type": "code",
   "execution_count": 80,
   "metadata": {
    "tags": []
   },
   "outputs": [
    {
     "ename": "AttributeError",
     "evalue": "module 'sagemaker.tensorflow' has no attribute '__version__'",
     "output_type": "error",
     "traceback": [
      "\u001b[0;31m---------------------------------------------------------------------------\u001b[0m",
      "\u001b[0;31mAttributeError\u001b[0m                            Traceback (most recent call last)",
      "\u001b[0;32m<ipython-input-80-cad8df991b7b>\u001b[0m in \u001b[0;36m<module>\u001b[0;34m\u001b[0m\n\u001b[1;32m      1\u001b[0m \u001b[0;32mimport\u001b[0m \u001b[0msagemaker\u001b[0m\u001b[0;34m.\u001b[0m\u001b[0mtensorflow\u001b[0m \u001b[0;32mas\u001b[0m \u001b[0mtensorflow\u001b[0m\u001b[0;34m\u001b[0m\u001b[0;34m\u001b[0m\u001b[0m\n\u001b[0;32m----> 2\u001b[0;31m \u001b[0mprint\u001b[0m\u001b[0;34m(\u001b[0m\u001b[0mtensorflow\u001b[0m\u001b[0;34m.\u001b[0m\u001b[0m__version__\u001b[0m\u001b[0;34m)\u001b[0m\u001b[0;34m\u001b[0m\u001b[0;34m\u001b[0m\u001b[0m\n\u001b[0m",
      "\u001b[0;31mAttributeError\u001b[0m: module 'sagemaker.tensorflow' has no attribute '__version__'"
     ]
    }
   ],
   "source": [
    "import sagemaker.tensorflow as tensorflow\n",
    "print(tensorflow.__version__)\n"
   ]
  },
  {
   "cell_type": "code",
   "execution_count": 81,
   "metadata": {
    "tags": []
   },
   "outputs": [
    {
     "ename": "ModuleNotFoundError",
     "evalue": "No module named 'tensorflow'",
     "output_type": "error",
     "traceback": [
      "\u001b[0;31m---------------------------------------------------------------------------\u001b[0m",
      "\u001b[0;31mModuleNotFoundError\u001b[0m                       Traceback (most recent call last)",
      "\u001b[0;32m<ipython-input-81-f83c6d50081b>\u001b[0m in \u001b[0;36m<module>\u001b[0;34m\u001b[0m\n\u001b[0;32m----> 1\u001b[0;31m \u001b[0;32mimport\u001b[0m \u001b[0mtensorflow\u001b[0m \u001b[0;32mas\u001b[0m \u001b[0mtf\u001b[0m\u001b[0;34m\u001b[0m\u001b[0;34m\u001b[0m\u001b[0m\n\u001b[0m\u001b[1;32m      2\u001b[0m \u001b[0mprint\u001b[0m\u001b[0;34m(\u001b[0m\u001b[0mtf\u001b[0m\u001b[0;34m.\u001b[0m\u001b[0m__version__\u001b[0m\u001b[0;34m)\u001b[0m\u001b[0;34m\u001b[0m\u001b[0;34m\u001b[0m\u001b[0m\n",
      "\u001b[0;31mModuleNotFoundError\u001b[0m: No module named 'tensorflow'"
     ]
    }
   ],
   "source": [
    "import tensorflow as tf\n",
    "print(tf.__version__)\n"
   ]
  },
  {
   "cell_type": "code",
   "execution_count": 82,
   "metadata": {
    "tags": []
   },
   "outputs": [
    {
     "name": "stdout",
     "output_type": "stream",
     "text": [
      "\u001b[33mWARNING: The directory '/root/.cache/pip' or its parent directory is not owned or is not writable by the current user. The cache has been disabled. Check the permissions and owner of that directory. If executing pip with sudo, you should use sudo's -H flag.\u001b[0m\u001b[33m\n",
      "\u001b[0mCollecting tensorflow\n",
      "  Downloading tensorflow-2.11.0-cp37-cp37m-manylinux_2_17_x86_64.manylinux2014_x86_64.whl (588.3 MB)\n",
      "\u001b[2K     \u001b[90m━━━━━━━━━━━━━━━━━━━━━━━━━━━━━━━━━━━━━\u001b[0m \u001b[32m588.3/588.3 MB\u001b[0m \u001b[31m190.2 MB/s\u001b[0m eta \u001b[36m0:00:00\u001b[0m00:01\u001b[0m00:01\u001b[0m\n",
      "\u001b[?25hRequirement already satisfied: six>=1.12.0 in /opt/conda/lib/python3.7/site-packages (from tensorflow) (1.14.0)\n",
      "Collecting grpcio<2.0,>=1.24.3\n",
      "  Downloading grpcio-1.53.0-cp37-cp37m-manylinux_2_17_x86_64.manylinux2014_x86_64.whl (5.0 MB)\n",
      "\u001b[2K     \u001b[90m━━━━━━━━━━━━━━━━━━━━━━━━━━━━━━━━━━━━━━━━\u001b[0m \u001b[32m5.0/5.0 MB\u001b[0m \u001b[31m211.3 MB/s\u001b[0m eta \u001b[36m0:00:00\u001b[0m\n",
      "\u001b[?25hCollecting opt-einsum>=2.3.2\n",
      "  Downloading opt_einsum-3.3.0-py3-none-any.whl (65 kB)\n",
      "\u001b[2K     \u001b[90m━━━━━━━━━━━━━━━━━━━━━━━━━━━━━━━━━━━━━━━\u001b[0m \u001b[32m65.5/65.5 kB\u001b[0m \u001b[31m202.3 MB/s\u001b[0m eta \u001b[36m0:00:00\u001b[0m\n",
      "\u001b[?25hCollecting absl-py>=1.0.0\n",
      "  Downloading absl_py-1.4.0-py3-none-any.whl (126 kB)\n",
      "\u001b[2K     \u001b[90m━━━━━━━━━━━━━━━━━━━━━━━━━━━━━━━━━━━━━\u001b[0m \u001b[32m126.5/126.5 kB\u001b[0m \u001b[31m236.4 MB/s\u001b[0m eta \u001b[36m0:00:00\u001b[0m\n",
      "\u001b[?25hCollecting tensorflow-io-gcs-filesystem>=0.23.1\n",
      "  Downloading tensorflow_io_gcs_filesystem-0.32.0-cp37-cp37m-manylinux_2_12_x86_64.manylinux2010_x86_64.whl (2.4 MB)\n",
      "\u001b[2K     \u001b[90m━━━━━━━━━━━━━━━━━━━━━━━━━━━━━━━━━━━━━━━━\u001b[0m \u001b[32m2.4/2.4 MB\u001b[0m \u001b[31m212.1 MB/s\u001b[0m eta \u001b[36m0:00:00\u001b[0m\n",
      "\u001b[?25hCollecting flatbuffers>=2.0\n",
      "  Downloading flatbuffers-23.3.3-py2.py3-none-any.whl (26 kB)\n",
      "Collecting keras<2.12,>=2.11.0\n",
      "  Downloading keras-2.11.0-py2.py3-none-any.whl (1.7 MB)\n",
      "\u001b[2K     \u001b[90m━━━━━━━━━━━━━━━━━━━━━━━━━━━━━━━━━━━━━━━━\u001b[0m \u001b[32m1.7/1.7 MB\u001b[0m \u001b[31m294.2 MB/s\u001b[0m eta \u001b[36m0:00:00\u001b[0m\n",
      "\u001b[?25hCollecting libclang>=13.0.0\n",
      "  Downloading libclang-16.0.0-py2.py3-none-manylinux2010_x86_64.whl (22.9 MB)\n",
      "\u001b[2K     \u001b[90m━━━━━━━━━━━━━━━━━━━━━━━━━━━━━━━━━━━━━━━\u001b[0m \u001b[32m22.9/22.9 MB\u001b[0m \u001b[31m177.1 MB/s\u001b[0m eta \u001b[36m0:00:00\u001b[0ma \u001b[36m0:00:01\u001b[0m\n",
      "\u001b[?25hRequirement already satisfied: numpy>=1.20 in /opt/conda/lib/python3.7/site-packages (from tensorflow) (1.21.6)\n",
      "Collecting gast<=0.4.0,>=0.2.1\n",
      "  Downloading gast-0.4.0-py3-none-any.whl (9.8 kB)\n",
      "Requirement already satisfied: setuptools in /opt/conda/lib/python3.7/site-packages (from tensorflow) (59.3.0)\n",
      "Collecting protobuf<3.20,>=3.9.2\n",
      "  Downloading protobuf-3.19.6-cp37-cp37m-manylinux_2_17_x86_64.manylinux2014_x86_64.whl (1.1 MB)\n",
      "\u001b[2K     \u001b[90m━━━━━━━━━━━━━━━━━━━━━━━━━━━━━━━━━━━━━━━━\u001b[0m \u001b[32m1.1/1.1 MB\u001b[0m \u001b[31m164.3 MB/s\u001b[0m eta \u001b[36m0:00:00\u001b[0m\n",
      "\u001b[?25hRequirement already satisfied: h5py>=2.9.0 in /opt/conda/lib/python3.7/site-packages (from tensorflow) (2.10.0)\n",
      "Collecting tensorflow-estimator<2.12,>=2.11.0\n",
      "  Downloading tensorflow_estimator-2.11.0-py2.py3-none-any.whl (439 kB)\n",
      "\u001b[2K     \u001b[90m━━━━━━━━━━━━━━━━━━━━━━━━━━━━━━━━━━━━━\u001b[0m \u001b[32m439.2/439.2 kB\u001b[0m \u001b[31m238.4 MB/s\u001b[0m eta \u001b[36m0:00:00\u001b[0m\n",
      "\u001b[?25hCollecting tensorboard<2.12,>=2.11\n",
      "  Downloading tensorboard-2.11.2-py3-none-any.whl (6.0 MB)\n",
      "\u001b[2K     \u001b[90m━━━━━━━━━━━━━━━━━━━━━━━━━━━━━━━━━━━━━━━━\u001b[0m \u001b[32m6.0/6.0 MB\u001b[0m \u001b[31m219.7 MB/s\u001b[0m eta \u001b[36m0:00:00\u001b[0m\n",
      "\u001b[?25hCollecting astunparse>=1.6.0\n",
      "  Downloading astunparse-1.6.3-py2.py3-none-any.whl (12 kB)\n",
      "Collecting termcolor>=1.1.0\n",
      "  Downloading termcolor-2.2.0-py3-none-any.whl (6.6 kB)\n",
      "Requirement already satisfied: packaging in /opt/conda/lib/python3.7/site-packages (from tensorflow) (23.0)\n",
      "Requirement already satisfied: google-pasta>=0.1.1 in /opt/conda/lib/python3.7/site-packages (from tensorflow) (0.2.0)\n",
      "Requirement already satisfied: wrapt>=1.11.0 in /opt/conda/lib/python3.7/site-packages (from tensorflow) (1.11.2)\n",
      "Requirement already satisfied: typing-extensions>=3.6.6 in /opt/conda/lib/python3.7/site-packages (from tensorflow) (4.5.0)\n",
      "Requirement already satisfied: wheel<1.0,>=0.23.0 in /opt/conda/lib/python3.7/site-packages (from astunparse>=1.6.0->tensorflow) (0.40.0)\n",
      "Collecting tensorboard-plugin-wit>=1.6.0\n",
      "  Downloading tensorboard_plugin_wit-1.8.1-py3-none-any.whl (781 kB)\n",
      "\u001b[2K     \u001b[90m━━━━━━━━━━━━━━━━━━━━━━━━━━━━━━━━━━━━━\u001b[0m \u001b[32m781.3/781.3 kB\u001b[0m \u001b[31m289.7 MB/s\u001b[0m eta \u001b[36m0:00:00\u001b[0m\n",
      "\u001b[?25hRequirement already satisfied: requests<3,>=2.21.0 in /opt/conda/lib/python3.7/site-packages (from tensorboard<2.12,>=2.11->tensorflow) (2.28.2)\n",
      "Requirement already satisfied: werkzeug>=1.0.1 in /opt/conda/lib/python3.7/site-packages (from tensorboard<2.12,>=2.11->tensorflow) (2.2.3)\n",
      "Collecting tensorboard-data-server<0.7.0,>=0.6.0\n",
      "  Downloading tensorboard_data_server-0.6.1-py3-none-manylinux2010_x86_64.whl (4.9 MB)\n",
      "\u001b[2K     \u001b[90m━━━━━━━━━━━━━━━━━━━━━━━━━━━━━━━━━━━━━━━━\u001b[0m \u001b[32m4.9/4.9 MB\u001b[0m \u001b[31m233.1 MB/s\u001b[0m eta \u001b[36m0:00:00\u001b[0m\n",
      "\u001b[?25hCollecting google-auth-oauthlib<0.5,>=0.4.1\n",
      "  Downloading google_auth_oauthlib-0.4.6-py2.py3-none-any.whl (18 kB)\n",
      "Collecting google-auth<3,>=1.6.3\n",
      "  Downloading google_auth-2.17.1-py2.py3-none-any.whl (178 kB)\n",
      "\u001b[2K     \u001b[90m━━━━━━━━━━━━━━━━━━━━━━━━━━━━━━━━━━━━━\u001b[0m \u001b[32m178.1/178.1 kB\u001b[0m \u001b[31m255.8 MB/s\u001b[0m eta \u001b[36m0:00:00\u001b[0m\n",
      "\u001b[?25hCollecting markdown>=2.6.8\n",
      "  Downloading Markdown-3.4.3-py3-none-any.whl (93 kB)\n",
      "\u001b[2K     \u001b[90m━━━━━━━━━━━━━━━━━━━━━━━━━━━━━━━━━━━━━━━\u001b[0m \u001b[32m93.9/93.9 kB\u001b[0m \u001b[31m221.7 MB/s\u001b[0m eta \u001b[36m0:00:00\u001b[0m\n",
      "\u001b[?25hCollecting pyasn1-modules>=0.2.1\n",
      "  Downloading pyasn1_modules-0.2.8-py2.py3-none-any.whl (155 kB)\n",
      "\u001b[2K     \u001b[90m━━━━━━━━━━━━━━━━━━━━━━━━━━━━━━━━━━━━━\u001b[0m \u001b[32m155.3/155.3 kB\u001b[0m \u001b[31m232.5 MB/s\u001b[0m eta \u001b[36m0:00:00\u001b[0m\n",
      "\u001b[?25hCollecting cachetools<6.0,>=2.0.0\n",
      "  Downloading cachetools-5.3.0-py3-none-any.whl (9.3 kB)\n",
      "Requirement already satisfied: rsa<5,>=3.1.4 in /opt/conda/lib/python3.7/site-packages (from google-auth<3,>=1.6.3->tensorboard<2.12,>=2.11->tensorflow) (4.9)\n",
      "Collecting requests-oauthlib>=0.7.0\n",
      "  Downloading requests_oauthlib-1.3.1-py2.py3-none-any.whl (23 kB)\n",
      "Requirement already satisfied: importlib-metadata>=4.4 in /opt/conda/lib/python3.7/site-packages (from markdown>=2.6.8->tensorboard<2.12,>=2.11->tensorflow) (6.1.0)\n",
      "Requirement already satisfied: urllib3<1.27,>=1.21.1 in /opt/conda/lib/python3.7/site-packages (from requests<3,>=2.21.0->tensorboard<2.12,>=2.11->tensorflow) (1.26.15)\n",
      "Requirement already satisfied: charset-normalizer<4,>=2 in /opt/conda/lib/python3.7/site-packages (from requests<3,>=2.21.0->tensorboard<2.12,>=2.11->tensorflow) (2.0.4)\n",
      "Requirement already satisfied: certifi>=2017.4.17 in /opt/conda/lib/python3.7/site-packages (from requests<3,>=2.21.0->tensorboard<2.12,>=2.11->tensorflow) (2022.12.7)\n",
      "Requirement already satisfied: idna<4,>=2.5 in /opt/conda/lib/python3.7/site-packages (from requests<3,>=2.21.0->tensorboard<2.12,>=2.11->tensorflow) (2.8)\n",
      "Requirement already satisfied: MarkupSafe>=2.1.1 in /opt/conda/lib/python3.7/site-packages (from werkzeug>=1.0.1->tensorboard<2.12,>=2.11->tensorflow) (2.1.2)\n",
      "Requirement already satisfied: zipp>=0.5 in /opt/conda/lib/python3.7/site-packages (from importlib-metadata>=4.4->markdown>=2.6.8->tensorboard<2.12,>=2.11->tensorflow) (3.15.0)\n",
      "Requirement already satisfied: pyasn1<0.5.0,>=0.4.6 in /opt/conda/lib/python3.7/site-packages (from pyasn1-modules>=0.2.1->google-auth<3,>=1.6.3->tensorboard<2.12,>=2.11->tensorflow) (0.4.8)\n",
      "Collecting oauthlib>=3.0.0\n",
      "  Downloading oauthlib-3.2.2-py3-none-any.whl (151 kB)\n",
      "\u001b[2K     \u001b[90m━━━━━━━━━━━━━━━━━━━━━━━━━━━━━━━━━━━━━\u001b[0m \u001b[32m151.7/151.7 kB\u001b[0m \u001b[31m242.7 MB/s\u001b[0m eta \u001b[36m0:00:00\u001b[0m\n",
      "\u001b[?25hInstalling collected packages: tensorboard-plugin-wit, libclang, flatbuffers, termcolor, tensorflow-io-gcs-filesystem, tensorflow-estimator, tensorboard-data-server, pyasn1-modules, protobuf, opt-einsum, oauthlib, keras, grpcio, gast, cachetools, astunparse, absl-py, requests-oauthlib, markdown, google-auth, google-auth-oauthlib, tensorboard, tensorflow\n",
      "  Attempting uninstall: protobuf\n",
      "    Found existing installation: protobuf 3.20.3\n",
      "    Uninstalling protobuf-3.20.3:\n",
      "      Successfully uninstalled protobuf-3.20.3\n",
      "\u001b[31mERROR: pip's dependency resolver does not currently take into account all the packages that are installed. This behaviour is the source of the following dependency conflicts.\n",
      "sagemaker 2.143.0 requires importlib-metadata<5.0,>=1.4.0, but you have importlib-metadata 6.1.0 which is incompatible.\n",
      "sagemaker 2.143.0 requires PyYAML==5.4.1, but you have pyyaml 6.0 which is incompatible.\u001b[0m\u001b[31m\n",
      "\u001b[0mSuccessfully installed absl-py-1.4.0 astunparse-1.6.3 cachetools-5.3.0 flatbuffers-23.3.3 gast-0.4.0 google-auth-2.17.1 google-auth-oauthlib-0.4.6 grpcio-1.53.0 keras-2.11.0 libclang-16.0.0 markdown-3.4.3 oauthlib-3.2.2 opt-einsum-3.3.0 protobuf-3.19.6 pyasn1-modules-0.2.8 requests-oauthlib-1.3.1 tensorboard-2.11.2 tensorboard-data-server-0.6.1 tensorboard-plugin-wit-1.8.1 tensorflow-2.11.0 tensorflow-estimator-2.11.0 tensorflow-io-gcs-filesystem-0.32.0 termcolor-2.2.0\n",
      "\u001b[33mWARNING: Running pip as the 'root' user can result in broken permissions and conflicting behaviour with the system package manager. It is recommended to use a virtual environment instead: https://pip.pypa.io/warnings/venv\u001b[0m\u001b[33m\n",
      "\u001b[0m"
     ]
    }
   ],
   "source": []
  },
  {
   "cell_type": "code",
   "execution_count": 83,
   "metadata": {
    "tags": []
   },
   "outputs": [
    {
     "name": "stdout",
     "output_type": "stream",
     "text": [
      "2.11.0\n"
     ]
    }
   ],
   "source": []
  },
  {
   "cell_type": "code",
   "execution_count": 91,
   "metadata": {
    "tags": []
   },
   "outputs": [
    {
     "name": "stdout",
     "output_type": "stream",
     "text": [
      "/bin/bash: nvcc: command not found\n"
     ]
    }
   ],
   "source": [
    "#import os\n",
    "\n",
    "# Set CUDA toolkit and cuDNN paths\n",
    "cuda_path = \"/usr/local/cuda-10.1\"\n",
    "cudnn_path = \"/usr/local/cuda-10.1/lib64\"\n",
    "\n",
    "# Set LD_LIBRARY_PATH and PATH environment variables\n",
    "os.environ['LD_LIBRARY_PATH'] = f\"{cuda_path}/lib64:{cudnn_path}:$LD_LIBRARY_PATH\"\n",
    "os.environ['PATH'] = f\"{cuda_path}/bin:$PATH\"\n",
    "\n",
    "# Check if CUDA is accessible\n",
    "!nvcc --version\n"
   ]
  },
  {
   "cell_type": "code",
   "execution_count": null,
   "metadata": {},
   "outputs": [],
   "source": []
  }
 ],
 "metadata": {
  "availableInstances": [
   {
    "_defaultOrder": 0,
    "_isFastLaunch": true,
    "category": "General purpose",
    "gpuNum": 0,
    "hideHardwareSpecs": false,
    "memoryGiB": 4,
    "name": "ml.t3.medium",
    "vcpuNum": 2
   },
   {
    "_defaultOrder": 1,
    "_isFastLaunch": false,
    "category": "General purpose",
    "gpuNum": 0,
    "hideHardwareSpecs": false,
    "memoryGiB": 8,
    "name": "ml.t3.large",
    "vcpuNum": 2
   },
   {
    "_defaultOrder": 2,
    "_isFastLaunch": false,
    "category": "General purpose",
    "gpuNum": 0,
    "hideHardwareSpecs": false,
    "memoryGiB": 16,
    "name": "ml.t3.xlarge",
    "vcpuNum": 4
   },
   {
    "_defaultOrder": 3,
    "_isFastLaunch": false,
    "category": "General purpose",
    "gpuNum": 0,
    "hideHardwareSpecs": false,
    "memoryGiB": 32,
    "name": "ml.t3.2xlarge",
    "vcpuNum": 8
   },
   {
    "_defaultOrder": 4,
    "_isFastLaunch": true,
    "category": "General purpose",
    "gpuNum": 0,
    "hideHardwareSpecs": false,
    "memoryGiB": 8,
    "name": "ml.m5.large",
    "vcpuNum": 2
   },
   {
    "_defaultOrder": 5,
    "_isFastLaunch": false,
    "category": "General purpose",
    "gpuNum": 0,
    "hideHardwareSpecs": false,
    "memoryGiB": 16,
    "name": "ml.m5.xlarge",
    "vcpuNum": 4
   },
   {
    "_defaultOrder": 6,
    "_isFastLaunch": false,
    "category": "General purpose",
    "gpuNum": 0,
    "hideHardwareSpecs": false,
    "memoryGiB": 32,
    "name": "ml.m5.2xlarge",
    "vcpuNum": 8
   },
   {
    "_defaultOrder": 7,
    "_isFastLaunch": false,
    "category": "General purpose",
    "gpuNum": 0,
    "hideHardwareSpecs": false,
    "memoryGiB": 64,
    "name": "ml.m5.4xlarge",
    "vcpuNum": 16
   },
   {
    "_defaultOrder": 8,
    "_isFastLaunch": false,
    "category": "General purpose",
    "gpuNum": 0,
    "hideHardwareSpecs": false,
    "memoryGiB": 128,
    "name": "ml.m5.8xlarge",
    "vcpuNum": 32
   },
   {
    "_defaultOrder": 9,
    "_isFastLaunch": false,
    "category": "General purpose",
    "gpuNum": 0,
    "hideHardwareSpecs": false,
    "memoryGiB": 192,
    "name": "ml.m5.12xlarge",
    "vcpuNum": 48
   },
   {
    "_defaultOrder": 10,
    "_isFastLaunch": false,
    "category": "General purpose",
    "gpuNum": 0,
    "hideHardwareSpecs": false,
    "memoryGiB": 256,
    "name": "ml.m5.16xlarge",
    "vcpuNum": 64
   },
   {
    "_defaultOrder": 11,
    "_isFastLaunch": false,
    "category": "General purpose",
    "gpuNum": 0,
    "hideHardwareSpecs": false,
    "memoryGiB": 384,
    "name": "ml.m5.24xlarge",
    "vcpuNum": 96
   },
   {
    "_defaultOrder": 12,
    "_isFastLaunch": false,
    "category": "General purpose",
    "gpuNum": 0,
    "hideHardwareSpecs": false,
    "memoryGiB": 8,
    "name": "ml.m5d.large",
    "vcpuNum": 2
   },
   {
    "_defaultOrder": 13,
    "_isFastLaunch": false,
    "category": "General purpose",
    "gpuNum": 0,
    "hideHardwareSpecs": false,
    "memoryGiB": 16,
    "name": "ml.m5d.xlarge",
    "vcpuNum": 4
   },
   {
    "_defaultOrder": 14,
    "_isFastLaunch": false,
    "category": "General purpose",
    "gpuNum": 0,
    "hideHardwareSpecs": false,
    "memoryGiB": 32,
    "name": "ml.m5d.2xlarge",
    "vcpuNum": 8
   },
   {
    "_defaultOrder": 15,
    "_isFastLaunch": false,
    "category": "General purpose",
    "gpuNum": 0,
    "hideHardwareSpecs": false,
    "memoryGiB": 64,
    "name": "ml.m5d.4xlarge",
    "vcpuNum": 16
   },
   {
    "_defaultOrder": 16,
    "_isFastLaunch": false,
    "category": "General purpose",
    "gpuNum": 0,
    "hideHardwareSpecs": false,
    "memoryGiB": 128,
    "name": "ml.m5d.8xlarge",
    "vcpuNum": 32
   },
   {
    "_defaultOrder": 17,
    "_isFastLaunch": false,
    "category": "General purpose",
    "gpuNum": 0,
    "hideHardwareSpecs": false,
    "memoryGiB": 192,
    "name": "ml.m5d.12xlarge",
    "vcpuNum": 48
   },
   {
    "_defaultOrder": 18,
    "_isFastLaunch": false,
    "category": "General purpose",
    "gpuNum": 0,
    "hideHardwareSpecs": false,
    "memoryGiB": 256,
    "name": "ml.m5d.16xlarge",
    "vcpuNum": 64
   },
   {
    "_defaultOrder": 19,
    "_isFastLaunch": false,
    "category": "General purpose",
    "gpuNum": 0,
    "hideHardwareSpecs": false,
    "memoryGiB": 384,
    "name": "ml.m5d.24xlarge",
    "vcpuNum": 96
   },
   {
    "_defaultOrder": 20,
    "_isFastLaunch": false,
    "category": "General purpose",
    "gpuNum": 0,
    "hideHardwareSpecs": true,
    "memoryGiB": 0,
    "name": "ml.geospatial.interactive",
    "supportedImageNames": [
     "sagemaker-geospatial-v1-0"
    ],
    "vcpuNum": 0
   },
   {
    "_defaultOrder": 21,
    "_isFastLaunch": true,
    "category": "Compute optimized",
    "gpuNum": 0,
    "hideHardwareSpecs": false,
    "memoryGiB": 4,
    "name": "ml.c5.large",
    "vcpuNum": 2
   },
   {
    "_defaultOrder": 22,
    "_isFastLaunch": false,
    "category": "Compute optimized",
    "gpuNum": 0,
    "hideHardwareSpecs": false,
    "memoryGiB": 8,
    "name": "ml.c5.xlarge",
    "vcpuNum": 4
   },
   {
    "_defaultOrder": 23,
    "_isFastLaunch": false,
    "category": "Compute optimized",
    "gpuNum": 0,
    "hideHardwareSpecs": false,
    "memoryGiB": 16,
    "name": "ml.c5.2xlarge",
    "vcpuNum": 8
   },
   {
    "_defaultOrder": 24,
    "_isFastLaunch": false,
    "category": "Compute optimized",
    "gpuNum": 0,
    "hideHardwareSpecs": false,
    "memoryGiB": 32,
    "name": "ml.c5.4xlarge",
    "vcpuNum": 16
   },
   {
    "_defaultOrder": 25,
    "_isFastLaunch": false,
    "category": "Compute optimized",
    "gpuNum": 0,
    "hideHardwareSpecs": false,
    "memoryGiB": 72,
    "name": "ml.c5.9xlarge",
    "vcpuNum": 36
   },
   {
    "_defaultOrder": 26,
    "_isFastLaunch": false,
    "category": "Compute optimized",
    "gpuNum": 0,
    "hideHardwareSpecs": false,
    "memoryGiB": 96,
    "name": "ml.c5.12xlarge",
    "vcpuNum": 48
   },
   {
    "_defaultOrder": 27,
    "_isFastLaunch": false,
    "category": "Compute optimized",
    "gpuNum": 0,
    "hideHardwareSpecs": false,
    "memoryGiB": 144,
    "name": "ml.c5.18xlarge",
    "vcpuNum": 72
   },
   {
    "_defaultOrder": 28,
    "_isFastLaunch": false,
    "category": "Compute optimized",
    "gpuNum": 0,
    "hideHardwareSpecs": false,
    "memoryGiB": 192,
    "name": "ml.c5.24xlarge",
    "vcpuNum": 96
   },
   {
    "_defaultOrder": 29,
    "_isFastLaunch": true,
    "category": "Accelerated computing",
    "gpuNum": 1,
    "hideHardwareSpecs": false,
    "memoryGiB": 16,
    "name": "ml.g4dn.xlarge",
    "vcpuNum": 4
   },
   {
    "_defaultOrder": 30,
    "_isFastLaunch": false,
    "category": "Accelerated computing",
    "gpuNum": 1,
    "hideHardwareSpecs": false,
    "memoryGiB": 32,
    "name": "ml.g4dn.2xlarge",
    "vcpuNum": 8
   },
   {
    "_defaultOrder": 31,
    "_isFastLaunch": false,
    "category": "Accelerated computing",
    "gpuNum": 1,
    "hideHardwareSpecs": false,
    "memoryGiB": 64,
    "name": "ml.g4dn.4xlarge",
    "vcpuNum": 16
   },
   {
    "_defaultOrder": 32,
    "_isFastLaunch": false,
    "category": "Accelerated computing",
    "gpuNum": 1,
    "hideHardwareSpecs": false,
    "memoryGiB": 128,
    "name": "ml.g4dn.8xlarge",
    "vcpuNum": 32
   },
   {
    "_defaultOrder": 33,
    "_isFastLaunch": false,
    "category": "Accelerated computing",
    "gpuNum": 4,
    "hideHardwareSpecs": false,
    "memoryGiB": 192,
    "name": "ml.g4dn.12xlarge",
    "vcpuNum": 48
   },
   {
    "_defaultOrder": 34,
    "_isFastLaunch": false,
    "category": "Accelerated computing",
    "gpuNum": 1,
    "hideHardwareSpecs": false,
    "memoryGiB": 256,
    "name": "ml.g4dn.16xlarge",
    "vcpuNum": 64
   },
   {
    "_defaultOrder": 35,
    "_isFastLaunch": false,
    "category": "Accelerated computing",
    "gpuNum": 1,
    "hideHardwareSpecs": false,
    "memoryGiB": 61,
    "name": "ml.p3.2xlarge",
    "vcpuNum": 8
   },
   {
    "_defaultOrder": 36,
    "_isFastLaunch": false,
    "category": "Accelerated computing",
    "gpuNum": 4,
    "hideHardwareSpecs": false,
    "memoryGiB": 244,
    "name": "ml.p3.8xlarge",
    "vcpuNum": 32
   },
   {
    "_defaultOrder": 37,
    "_isFastLaunch": false,
    "category": "Accelerated computing",
    "gpuNum": 8,
    "hideHardwareSpecs": false,
    "memoryGiB": 488,
    "name": "ml.p3.16xlarge",
    "vcpuNum": 64
   },
   {
    "_defaultOrder": 38,
    "_isFastLaunch": false,
    "category": "Accelerated computing",
    "gpuNum": 8,
    "hideHardwareSpecs": false,
    "memoryGiB": 768,
    "name": "ml.p3dn.24xlarge",
    "vcpuNum": 96
   },
   {
    "_defaultOrder": 39,
    "_isFastLaunch": false,
    "category": "Memory Optimized",
    "gpuNum": 0,
    "hideHardwareSpecs": false,
    "memoryGiB": 16,
    "name": "ml.r5.large",
    "vcpuNum": 2
   },
   {
    "_defaultOrder": 40,
    "_isFastLaunch": false,
    "category": "Memory Optimized",
    "gpuNum": 0,
    "hideHardwareSpecs": false,
    "memoryGiB": 32,
    "name": "ml.r5.xlarge",
    "vcpuNum": 4
   },
   {
    "_defaultOrder": 41,
    "_isFastLaunch": false,
    "category": "Memory Optimized",
    "gpuNum": 0,
    "hideHardwareSpecs": false,
    "memoryGiB": 64,
    "name": "ml.r5.2xlarge",
    "vcpuNum": 8
   },
   {
    "_defaultOrder": 42,
    "_isFastLaunch": false,
    "category": "Memory Optimized",
    "gpuNum": 0,
    "hideHardwareSpecs": false,
    "memoryGiB": 128,
    "name": "ml.r5.4xlarge",
    "vcpuNum": 16
   },
   {
    "_defaultOrder": 43,
    "_isFastLaunch": false,
    "category": "Memory Optimized",
    "gpuNum": 0,
    "hideHardwareSpecs": false,
    "memoryGiB": 256,
    "name": "ml.r5.8xlarge",
    "vcpuNum": 32
   },
   {
    "_defaultOrder": 44,
    "_isFastLaunch": false,
    "category": "Memory Optimized",
    "gpuNum": 0,
    "hideHardwareSpecs": false,
    "memoryGiB": 384,
    "name": "ml.r5.12xlarge",
    "vcpuNum": 48
   },
   {
    "_defaultOrder": 45,
    "_isFastLaunch": false,
    "category": "Memory Optimized",
    "gpuNum": 0,
    "hideHardwareSpecs": false,
    "memoryGiB": 512,
    "name": "ml.r5.16xlarge",
    "vcpuNum": 64
   },
   {
    "_defaultOrder": 46,
    "_isFastLaunch": false,
    "category": "Memory Optimized",
    "gpuNum": 0,
    "hideHardwareSpecs": false,
    "memoryGiB": 768,
    "name": "ml.r5.24xlarge",
    "vcpuNum": 96
   },
   {
    "_defaultOrder": 47,
    "_isFastLaunch": false,
    "category": "Accelerated computing",
    "gpuNum": 1,
    "hideHardwareSpecs": false,
    "memoryGiB": 16,
    "name": "ml.g5.xlarge",
    "vcpuNum": 4
   },
   {
    "_defaultOrder": 48,
    "_isFastLaunch": false,
    "category": "Accelerated computing",
    "gpuNum": 1,
    "hideHardwareSpecs": false,
    "memoryGiB": 32,
    "name": "ml.g5.2xlarge",
    "vcpuNum": 8
   },
   {
    "_defaultOrder": 49,
    "_isFastLaunch": false,
    "category": "Accelerated computing",
    "gpuNum": 1,
    "hideHardwareSpecs": false,
    "memoryGiB": 64,
    "name": "ml.g5.4xlarge",
    "vcpuNum": 16
   },
   {
    "_defaultOrder": 50,
    "_isFastLaunch": false,
    "category": "Accelerated computing",
    "gpuNum": 1,
    "hideHardwareSpecs": false,
    "memoryGiB": 128,
    "name": "ml.g5.8xlarge",
    "vcpuNum": 32
   },
   {
    "_defaultOrder": 51,
    "_isFastLaunch": false,
    "category": "Accelerated computing",
    "gpuNum": 1,
    "hideHardwareSpecs": false,
    "memoryGiB": 256,
    "name": "ml.g5.16xlarge",
    "vcpuNum": 64
   },
   {
    "_defaultOrder": 52,
    "_isFastLaunch": false,
    "category": "Accelerated computing",
    "gpuNum": 4,
    "hideHardwareSpecs": false,
    "memoryGiB": 192,
    "name": "ml.g5.12xlarge",
    "vcpuNum": 48
   },
   {
    "_defaultOrder": 53,
    "_isFastLaunch": false,
    "category": "Accelerated computing",
    "gpuNum": 4,
    "hideHardwareSpecs": false,
    "memoryGiB": 384,
    "name": "ml.g5.24xlarge",
    "vcpuNum": 96
   },
   {
    "_defaultOrder": 54,
    "_isFastLaunch": false,
    "category": "Accelerated computing",
    "gpuNum": 8,
    "hideHardwareSpecs": false,
    "memoryGiB": 768,
    "name": "ml.g5.48xlarge",
    "vcpuNum": 192
   }
  ],
  "instance_type": "ml.t3.medium",
  "kernelspec": {
   "display_name": "Python 3 (Data Science)",
   "language": "python",
   "name": "python3__SAGEMAKER_INTERNAL__arn:aws:sagemaker:us-west-2:236514542706:image/datascience-1.0"
  },
  "language_info": {
   "codemirror_mode": {
    "name": "ipython",
    "version": 3
   },
   "file_extension": ".py",
   "mimetype": "text/x-python",
   "name": "python",
   "nbconvert_exporter": "python",
   "pygments_lexer": "ipython3",
   "version": "3.7.10"
  }
 },
 "nbformat": 4,
 "nbformat_minor": 4
}
